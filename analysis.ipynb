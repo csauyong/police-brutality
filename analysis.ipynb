{
  "cells": [
    {
      "cell_type": "markdown",
      "metadata": {
        "id": "MH9846LMVT11"
      },
      "source": [
        "# Use of Fatal Force by the US Police"
      ]
    },
    {
      "cell_type": "markdown",
      "metadata": {
        "id": "l3G1jQm0VT16"
      },
      "source": [
        "In the United States, use of deadly force by police has been a high-profile and contentious issue. 1000 people are shot and killed by US cops each year. The ever-growing argument is that the US has a flawed Law Enforcement system that costs too many innocent civilians their lives. In this project, we will analyze one of America’s hottest political topics, which encompasses issues ranging from institutional racism to the role of Law Enforcement personnel\n",
        "in society.\n",
        "\n",
        "We will use 5 data sets in this study. Four of them describes demographics of cities in the US (city data sets) while the remaining one records the fatal incidents (police data set)."
      ]
    },
    {
      "cell_type": "code",
      "execution_count": null,
      "metadata": {
        "id": "TcKXQ0JDVT18"
      },
      "outputs": [],
      "source": [
        "import pandas as pd \n",
        "import matplotlib.pyplot as plt \n",
        "import numpy as np "
      ]
    },
    {
      "cell_type": "markdown",
      "metadata": {
        "id": "PqV2oFGYVT1-"
      },
      "source": [
        "## Data Preprocessing"
      ]
    },
    {
      "cell_type": "code",
      "execution_count": null,
      "metadata": {
        "id": "rRK3z0QeVT1-"
      },
      "outputs": [],
      "source": [
        "education = pd.read_csv('data/education.csv', encoding = \"ISO-8859-1\")\n",
        "income = pd.read_csv('data/income.csv', encoding = \"ISO-8859-1\")\n",
        "poverty = pd.read_csv('data/poverty.csv', encoding = \"ISO-8859-1\")\n",
        "race = pd.read_csv('data/share_race_by_city.csv', encoding = \"ISO-8859-1\")\n",
        "test = pd.read_csv('data/police_killings_test.csv', encoding = \"ISO-8859-1\")\n",
        "train = pd.read_csv('data/police_killings_train.csv', encoding = \"ISO-8859-1\")"
      ]
    },
    {
      "cell_type": "markdown",
      "metadata": {
        "id": "pq1YUi4aVT1_"
      },
      "source": [
        "We first inspect and clean null data."
      ]
    },
    {
      "cell_type": "code",
      "execution_count": null,
      "metadata": {
        "id": "nYfWheujVT1_",
        "colab": {
          "base_uri": "https://localhost:8080/"
        },
        "outputId": "c510b27e-a998-4850-b543-91ef690bcdf4"
      },
      "outputs": [
        {
          "output_type": "execute_result",
          "data": {
            "text/plain": [
              "id                           0\n",
              "name                         0\n",
              "date                         0\n",
              "manner_of_death              0\n",
              "armed                        3\n",
              "age                         40\n",
              "gender                       0\n",
              "race                       104\n",
              "city                         0\n",
              "state                        0\n",
              "signs_of_mental_illness      0\n",
              "threat_level                 0\n",
              "flee                        38\n",
              "body_camera                  0\n",
              "dtype: int64"
            ]
          },
          "metadata": {},
          "execution_count": 79
        }
      ],
      "source": [
        "test.isnull().sum()"
      ]
    },
    {
      "cell_type": "markdown",
      "metadata": {
        "id": "Vkx6pUwgVT2A"
      },
      "source": [
        "Also look for invalid values."
      ]
    },
    {
      "cell_type": "code",
      "execution_count": null,
      "metadata": {
        "id": "OTFA3bnPVT2B"
      },
      "outputs": [],
      "source": [
        "# education has '-' as numbers"
      ]
    },
    {
      "cell_type": "markdown",
      "metadata": {
        "id": "fect3LooVT2B"
      },
      "source": [
        "There is a discrepancy between the encoding of names between the police data set and city data sets. For example, the former refer LA in California as Los Angeles while the latter uses Los Angeles city.\n",
        "\n",
        "We also observe that the police data set provide less information because it only has Chicago as a city, while the city data sets have Chicago city, Chicago Heights city and Chicago Ridge village. \n",
        "\n",
        "Assuming that cities bearing similar name should be geographically and demographically close to each other, we shall evenly distribute the number of fatal incidents between them."
      ]
    },
    {
      "cell_type": "code",
      "execution_count": null,
      "metadata": {
        "id": "AHIBiZKMVT2C",
        "colab": {
          "base_uri": "https://localhost:8080/",
          "height": 206
        },
        "outputId": "f56d2877-8d5d-4393-8171-3de1a88698ae"
      },
      "outputs": [
        {
          "output_type": "execute_result",
          "data": {
            "text/plain": [
              "          City Geographic Area  Counts\n",
              "0  Los Angeles              CA      31\n",
              "1      Phoenix              AZ      24\n",
              "2      Houston              TX      22\n",
              "3      Chicago              IL      21\n",
              "4    Las Vegas              NV      16"
            ],
            "text/html": [
              "\n",
              "  <div id=\"df-9a3df770-064a-4dbf-802c-d2da8da11c87\">\n",
              "    <div class=\"colab-df-container\">\n",
              "      <div>\n",
              "<style scoped>\n",
              "    .dataframe tbody tr th:only-of-type {\n",
              "        vertical-align: middle;\n",
              "    }\n",
              "\n",
              "    .dataframe tbody tr th {\n",
              "        vertical-align: top;\n",
              "    }\n",
              "\n",
              "    .dataframe thead th {\n",
              "        text-align: right;\n",
              "    }\n",
              "</style>\n",
              "<table border=\"1\" class=\"dataframe\">\n",
              "  <thead>\n",
              "    <tr style=\"text-align: right;\">\n",
              "      <th></th>\n",
              "      <th>City</th>\n",
              "      <th>Geographic Area</th>\n",
              "      <th>Counts</th>\n",
              "    </tr>\n",
              "  </thead>\n",
              "  <tbody>\n",
              "    <tr>\n",
              "      <th>0</th>\n",
              "      <td>Los Angeles</td>\n",
              "      <td>CA</td>\n",
              "      <td>31</td>\n",
              "    </tr>\n",
              "    <tr>\n",
              "      <th>1</th>\n",
              "      <td>Phoenix</td>\n",
              "      <td>AZ</td>\n",
              "      <td>24</td>\n",
              "    </tr>\n",
              "    <tr>\n",
              "      <th>2</th>\n",
              "      <td>Houston</td>\n",
              "      <td>TX</td>\n",
              "      <td>22</td>\n",
              "    </tr>\n",
              "    <tr>\n",
              "      <th>3</th>\n",
              "      <td>Chicago</td>\n",
              "      <td>IL</td>\n",
              "      <td>21</td>\n",
              "    </tr>\n",
              "    <tr>\n",
              "      <th>4</th>\n",
              "      <td>Las Vegas</td>\n",
              "      <td>NV</td>\n",
              "      <td>16</td>\n",
              "    </tr>\n",
              "  </tbody>\n",
              "</table>\n",
              "</div>\n",
              "      <button class=\"colab-df-convert\" onclick=\"convertToInteractive('df-9a3df770-064a-4dbf-802c-d2da8da11c87')\"\n",
              "              title=\"Convert this dataframe to an interactive table.\"\n",
              "              style=\"display:none;\">\n",
              "        \n",
              "  <svg xmlns=\"http://www.w3.org/2000/svg\" height=\"24px\"viewBox=\"0 0 24 24\"\n",
              "       width=\"24px\">\n",
              "    <path d=\"M0 0h24v24H0V0z\" fill=\"none\"/>\n",
              "    <path d=\"M18.56 5.44l.94 2.06.94-2.06 2.06-.94-2.06-.94-.94-2.06-.94 2.06-2.06.94zm-11 1L8.5 8.5l.94-2.06 2.06-.94-2.06-.94L8.5 2.5l-.94 2.06-2.06.94zm10 10l.94 2.06.94-2.06 2.06-.94-2.06-.94-.94-2.06-.94 2.06-2.06.94z\"/><path d=\"M17.41 7.96l-1.37-1.37c-.4-.4-.92-.59-1.43-.59-.52 0-1.04.2-1.43.59L10.3 9.45l-7.72 7.72c-.78.78-.78 2.05 0 2.83L4 21.41c.39.39.9.59 1.41.59.51 0 1.02-.2 1.41-.59l7.78-7.78 2.81-2.81c.8-.78.8-2.07 0-2.86zM5.41 20L4 18.59l7.72-7.72 1.47 1.35L5.41 20z\"/>\n",
              "  </svg>\n",
              "      </button>\n",
              "      \n",
              "  <style>\n",
              "    .colab-df-container {\n",
              "      display:flex;\n",
              "      flex-wrap:wrap;\n",
              "      gap: 12px;\n",
              "    }\n",
              "\n",
              "    .colab-df-convert {\n",
              "      background-color: #E8F0FE;\n",
              "      border: none;\n",
              "      border-radius: 50%;\n",
              "      cursor: pointer;\n",
              "      display: none;\n",
              "      fill: #1967D2;\n",
              "      height: 32px;\n",
              "      padding: 0 0 0 0;\n",
              "      width: 32px;\n",
              "    }\n",
              "\n",
              "    .colab-df-convert:hover {\n",
              "      background-color: #E2EBFA;\n",
              "      box-shadow: 0px 1px 2px rgba(60, 64, 67, 0.3), 0px 1px 3px 1px rgba(60, 64, 67, 0.15);\n",
              "      fill: #174EA6;\n",
              "    }\n",
              "\n",
              "    [theme=dark] .colab-df-convert {\n",
              "      background-color: #3B4455;\n",
              "      fill: #D2E3FC;\n",
              "    }\n",
              "\n",
              "    [theme=dark] .colab-df-convert:hover {\n",
              "      background-color: #434B5C;\n",
              "      box-shadow: 0px 1px 3px 1px rgba(0, 0, 0, 0.15);\n",
              "      filter: drop-shadow(0px 1px 2px rgba(0, 0, 0, 0.3));\n",
              "      fill: #FFFFFF;\n",
              "    }\n",
              "  </style>\n",
              "\n",
              "      <script>\n",
              "        const buttonEl =\n",
              "          document.querySelector('#df-9a3df770-064a-4dbf-802c-d2da8da11c87 button.colab-df-convert');\n",
              "        buttonEl.style.display =\n",
              "          google.colab.kernel.accessAllowed ? 'block' : 'none';\n",
              "\n",
              "        async function convertToInteractive(key) {\n",
              "          const element = document.querySelector('#df-9a3df770-064a-4dbf-802c-d2da8da11c87');\n",
              "          const dataTable =\n",
              "            await google.colab.kernel.invokeFunction('convertToInteractive',\n",
              "                                                     [key], {});\n",
              "          if (!dataTable) return;\n",
              "\n",
              "          const docLinkHtml = 'Like what you see? Visit the ' +\n",
              "            '<a target=\"_blank\" href=https://colab.research.google.com/notebooks/data_table.ipynb>data table notebook</a>'\n",
              "            + ' to learn more about interactive tables.';\n",
              "          element.innerHTML = '';\n",
              "          dataTable['output_type'] = 'display_data';\n",
              "          await google.colab.output.renderOutput(dataTable, element);\n",
              "          const docLink = document.createElement('div');\n",
              "          docLink.innerHTML = docLinkHtml;\n",
              "          element.appendChild(docLink);\n",
              "        }\n",
              "      </script>\n",
              "    </div>\n",
              "  </div>\n",
              "  "
            ]
          },
          "metadata": {},
          "execution_count": 81
        }
      ],
      "source": [
        "# count the number of incidents grouping by city and state because city names may duplicate\n",
        "city_count = train.value_counts(['city', 'state']).rename_axis(['City', 'Geographic Area']).reset_index(name='Counts')\n",
        "city_count.head()"
      ]
    },
    {
      "cell_type": "code",
      "execution_count": null,
      "metadata": {
        "id": "loS69C5PVT2D",
        "colab": {
          "base_uri": "https://localhost:8080/",
          "height": 374
        },
        "outputId": "68e737c8-6059-4cb7-fd36-354741214f84"
      },
      "outputs": [
        {
          "output_type": "execute_result",
          "data": {
            "text/plain": [
              "  Geographic Area             City percent_completed_hs Median Income  \\\n",
              "0              AL       Abanda CDP                 21.2         11207   \n",
              "1              AL   Abbeville city                 69.1         25615   \n",
              "2              AL  Adamsville city                 78.9         42575   \n",
              "3              AL     Addison town                 81.4         37083   \n",
              "4              AL       Akron town                 68.6         21667   \n",
              "\n",
              "  poverty_rate share_white share_black share_native_american share_asian  \\\n",
              "0         78.8        67.2        30.2                     0           0   \n",
              "1         29.1        54.4        41.4                   0.1           1   \n",
              "2         25.5        52.3        44.9                   0.5         0.3   \n",
              "3         30.7        99.1         0.1                     0         0.1   \n",
              "4           42        13.2        86.5                     0           0   \n",
              "\n",
              "  share_hispanic  \n",
              "0            1.6  \n",
              "1            3.1  \n",
              "2            2.3  \n",
              "3            0.4  \n",
              "4            0.3  "
            ],
            "text/html": [
              "\n",
              "  <div id=\"df-9fbdb072-19cb-43c8-8cf4-c3d93ab5d03c\">\n",
              "    <div class=\"colab-df-container\">\n",
              "      <div>\n",
              "<style scoped>\n",
              "    .dataframe tbody tr th:only-of-type {\n",
              "        vertical-align: middle;\n",
              "    }\n",
              "\n",
              "    .dataframe tbody tr th {\n",
              "        vertical-align: top;\n",
              "    }\n",
              "\n",
              "    .dataframe thead th {\n",
              "        text-align: right;\n",
              "    }\n",
              "</style>\n",
              "<table border=\"1\" class=\"dataframe\">\n",
              "  <thead>\n",
              "    <tr style=\"text-align: right;\">\n",
              "      <th></th>\n",
              "      <th>Geographic Area</th>\n",
              "      <th>City</th>\n",
              "      <th>percent_completed_hs</th>\n",
              "      <th>Median Income</th>\n",
              "      <th>poverty_rate</th>\n",
              "      <th>share_white</th>\n",
              "      <th>share_black</th>\n",
              "      <th>share_native_american</th>\n",
              "      <th>share_asian</th>\n",
              "      <th>share_hispanic</th>\n",
              "    </tr>\n",
              "  </thead>\n",
              "  <tbody>\n",
              "    <tr>\n",
              "      <th>0</th>\n",
              "      <td>AL</td>\n",
              "      <td>Abanda CDP</td>\n",
              "      <td>21.2</td>\n",
              "      <td>11207</td>\n",
              "      <td>78.8</td>\n",
              "      <td>67.2</td>\n",
              "      <td>30.2</td>\n",
              "      <td>0</td>\n",
              "      <td>0</td>\n",
              "      <td>1.6</td>\n",
              "    </tr>\n",
              "    <tr>\n",
              "      <th>1</th>\n",
              "      <td>AL</td>\n",
              "      <td>Abbeville city</td>\n",
              "      <td>69.1</td>\n",
              "      <td>25615</td>\n",
              "      <td>29.1</td>\n",
              "      <td>54.4</td>\n",
              "      <td>41.4</td>\n",
              "      <td>0.1</td>\n",
              "      <td>1</td>\n",
              "      <td>3.1</td>\n",
              "    </tr>\n",
              "    <tr>\n",
              "      <th>2</th>\n",
              "      <td>AL</td>\n",
              "      <td>Adamsville city</td>\n",
              "      <td>78.9</td>\n",
              "      <td>42575</td>\n",
              "      <td>25.5</td>\n",
              "      <td>52.3</td>\n",
              "      <td>44.9</td>\n",
              "      <td>0.5</td>\n",
              "      <td>0.3</td>\n",
              "      <td>2.3</td>\n",
              "    </tr>\n",
              "    <tr>\n",
              "      <th>3</th>\n",
              "      <td>AL</td>\n",
              "      <td>Addison town</td>\n",
              "      <td>81.4</td>\n",
              "      <td>37083</td>\n",
              "      <td>30.7</td>\n",
              "      <td>99.1</td>\n",
              "      <td>0.1</td>\n",
              "      <td>0</td>\n",
              "      <td>0.1</td>\n",
              "      <td>0.4</td>\n",
              "    </tr>\n",
              "    <tr>\n",
              "      <th>4</th>\n",
              "      <td>AL</td>\n",
              "      <td>Akron town</td>\n",
              "      <td>68.6</td>\n",
              "      <td>21667</td>\n",
              "      <td>42</td>\n",
              "      <td>13.2</td>\n",
              "      <td>86.5</td>\n",
              "      <td>0</td>\n",
              "      <td>0</td>\n",
              "      <td>0.3</td>\n",
              "    </tr>\n",
              "  </tbody>\n",
              "</table>\n",
              "</div>\n",
              "      <button class=\"colab-df-convert\" onclick=\"convertToInteractive('df-9fbdb072-19cb-43c8-8cf4-c3d93ab5d03c')\"\n",
              "              title=\"Convert this dataframe to an interactive table.\"\n",
              "              style=\"display:none;\">\n",
              "        \n",
              "  <svg xmlns=\"http://www.w3.org/2000/svg\" height=\"24px\"viewBox=\"0 0 24 24\"\n",
              "       width=\"24px\">\n",
              "    <path d=\"M0 0h24v24H0V0z\" fill=\"none\"/>\n",
              "    <path d=\"M18.56 5.44l.94 2.06.94-2.06 2.06-.94-2.06-.94-.94-2.06-.94 2.06-2.06.94zm-11 1L8.5 8.5l.94-2.06 2.06-.94-2.06-.94L8.5 2.5l-.94 2.06-2.06.94zm10 10l.94 2.06.94-2.06 2.06-.94-2.06-.94-.94-2.06-.94 2.06-2.06.94z\"/><path d=\"M17.41 7.96l-1.37-1.37c-.4-.4-.92-.59-1.43-.59-.52 0-1.04.2-1.43.59L10.3 9.45l-7.72 7.72c-.78.78-.78 2.05 0 2.83L4 21.41c.39.39.9.59 1.41.59.51 0 1.02-.2 1.41-.59l7.78-7.78 2.81-2.81c.8-.78.8-2.07 0-2.86zM5.41 20L4 18.59l7.72-7.72 1.47 1.35L5.41 20z\"/>\n",
              "  </svg>\n",
              "      </button>\n",
              "      \n",
              "  <style>\n",
              "    .colab-df-container {\n",
              "      display:flex;\n",
              "      flex-wrap:wrap;\n",
              "      gap: 12px;\n",
              "    }\n",
              "\n",
              "    .colab-df-convert {\n",
              "      background-color: #E8F0FE;\n",
              "      border: none;\n",
              "      border-radius: 50%;\n",
              "      cursor: pointer;\n",
              "      display: none;\n",
              "      fill: #1967D2;\n",
              "      height: 32px;\n",
              "      padding: 0 0 0 0;\n",
              "      width: 32px;\n",
              "    }\n",
              "\n",
              "    .colab-df-convert:hover {\n",
              "      background-color: #E2EBFA;\n",
              "      box-shadow: 0px 1px 2px rgba(60, 64, 67, 0.3), 0px 1px 3px 1px rgba(60, 64, 67, 0.15);\n",
              "      fill: #174EA6;\n",
              "    }\n",
              "\n",
              "    [theme=dark] .colab-df-convert {\n",
              "      background-color: #3B4455;\n",
              "      fill: #D2E3FC;\n",
              "    }\n",
              "\n",
              "    [theme=dark] .colab-df-convert:hover {\n",
              "      background-color: #434B5C;\n",
              "      box-shadow: 0px 1px 3px 1px rgba(0, 0, 0, 0.15);\n",
              "      filter: drop-shadow(0px 1px 2px rgba(0, 0, 0, 0.3));\n",
              "      fill: #FFFFFF;\n",
              "    }\n",
              "  </style>\n",
              "\n",
              "      <script>\n",
              "        const buttonEl =\n",
              "          document.querySelector('#df-9fbdb072-19cb-43c8-8cf4-c3d93ab5d03c button.colab-df-convert');\n",
              "        buttonEl.style.display =\n",
              "          google.colab.kernel.accessAllowed ? 'block' : 'none';\n",
              "\n",
              "        async function convertToInteractive(key) {\n",
              "          const element = document.querySelector('#df-9fbdb072-19cb-43c8-8cf4-c3d93ab5d03c');\n",
              "          const dataTable =\n",
              "            await google.colab.kernel.invokeFunction('convertToInteractive',\n",
              "                                                     [key], {});\n",
              "          if (!dataTable) return;\n",
              "\n",
              "          const docLinkHtml = 'Like what you see? Visit the ' +\n",
              "            '<a target=\"_blank\" href=https://colab.research.google.com/notebooks/data_table.ipynb>data table notebook</a>'\n",
              "            + ' to learn more about interactive tables.';\n",
              "          element.innerHTML = '';\n",
              "          dataTable['output_type'] = 'display_data';\n",
              "          await google.colab.output.renderOutput(dataTable, element);\n",
              "          const docLink = document.createElement('div');\n",
              "          docLink.innerHTML = docLinkHtml;\n",
              "          element.appendChild(docLink);\n",
              "        }\n",
              "      </script>\n",
              "    </div>\n",
              "  </div>\n",
              "  "
            ]
          },
          "metadata": {},
          "execution_count": 82
        }
      ],
      "source": [
        "merged = education.merge(income, on=['Geographic Area', 'City']).merge(poverty, on=['Geographic Area', 'City']).merge(race, on=['Geographic Area', 'City'])\n",
        "merged.head()"
      ]
    },
    {
      "cell_type": "code",
      "execution_count": null,
      "metadata": {
        "id": "hhHwfzZxVT2D",
        "colab": {
          "base_uri": "https://localhost:8080/"
        },
        "outputId": "da62ff17-df13-4ac7-cfb3-9a7220f3417d"
      },
      "outputs": [
        {
          "output_type": "execute_result",
          "data": {
            "text/plain": [
              "0            Geographic Area              City percent...\n",
              "1            Geographic Area          City percent_com...\n",
              "2             Geographic Area          City percent_co...\n",
              "3            Geographic Area                   City pe...\n",
              "4             Geographic Area            City percent_...\n",
              "                              ...                        \n",
              "1276          Geographic Area               City perce...\n",
              "1277          Geographic Area                City perc...\n",
              "1278         Geographic Area         City percent_comp...\n",
              "1279          Geographic Area              City percen...\n",
              "1280          Geographic Area         City percent_com...\n",
              "Length: 1281, dtype: object"
            ]
          },
          "metadata": {},
          "execution_count": 83
        }
      ],
      "source": [
        "def merge_count(record):\n",
        "    # find record(s) matching both name and state\n",
        "    match_city = merged['City'].str.startswith(record['City'])\n",
        "    match_state = merged['Geographic Area'] == record['Geographic Area']\n",
        "    match_both = np.logical_and(match_city, match_state)\n",
        "    # count the number of True\n",
        "    length = np.count_nonzero(match_both)\n",
        "    if length == 1:\n",
        "        # if unique\n",
        "        merged.loc[match_both, 'Counts'] = record['Counts']\n",
        "        return merged.loc[match_both]\n",
        "    elif length > 1:\n",
        "        # if multiple, take average\n",
        "        count = record['Counts']/length\n",
        "        merged.loc[match_both, 'Counts'] = count\n",
        "        return merged.loc[match_both]\n",
        "\n",
        "merged['Counts'] = 0\n",
        "city_count.apply(merge_count, axis=1)"
      ]
    },
    {
      "cell_type": "code",
      "execution_count": null,
      "metadata": {
        "id": "HROxEdgHVT2E",
        "colab": {
          "base_uri": "https://localhost:8080/"
        },
        "outputId": "a26e58ad-d3d5-403a-ae0e-b8b4b5512879"
      },
      "outputs": [
        {
          "output_type": "execute_result",
          "data": {
            "text/plain": [
              "      Geographic Area              City percent_completed_hs Median Income  \\\n",
              "2701               CA  Los Angeles city                 75.5         50205   \n",
              "1198               AZ      Phoenix city                 80.7         47326   \n",
              "25036              TX      Houston city                 76.7         46187   \n",
              "15596              NV    Las Vegas city                 83.3         50202   \n",
              "25744              TX  San Antonio city                 81.4         46744   \n",
              "\n",
              "      poverty_rate share_white share_black share_native_american share_asian  \\\n",
              "2701          22.1        49.8         9.6                   0.7        11.3   \n",
              "1198          23.1        65.9         6.5                   2.2         3.2   \n",
              "25036         22.5        50.5        23.7                   0.7           6   \n",
              "15596         17.5        62.1        11.1                   0.7         6.1   \n",
              "25744         19.8        72.6         6.9                   0.9         2.4   \n",
              "\n",
              "      share_hispanic  Counts  \n",
              "2701            48.5    31.0  \n",
              "1198            40.8    24.0  \n",
              "25036           43.8    22.0  \n",
              "15596           31.5    16.0  \n",
              "25744           63.2    15.0  "
            ],
            "text/html": [
              "\n",
              "  <div id=\"df-895c0d4f-2e7c-4a36-b135-0a68a8332bc0\">\n",
              "    <div class=\"colab-df-container\">\n",
              "      <div>\n",
              "<style scoped>\n",
              "    .dataframe tbody tr th:only-of-type {\n",
              "        vertical-align: middle;\n",
              "    }\n",
              "\n",
              "    .dataframe tbody tr th {\n",
              "        vertical-align: top;\n",
              "    }\n",
              "\n",
              "    .dataframe thead th {\n",
              "        text-align: right;\n",
              "    }\n",
              "</style>\n",
              "<table border=\"1\" class=\"dataframe\">\n",
              "  <thead>\n",
              "    <tr style=\"text-align: right;\">\n",
              "      <th></th>\n",
              "      <th>Geographic Area</th>\n",
              "      <th>City</th>\n",
              "      <th>percent_completed_hs</th>\n",
              "      <th>Median Income</th>\n",
              "      <th>poverty_rate</th>\n",
              "      <th>share_white</th>\n",
              "      <th>share_black</th>\n",
              "      <th>share_native_american</th>\n",
              "      <th>share_asian</th>\n",
              "      <th>share_hispanic</th>\n",
              "      <th>Counts</th>\n",
              "    </tr>\n",
              "  </thead>\n",
              "  <tbody>\n",
              "    <tr>\n",
              "      <th>2701</th>\n",
              "      <td>CA</td>\n",
              "      <td>Los Angeles city</td>\n",
              "      <td>75.5</td>\n",
              "      <td>50205</td>\n",
              "      <td>22.1</td>\n",
              "      <td>49.8</td>\n",
              "      <td>9.6</td>\n",
              "      <td>0.7</td>\n",
              "      <td>11.3</td>\n",
              "      <td>48.5</td>\n",
              "      <td>31.0</td>\n",
              "    </tr>\n",
              "    <tr>\n",
              "      <th>1198</th>\n",
              "      <td>AZ</td>\n",
              "      <td>Phoenix city</td>\n",
              "      <td>80.7</td>\n",
              "      <td>47326</td>\n",
              "      <td>23.1</td>\n",
              "      <td>65.9</td>\n",
              "      <td>6.5</td>\n",
              "      <td>2.2</td>\n",
              "      <td>3.2</td>\n",
              "      <td>40.8</td>\n",
              "      <td>24.0</td>\n",
              "    </tr>\n",
              "    <tr>\n",
              "      <th>25036</th>\n",
              "      <td>TX</td>\n",
              "      <td>Houston city</td>\n",
              "      <td>76.7</td>\n",
              "      <td>46187</td>\n",
              "      <td>22.5</td>\n",
              "      <td>50.5</td>\n",
              "      <td>23.7</td>\n",
              "      <td>0.7</td>\n",
              "      <td>6</td>\n",
              "      <td>43.8</td>\n",
              "      <td>22.0</td>\n",
              "    </tr>\n",
              "    <tr>\n",
              "      <th>15596</th>\n",
              "      <td>NV</td>\n",
              "      <td>Las Vegas city</td>\n",
              "      <td>83.3</td>\n",
              "      <td>50202</td>\n",
              "      <td>17.5</td>\n",
              "      <td>62.1</td>\n",
              "      <td>11.1</td>\n",
              "      <td>0.7</td>\n",
              "      <td>6.1</td>\n",
              "      <td>31.5</td>\n",
              "      <td>16.0</td>\n",
              "    </tr>\n",
              "    <tr>\n",
              "      <th>25744</th>\n",
              "      <td>TX</td>\n",
              "      <td>San Antonio city</td>\n",
              "      <td>81.4</td>\n",
              "      <td>46744</td>\n",
              "      <td>19.8</td>\n",
              "      <td>72.6</td>\n",
              "      <td>6.9</td>\n",
              "      <td>0.9</td>\n",
              "      <td>2.4</td>\n",
              "      <td>63.2</td>\n",
              "      <td>15.0</td>\n",
              "    </tr>\n",
              "  </tbody>\n",
              "</table>\n",
              "</div>\n",
              "      <button class=\"colab-df-convert\" onclick=\"convertToInteractive('df-895c0d4f-2e7c-4a36-b135-0a68a8332bc0')\"\n",
              "              title=\"Convert this dataframe to an interactive table.\"\n",
              "              style=\"display:none;\">\n",
              "        \n",
              "  <svg xmlns=\"http://www.w3.org/2000/svg\" height=\"24px\"viewBox=\"0 0 24 24\"\n",
              "       width=\"24px\">\n",
              "    <path d=\"M0 0h24v24H0V0z\" fill=\"none\"/>\n",
              "    <path d=\"M18.56 5.44l.94 2.06.94-2.06 2.06-.94-2.06-.94-.94-2.06-.94 2.06-2.06.94zm-11 1L8.5 8.5l.94-2.06 2.06-.94-2.06-.94L8.5 2.5l-.94 2.06-2.06.94zm10 10l.94 2.06.94-2.06 2.06-.94-2.06-.94-.94-2.06-.94 2.06-2.06.94z\"/><path d=\"M17.41 7.96l-1.37-1.37c-.4-.4-.92-.59-1.43-.59-.52 0-1.04.2-1.43.59L10.3 9.45l-7.72 7.72c-.78.78-.78 2.05 0 2.83L4 21.41c.39.39.9.59 1.41.59.51 0 1.02-.2 1.41-.59l7.78-7.78 2.81-2.81c.8-.78.8-2.07 0-2.86zM5.41 20L4 18.59l7.72-7.72 1.47 1.35L5.41 20z\"/>\n",
              "  </svg>\n",
              "      </button>\n",
              "      \n",
              "  <style>\n",
              "    .colab-df-container {\n",
              "      display:flex;\n",
              "      flex-wrap:wrap;\n",
              "      gap: 12px;\n",
              "    }\n",
              "\n",
              "    .colab-df-convert {\n",
              "      background-color: #E8F0FE;\n",
              "      border: none;\n",
              "      border-radius: 50%;\n",
              "      cursor: pointer;\n",
              "      display: none;\n",
              "      fill: #1967D2;\n",
              "      height: 32px;\n",
              "      padding: 0 0 0 0;\n",
              "      width: 32px;\n",
              "    }\n",
              "\n",
              "    .colab-df-convert:hover {\n",
              "      background-color: #E2EBFA;\n",
              "      box-shadow: 0px 1px 2px rgba(60, 64, 67, 0.3), 0px 1px 3px 1px rgba(60, 64, 67, 0.15);\n",
              "      fill: #174EA6;\n",
              "    }\n",
              "\n",
              "    [theme=dark] .colab-df-convert {\n",
              "      background-color: #3B4455;\n",
              "      fill: #D2E3FC;\n",
              "    }\n",
              "\n",
              "    [theme=dark] .colab-df-convert:hover {\n",
              "      background-color: #434B5C;\n",
              "      box-shadow: 0px 1px 3px 1px rgba(0, 0, 0, 0.15);\n",
              "      filter: drop-shadow(0px 1px 2px rgba(0, 0, 0, 0.3));\n",
              "      fill: #FFFFFF;\n",
              "    }\n",
              "  </style>\n",
              "\n",
              "      <script>\n",
              "        const buttonEl =\n",
              "          document.querySelector('#df-895c0d4f-2e7c-4a36-b135-0a68a8332bc0 button.colab-df-convert');\n",
              "        buttonEl.style.display =\n",
              "          google.colab.kernel.accessAllowed ? 'block' : 'none';\n",
              "\n",
              "        async function convertToInteractive(key) {\n",
              "          const element = document.querySelector('#df-895c0d4f-2e7c-4a36-b135-0a68a8332bc0');\n",
              "          const dataTable =\n",
              "            await google.colab.kernel.invokeFunction('convertToInteractive',\n",
              "                                                     [key], {});\n",
              "          if (!dataTable) return;\n",
              "\n",
              "          const docLinkHtml = 'Like what you see? Visit the ' +\n",
              "            '<a target=\"_blank\" href=https://colab.research.google.com/notebooks/data_table.ipynb>data table notebook</a>'\n",
              "            + ' to learn more about interactive tables.';\n",
              "          element.innerHTML = '';\n",
              "          dataTable['output_type'] = 'display_data';\n",
              "          await google.colab.output.renderOutput(dataTable, element);\n",
              "          const docLink = document.createElement('div');\n",
              "          docLink.innerHTML = docLinkHtml;\n",
              "          element.appendChild(docLink);\n",
              "        }\n",
              "      </script>\n",
              "    </div>\n",
              "  </div>\n",
              "  "
            ]
          },
          "metadata": {},
          "execution_count": 84
        }
      ],
      "source": [
        "merged.sort_values(by='Counts', ascending=False).head()"
      ]
    },
    {
      "cell_type": "markdown",
      "metadata": {
        "id": "rcm13IWvVT2E"
      },
      "source": [
        "## Exploratory Data Analysis"
      ]
    },
    {
      "cell_type": "code",
      "source": [
        "merged.head()"
      ],
      "metadata": {
        "id": "Vi2U8wSxgPtd",
        "colab": {
          "base_uri": "https://localhost:8080/",
          "height": 374
        },
        "outputId": "d046d551-fde1-49de-96cc-14df7c40c7cc"
      },
      "execution_count": null,
      "outputs": [
        {
          "output_type": "execute_result",
          "data": {
            "text/plain": [
              "  Geographic Area             City percent_completed_hs Median Income  \\\n",
              "0              AL       Abanda CDP                 21.2         11207   \n",
              "1              AL   Abbeville city                 69.1         25615   \n",
              "2              AL  Adamsville city                 78.9         42575   \n",
              "3              AL     Addison town                 81.4         37083   \n",
              "4              AL       Akron town                 68.6         21667   \n",
              "\n",
              "  poverty_rate share_white share_black share_native_american share_asian  \\\n",
              "0         78.8        67.2        30.2                     0           0   \n",
              "1         29.1        54.4        41.4                   0.1           1   \n",
              "2         25.5        52.3        44.9                   0.5         0.3   \n",
              "3         30.7        99.1         0.1                     0         0.1   \n",
              "4           42        13.2        86.5                     0           0   \n",
              "\n",
              "  share_hispanic  Counts  \n",
              "0            1.6     0.0  \n",
              "1            3.1     0.0  \n",
              "2            2.3     0.0  \n",
              "3            0.4     0.0  \n",
              "4            0.3     0.0  "
            ],
            "text/html": [
              "\n",
              "  <div id=\"df-872a48fa-9e2b-45d3-a7c8-b805a87c16e5\">\n",
              "    <div class=\"colab-df-container\">\n",
              "      <div>\n",
              "<style scoped>\n",
              "    .dataframe tbody tr th:only-of-type {\n",
              "        vertical-align: middle;\n",
              "    }\n",
              "\n",
              "    .dataframe tbody tr th {\n",
              "        vertical-align: top;\n",
              "    }\n",
              "\n",
              "    .dataframe thead th {\n",
              "        text-align: right;\n",
              "    }\n",
              "</style>\n",
              "<table border=\"1\" class=\"dataframe\">\n",
              "  <thead>\n",
              "    <tr style=\"text-align: right;\">\n",
              "      <th></th>\n",
              "      <th>Geographic Area</th>\n",
              "      <th>City</th>\n",
              "      <th>percent_completed_hs</th>\n",
              "      <th>Median Income</th>\n",
              "      <th>poverty_rate</th>\n",
              "      <th>share_white</th>\n",
              "      <th>share_black</th>\n",
              "      <th>share_native_american</th>\n",
              "      <th>share_asian</th>\n",
              "      <th>share_hispanic</th>\n",
              "      <th>Counts</th>\n",
              "    </tr>\n",
              "  </thead>\n",
              "  <tbody>\n",
              "    <tr>\n",
              "      <th>0</th>\n",
              "      <td>AL</td>\n",
              "      <td>Abanda CDP</td>\n",
              "      <td>21.2</td>\n",
              "      <td>11207</td>\n",
              "      <td>78.8</td>\n",
              "      <td>67.2</td>\n",
              "      <td>30.2</td>\n",
              "      <td>0</td>\n",
              "      <td>0</td>\n",
              "      <td>1.6</td>\n",
              "      <td>0.0</td>\n",
              "    </tr>\n",
              "    <tr>\n",
              "      <th>1</th>\n",
              "      <td>AL</td>\n",
              "      <td>Abbeville city</td>\n",
              "      <td>69.1</td>\n",
              "      <td>25615</td>\n",
              "      <td>29.1</td>\n",
              "      <td>54.4</td>\n",
              "      <td>41.4</td>\n",
              "      <td>0.1</td>\n",
              "      <td>1</td>\n",
              "      <td>3.1</td>\n",
              "      <td>0.0</td>\n",
              "    </tr>\n",
              "    <tr>\n",
              "      <th>2</th>\n",
              "      <td>AL</td>\n",
              "      <td>Adamsville city</td>\n",
              "      <td>78.9</td>\n",
              "      <td>42575</td>\n",
              "      <td>25.5</td>\n",
              "      <td>52.3</td>\n",
              "      <td>44.9</td>\n",
              "      <td>0.5</td>\n",
              "      <td>0.3</td>\n",
              "      <td>2.3</td>\n",
              "      <td>0.0</td>\n",
              "    </tr>\n",
              "    <tr>\n",
              "      <th>3</th>\n",
              "      <td>AL</td>\n",
              "      <td>Addison town</td>\n",
              "      <td>81.4</td>\n",
              "      <td>37083</td>\n",
              "      <td>30.7</td>\n",
              "      <td>99.1</td>\n",
              "      <td>0.1</td>\n",
              "      <td>0</td>\n",
              "      <td>0.1</td>\n",
              "      <td>0.4</td>\n",
              "      <td>0.0</td>\n",
              "    </tr>\n",
              "    <tr>\n",
              "      <th>4</th>\n",
              "      <td>AL</td>\n",
              "      <td>Akron town</td>\n",
              "      <td>68.6</td>\n",
              "      <td>21667</td>\n",
              "      <td>42</td>\n",
              "      <td>13.2</td>\n",
              "      <td>86.5</td>\n",
              "      <td>0</td>\n",
              "      <td>0</td>\n",
              "      <td>0.3</td>\n",
              "      <td>0.0</td>\n",
              "    </tr>\n",
              "  </tbody>\n",
              "</table>\n",
              "</div>\n",
              "      <button class=\"colab-df-convert\" onclick=\"convertToInteractive('df-872a48fa-9e2b-45d3-a7c8-b805a87c16e5')\"\n",
              "              title=\"Convert this dataframe to an interactive table.\"\n",
              "              style=\"display:none;\">\n",
              "        \n",
              "  <svg xmlns=\"http://www.w3.org/2000/svg\" height=\"24px\"viewBox=\"0 0 24 24\"\n",
              "       width=\"24px\">\n",
              "    <path d=\"M0 0h24v24H0V0z\" fill=\"none\"/>\n",
              "    <path d=\"M18.56 5.44l.94 2.06.94-2.06 2.06-.94-2.06-.94-.94-2.06-.94 2.06-2.06.94zm-11 1L8.5 8.5l.94-2.06 2.06-.94-2.06-.94L8.5 2.5l-.94 2.06-2.06.94zm10 10l.94 2.06.94-2.06 2.06-.94-2.06-.94-.94-2.06-.94 2.06-2.06.94z\"/><path d=\"M17.41 7.96l-1.37-1.37c-.4-.4-.92-.59-1.43-.59-.52 0-1.04.2-1.43.59L10.3 9.45l-7.72 7.72c-.78.78-.78 2.05 0 2.83L4 21.41c.39.39.9.59 1.41.59.51 0 1.02-.2 1.41-.59l7.78-7.78 2.81-2.81c.8-.78.8-2.07 0-2.86zM5.41 20L4 18.59l7.72-7.72 1.47 1.35L5.41 20z\"/>\n",
              "  </svg>\n",
              "      </button>\n",
              "      \n",
              "  <style>\n",
              "    .colab-df-container {\n",
              "      display:flex;\n",
              "      flex-wrap:wrap;\n",
              "      gap: 12px;\n",
              "    }\n",
              "\n",
              "    .colab-df-convert {\n",
              "      background-color: #E8F0FE;\n",
              "      border: none;\n",
              "      border-radius: 50%;\n",
              "      cursor: pointer;\n",
              "      display: none;\n",
              "      fill: #1967D2;\n",
              "      height: 32px;\n",
              "      padding: 0 0 0 0;\n",
              "      width: 32px;\n",
              "    }\n",
              "\n",
              "    .colab-df-convert:hover {\n",
              "      background-color: #E2EBFA;\n",
              "      box-shadow: 0px 1px 2px rgba(60, 64, 67, 0.3), 0px 1px 3px 1px rgba(60, 64, 67, 0.15);\n",
              "      fill: #174EA6;\n",
              "    }\n",
              "\n",
              "    [theme=dark] .colab-df-convert {\n",
              "      background-color: #3B4455;\n",
              "      fill: #D2E3FC;\n",
              "    }\n",
              "\n",
              "    [theme=dark] .colab-df-convert:hover {\n",
              "      background-color: #434B5C;\n",
              "      box-shadow: 0px 1px 3px 1px rgba(0, 0, 0, 0.15);\n",
              "      filter: drop-shadow(0px 1px 2px rgba(0, 0, 0, 0.3));\n",
              "      fill: #FFFFFF;\n",
              "    }\n",
              "  </style>\n",
              "\n",
              "      <script>\n",
              "        const buttonEl =\n",
              "          document.querySelector('#df-872a48fa-9e2b-45d3-a7c8-b805a87c16e5 button.colab-df-convert');\n",
              "        buttonEl.style.display =\n",
              "          google.colab.kernel.accessAllowed ? 'block' : 'none';\n",
              "\n",
              "        async function convertToInteractive(key) {\n",
              "          const element = document.querySelector('#df-872a48fa-9e2b-45d3-a7c8-b805a87c16e5');\n",
              "          const dataTable =\n",
              "            await google.colab.kernel.invokeFunction('convertToInteractive',\n",
              "                                                     [key], {});\n",
              "          if (!dataTable) return;\n",
              "\n",
              "          const docLinkHtml = 'Like what you see? Visit the ' +\n",
              "            '<a target=\"_blank\" href=https://colab.research.google.com/notebooks/data_table.ipynb>data table notebook</a>'\n",
              "            + ' to learn more about interactive tables.';\n",
              "          element.innerHTML = '';\n",
              "          dataTable['output_type'] = 'display_data';\n",
              "          await google.colab.output.renderOutput(dataTable, element);\n",
              "          const docLink = document.createElement('div');\n",
              "          docLink.innerHTML = docLinkHtml;\n",
              "          element.appendChild(docLink);\n",
              "        }\n",
              "      </script>\n",
              "    </div>\n",
              "  </div>\n",
              "  "
            ]
          },
          "metadata": {},
          "execution_count": 85
        }
      ]
    },
    {
      "cell_type": "code",
      "source": [
        "merged.tail()"
      ],
      "metadata": {
        "id": "omKcXdqWhnw9",
        "colab": {
          "base_uri": "https://localhost:8080/",
          "height": 426
        },
        "outputId": "470a65a4-a9a8-4c36-ce4b-32085557a96c"
      },
      "execution_count": null,
      "outputs": [
        {
          "output_type": "execute_result",
          "data": {
            "text/plain": [
              "      Geographic Area                    City percent_completed_hs  \\\n",
              "29110              WY  Woods Landing-Jelm CDP                  100   \n",
              "29111              WY            Worland city                 85.6   \n",
              "29112              WY             Wright town                 89.2   \n",
              "29113              WY              Yoder town                 79.4   \n",
              "29114              WY           Y-O Ranch CDP                  100   \n",
              "\n",
              "      Median Income poverty_rate share_white share_black  \\\n",
              "29110           NaN         18.6        95.9           0   \n",
              "29111         41523         15.3        89.9         0.3   \n",
              "29112         77114          5.9        94.5         0.1   \n",
              "29113         37500          5.4        97.4           0   \n",
              "29114           NaN            0        92.8         1.5   \n",
              "\n",
              "      share_native_american share_asian share_hispanic  Counts  \n",
              "29110                     0         2.1              0     0.0  \n",
              "29111                   1.3         0.6           16.6     0.0  \n",
              "29112                   1.4         0.2            6.2     0.0  \n",
              "29113                     0           0              4     0.0  \n",
              "29114                   2.6           0           11.8     0.0  "
            ],
            "text/html": [
              "\n",
              "  <div id=\"df-032974e0-c542-4a00-a7dd-0f419734c092\">\n",
              "    <div class=\"colab-df-container\">\n",
              "      <div>\n",
              "<style scoped>\n",
              "    .dataframe tbody tr th:only-of-type {\n",
              "        vertical-align: middle;\n",
              "    }\n",
              "\n",
              "    .dataframe tbody tr th {\n",
              "        vertical-align: top;\n",
              "    }\n",
              "\n",
              "    .dataframe thead th {\n",
              "        text-align: right;\n",
              "    }\n",
              "</style>\n",
              "<table border=\"1\" class=\"dataframe\">\n",
              "  <thead>\n",
              "    <tr style=\"text-align: right;\">\n",
              "      <th></th>\n",
              "      <th>Geographic Area</th>\n",
              "      <th>City</th>\n",
              "      <th>percent_completed_hs</th>\n",
              "      <th>Median Income</th>\n",
              "      <th>poverty_rate</th>\n",
              "      <th>share_white</th>\n",
              "      <th>share_black</th>\n",
              "      <th>share_native_american</th>\n",
              "      <th>share_asian</th>\n",
              "      <th>share_hispanic</th>\n",
              "      <th>Counts</th>\n",
              "    </tr>\n",
              "  </thead>\n",
              "  <tbody>\n",
              "    <tr>\n",
              "      <th>29110</th>\n",
              "      <td>WY</td>\n",
              "      <td>Woods Landing-Jelm CDP</td>\n",
              "      <td>100</td>\n",
              "      <td>NaN</td>\n",
              "      <td>18.6</td>\n",
              "      <td>95.9</td>\n",
              "      <td>0</td>\n",
              "      <td>0</td>\n",
              "      <td>2.1</td>\n",
              "      <td>0</td>\n",
              "      <td>0.0</td>\n",
              "    </tr>\n",
              "    <tr>\n",
              "      <th>29111</th>\n",
              "      <td>WY</td>\n",
              "      <td>Worland city</td>\n",
              "      <td>85.6</td>\n",
              "      <td>41523</td>\n",
              "      <td>15.3</td>\n",
              "      <td>89.9</td>\n",
              "      <td>0.3</td>\n",
              "      <td>1.3</td>\n",
              "      <td>0.6</td>\n",
              "      <td>16.6</td>\n",
              "      <td>0.0</td>\n",
              "    </tr>\n",
              "    <tr>\n",
              "      <th>29112</th>\n",
              "      <td>WY</td>\n",
              "      <td>Wright town</td>\n",
              "      <td>89.2</td>\n",
              "      <td>77114</td>\n",
              "      <td>5.9</td>\n",
              "      <td>94.5</td>\n",
              "      <td>0.1</td>\n",
              "      <td>1.4</td>\n",
              "      <td>0.2</td>\n",
              "      <td>6.2</td>\n",
              "      <td>0.0</td>\n",
              "    </tr>\n",
              "    <tr>\n",
              "      <th>29113</th>\n",
              "      <td>WY</td>\n",
              "      <td>Yoder town</td>\n",
              "      <td>79.4</td>\n",
              "      <td>37500</td>\n",
              "      <td>5.4</td>\n",
              "      <td>97.4</td>\n",
              "      <td>0</td>\n",
              "      <td>0</td>\n",
              "      <td>0</td>\n",
              "      <td>4</td>\n",
              "      <td>0.0</td>\n",
              "    </tr>\n",
              "    <tr>\n",
              "      <th>29114</th>\n",
              "      <td>WY</td>\n",
              "      <td>Y-O Ranch CDP</td>\n",
              "      <td>100</td>\n",
              "      <td>NaN</td>\n",
              "      <td>0</td>\n",
              "      <td>92.8</td>\n",
              "      <td>1.5</td>\n",
              "      <td>2.6</td>\n",
              "      <td>0</td>\n",
              "      <td>11.8</td>\n",
              "      <td>0.0</td>\n",
              "    </tr>\n",
              "  </tbody>\n",
              "</table>\n",
              "</div>\n",
              "      <button class=\"colab-df-convert\" onclick=\"convertToInteractive('df-032974e0-c542-4a00-a7dd-0f419734c092')\"\n",
              "              title=\"Convert this dataframe to an interactive table.\"\n",
              "              style=\"display:none;\">\n",
              "        \n",
              "  <svg xmlns=\"http://www.w3.org/2000/svg\" height=\"24px\"viewBox=\"0 0 24 24\"\n",
              "       width=\"24px\">\n",
              "    <path d=\"M0 0h24v24H0V0z\" fill=\"none\"/>\n",
              "    <path d=\"M18.56 5.44l.94 2.06.94-2.06 2.06-.94-2.06-.94-.94-2.06-.94 2.06-2.06.94zm-11 1L8.5 8.5l.94-2.06 2.06-.94-2.06-.94L8.5 2.5l-.94 2.06-2.06.94zm10 10l.94 2.06.94-2.06 2.06-.94-2.06-.94-.94-2.06-.94 2.06-2.06.94z\"/><path d=\"M17.41 7.96l-1.37-1.37c-.4-.4-.92-.59-1.43-.59-.52 0-1.04.2-1.43.59L10.3 9.45l-7.72 7.72c-.78.78-.78 2.05 0 2.83L4 21.41c.39.39.9.59 1.41.59.51 0 1.02-.2 1.41-.59l7.78-7.78 2.81-2.81c.8-.78.8-2.07 0-2.86zM5.41 20L4 18.59l7.72-7.72 1.47 1.35L5.41 20z\"/>\n",
              "  </svg>\n",
              "      </button>\n",
              "      \n",
              "  <style>\n",
              "    .colab-df-container {\n",
              "      display:flex;\n",
              "      flex-wrap:wrap;\n",
              "      gap: 12px;\n",
              "    }\n",
              "\n",
              "    .colab-df-convert {\n",
              "      background-color: #E8F0FE;\n",
              "      border: none;\n",
              "      border-radius: 50%;\n",
              "      cursor: pointer;\n",
              "      display: none;\n",
              "      fill: #1967D2;\n",
              "      height: 32px;\n",
              "      padding: 0 0 0 0;\n",
              "      width: 32px;\n",
              "    }\n",
              "\n",
              "    .colab-df-convert:hover {\n",
              "      background-color: #E2EBFA;\n",
              "      box-shadow: 0px 1px 2px rgba(60, 64, 67, 0.3), 0px 1px 3px 1px rgba(60, 64, 67, 0.15);\n",
              "      fill: #174EA6;\n",
              "    }\n",
              "\n",
              "    [theme=dark] .colab-df-convert {\n",
              "      background-color: #3B4455;\n",
              "      fill: #D2E3FC;\n",
              "    }\n",
              "\n",
              "    [theme=dark] .colab-df-convert:hover {\n",
              "      background-color: #434B5C;\n",
              "      box-shadow: 0px 1px 3px 1px rgba(0, 0, 0, 0.15);\n",
              "      filter: drop-shadow(0px 1px 2px rgba(0, 0, 0, 0.3));\n",
              "      fill: #FFFFFF;\n",
              "    }\n",
              "  </style>\n",
              "\n",
              "      <script>\n",
              "        const buttonEl =\n",
              "          document.querySelector('#df-032974e0-c542-4a00-a7dd-0f419734c092 button.colab-df-convert');\n",
              "        buttonEl.style.display =\n",
              "          google.colab.kernel.accessAllowed ? 'block' : 'none';\n",
              "\n",
              "        async function convertToInteractive(key) {\n",
              "          const element = document.querySelector('#df-032974e0-c542-4a00-a7dd-0f419734c092');\n",
              "          const dataTable =\n",
              "            await google.colab.kernel.invokeFunction('convertToInteractive',\n",
              "                                                     [key], {});\n",
              "          if (!dataTable) return;\n",
              "\n",
              "          const docLinkHtml = 'Like what you see? Visit the ' +\n",
              "            '<a target=\"_blank\" href=https://colab.research.google.com/notebooks/data_table.ipynb>data table notebook</a>'\n",
              "            + ' to learn more about interactive tables.';\n",
              "          element.innerHTML = '';\n",
              "          dataTable['output_type'] = 'display_data';\n",
              "          await google.colab.output.renderOutput(dataTable, element);\n",
              "          const docLink = document.createElement('div');\n",
              "          docLink.innerHTML = docLinkHtml;\n",
              "          element.appendChild(docLink);\n",
              "        }\n",
              "      </script>\n",
              "    </div>\n",
              "  </div>\n",
              "  "
            ]
          },
          "metadata": {},
          "execution_count": 86
        }
      ]
    },
    {
      "cell_type": "code",
      "source": [
        "merged.interpolate()\n",
        "merged.isnull().sum()"
      ],
      "metadata": {
        "colab": {
          "base_uri": "https://localhost:8080/"
        },
        "id": "LtM2fxqNfQkc",
        "outputId": "edd93180-c17c-451b-99d0-303bafc5307f"
      },
      "execution_count": null,
      "outputs": [
        {
          "output_type": "execute_result",
          "data": {
            "text/plain": [
              "Geographic Area           0\n",
              "City                      0\n",
              "percent_completed_hs      0\n",
              "Median Income            51\n",
              "poverty_rate              0\n",
              "share_white               0\n",
              "share_black               0\n",
              "share_native_american     0\n",
              "share_asian               0\n",
              "share_hispanic            0\n",
              "Counts                    0\n",
              "dtype: int64"
            ]
          },
          "metadata": {},
          "execution_count": 87
        }
      ]
    },
    {
      "cell_type": "code",
      "source": [
        "merged.shape"
      ],
      "metadata": {
        "id": "avWdG9rGhr5g",
        "colab": {
          "base_uri": "https://localhost:8080/"
        },
        "outputId": "b5e25e0b-551b-4c99-a1ef-2823bda2f18f"
      },
      "execution_count": null,
      "outputs": [
        {
          "output_type": "execute_result",
          "data": {
            "text/plain": [
              "(29115, 11)"
            ]
          },
          "metadata": {},
          "execution_count": 88
        }
      ]
    },
    {
      "cell_type": "code",
      "source": [
        "merged.info"
      ],
      "metadata": {
        "id": "MRQ_FbPThvSd",
        "colab": {
          "base_uri": "https://localhost:8080/"
        },
        "outputId": "c3e62493-c88a-45c5-b5c9-c19475e31a02"
      },
      "execution_count": null,
      "outputs": [
        {
          "output_type": "execute_result",
          "data": {
            "text/plain": [
              "<bound method DataFrame.info of       Geographic Area                    City percent_completed_hs  \\\n",
              "0                  AL              Abanda CDP                 21.2   \n",
              "1                  AL          Abbeville city                 69.1   \n",
              "2                  AL         Adamsville city                 78.9   \n",
              "3                  AL            Addison town                 81.4   \n",
              "4                  AL              Akron town                 68.6   \n",
              "...               ...                     ...                  ...   \n",
              "29110              WY  Woods Landing-Jelm CDP                  100   \n",
              "29111              WY            Worland city                 85.6   \n",
              "29112              WY             Wright town                 89.2   \n",
              "29113              WY              Yoder town                 79.4   \n",
              "29114              WY           Y-O Ranch CDP                  100   \n",
              "\n",
              "      Median Income poverty_rate share_white share_black  \\\n",
              "0             11207         78.8        67.2        30.2   \n",
              "1             25615         29.1        54.4        41.4   \n",
              "2             42575         25.5        52.3        44.9   \n",
              "3             37083         30.7        99.1         0.1   \n",
              "4             21667           42        13.2        86.5   \n",
              "...             ...          ...         ...         ...   \n",
              "29110           NaN         18.6        95.9           0   \n",
              "29111         41523         15.3        89.9         0.3   \n",
              "29112         77114          5.9        94.5         0.1   \n",
              "29113         37500          5.4        97.4           0   \n",
              "29114           NaN            0        92.8         1.5   \n",
              "\n",
              "      share_native_american share_asian share_hispanic  Counts  \n",
              "0                         0           0            1.6     0.0  \n",
              "1                       0.1           1            3.1     0.0  \n",
              "2                       0.5         0.3            2.3     0.0  \n",
              "3                         0         0.1            0.4     0.0  \n",
              "4                         0           0            0.3     0.0  \n",
              "...                     ...         ...            ...     ...  \n",
              "29110                     0         2.1              0     0.0  \n",
              "29111                   1.3         0.6           16.6     0.0  \n",
              "29112                   1.4         0.2            6.2     0.0  \n",
              "29113                     0           0              4     0.0  \n",
              "29114                   2.6           0           11.8     0.0  \n",
              "\n",
              "[29115 rows x 11 columns]>"
            ]
          },
          "metadata": {},
          "execution_count": 89
        }
      ]
    },
    {
      "cell_type": "code",
      "source": [
        "merged.describe()"
      ],
      "metadata": {
        "colab": {
          "base_uri": "https://localhost:8080/",
          "height": 300
        },
        "id": "lhWez4YKdcxV",
        "outputId": "e49554c2-2fd4-41e2-fa1c-ae1aa4ecc52b"
      },
      "execution_count": null,
      "outputs": [
        {
          "output_type": "execute_result",
          "data": {
            "text/plain": [
              "             Counts\n",
              "count  29115.000000\n",
              "mean       0.062333\n",
              "std        0.499309\n",
              "min        0.000000\n",
              "25%        0.000000\n",
              "50%        0.000000\n",
              "75%        0.000000\n",
              "max       31.000000"
            ],
            "text/html": [
              "\n",
              "  <div id=\"df-9107031e-7fb8-491b-a57e-5dcbed607e81\">\n",
              "    <div class=\"colab-df-container\">\n",
              "      <div>\n",
              "<style scoped>\n",
              "    .dataframe tbody tr th:only-of-type {\n",
              "        vertical-align: middle;\n",
              "    }\n",
              "\n",
              "    .dataframe tbody tr th {\n",
              "        vertical-align: top;\n",
              "    }\n",
              "\n",
              "    .dataframe thead th {\n",
              "        text-align: right;\n",
              "    }\n",
              "</style>\n",
              "<table border=\"1\" class=\"dataframe\">\n",
              "  <thead>\n",
              "    <tr style=\"text-align: right;\">\n",
              "      <th></th>\n",
              "      <th>Counts</th>\n",
              "    </tr>\n",
              "  </thead>\n",
              "  <tbody>\n",
              "    <tr>\n",
              "      <th>count</th>\n",
              "      <td>29115.000000</td>\n",
              "    </tr>\n",
              "    <tr>\n",
              "      <th>mean</th>\n",
              "      <td>0.062333</td>\n",
              "    </tr>\n",
              "    <tr>\n",
              "      <th>std</th>\n",
              "      <td>0.499309</td>\n",
              "    </tr>\n",
              "    <tr>\n",
              "      <th>min</th>\n",
              "      <td>0.000000</td>\n",
              "    </tr>\n",
              "    <tr>\n",
              "      <th>25%</th>\n",
              "      <td>0.000000</td>\n",
              "    </tr>\n",
              "    <tr>\n",
              "      <th>50%</th>\n",
              "      <td>0.000000</td>\n",
              "    </tr>\n",
              "    <tr>\n",
              "      <th>75%</th>\n",
              "      <td>0.000000</td>\n",
              "    </tr>\n",
              "    <tr>\n",
              "      <th>max</th>\n",
              "      <td>31.000000</td>\n",
              "    </tr>\n",
              "  </tbody>\n",
              "</table>\n",
              "</div>\n",
              "      <button class=\"colab-df-convert\" onclick=\"convertToInteractive('df-9107031e-7fb8-491b-a57e-5dcbed607e81')\"\n",
              "              title=\"Convert this dataframe to an interactive table.\"\n",
              "              style=\"display:none;\">\n",
              "        \n",
              "  <svg xmlns=\"http://www.w3.org/2000/svg\" height=\"24px\"viewBox=\"0 0 24 24\"\n",
              "       width=\"24px\">\n",
              "    <path d=\"M0 0h24v24H0V0z\" fill=\"none\"/>\n",
              "    <path d=\"M18.56 5.44l.94 2.06.94-2.06 2.06-.94-2.06-.94-.94-2.06-.94 2.06-2.06.94zm-11 1L8.5 8.5l.94-2.06 2.06-.94-2.06-.94L8.5 2.5l-.94 2.06-2.06.94zm10 10l.94 2.06.94-2.06 2.06-.94-2.06-.94-.94-2.06-.94 2.06-2.06.94z\"/><path d=\"M17.41 7.96l-1.37-1.37c-.4-.4-.92-.59-1.43-.59-.52 0-1.04.2-1.43.59L10.3 9.45l-7.72 7.72c-.78.78-.78 2.05 0 2.83L4 21.41c.39.39.9.59 1.41.59.51 0 1.02-.2 1.41-.59l7.78-7.78 2.81-2.81c.8-.78.8-2.07 0-2.86zM5.41 20L4 18.59l7.72-7.72 1.47 1.35L5.41 20z\"/>\n",
              "  </svg>\n",
              "      </button>\n",
              "      \n",
              "  <style>\n",
              "    .colab-df-container {\n",
              "      display:flex;\n",
              "      flex-wrap:wrap;\n",
              "      gap: 12px;\n",
              "    }\n",
              "\n",
              "    .colab-df-convert {\n",
              "      background-color: #E8F0FE;\n",
              "      border: none;\n",
              "      border-radius: 50%;\n",
              "      cursor: pointer;\n",
              "      display: none;\n",
              "      fill: #1967D2;\n",
              "      height: 32px;\n",
              "      padding: 0 0 0 0;\n",
              "      width: 32px;\n",
              "    }\n",
              "\n",
              "    .colab-df-convert:hover {\n",
              "      background-color: #E2EBFA;\n",
              "      box-shadow: 0px 1px 2px rgba(60, 64, 67, 0.3), 0px 1px 3px 1px rgba(60, 64, 67, 0.15);\n",
              "      fill: #174EA6;\n",
              "    }\n",
              "\n",
              "    [theme=dark] .colab-df-convert {\n",
              "      background-color: #3B4455;\n",
              "      fill: #D2E3FC;\n",
              "    }\n",
              "\n",
              "    [theme=dark] .colab-df-convert:hover {\n",
              "      background-color: #434B5C;\n",
              "      box-shadow: 0px 1px 3px 1px rgba(0, 0, 0, 0.15);\n",
              "      filter: drop-shadow(0px 1px 2px rgba(0, 0, 0, 0.3));\n",
              "      fill: #FFFFFF;\n",
              "    }\n",
              "  </style>\n",
              "\n",
              "      <script>\n",
              "        const buttonEl =\n",
              "          document.querySelector('#df-9107031e-7fb8-491b-a57e-5dcbed607e81 button.colab-df-convert');\n",
              "        buttonEl.style.display =\n",
              "          google.colab.kernel.accessAllowed ? 'block' : 'none';\n",
              "\n",
              "        async function convertToInteractive(key) {\n",
              "          const element = document.querySelector('#df-9107031e-7fb8-491b-a57e-5dcbed607e81');\n",
              "          const dataTable =\n",
              "            await google.colab.kernel.invokeFunction('convertToInteractive',\n",
              "                                                     [key], {});\n",
              "          if (!dataTable) return;\n",
              "\n",
              "          const docLinkHtml = 'Like what you see? Visit the ' +\n",
              "            '<a target=\"_blank\" href=https://colab.research.google.com/notebooks/data_table.ipynb>data table notebook</a>'\n",
              "            + ' to learn more about interactive tables.';\n",
              "          element.innerHTML = '';\n",
              "          dataTable['output_type'] = 'display_data';\n",
              "          await google.colab.output.renderOutput(dataTable, element);\n",
              "          const docLink = document.createElement('div');\n",
              "          docLink.innerHTML = docLinkHtml;\n",
              "          element.appendChild(docLink);\n",
              "        }\n",
              "      </script>\n",
              "    </div>\n",
              "  </div>\n",
              "  "
            ]
          },
          "metadata": {},
          "execution_count": 90
        }
      ]
    },
    {
      "cell_type": "code",
      "source": [
        "merged.nunique()"
      ],
      "metadata": {
        "colab": {
          "base_uri": "https://localhost:8080/"
        },
        "id": "qzBG5QCYHq9I",
        "outputId": "0c43a22b-df8d-4053-b4c9-47308a39808b"
      },
      "execution_count": null,
      "outputs": [
        {
          "output_type": "execute_result",
          "data": {
            "text/plain": [
              "Geographic Area             51\n",
              "City                     24095\n",
              "percent_completed_hs       726\n",
              "Median Income            14516\n",
              "poverty_rate               768\n",
              "share_white                997\n",
              "share_black                926\n",
              "share_native_american      627\n",
              "share_asian                407\n",
              "share_hispanic             955\n",
              "Counts                      32\n",
              "dtype: int64"
            ]
          },
          "metadata": {},
          "execution_count": 91
        }
      ]
    },
    {
      "cell_type": "markdown",
      "source": [
        "Lets explore how the fatal police shootings vary based on the different geographic loactions. The merged dataset has 51 unique Geogrphic Areas. These include Washington DC in addition to the 50 states within the United States."
      ],
      "metadata": {
        "id": "r8TDGiZMZUtY"
      }
    },
    {
      "cell_type": "code",
      "source": [
        "merged['Geographic Area'].value_counts()"
      ],
      "metadata": {
        "colab": {
          "base_uri": "https://localhost:8080/"
        },
        "id": "29vJ1SD1mTHL",
        "outputId": "e7cd6802-a95b-44bb-df3f-1933d4143020"
      },
      "execution_count": null,
      "outputs": [
        {
          "output_type": "execute_result",
          "data": {
            "text/plain": [
              "PA    1759\n",
              "TX    1736\n",
              "CA    1509\n",
              "IL    1365\n",
              "OH    1187\n",
              "NY    1181\n",
              "MO    1028\n",
              "IA    1007\n",
              "FL     915\n",
              "MN     903\n",
              "WI     770\n",
              "NC     737\n",
              "OK     729\n",
              "MI     689\n",
              "IN     677\n",
              "KS     670\n",
              "WA     619\n",
              "GA     619\n",
              "VA     590\n",
              "NE     580\n",
              "AL     577\n",
              "NJ     543\n",
              "AR     537\n",
              "KY     523\n",
              "MD     517\n",
              "LA     473\n",
              "CO     456\n",
              "AZ     450\n",
              "NM     441\n",
              "TN     426\n",
              "ND     401\n",
              "WV     399\n",
              "SC     395\n",
              "SD     389\n",
              "OR     376\n",
              "MT     363\n",
              "MS     359\n",
              "AK     353\n",
              "UT     323\n",
              "MA     244\n",
              "ID     226\n",
              "WY     203\n",
              "HI     150\n",
              "CT     142\n",
              "NV     129\n",
              "ME     128\n",
              "VT     115\n",
              "NH      96\n",
              "DE      76\n",
              "RI      34\n",
              "DC       1\n",
              "Name: Geographic Area, dtype: int64"
            ]
          },
          "metadata": {},
          "execution_count": 92
        }
      ]
    },
    {
      "cell_type": "code",
      "source": [
        "plt.hist(merged['Geographic Area'], bins=merged.nunique()[0])"
      ],
      "metadata": {
        "colab": {
          "base_uri": "https://localhost:8080/",
          "height": 629
        },
        "id": "K5s6hwdvMvic",
        "outputId": "4dcf0b20-3679-44b1-e52a-f763344f6d4a"
      },
      "execution_count": null,
      "outputs": [
        {
          "output_type": "execute_result",
          "data": {
            "text/plain": [
              "(array([5.770e+02, 3.530e+02, 4.500e+02, 5.370e+02, 1.509e+03, 4.560e+02,\n",
              "        1.420e+02, 7.600e+01, 1.000e+00, 9.150e+02, 6.190e+02, 1.500e+02,\n",
              "        2.260e+02, 1.365e+03, 6.770e+02, 1.007e+03, 6.700e+02, 5.230e+02,\n",
              "        4.730e+02, 1.280e+02, 5.170e+02, 2.440e+02, 6.890e+02, 9.030e+02,\n",
              "        3.590e+02, 1.028e+03, 3.630e+02, 5.800e+02, 1.290e+02, 9.600e+01,\n",
              "        5.430e+02, 4.410e+02, 1.181e+03, 7.370e+02, 4.010e+02, 1.187e+03,\n",
              "        7.290e+02, 3.760e+02, 1.759e+03, 3.400e+01, 3.950e+02, 3.890e+02,\n",
              "        4.260e+02, 1.736e+03, 3.230e+02, 1.150e+02, 5.900e+02, 6.190e+02,\n",
              "        3.990e+02, 7.700e+02, 2.030e+02]),\n",
              " array([ 0.        ,  0.98039216,  1.96078431,  2.94117647,  3.92156863,\n",
              "         4.90196078,  5.88235294,  6.8627451 ,  7.84313725,  8.82352941,\n",
              "         9.80392157, 10.78431373, 11.76470588, 12.74509804, 13.7254902 ,\n",
              "        14.70588235, 15.68627451, 16.66666667, 17.64705882, 18.62745098,\n",
              "        19.60784314, 20.58823529, 21.56862745, 22.54901961, 23.52941176,\n",
              "        24.50980392, 25.49019608, 26.47058824, 27.45098039, 28.43137255,\n",
              "        29.41176471, 30.39215686, 31.37254902, 32.35294118, 33.33333333,\n",
              "        34.31372549, 35.29411765, 36.2745098 , 37.25490196, 38.23529412,\n",
              "        39.21568627, 40.19607843, 41.17647059, 42.15686275, 43.1372549 ,\n",
              "        44.11764706, 45.09803922, 46.07843137, 47.05882353, 48.03921569,\n",
              "        49.01960784, 50.        ]),\n",
              " <a list of 51 Patch objects>)"
            ]
          },
          "metadata": {},
          "execution_count": 93
        },
        {
          "output_type": "display_data",
          "data": {
            "text/plain": [
              "<Figure size 432x288 with 1 Axes>"
            ],
            "image/png": "[encoded data removed]"
          },
          "metadata": {
            "needs_background": "light"
          }
        }
      ]
    },
    {
      "cell_type": "markdown",
      "source": [
        "Next, we look at the cities in the dataset, to determine which city may be considered the most dangerous. There are 24095 cities. Franklin City has the highest count of all cities in our dataset, 16. The top 5 and the bottom five cities with the respect to the counts are shown.  "
      ],
      "metadata": {
        "id": "uSPRBGHiJ0WL"
      }
    },
    {
      "cell_type": "code",
      "source": [
        "merged['City'].value_counts()"
      ],
      "metadata": {
        "colab": {
          "base_uri": "https://localhost:8080/"
        },
        "id": "YFQH2NYpmtit",
        "outputId": "06537538-1fec-40c6-80b3-bca1e9274515"
      },
      "execution_count": null,
      "outputs": [
        {
          "output_type": "execute_result",
          "data": {
            "text/plain": [
              "Franklin city        16\n",
              "Madison city         14\n",
              "Salem city           14\n",
              "Marion city          14\n",
              "Clinton city         13\n",
              "                     ..\n",
              "Smiths Grove city     1\n",
              "Slaughters city       1\n",
              "Silver Grove city     1\n",
              "Shively city          1\n",
              "Y-O Ranch CDP         1\n",
              "Name: City, Length: 24095, dtype: int64"
            ]
          },
          "metadata": {},
          "execution_count": 94
        }
      ]
    },
    {
      "cell_type": "code",
      "source": [
        "test.dropna()\n",
        "test.interpolate()\n",
        "test.isnull().sum()"
      ],
      "metadata": {
        "colab": {
          "base_uri": "https://localhost:8080/"
        },
        "id": "S5vLz8SpAxMN",
        "outputId": "5add7356-8c48-40b8-fb6c-99c6d9fdf4b1"
      },
      "execution_count": null,
      "outputs": [
        {
          "output_type": "execute_result",
          "data": {
            "text/plain": [
              "id                           0\n",
              "name                         0\n",
              "date                         0\n",
              "manner_of_death              0\n",
              "armed                        3\n",
              "age                         40\n",
              "gender                       0\n",
              "race                       104\n",
              "city                         0\n",
              "state                        0\n",
              "signs_of_mental_illness      0\n",
              "threat_level                 0\n",
              "flee                        38\n",
              "body_camera                  0\n",
              "dtype: int64"
            ]
          },
          "metadata": {},
          "execution_count": 95
        }
      ]
    },
    {
      "cell_type": "code",
      "source": [
        "test.shape"
      ],
      "metadata": {
        "colab": {
          "base_uri": "https://localhost:8080/"
        },
        "id": "v_UXWnZaA6VD",
        "outputId": "13929b93-7ad8-4824-86a0-44de79fa6a08"
      },
      "execution_count": null,
      "outputs": [
        {
          "output_type": "execute_result",
          "data": {
            "text/plain": [
              "(507, 14)"
            ]
          },
          "metadata": {},
          "execution_count": 96
        }
      ]
    },
    {
      "cell_type": "code",
      "source": [
        "test.info"
      ],
      "metadata": {
        "colab": {
          "base_uri": "https://localhost:8080/"
        },
        "id": "1xXpVj8BA804",
        "outputId": "b342e716-366f-494a-81ae-68e999218f79"
      },
      "execution_count": null,
      "outputs": [
        {
          "output_type": "execute_result",
          "data": {
            "text/plain": [
              "<bound method DataFrame.info of        id                      name      date manner_of_death         armed  \\\n",
              "0    2261  Kevin Darnell Washington  25/01/17            shot           gun   \n",
              "1    2262    Donovan Paul Scheurich  25/01/17            shot           gun   \n",
              "2    2265         Josue Javier Diaz  26/01/17            shot           gun   \n",
              "3    2266          Kerry Lee Coomer  26/01/17            shot           gun   \n",
              "4    2267         Deaundre Phillips  26/01/17            shot  undetermined   \n",
              "..    ...                       ...       ...             ...           ...   \n",
              "502  2822          Rodney E. Jacobs  28/07/17            shot           gun   \n",
              "503  2813                     TK TK  28/07/17            shot       vehicle   \n",
              "504  2818        Dennis W. Robinson  29/07/17            shot           gun   \n",
              "505  2817             Isaiah Tucker  31/07/17            shot       vehicle   \n",
              "506  2815              Dwayne Jeune  31/07/17            shot         knife   \n",
              "\n",
              "      age gender race         city state  signs_of_mental_illness  \\\n",
              "0    54.0      M    B    Southaven    MS                    False   \n",
              "1    50.0      M    W     Millston    WI                     True   \n",
              "2    28.0      M    H    Charlotte    NC                    False   \n",
              "3    59.0      M    W      Overlea    MD                     True   \n",
              "4    24.0      M    B      Atlanta    GA                    False   \n",
              "..    ...    ...  ...          ...   ...                      ...   \n",
              "502  31.0      M  NaN  Kansas City    MO                    False   \n",
              "503   NaN      M  NaN  Albuquerque    NM                    False   \n",
              "504  48.0      M  NaN        Melba    ID                    False   \n",
              "505  28.0      M    B      Oshkosh    WI                    False   \n",
              "506  32.0      M    B     Brooklyn    NY                     True   \n",
              "\n",
              "    threat_level         flee  body_camera  \n",
              "0         attack  Not fleeing        False  \n",
              "1         attack  Not fleeing         True  \n",
              "2          other          Car        False  \n",
              "3         attack  Not fleeing         True  \n",
              "4          other          Car         True  \n",
              "..           ...          ...          ...  \n",
              "502       attack  Not fleeing        False  \n",
              "503       attack          Car        False  \n",
              "504       attack          Car        False  \n",
              "505       attack          Car         True  \n",
              "506       attack  Not fleeing        False  \n",
              "\n",
              "[507 rows x 14 columns]>"
            ]
          },
          "metadata": {},
          "execution_count": 97
        }
      ]
    },
    {
      "cell_type": "code",
      "source": [
        "test.describe()"
      ],
      "metadata": {
        "colab": {
          "base_uri": "https://localhost:8080/",
          "height": 300
        },
        "id": "A2bKGb_NBAYO",
        "outputId": "d9376785-1a4c-45b3-d4cd-495083a7c17b"
      },
      "execution_count": null,
      "outputs": [
        {
          "output_type": "execute_result",
          "data": {
            "text/plain": [
              "                id         age\n",
              "count   507.000000  467.000000\n",
              "mean   2546.043393   36.710921\n",
              "std     160.218323   13.643371\n",
              "min    2261.000000   15.000000\n",
              "25%    2408.500000   26.000000\n",
              "50%    2550.000000   34.000000\n",
              "75%    2682.000000   46.000000\n",
              "max    2822.000000   91.000000"
            ],
            "text/html": [
              "\n",
              "  <div id=\"df-05dc3098-aaf2-4342-9bd4-bfc78bf2a1e9\">\n",
              "    <div class=\"colab-df-container\">\n",
              "      <div>\n",
              "<style scoped>\n",
              "    .dataframe tbody tr th:only-of-type {\n",
              "        vertical-align: middle;\n",
              "    }\n",
              "\n",
              "    .dataframe tbody tr th {\n",
              "        vertical-align: top;\n",
              "    }\n",
              "\n",
              "    .dataframe thead th {\n",
              "        text-align: right;\n",
              "    }\n",
              "</style>\n",
              "<table border=\"1\" class=\"dataframe\">\n",
              "  <thead>\n",
              "    <tr style=\"text-align: right;\">\n",
              "      <th></th>\n",
              "      <th>id</th>\n",
              "      <th>age</th>\n",
              "    </tr>\n",
              "  </thead>\n",
              "  <tbody>\n",
              "    <tr>\n",
              "      <th>count</th>\n",
              "      <td>507.000000</td>\n",
              "      <td>467.000000</td>\n",
              "    </tr>\n",
              "    <tr>\n",
              "      <th>mean</th>\n",
              "      <td>2546.043393</td>\n",
              "      <td>36.710921</td>\n",
              "    </tr>\n",
              "    <tr>\n",
              "      <th>std</th>\n",
              "      <td>160.218323</td>\n",
              "      <td>13.643371</td>\n",
              "    </tr>\n",
              "    <tr>\n",
              "      <th>min</th>\n",
              "      <td>2261.000000</td>\n",
              "      <td>15.000000</td>\n",
              "    </tr>\n",
              "    <tr>\n",
              "      <th>25%</th>\n",
              "      <td>2408.500000</td>\n",
              "      <td>26.000000</td>\n",
              "    </tr>\n",
              "    <tr>\n",
              "      <th>50%</th>\n",
              "      <td>2550.000000</td>\n",
              "      <td>34.000000</td>\n",
              "    </tr>\n",
              "    <tr>\n",
              "      <th>75%</th>\n",
              "      <td>2682.000000</td>\n",
              "      <td>46.000000</td>\n",
              "    </tr>\n",
              "    <tr>\n",
              "      <th>max</th>\n",
              "      <td>2822.000000</td>\n",
              "      <td>91.000000</td>\n",
              "    </tr>\n",
              "  </tbody>\n",
              "</table>\n",
              "</div>\n",
              "      <button class=\"colab-df-convert\" onclick=\"convertToInteractive('df-05dc3098-aaf2-4342-9bd4-bfc78bf2a1e9')\"\n",
              "              title=\"Convert this dataframe to an interactive table.\"\n",
              "              style=\"display:none;\">\n",
              "        \n",
              "  <svg xmlns=\"http://www.w3.org/2000/svg\" height=\"24px\"viewBox=\"0 0 24 24\"\n",
              "       width=\"24px\">\n",
              "    <path d=\"M0 0h24v24H0V0z\" fill=\"none\"/>\n",
              "    <path d=\"M18.56 5.44l.94 2.06.94-2.06 2.06-.94-2.06-.94-.94-2.06-.94 2.06-2.06.94zm-11 1L8.5 8.5l.94-2.06 2.06-.94-2.06-.94L8.5 2.5l-.94 2.06-2.06.94zm10 10l.94 2.06.94-2.06 2.06-.94-2.06-.94-.94-2.06-.94 2.06-2.06.94z\"/><path d=\"M17.41 7.96l-1.37-1.37c-.4-.4-.92-.59-1.43-.59-.52 0-1.04.2-1.43.59L10.3 9.45l-7.72 7.72c-.78.78-.78 2.05 0 2.83L4 21.41c.39.39.9.59 1.41.59.51 0 1.02-.2 1.41-.59l7.78-7.78 2.81-2.81c.8-.78.8-2.07 0-2.86zM5.41 20L4 18.59l7.72-7.72 1.47 1.35L5.41 20z\"/>\n",
              "  </svg>\n",
              "      </button>\n",
              "      \n",
              "  <style>\n",
              "    .colab-df-container {\n",
              "      display:flex;\n",
              "      flex-wrap:wrap;\n",
              "      gap: 12px;\n",
              "    }\n",
              "\n",
              "    .colab-df-convert {\n",
              "      background-color: #E8F0FE;\n",
              "      border: none;\n",
              "      border-radius: 50%;\n",
              "      cursor: pointer;\n",
              "      display: none;\n",
              "      fill: #1967D2;\n",
              "      height: 32px;\n",
              "      padding: 0 0 0 0;\n",
              "      width: 32px;\n",
              "    }\n",
              "\n",
              "    .colab-df-convert:hover {\n",
              "      background-color: #E2EBFA;\n",
              "      box-shadow: 0px 1px 2px rgba(60, 64, 67, 0.3), 0px 1px 3px 1px rgba(60, 64, 67, 0.15);\n",
              "      fill: #174EA6;\n",
              "    }\n",
              "\n",
              "    [theme=dark] .colab-df-convert {\n",
              "      background-color: #3B4455;\n",
              "      fill: #D2E3FC;\n",
              "    }\n",
              "\n",
              "    [theme=dark] .colab-df-convert:hover {\n",
              "      background-color: #434B5C;\n",
              "      box-shadow: 0px 1px 3px 1px rgba(0, 0, 0, 0.15);\n",
              "      filter: drop-shadow(0px 1px 2px rgba(0, 0, 0, 0.3));\n",
              "      fill: #FFFFFF;\n",
              "    }\n",
              "  </style>\n",
              "\n",
              "      <script>\n",
              "        const buttonEl =\n",
              "          document.querySelector('#df-05dc3098-aaf2-4342-9bd4-bfc78bf2a1e9 button.colab-df-convert');\n",
              "        buttonEl.style.display =\n",
              "          google.colab.kernel.accessAllowed ? 'block' : 'none';\n",
              "\n",
              "        async function convertToInteractive(key) {\n",
              "          const element = document.querySelector('#df-05dc3098-aaf2-4342-9bd4-bfc78bf2a1e9');\n",
              "          const dataTable =\n",
              "            await google.colab.kernel.invokeFunction('convertToInteractive',\n",
              "                                                     [key], {});\n",
              "          if (!dataTable) return;\n",
              "\n",
              "          const docLinkHtml = 'Like what you see? Visit the ' +\n",
              "            '<a target=\"_blank\" href=https://colab.research.google.com/notebooks/data_table.ipynb>data table notebook</a>'\n",
              "            + ' to learn more about interactive tables.';\n",
              "          element.innerHTML = '';\n",
              "          dataTable['output_type'] = 'display_data';\n",
              "          await google.colab.output.renderOutput(dataTable, element);\n",
              "          const docLink = document.createElement('div');\n",
              "          docLink.innerHTML = docLinkHtml;\n",
              "          element.appendChild(docLink);\n",
              "        }\n",
              "      </script>\n",
              "    </div>\n",
              "  </div>\n",
              "  "
            ]
          },
          "metadata": {},
          "execution_count": 98
        }
      ]
    },
    {
      "cell_type": "code",
      "source": [
        "test.nunique()"
      ],
      "metadata": {
        "colab": {
          "base_uri": "https://localhost:8080/"
        },
        "id": "b9UturfuLSMb",
        "outputId": "727d03a9-d54e-4e1e-e18d-7c4441e835bd"
      },
      "execution_count": null,
      "outputs": [
        {
          "output_type": "execute_result",
          "data": {
            "text/plain": [
              "id                         507\n",
              "name                       471\n",
              "date                       175\n",
              "manner_of_death              2\n",
              "armed                       27\n",
              "age                         60\n",
              "gender                       2\n",
              "race                         5\n",
              "city                       388\n",
              "state                       47\n",
              "signs_of_mental_illness      2\n",
              "threat_level                 3\n",
              "flee                         4\n",
              "body_camera                  2\n",
              "dtype: int64"
            ]
          },
          "metadata": {},
          "execution_count": 99
        }
      ]
    },
    {
      "cell_type": "markdown",
      "source": [
        "In the test data, a gun is the most common way of being armed. The counts of other weapons used is given below."
      ],
      "metadata": {
        "id": "LUueB7xZMJJo"
      }
    },
    {
      "cell_type": "code",
      "source": [
        "test['armed'].value_counts()"
      ],
      "metadata": {
        "colab": {
          "base_uri": "https://localhost:8080/"
        },
        "id": "6niHR4BLL6NX",
        "outputId": "92e9e3c0-686d-41d7-c5bd-219d5be05579"
      },
      "execution_count": null,
      "outputs": [
        {
          "output_type": "execute_result",
          "data": {
            "text/plain": [
              "gun                        284\n",
              "knife                       69\n",
              "vehicle                     52\n",
              "undetermined                26\n",
              "unarmed                     23\n",
              "toy weapon                  17\n",
              "unknown weapon               6\n",
              "ax                           3\n",
              "Taser                        3\n",
              "crossbow                     2\n",
              "machete                      2\n",
              "blunt object                 2\n",
              "metal stick                  1\n",
              "piece of wood                1\n",
              "pipe                         1\n",
              "metal object                 1\n",
              "sharp object                 1\n",
              "baseball bat and bottle      1\n",
              "beer bottle                  1\n",
              "hatchet and gun              1\n",
              "gun and knife                1\n",
              "metal pipe                   1\n",
              "rock                         1\n",
              "fireworks                    1\n",
              "pen                          1\n",
              "screwdriver                  1\n",
              "baseball bat                 1\n",
              "Name: armed, dtype: int64"
            ]
          },
          "metadata": {},
          "execution_count": 100
        }
      ]
    },
    {
      "cell_type": "markdown",
      "source": [
        "With the available data, we can also explore the age and race statistics in the dataset"
      ],
      "metadata": {
        "id": "uOPmRDdwOE3h"
      }
    },
    {
      "cell_type": "code",
      "source": [
        "plt.hist(test['age'])"
      ],
      "metadata": {
        "colab": {
          "base_uri": "https://localhost:8080/",
          "height": 317
        },
        "id": "RDjRbFXuMgY5",
        "outputId": "2c0fcaa8-0771-46c8-82a4-183dfdeade30"
      },
      "execution_count": null,
      "outputs": [
        {
          "output_type": "execute_result",
          "data": {
            "text/plain": [
              "(array([ 55., 124., 106.,  62.,  49.,  44.,  18.,   6.,   2.,   1.]),\n",
              " array([15. , 22.6, 30.2, 37.8, 45.4, 53. , 60.6, 68.2, 75.8, 83.4, 91. ]),\n",
              " <a list of 10 Patch objects>)"
            ]
          },
          "metadata": {},
          "execution_count": 101
        },
        {
          "output_type": "display_data",
          "data": {
            "text/plain": [
              "<Figure size 432x288 with 1 Axes>"
            ],
            "image/png": "[encoded data removed]"
          },
          "metadata": {
            "needs_background": "light"
          }
        }
      ]
    },
    {
      "cell_type": "markdown",
      "source": [
        "We see that the age distribution of the victims is unimodal, with most victims being aged between 20 to 30. Let'see how the distrubution compares to the age distributions of different races.\n",
        "\n"
      ],
      "metadata": {
        "id": "Cxkz0GgDMcDF"
      }
    },
    {
      "cell_type": "code",
      "source": [
        "test['race']"
      ],
      "metadata": {
        "colab": {
          "base_uri": "https://localhost:8080/"
        },
        "id": "x9yvV7jm_z-8",
        "outputId": "356ee36a-dc7e-40fe-ad4f-c58f7c6f1ece"
      },
      "execution_count": null,
      "outputs": [
        {
          "output_type": "execute_result",
          "data": {
            "text/plain": [
              "0        B\n",
              "1        W\n",
              "2        H\n",
              "3        W\n",
              "4        B\n",
              "      ... \n",
              "502    NaN\n",
              "503    NaN\n",
              "504    NaN\n",
              "505      B\n",
              "506      B\n",
              "Name: race, Length: 507, dtype: object"
            ]
          },
          "metadata": {},
          "execution_count": 102
        }
      ]
    },
    {
      "cell_type": "code",
      "source": [
        "test['race'].value_counts()"
      ],
      "metadata": {
        "colab": {
          "base_uri": "https://localhost:8080/"
        },
        "id": "D2ZQe_tRDMpg",
        "outputId": "6d954487-8dfd-4961-92d1-7df12015ae01"
      },
      "execution_count": null,
      "outputs": [
        {
          "output_type": "execute_result",
          "data": {
            "text/plain": [
              "W    205\n",
              "B    111\n",
              "H     75\n",
              "A      8\n",
              "N      4\n",
              "Name: race, dtype: int64"
            ]
          },
          "metadata": {},
          "execution_count": 103
        }
      ]
    },
    {
      "cell_type": "code",
      "source": [
        "plt.hist(test[test['race'] == 'W']['age'])"
      ],
      "metadata": {
        "colab": {
          "base_uri": "https://localhost:8080/",
          "height": 317
        },
        "id": "ZoWXo2mLDZ98",
        "outputId": "c14674bb-447c-4237-c16b-241fc6b3cc5a"
      },
      "execution_count": null,
      "outputs": [
        {
          "output_type": "execute_result",
          "data": {
            "text/plain": [
              "(array([10., 43., 45., 28., 27., 28., 13.,  4.,  2.,  1.]),\n",
              " array([15. , 22.6, 30.2, 37.8, 45.4, 53. , 60.6, 68.2, 75.8, 83.4, 91. ]),\n",
              " <a list of 10 Patch objects>)"
            ]
          },
          "metadata": {},
          "execution_count": 104
        },
        {
          "output_type": "display_data",
          "data": {
            "text/plain": [
              "<Figure size 432x288 with 1 Axes>"
            ],
            "image/png": "[encoded data removed]"
          },
          "metadata": {
            "needs_background": "light"
          }
        }
      ]
    },
    {
      "cell_type": "code",
      "source": [
        "plt.hist(test[test['race'] == 'B']['age'])"
      ],
      "metadata": {
        "colab": {
          "base_uri": "https://localhost:8080/",
          "height": 317
        },
        "id": "r4IkOFKODWX3",
        "outputId": "4ab187f4-339d-48e1-94b6-1f2c4fa46cec"
      },
      "execution_count": null,
      "outputs": [
        {
          "output_type": "execute_result",
          "data": {
            "text/plain": [
              "(array([15., 23., 19., 20., 13.,  5.,  9.,  3.,  0.,  2.]),\n",
              " array([15. , 20.3, 25.6, 30.9, 36.2, 41.5, 46.8, 52.1, 57.4, 62.7, 68. ]),\n",
              " <a list of 10 Patch objects>)"
            ]
          },
          "metadata": {},
          "execution_count": 105
        },
        {
          "output_type": "display_data",
          "data": {
            "text/plain": [
              "<Figure size 432x288 with 1 Axes>"
            ],
            "image/png": "[encoded data removed]"
          },
          "metadata": {
            "needs_background": "light"
          }
        }
      ]
    },
    {
      "cell_type": "code",
      "source": [
        "plt.hist(test[test['race'] == 'H']['age'])"
      ],
      "metadata": {
        "colab": {
          "base_uri": "https://localhost:8080/",
          "height": 317
        },
        "id": "oIodMeNlEFiG",
        "outputId": "9a3a372a-e082-410e-8c0e-c741c4742b58"
      },
      "execution_count": null,
      "outputs": [
        {
          "output_type": "execute_result",
          "data": {
            "text/plain": [
              "(array([14., 18.,  7., 12.,  4.,  8.,  2.,  4.,  1.,  1.]),\n",
              " array([16. , 21.4, 26.8, 32.2, 37.6, 43. , 48.4, 53.8, 59.2, 64.6, 70. ]),\n",
              " <a list of 10 Patch objects>)"
            ]
          },
          "metadata": {},
          "execution_count": 106
        },
        {
          "output_type": "display_data",
          "data": {
            "text/plain": [
              "<Figure size 432x288 with 1 Axes>"
            ],
            "image/png": "[encoded data removed]"
          },
          "metadata": {
            "needs_background": "light"
          }
        }
      ]
    },
    {
      "cell_type": "code",
      "source": [
        "plt.hist(test[test['race'] == 'A']['age'])"
      ],
      "metadata": {
        "colab": {
          "base_uri": "https://localhost:8080/",
          "height": 317
        },
        "id": "MEs1FyaYEI5j",
        "outputId": "ae9c8833-e123-42a5-e897-01fa5d9b3a42"
      },
      "execution_count": null,
      "outputs": [
        {
          "output_type": "execute_result",
          "data": {
            "text/plain": [
              "(array([2., 0., 0., 0., 1., 2., 0., 0., 1., 2.]),\n",
              " array([18. , 20.7, 23.4, 26.1, 28.8, 31.5, 34.2, 36.9, 39.6, 42.3, 45. ]),\n",
              " <a list of 10 Patch objects>)"
            ]
          },
          "metadata": {},
          "execution_count": 107
        },
        {
          "output_type": "display_data",
          "data": {
            "text/plain": [
              "<Figure size 432x288 with 1 Axes>"
            ],
            "image/png": "[encoded data removed]"
          },
          "metadata": {
            "needs_background": "light"
          }
        }
      ]
    },
    {
      "cell_type": "code",
      "source": [
        "plt.hist(test[test['race'] == 'N']['age'])"
      ],
      "metadata": {
        "colab": {
          "base_uri": "https://localhost:8080/",
          "height": 317
        },
        "id": "4PFc8ZQrEK0T",
        "outputId": "1831b46e-39a6-408e-d2f2-5c51fa9df196"
      },
      "execution_count": null,
      "outputs": [
        {
          "output_type": "execute_result",
          "data": {
            "text/plain": [
              "(array([1., 0., 1., 1., 0., 0., 0., 0., 0., 1.]),\n",
              " array([21. , 22.3, 23.6, 24.9, 26.2, 27.5, 28.8, 30.1, 31.4, 32.7, 34. ]),\n",
              " <a list of 10 Patch objects>)"
            ]
          },
          "metadata": {},
          "execution_count": 108
        },
        {
          "output_type": "display_data",
          "data": {
            "text/plain": [
              "<Figure size 432x288 with 1 Axes>"
            ],
            "image/png": "[encoded data removed]"
          },
          "metadata": {
            "needs_background": "light"
          }
        }
      ]
    },
    {
      "cell_type": "markdown",
      "source": [
        "Total number of people killer per race"
      ],
      "metadata": {
        "id": "TAlQaiwIEkaD"
      }
    },
    {
      "cell_type": "code",
      "source": [
        "test['race'].value_counts()"
      ],
      "metadata": {
        "colab": {
          "base_uri": "https://localhost:8080/"
        },
        "id": "xrE0jeKWEj0F",
        "outputId": "ac80f790-fed4-425c-cc9d-778c6e89466e"
      },
      "execution_count": null,
      "outputs": [
        {
          "output_type": "execute_result",
          "data": {
            "text/plain": [
              "W    205\n",
              "B    111\n",
              "H     75\n",
              "A      8\n",
              "N      4\n",
              "Name: race, dtype: int64"
            ]
          },
          "metadata": {},
          "execution_count": 109
        }
      ]
    },
    {
      "cell_type": "code",
      "source": [
        "plt.pie(test['race'].value_counts(), labels=test['race'].value_counts().keys(), autopct='%1.1f%%')"
      ],
      "metadata": {
        "colab": {
          "base_uri": "https://localhost:8080/",
          "height": 508
        },
        "id": "NCRR_YuhE37Q",
        "outputId": "7201c6be-6842-4a1b-f41a-da0a594093c7"
      },
      "execution_count": null,
      "outputs": [
        {
          "output_type": "execute_result",
          "data": {
            "text/plain": [
              "([<matplotlib.patches.Wedge at 0x7ff3f2c25c90>,\n",
              "  <matplotlib.patches.Wedge at 0x7ff3f2c30510>,\n",
              "  <matplotlib.patches.Wedge at 0x7ff3f2c30d90>,\n",
              "  <matplotlib.patches.Wedge at 0x7ff3f2c3a6d0>,\n",
              "  <matplotlib.patches.Wedge at 0x7ff3f2c45250>],\n",
              " [Text(-0.030009044922820107, 1.0995905861832487, 'W'),\n",
              "  Text(-0.6665151466238542, -0.8750757449049666, 'B'),\n",
              "  Text(0.7883559757982855, -0.7671341834536728, 'H'),\n",
              "  Text(1.0914546861869985, -0.13684541643928316, 'A'),\n",
              "  Text(1.0994652726450713, -0.03429452212087152, 'N')],\n",
              " [Text(-0.016368569957901875, 0.599776683372681, '50.9%'),\n",
              "  Text(-0.3635537163402841, -0.4773140426754363, '27.5%'),\n",
              "  Text(0.4300123504354284, -0.4184368273383669, '18.6%'),\n",
              "  Text(0.5953389197383627, -0.07464295442142717, '2.0%'),\n",
              "  Text(0.5997083305336752, -0.018706102975020827, '1.0%')])"
            ]
          },
          "metadata": {},
          "execution_count": 118
        },
        {
          "output_type": "display_data",
          "data": {
            "text/plain": [
              "<Figure size 432x288 with 1 Axes>"
            ],
            "image/png": "[encoded data removed]"
          },
          "metadata": {}
        }
      ]
    },
    {
      "cell_type": "markdown",
      "source": [
        "We see that the race of the majority of the victims is white (50.9%), and the age distribution of the victims of this race is similar to the age distribution of all races combined. Victims of the black race account for 27.5% of the victims in this dataset. The age distribution for this race is also similar, but it has a smaller range. The majority of the victims in this race are also aged between 20 and 30. As we look at the races that remain, a similar pattern is observed."
      ],
      "metadata": {
        "id": "_to05rGWVcIe"
      }
    },
    {
      "cell_type": "markdown",
      "source": [
        "## Modeling and Question Answering"
      ],
      "metadata": {
        "id": "j7HRFKcHKn2x"
      }
    }
  ],
  "metadata": {
    "interpreter": {
      "hash": "e4486cc46800a3a36dbbddfd8b12a33d5293b2126d0bd638d95bed74d24a9d28"
    },
    "kernelspec": {
      "display_name": "Python 3.8.13 ('base')",
      "language": "python",
      "name": "python3"
    },
    "language_info": {
      "codemirror_mode": {
        "name": "ipython",
        "version": 3
      },
      "file_extension": ".py",
      "mimetype": "text/x-python",
      "name": "python",
      "nbconvert_exporter": "python",
      "pygments_lexer": "ipython3",
      "version": "3.8.13"
    },
    "orig_nbformat": 4,
    "colab": {
      "name": "analysis.ipynb",
      "provenance": []
    }
  },
  "nbformat": 4,
  "nbformat_minor": 0
}