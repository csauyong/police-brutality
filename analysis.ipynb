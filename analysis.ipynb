{
 "cells": [
  {
   "cell_type": "markdown",
   "metadata": {},
   "source": [
    "# Use of Fatal Force by the US Police"
   ]
  },
  {
   "cell_type": "markdown",
   "metadata": {},
   "source": [
    "In the United States, use of deadly force by police has been a high-profile and contentious\n",
    "issue. 1000 people are shot and killed by US cops each year. The ever-growing argument is\n",
    "that the US has a flawed Law Enforcement system that costs too many innocent civilians their\n",
    "lives. In this project, we will analyze one of America’s hottest political topics, which\n",
    "encompasses issues ranging from institutional racism to the role of Law Enforcement personnel\n",
    "in society."
   ]
  },
  {
   "cell_type": "code",
   "execution_count": null,
   "metadata": {
    "vscode": {
     "languageId": "plaintext"
    }
   },
   "outputs": [],
   "source": [
    "import pandas as pd \n",
    "import matplotlib.pyplot as plt \n",
    "import numpy as np "
   ]
  },
  {
   "cell_type": "markdown",
   "metadata": {},
   "source": [
    "## Exploratory Data Analysis"
   ]
  },
  {
   "cell_type": "code",
   "execution_count": null,
   "metadata": {
    "vscode": {
     "languageId": "plaintext"
    }
   },
   "outputs": [],
   "source": [
    "education = pd.read_csv('data\\education.csv')\n",
    "income = pd.read_csv('data\\income.csv')\n",
    "poverty = pd.read_csv('data\\poverty.csv')\n",
    "race = pd.read_csv('data\\share_race_by_city.csv')\n",
    "test = pd.read_csv('data\\police_killing_test.csv')\n",
    "train = pd.read_csv('data\\police_killing_train.csv')"
   ]
  },
  {
   "cell_type": "markdown",
   "metadata": {},
   "source": []
  }
 ],
 "metadata": {
  "language_info": {
   "name": "python"
  },
  "orig_nbformat": 4
 },
 "nbformat": 4,
 "nbformat_minor": 2
}
