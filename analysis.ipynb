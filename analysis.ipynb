{
  "cells": [
    {
      "cell_type": "markdown",
      "metadata": {
        "id": "sNzeaFnku45Y"
      },
      "source": [
        "# Use of Fatal Force by the US Police"
      ]
    },
    {
      "cell_type": "markdown",
      "metadata": {
        "id": "tbWeRqf1u45d"
      },
      "source": [
        "In the United States, use of deadly force by police has been a high-profile and contentious issue. 1000 people are shot and killed by US cops each year. The ever-growing argument is that the US has a flawed Law Enforcement system that costs too many innocent civilians their lives. In this project, we will analyze one of America’s hottest political topics, which encompasses issues ranging from institutional racism to the role of Law Enforcement personnel in society.\n",
        "\n",
        "We will use 5 data sets in this study. Four of them describes demographics of cities in the US (city data sets) while the remaining one records the fatal incidents (police data set)."
      ]
    },
    {
      "cell_type": "code",
      "execution_count": 15,
      "metadata": {
        "id": "qFLcOpyvu45e"
      },
      "outputs": [],
      "source": [
        "import pandas as pd \n",
        "import matplotlib.pyplot as plt \n",
        "import numpy as np\n",
        "import seaborn as sns\n",
        "import pickle\n",
        "\n",
        "from sklearn.tree import plot_tree, DecisionTreeClassifier\n",
        "from sklearn.linear_model import LinearRegression, LogisticRegression, LogisticRegressionCV\n",
        "from sklearn.ensemble import RandomForestClassifier\n",
        "from sklearn.model_selection import train_test_split\n",
        "from sklearn.preprocessing import MinMaxScaler\n",
        "from sklearn.metrics import mean_squared_error, mean_absolute_error\n",
        "\n",
        "import tensorflow as tf\n",
        "from tensorflow.python.keras.layers import Dense\n",
        "from tensorflow.python.keras.models import Sequential"
      ]
    },
    {
      "cell_type": "markdown",
      "metadata": {
        "id": "UVkAcI_Gu45f"
      },
      "source": [
        "## Data Preprocessing"
      ]
    },
    {
      "cell_type": "code",
      "execution_count": 168,
      "metadata": {
        "id": "i7w2JHEeu45g"
      },
      "outputs": [],
      "source": [
        "education = pd.read_csv('data/education.csv', encoding = \"ISO-8859-1\")\n",
        "income = pd.read_csv('data/income.csv', encoding = \"ISO-8859-1\")\n",
        "poverty = pd.read_csv('data/poverty.csv', encoding = \"ISO-8859-1\")\n",
        "race = pd.read_csv('data/share_race_by_city.csv', encoding = \"ISO-8859-1\")\n",
        "test = pd.read_csv('data/police_killings_test.csv', encoding = \"ISO-8859-1\")\n",
        "train = pd.read_csv('data/police_killings_train.csv', encoding = \"ISO-8859-1\")"
      ]
    },
    {
      "cell_type": "markdown",
      "metadata": {
        "id": "VKnNHHkqu45g"
      },
      "source": [
        "We first inspect and clean null data."
      ]
    },
    {
      "cell_type": "code",
      "execution_count": 169,
      "metadata": {
        "id": "YT3f6xNeu45h",
        "outputId": "2e07b853-53ed-43a4-9e44-cfa4061cc742",
        "colab": {
          "base_uri": "https://localhost:8080/"
        }
      },
      "outputs": [
        {
          "output_type": "execute_result",
          "data": {
            "text/plain": [
              "id                          0\n",
              "name                        0\n",
              "date                        0\n",
              "manner_of_death             0\n",
              "armed                       6\n",
              "age                        37\n",
              "gender                      0\n",
              "race                       91\n",
              "city                        0\n",
              "state                       0\n",
              "signs_of_mental_illness     0\n",
              "threat_level                0\n",
              "flee                       27\n",
              "body_camera                 0\n",
              "dtype: int64"
            ]
          },
          "metadata": {},
          "execution_count": 169
        }
      ],
      "source": [
        "train.isnull().sum()"
      ]
    },
    {
      "cell_type": "code",
      "execution_count": 170,
      "metadata": {
        "id": "_-pYAeFlu45h"
      },
      "outputs": [],
      "source": [
        "def clean_dataset(df):\n",
        "    assert isinstance(df, pd.DataFrame)\n",
        "    df.dropna(inplace=True)\n",
        "    indices_to_keep = ~df.isin([np.nan, np.inf, -np.inf]).any(1)\n",
        "    return df[indices_to_keep]"
      ]
    },
    {
      "cell_type": "code",
      "execution_count": 171,
      "metadata": {
        "id": "-ye7rz1Iu45i"
      },
      "outputs": [],
      "source": [
        "train = clean_dataset(train)\n",
        "test = clean_dataset(test)"
      ]
    },
    {
      "cell_type": "markdown",
      "metadata": {
        "id": "PZCdmOv3u45i"
      },
      "source": [
        "### Merging Counts to City Data Sets\n",
        "\n",
        "By merging the count of fatal incident grouped by city to the city data sets, we can perform linear regression using demographics as independent variables and count as a depedent variable.\n",
        "\n",
        "There is a discrepancy between the encoding of names between the police data set and city data sets. For example, the former refer LA in California as Los Angeles while the latter uses Los Angeles city.\n",
        "\n",
        "We also observe that the police data set provide less information because it only has Chicago as a city, while the city data sets have Chicago city, Chicago Heights city and Chicago Ridge village. Assuming that cities bearing similar name should be geographically and demographically close to each other, we shall evenly distribute the number of fatal incidents between them."
      ]
    },
    {
      "cell_type": "code",
      "execution_count": 172,
      "metadata": {
        "id": "GLTofeoAu45j",
        "outputId": "88468718-3fc2-46a7-cb9a-60f7b14b8973",
        "colab": {
          "base_uri": "https://localhost:8080/",
          "height": 206
        }
      },
      "outputs": [
        {
          "output_type": "execute_result",
          "data": {
            "text/plain": [
              "          City Geographic Area  Counts\n",
              "0  Los Angeles              CA      35\n",
              "1      Phoenix              AZ      28\n",
              "2      Houston              TX      23\n",
              "3      Chicago              IL      22\n",
              "4    Las Vegas              NV      17"
            ],
            "text/html": [
              "\n",
              "  <div id=\"df-7a19e8ce-c25f-4b0d-949c-27bb12b7c171\">\n",
              "    <div class=\"colab-df-container\">\n",
              "      <div>\n",
              "<style scoped>\n",
              "    .dataframe tbody tr th:only-of-type {\n",
              "        vertical-align: middle;\n",
              "    }\n",
              "\n",
              "    .dataframe tbody tr th {\n",
              "        vertical-align: top;\n",
              "    }\n",
              "\n",
              "    .dataframe thead th {\n",
              "        text-align: right;\n",
              "    }\n",
              "</style>\n",
              "<table border=\"1\" class=\"dataframe\">\n",
              "  <thead>\n",
              "    <tr style=\"text-align: right;\">\n",
              "      <th></th>\n",
              "      <th>City</th>\n",
              "      <th>Geographic Area</th>\n",
              "      <th>Counts</th>\n",
              "    </tr>\n",
              "  </thead>\n",
              "  <tbody>\n",
              "    <tr>\n",
              "      <th>0</th>\n",
              "      <td>Los Angeles</td>\n",
              "      <td>CA</td>\n",
              "      <td>35</td>\n",
              "    </tr>\n",
              "    <tr>\n",
              "      <th>1</th>\n",
              "      <td>Phoenix</td>\n",
              "      <td>AZ</td>\n",
              "      <td>28</td>\n",
              "    </tr>\n",
              "    <tr>\n",
              "      <th>2</th>\n",
              "      <td>Houston</td>\n",
              "      <td>TX</td>\n",
              "      <td>23</td>\n",
              "    </tr>\n",
              "    <tr>\n",
              "      <th>3</th>\n",
              "      <td>Chicago</td>\n",
              "      <td>IL</td>\n",
              "      <td>22</td>\n",
              "    </tr>\n",
              "    <tr>\n",
              "      <th>4</th>\n",
              "      <td>Las Vegas</td>\n",
              "      <td>NV</td>\n",
              "      <td>17</td>\n",
              "    </tr>\n",
              "  </tbody>\n",
              "</table>\n",
              "</div>\n",
              "      <button class=\"colab-df-convert\" onclick=\"convertToInteractive('df-7a19e8ce-c25f-4b0d-949c-27bb12b7c171')\"\n",
              "              title=\"Convert this dataframe to an interactive table.\"\n",
              "              style=\"display:none;\">\n",
              "        \n",
              "  <svg xmlns=\"http://www.w3.org/2000/svg\" height=\"24px\"viewBox=\"0 0 24 24\"\n",
              "       width=\"24px\">\n",
              "    <path d=\"M0 0h24v24H0V0z\" fill=\"none\"/>\n",
              "    <path d=\"M18.56 5.44l.94 2.06.94-2.06 2.06-.94-2.06-.94-.94-2.06-.94 2.06-2.06.94zm-11 1L8.5 8.5l.94-2.06 2.06-.94-2.06-.94L8.5 2.5l-.94 2.06-2.06.94zm10 10l.94 2.06.94-2.06 2.06-.94-2.06-.94-.94-2.06-.94 2.06-2.06.94z\"/><path d=\"M17.41 7.96l-1.37-1.37c-.4-.4-.92-.59-1.43-.59-.52 0-1.04.2-1.43.59L10.3 9.45l-7.72 7.72c-.78.78-.78 2.05 0 2.83L4 21.41c.39.39.9.59 1.41.59.51 0 1.02-.2 1.41-.59l7.78-7.78 2.81-2.81c.8-.78.8-2.07 0-2.86zM5.41 20L4 18.59l7.72-7.72 1.47 1.35L5.41 20z\"/>\n",
              "  </svg>\n",
              "      </button>\n",
              "      \n",
              "  <style>\n",
              "    .colab-df-container {\n",
              "      display:flex;\n",
              "      flex-wrap:wrap;\n",
              "      gap: 12px;\n",
              "    }\n",
              "\n",
              "    .colab-df-convert {\n",
              "      background-color: #E8F0FE;\n",
              "      border: none;\n",
              "      border-radius: 50%;\n",
              "      cursor: pointer;\n",
              "      display: none;\n",
              "      fill: #1967D2;\n",
              "      height: 32px;\n",
              "      padding: 0 0 0 0;\n",
              "      width: 32px;\n",
              "    }\n",
              "\n",
              "    .colab-df-convert:hover {\n",
              "      background-color: #E2EBFA;\n",
              "      box-shadow: 0px 1px 2px rgba(60, 64, 67, 0.3), 0px 1px 3px 1px rgba(60, 64, 67, 0.15);\n",
              "      fill: #174EA6;\n",
              "    }\n",
              "\n",
              "    [theme=dark] .colab-df-convert {\n",
              "      background-color: #3B4455;\n",
              "      fill: #D2E3FC;\n",
              "    }\n",
              "\n",
              "    [theme=dark] .colab-df-convert:hover {\n",
              "      background-color: #434B5C;\n",
              "      box-shadow: 0px 1px 3px 1px rgba(0, 0, 0, 0.15);\n",
              "      filter: drop-shadow(0px 1px 2px rgba(0, 0, 0, 0.3));\n",
              "      fill: #FFFFFF;\n",
              "    }\n",
              "  </style>\n",
              "\n",
              "      <script>\n",
              "        const buttonEl =\n",
              "          document.querySelector('#df-7a19e8ce-c25f-4b0d-949c-27bb12b7c171 button.colab-df-convert');\n",
              "        buttonEl.style.display =\n",
              "          google.colab.kernel.accessAllowed ? 'block' : 'none';\n",
              "\n",
              "        async function convertToInteractive(key) {\n",
              "          const element = document.querySelector('#df-7a19e8ce-c25f-4b0d-949c-27bb12b7c171');\n",
              "          const dataTable =\n",
              "            await google.colab.kernel.invokeFunction('convertToInteractive',\n",
              "                                                     [key], {});\n",
              "          if (!dataTable) return;\n",
              "\n",
              "          const docLinkHtml = 'Like what you see? Visit the ' +\n",
              "            '<a target=\"_blank\" href=https://colab.research.google.com/notebooks/data_table.ipynb>data table notebook</a>'\n",
              "            + ' to learn more about interactive tables.';\n",
              "          element.innerHTML = '';\n",
              "          dataTable['output_type'] = 'display_data';\n",
              "          await google.colab.output.renderOutput(dataTable, element);\n",
              "          const docLink = document.createElement('div');\n",
              "          docLink.innerHTML = docLinkHtml;\n",
              "          element.appendChild(docLink);\n",
              "        }\n",
              "      </script>\n",
              "    </div>\n",
              "  </div>\n",
              "  "
            ]
          },
          "metadata": {},
          "execution_count": 172
        }
      ],
      "source": [
        "# count the number of incidents grouping by city and state because city names may duplicate\n",
        "df = pd.concat([train, test], ignore_index=True)\n",
        "city_count = df.value_counts(['city', 'state']).rename_axis(['City', 'Geographic Area']).reset_index(name='Counts')\n",
        "city_count.head()"
      ]
    },
    {
      "cell_type": "code",
      "execution_count": 173,
      "metadata": {
        "id": "RBJ1iCZeu45j",
        "outputId": "8400c980-2ee1-4912-965d-6b2fc25d6498",
        "colab": {
          "base_uri": "https://localhost:8080/",
          "height": 374
        }
      },
      "outputs": [
        {
          "output_type": "execute_result",
          "data": {
            "text/plain": [
              "  Geographic Area             City percent_completed_hs Median Income  \\\n",
              "0              AL       Abanda CDP                 21.2         11207   \n",
              "1              AL   Abbeville city                 69.1         25615   \n",
              "2              AL  Adamsville city                 78.9         42575   \n",
              "3              AL     Addison town                 81.4         37083   \n",
              "4              AL       Akron town                 68.6         21667   \n",
              "\n",
              "  poverty_rate share_white share_black share_native_american share_asian  \\\n",
              "0         78.8        67.2        30.2                     0           0   \n",
              "1         29.1        54.4        41.4                   0.1           1   \n",
              "2         25.5        52.3        44.9                   0.5         0.3   \n",
              "3         30.7        99.1         0.1                     0         0.1   \n",
              "4           42        13.2        86.5                     0           0   \n",
              "\n",
              "  share_hispanic  \n",
              "0            1.6  \n",
              "1            3.1  \n",
              "2            2.3  \n",
              "3            0.4  \n",
              "4            0.3  "
            ],
            "text/html": [
              "\n",
              "  <div id=\"df-84954e9a-e7fb-4068-8916-2b4d720adb34\">\n",
              "    <div class=\"colab-df-container\">\n",
              "      <div>\n",
              "<style scoped>\n",
              "    .dataframe tbody tr th:only-of-type {\n",
              "        vertical-align: middle;\n",
              "    }\n",
              "\n",
              "    .dataframe tbody tr th {\n",
              "        vertical-align: top;\n",
              "    }\n",
              "\n",
              "    .dataframe thead th {\n",
              "        text-align: right;\n",
              "    }\n",
              "</style>\n",
              "<table border=\"1\" class=\"dataframe\">\n",
              "  <thead>\n",
              "    <tr style=\"text-align: right;\">\n",
              "      <th></th>\n",
              "      <th>Geographic Area</th>\n",
              "      <th>City</th>\n",
              "      <th>percent_completed_hs</th>\n",
              "      <th>Median Income</th>\n",
              "      <th>poverty_rate</th>\n",
              "      <th>share_white</th>\n",
              "      <th>share_black</th>\n",
              "      <th>share_native_american</th>\n",
              "      <th>share_asian</th>\n",
              "      <th>share_hispanic</th>\n",
              "    </tr>\n",
              "  </thead>\n",
              "  <tbody>\n",
              "    <tr>\n",
              "      <th>0</th>\n",
              "      <td>AL</td>\n",
              "      <td>Abanda CDP</td>\n",
              "      <td>21.2</td>\n",
              "      <td>11207</td>\n",
              "      <td>78.8</td>\n",
              "      <td>67.2</td>\n",
              "      <td>30.2</td>\n",
              "      <td>0</td>\n",
              "      <td>0</td>\n",
              "      <td>1.6</td>\n",
              "    </tr>\n",
              "    <tr>\n",
              "      <th>1</th>\n",
              "      <td>AL</td>\n",
              "      <td>Abbeville city</td>\n",
              "      <td>69.1</td>\n",
              "      <td>25615</td>\n",
              "      <td>29.1</td>\n",
              "      <td>54.4</td>\n",
              "      <td>41.4</td>\n",
              "      <td>0.1</td>\n",
              "      <td>1</td>\n",
              "      <td>3.1</td>\n",
              "    </tr>\n",
              "    <tr>\n",
              "      <th>2</th>\n",
              "      <td>AL</td>\n",
              "      <td>Adamsville city</td>\n",
              "      <td>78.9</td>\n",
              "      <td>42575</td>\n",
              "      <td>25.5</td>\n",
              "      <td>52.3</td>\n",
              "      <td>44.9</td>\n",
              "      <td>0.5</td>\n",
              "      <td>0.3</td>\n",
              "      <td>2.3</td>\n",
              "    </tr>\n",
              "    <tr>\n",
              "      <th>3</th>\n",
              "      <td>AL</td>\n",
              "      <td>Addison town</td>\n",
              "      <td>81.4</td>\n",
              "      <td>37083</td>\n",
              "      <td>30.7</td>\n",
              "      <td>99.1</td>\n",
              "      <td>0.1</td>\n",
              "      <td>0</td>\n",
              "      <td>0.1</td>\n",
              "      <td>0.4</td>\n",
              "    </tr>\n",
              "    <tr>\n",
              "      <th>4</th>\n",
              "      <td>AL</td>\n",
              "      <td>Akron town</td>\n",
              "      <td>68.6</td>\n",
              "      <td>21667</td>\n",
              "      <td>42</td>\n",
              "      <td>13.2</td>\n",
              "      <td>86.5</td>\n",
              "      <td>0</td>\n",
              "      <td>0</td>\n",
              "      <td>0.3</td>\n",
              "    </tr>\n",
              "  </tbody>\n",
              "</table>\n",
              "</div>\n",
              "      <button class=\"colab-df-convert\" onclick=\"convertToInteractive('df-84954e9a-e7fb-4068-8916-2b4d720adb34')\"\n",
              "              title=\"Convert this dataframe to an interactive table.\"\n",
              "              style=\"display:none;\">\n",
              "        \n",
              "  <svg xmlns=\"http://www.w3.org/2000/svg\" height=\"24px\"viewBox=\"0 0 24 24\"\n",
              "       width=\"24px\">\n",
              "    <path d=\"M0 0h24v24H0V0z\" fill=\"none\"/>\n",
              "    <path d=\"M18.56 5.44l.94 2.06.94-2.06 2.06-.94-2.06-.94-.94-2.06-.94 2.06-2.06.94zm-11 1L8.5 8.5l.94-2.06 2.06-.94-2.06-.94L8.5 2.5l-.94 2.06-2.06.94zm10 10l.94 2.06.94-2.06 2.06-.94-2.06-.94-.94-2.06-.94 2.06-2.06.94z\"/><path d=\"M17.41 7.96l-1.37-1.37c-.4-.4-.92-.59-1.43-.59-.52 0-1.04.2-1.43.59L10.3 9.45l-7.72 7.72c-.78.78-.78 2.05 0 2.83L4 21.41c.39.39.9.59 1.41.59.51 0 1.02-.2 1.41-.59l7.78-7.78 2.81-2.81c.8-.78.8-2.07 0-2.86zM5.41 20L4 18.59l7.72-7.72 1.47 1.35L5.41 20z\"/>\n",
              "  </svg>\n",
              "      </button>\n",
              "      \n",
              "  <style>\n",
              "    .colab-df-container {\n",
              "      display:flex;\n",
              "      flex-wrap:wrap;\n",
              "      gap: 12px;\n",
              "    }\n",
              "\n",
              "    .colab-df-convert {\n",
              "      background-color: #E8F0FE;\n",
              "      border: none;\n",
              "      border-radius: 50%;\n",
              "      cursor: pointer;\n",
              "      display: none;\n",
              "      fill: #1967D2;\n",
              "      height: 32px;\n",
              "      padding: 0 0 0 0;\n",
              "      width: 32px;\n",
              "    }\n",
              "\n",
              "    .colab-df-convert:hover {\n",
              "      background-color: #E2EBFA;\n",
              "      box-shadow: 0px 1px 2px rgba(60, 64, 67, 0.3), 0px 1px 3px 1px rgba(60, 64, 67, 0.15);\n",
              "      fill: #174EA6;\n",
              "    }\n",
              "\n",
              "    [theme=dark] .colab-df-convert {\n",
              "      background-color: #3B4455;\n",
              "      fill: #D2E3FC;\n",
              "    }\n",
              "\n",
              "    [theme=dark] .colab-df-convert:hover {\n",
              "      background-color: #434B5C;\n",
              "      box-shadow: 0px 1px 3px 1px rgba(0, 0, 0, 0.15);\n",
              "      filter: drop-shadow(0px 1px 2px rgba(0, 0, 0, 0.3));\n",
              "      fill: #FFFFFF;\n",
              "    }\n",
              "  </style>\n",
              "\n",
              "      <script>\n",
              "        const buttonEl =\n",
              "          document.querySelector('#df-84954e9a-e7fb-4068-8916-2b4d720adb34 button.colab-df-convert');\n",
              "        buttonEl.style.display =\n",
              "          google.colab.kernel.accessAllowed ? 'block' : 'none';\n",
              "\n",
              "        async function convertToInteractive(key) {\n",
              "          const element = document.querySelector('#df-84954e9a-e7fb-4068-8916-2b4d720adb34');\n",
              "          const dataTable =\n",
              "            await google.colab.kernel.invokeFunction('convertToInteractive',\n",
              "                                                     [key], {});\n",
              "          if (!dataTable) return;\n",
              "\n",
              "          const docLinkHtml = 'Like what you see? Visit the ' +\n",
              "            '<a target=\"_blank\" href=https://colab.research.google.com/notebooks/data_table.ipynb>data table notebook</a>'\n",
              "            + ' to learn more about interactive tables.';\n",
              "          element.innerHTML = '';\n",
              "          dataTable['output_type'] = 'display_data';\n",
              "          await google.colab.output.renderOutput(dataTable, element);\n",
              "          const docLink = document.createElement('div');\n",
              "          docLink.innerHTML = docLinkHtml;\n",
              "          element.appendChild(docLink);\n",
              "        }\n",
              "      </script>\n",
              "    </div>\n",
              "  </div>\n",
              "  "
            ]
          },
          "metadata": {},
          "execution_count": 173
        }
      ],
      "source": [
        "city = education.merge(income, on=['Geographic Area', 'City']).merge(poverty, on=['Geographic Area', 'City']).merge(race, on=['Geographic Area', 'City'])\n",
        "city.head()"
      ]
    },
    {
      "cell_type": "code",
      "execution_count": 174,
      "metadata": {
        "id": "RMM7az7ou45k",
        "outputId": "467526c7-c5a0-4cd1-8beb-50ed86e18302",
        "colab": {
          "base_uri": "https://localhost:8080/"
        }
      },
      "outputs": [
        {
          "output_type": "execute_result",
          "data": {
            "text/plain": [
              "0       None\n",
              "1       None\n",
              "2       None\n",
              "3       None\n",
              "4       None\n",
              "        ... \n",
              "1377    None\n",
              "1378    None\n",
              "1379    None\n",
              "1380    None\n",
              "1381    None\n",
              "Length: 1382, dtype: object"
            ]
          },
          "metadata": {},
          "execution_count": 174
        }
      ],
      "source": [
        "def merge_count(record):\n",
        "    # find record(s) matching both name and state\n",
        "    match_city = city_total['City'].str.startswith(record['City'])\n",
        "    match_state = city_total['Geographic Area'] == record['Geographic Area']\n",
        "    match_both = np.logical_and(match_city, match_state)\n",
        "    # count the number of True\n",
        "    length = np.count_nonzero(match_both)\n",
        "    if length == 1:     # if unique\n",
        "        city_total.loc[match_both, 'Counts'] = record['Counts']\n",
        "    elif length > 1:    # if multiple, take average\n",
        "        count = record['Counts']/length\n",
        "        city_total.loc[match_both, 'Counts'] = count\n",
        "\n",
        "city_total = city.copy()    # changes to city_total will not affect city\n",
        "city_total['Counts'] = 0\n",
        "city_count.apply(merge_count, axis=1)"
      ]
    },
    {
      "cell_type": "code",
      "execution_count": 175,
      "metadata": {
        "id": "76iHBgSyu45k",
        "outputId": "e62b000f-4b01-4e32-df08-195297f9bbf6",
        "colab": {
          "base_uri": "https://localhost:8080/",
          "height": 409
        }
      },
      "outputs": [
        {
          "output_type": "execute_result",
          "data": {
            "text/plain": [
              "      Geographic Area              City percent_completed_hs Median Income  \\\n",
              "2701               CA  Los Angeles city                 75.5         50205   \n",
              "1198               AZ      Phoenix city                 80.7         47326   \n",
              "25036              TX      Houston city                 76.7         46187   \n",
              "15596              NV    Las Vegas city                 83.3         50202   \n",
              "24428              TX       Austin city                 87.5         57689   \n",
              "\n",
              "      poverty_rate share_white share_black share_native_american share_asian  \\\n",
              "2701          22.1        49.8         9.6                   0.7        11.3   \n",
              "1198          23.1        65.9         6.5                   2.2         3.2   \n",
              "25036         22.5        50.5        23.7                   0.7           6   \n",
              "15596         17.5        62.1        11.1                   0.7         6.1   \n",
              "24428           18        68.3         8.1                   0.9         6.3   \n",
              "\n",
              "      share_hispanic  Counts  \n",
              "2701            48.5    35.0  \n",
              "1198            40.8    28.0  \n",
              "25036           43.8    23.0  \n",
              "15596           31.5    17.0  \n",
              "24428           35.1    16.0  "
            ],
            "text/html": [
              "\n",
              "  <div id=\"df-21638026-98c8-4359-84ef-d89627ebf3d7\">\n",
              "    <div class=\"colab-df-container\">\n",
              "      <div>\n",
              "<style scoped>\n",
              "    .dataframe tbody tr th:only-of-type {\n",
              "        vertical-align: middle;\n",
              "    }\n",
              "\n",
              "    .dataframe tbody tr th {\n",
              "        vertical-align: top;\n",
              "    }\n",
              "\n",
              "    .dataframe thead th {\n",
              "        text-align: right;\n",
              "    }\n",
              "</style>\n",
              "<table border=\"1\" class=\"dataframe\">\n",
              "  <thead>\n",
              "    <tr style=\"text-align: right;\">\n",
              "      <th></th>\n",
              "      <th>Geographic Area</th>\n",
              "      <th>City</th>\n",
              "      <th>percent_completed_hs</th>\n",
              "      <th>Median Income</th>\n",
              "      <th>poverty_rate</th>\n",
              "      <th>share_white</th>\n",
              "      <th>share_black</th>\n",
              "      <th>share_native_american</th>\n",
              "      <th>share_asian</th>\n",
              "      <th>share_hispanic</th>\n",
              "      <th>Counts</th>\n",
              "    </tr>\n",
              "  </thead>\n",
              "  <tbody>\n",
              "    <tr>\n",
              "      <th>2701</th>\n",
              "      <td>CA</td>\n",
              "      <td>Los Angeles city</td>\n",
              "      <td>75.5</td>\n",
              "      <td>50205</td>\n",
              "      <td>22.1</td>\n",
              "      <td>49.8</td>\n",
              "      <td>9.6</td>\n",
              "      <td>0.7</td>\n",
              "      <td>11.3</td>\n",
              "      <td>48.5</td>\n",
              "      <td>35.0</td>\n",
              "    </tr>\n",
              "    <tr>\n",
              "      <th>1198</th>\n",
              "      <td>AZ</td>\n",
              "      <td>Phoenix city</td>\n",
              "      <td>80.7</td>\n",
              "      <td>47326</td>\n",
              "      <td>23.1</td>\n",
              "      <td>65.9</td>\n",
              "      <td>6.5</td>\n",
              "      <td>2.2</td>\n",
              "      <td>3.2</td>\n",
              "      <td>40.8</td>\n",
              "      <td>28.0</td>\n",
              "    </tr>\n",
              "    <tr>\n",
              "      <th>25036</th>\n",
              "      <td>TX</td>\n",
              "      <td>Houston city</td>\n",
              "      <td>76.7</td>\n",
              "      <td>46187</td>\n",
              "      <td>22.5</td>\n",
              "      <td>50.5</td>\n",
              "      <td>23.7</td>\n",
              "      <td>0.7</td>\n",
              "      <td>6</td>\n",
              "      <td>43.8</td>\n",
              "      <td>23.0</td>\n",
              "    </tr>\n",
              "    <tr>\n",
              "      <th>15596</th>\n",
              "      <td>NV</td>\n",
              "      <td>Las Vegas city</td>\n",
              "      <td>83.3</td>\n",
              "      <td>50202</td>\n",
              "      <td>17.5</td>\n",
              "      <td>62.1</td>\n",
              "      <td>11.1</td>\n",
              "      <td>0.7</td>\n",
              "      <td>6.1</td>\n",
              "      <td>31.5</td>\n",
              "      <td>17.0</td>\n",
              "    </tr>\n",
              "    <tr>\n",
              "      <th>24428</th>\n",
              "      <td>TX</td>\n",
              "      <td>Austin city</td>\n",
              "      <td>87.5</td>\n",
              "      <td>57689</td>\n",
              "      <td>18</td>\n",
              "      <td>68.3</td>\n",
              "      <td>8.1</td>\n",
              "      <td>0.9</td>\n",
              "      <td>6.3</td>\n",
              "      <td>35.1</td>\n",
              "      <td>16.0</td>\n",
              "    </tr>\n",
              "  </tbody>\n",
              "</table>\n",
              "</div>\n",
              "      <button class=\"colab-df-convert\" onclick=\"convertToInteractive('df-21638026-98c8-4359-84ef-d89627ebf3d7')\"\n",
              "              title=\"Convert this dataframe to an interactive table.\"\n",
              "              style=\"display:none;\">\n",
              "        \n",
              "  <svg xmlns=\"http://www.w3.org/2000/svg\" height=\"24px\"viewBox=\"0 0 24 24\"\n",
              "       width=\"24px\">\n",
              "    <path d=\"M0 0h24v24H0V0z\" fill=\"none\"/>\n",
              "    <path d=\"M18.56 5.44l.94 2.06.94-2.06 2.06-.94-2.06-.94-.94-2.06-.94 2.06-2.06.94zm-11 1L8.5 8.5l.94-2.06 2.06-.94-2.06-.94L8.5 2.5l-.94 2.06-2.06.94zm10 10l.94 2.06.94-2.06 2.06-.94-2.06-.94-.94-2.06-.94 2.06-2.06.94z\"/><path d=\"M17.41 7.96l-1.37-1.37c-.4-.4-.92-.59-1.43-.59-.52 0-1.04.2-1.43.59L10.3 9.45l-7.72 7.72c-.78.78-.78 2.05 0 2.83L4 21.41c.39.39.9.59 1.41.59.51 0 1.02-.2 1.41-.59l7.78-7.78 2.81-2.81c.8-.78.8-2.07 0-2.86zM5.41 20L4 18.59l7.72-7.72 1.47 1.35L5.41 20z\"/>\n",
              "  </svg>\n",
              "      </button>\n",
              "      \n",
              "  <style>\n",
              "    .colab-df-container {\n",
              "      display:flex;\n",
              "      flex-wrap:wrap;\n",
              "      gap: 12px;\n",
              "    }\n",
              "\n",
              "    .colab-df-convert {\n",
              "      background-color: #E8F0FE;\n",
              "      border: none;\n",
              "      border-radius: 50%;\n",
              "      cursor: pointer;\n",
              "      display: none;\n",
              "      fill: #1967D2;\n",
              "      height: 32px;\n",
              "      padding: 0 0 0 0;\n",
              "      width: 32px;\n",
              "    }\n",
              "\n",
              "    .colab-df-convert:hover {\n",
              "      background-color: #E2EBFA;\n",
              "      box-shadow: 0px 1px 2px rgba(60, 64, 67, 0.3), 0px 1px 3px 1px rgba(60, 64, 67, 0.15);\n",
              "      fill: #174EA6;\n",
              "    }\n",
              "\n",
              "    [theme=dark] .colab-df-convert {\n",
              "      background-color: #3B4455;\n",
              "      fill: #D2E3FC;\n",
              "    }\n",
              "\n",
              "    [theme=dark] .colab-df-convert:hover {\n",
              "      background-color: #434B5C;\n",
              "      box-shadow: 0px 1px 3px 1px rgba(0, 0, 0, 0.15);\n",
              "      filter: drop-shadow(0px 1px 2px rgba(0, 0, 0, 0.3));\n",
              "      fill: #FFFFFF;\n",
              "    }\n",
              "  </style>\n",
              "\n",
              "      <script>\n",
              "        const buttonEl =\n",
              "          document.querySelector('#df-21638026-98c8-4359-84ef-d89627ebf3d7 button.colab-df-convert');\n",
              "        buttonEl.style.display =\n",
              "          google.colab.kernel.accessAllowed ? 'block' : 'none';\n",
              "\n",
              "        async function convertToInteractive(key) {\n",
              "          const element = document.querySelector('#df-21638026-98c8-4359-84ef-d89627ebf3d7');\n",
              "          const dataTable =\n",
              "            await google.colab.kernel.invokeFunction('convertToInteractive',\n",
              "                                                     [key], {});\n",
              "          if (!dataTable) return;\n",
              "\n",
              "          const docLinkHtml = 'Like what you see? Visit the ' +\n",
              "            '<a target=\"_blank\" href=https://colab.research.google.com/notebooks/data_table.ipynb>data table notebook</a>'\n",
              "            + ' to learn more about interactive tables.';\n",
              "          element.innerHTML = '';\n",
              "          dataTable['output_type'] = 'display_data';\n",
              "          await google.colab.output.renderOutput(dataTable, element);\n",
              "          const docLink = document.createElement('div');\n",
              "          docLink.innerHTML = docLinkHtml;\n",
              "          element.appendChild(docLink);\n",
              "        }\n",
              "      </script>\n",
              "    </div>\n",
              "  </div>\n",
              "  "
            ]
          },
          "metadata": {},
          "execution_count": 175
        }
      ],
      "source": [
        "city_total.sort_values(by='Counts', ascending=False).head()"
      ]
    },
    {
      "cell_type": "markdown",
      "metadata": {
        "id": "-u_Elwjnu45k"
      },
      "source": [
        "### Merging City Data Sets to the Police Data Set\n",
        "\n",
        "By merging the city demographics to the police data set, we can append background information to each of the incident. In this study, we will use various city demographics as independent variables to predict the race of victim."
      ]
    },
    {
      "cell_type": "code",
      "execution_count": 176,
      "metadata": {
        "id": "R2kQsij3u45k"
      },
      "outputs": [],
      "source": [
        "fields = ['percent_completed_hs', 'Median Income', 'poverty_rate', 'share_white', 'share_black', 'share_native_american', 'share_asian', 'share_hispanic']\n",
        "\n",
        "def merge_city(record):\n",
        "    # find record(s) matching both name and state\n",
        "    match_city = city['City'].str.startswith(record['city'])\n",
        "    match_state = city['Geographic Area'] == record['state']\n",
        "    match_both = np.logical_and(match_city, match_state)\n",
        "    match = city.loc[match_both]\n",
        "    # assign the mean of city demographics to the police data set\n",
        "    for field in fields:\n",
        "        record.loc[field] = pd.to_numeric(match[field], errors='coerce').mean()\n",
        "    return record[fields]\n",
        "\n",
        "train[fields] = train.apply(merge_city, axis=1)\n",
        "test[fields] = test.apply(merge_city, axis=1)"
      ]
    },
    {
      "cell_type": "code",
      "execution_count": 177,
      "metadata": {
        "id": "LUKBB4uJu45l",
        "outputId": "287613c9-5250-4f4d-a372-d4a58c5af6c5",
        "colab": {
          "base_uri": "https://localhost:8080/",
          "height": 404
        }
      },
      "outputs": [
        {
          "output_type": "execute_result",
          "data": {
            "text/plain": [
              "   id                name      date   manner_of_death       armed   age  \\\n",
              "0   3          Tim Elliot  02/01/15              shot         gun  53.0   \n",
              "1   4    Lewis Lee Lembke  02/01/15              shot         gun  47.0   \n",
              "2   5  John Paul Quintero  03/01/15  shot and Tasered     unarmed  23.0   \n",
              "3   8     Matthew Hoffman  04/01/15              shot  toy weapon  32.0   \n",
              "4   9   Michael Rodriguez  04/01/15              shot    nail gun  39.0   \n",
              "\n",
              "  gender race           city state  ...         flee body_camera  \\\n",
              "0      M    A        Shelton    WA  ...  Not fleeing       False   \n",
              "1      M    W          Aloha    OR  ...  Not fleeing       False   \n",
              "2      M    H        Wichita    KS  ...  Not fleeing       False   \n",
              "3      M    W  San Francisco    CA  ...  Not fleeing       False   \n",
              "4      M    H          Evans    CO  ...  Not fleeing       False   \n",
              "\n",
              "  percent_completed_hs  Median Income  poverty_rate  share_white  share_black  \\\n",
              "0                 80.1        37072.0          28.6         78.9          0.8   \n",
              "1                 88.1        65765.0          14.9         70.9          2.6   \n",
              "2                 87.5        45947.0          17.3         71.9         11.5   \n",
              "3                 87.0        81294.0          13.2         48.5          6.1   \n",
              "4                 76.3        47791.0          16.6         76.5          0.9   \n",
              "\n",
              "   share_native_american  share_asian  share_hispanic  \n",
              "0                    3.7          1.1            19.2  \n",
              "1                    1.0          8.9            21.1  \n",
              "2                    1.2          4.8            15.3  \n",
              "3                    0.5         33.3            15.1  \n",
              "4                    1.2          0.9            43.1  \n",
              "\n",
              "[5 rows x 22 columns]"
            ],
            "text/html": [
              "\n",
              "  <div id=\"df-294dac8e-6e8b-4e40-a540-84ea47aa1075\">\n",
              "    <div class=\"colab-df-container\">\n",
              "      <div>\n",
              "<style scoped>\n",
              "    .dataframe tbody tr th:only-of-type {\n",
              "        vertical-align: middle;\n",
              "    }\n",
              "\n",
              "    .dataframe tbody tr th {\n",
              "        vertical-align: top;\n",
              "    }\n",
              "\n",
              "    .dataframe thead th {\n",
              "        text-align: right;\n",
              "    }\n",
              "</style>\n",
              "<table border=\"1\" class=\"dataframe\">\n",
              "  <thead>\n",
              "    <tr style=\"text-align: right;\">\n",
              "      <th></th>\n",
              "      <th>id</th>\n",
              "      <th>name</th>\n",
              "      <th>date</th>\n",
              "      <th>manner_of_death</th>\n",
              "      <th>armed</th>\n",
              "      <th>age</th>\n",
              "      <th>gender</th>\n",
              "      <th>race</th>\n",
              "      <th>city</th>\n",
              "      <th>state</th>\n",
              "      <th>...</th>\n",
              "      <th>flee</th>\n",
              "      <th>body_camera</th>\n",
              "      <th>percent_completed_hs</th>\n",
              "      <th>Median Income</th>\n",
              "      <th>poverty_rate</th>\n",
              "      <th>share_white</th>\n",
              "      <th>share_black</th>\n",
              "      <th>share_native_american</th>\n",
              "      <th>share_asian</th>\n",
              "      <th>share_hispanic</th>\n",
              "    </tr>\n",
              "  </thead>\n",
              "  <tbody>\n",
              "    <tr>\n",
              "      <th>0</th>\n",
              "      <td>3</td>\n",
              "      <td>Tim Elliot</td>\n",
              "      <td>02/01/15</td>\n",
              "      <td>shot</td>\n",
              "      <td>gun</td>\n",
              "      <td>53.0</td>\n",
              "      <td>M</td>\n",
              "      <td>A</td>\n",
              "      <td>Shelton</td>\n",
              "      <td>WA</td>\n",
              "      <td>...</td>\n",
              "      <td>Not fleeing</td>\n",
              "      <td>False</td>\n",
              "      <td>80.1</td>\n",
              "      <td>37072.0</td>\n",
              "      <td>28.6</td>\n",
              "      <td>78.9</td>\n",
              "      <td>0.8</td>\n",
              "      <td>3.7</td>\n",
              "      <td>1.1</td>\n",
              "      <td>19.2</td>\n",
              "    </tr>\n",
              "    <tr>\n",
              "      <th>1</th>\n",
              "      <td>4</td>\n",
              "      <td>Lewis Lee Lembke</td>\n",
              "      <td>02/01/15</td>\n",
              "      <td>shot</td>\n",
              "      <td>gun</td>\n",
              "      <td>47.0</td>\n",
              "      <td>M</td>\n",
              "      <td>W</td>\n",
              "      <td>Aloha</td>\n",
              "      <td>OR</td>\n",
              "      <td>...</td>\n",
              "      <td>Not fleeing</td>\n",
              "      <td>False</td>\n",
              "      <td>88.1</td>\n",
              "      <td>65765.0</td>\n",
              "      <td>14.9</td>\n",
              "      <td>70.9</td>\n",
              "      <td>2.6</td>\n",
              "      <td>1.0</td>\n",
              "      <td>8.9</td>\n",
              "      <td>21.1</td>\n",
              "    </tr>\n",
              "    <tr>\n",
              "      <th>2</th>\n",
              "      <td>5</td>\n",
              "      <td>John Paul Quintero</td>\n",
              "      <td>03/01/15</td>\n",
              "      <td>shot and Tasered</td>\n",
              "      <td>unarmed</td>\n",
              "      <td>23.0</td>\n",
              "      <td>M</td>\n",
              "      <td>H</td>\n",
              "      <td>Wichita</td>\n",
              "      <td>KS</td>\n",
              "      <td>...</td>\n",
              "      <td>Not fleeing</td>\n",
              "      <td>False</td>\n",
              "      <td>87.5</td>\n",
              "      <td>45947.0</td>\n",
              "      <td>17.3</td>\n",
              "      <td>71.9</td>\n",
              "      <td>11.5</td>\n",
              "      <td>1.2</td>\n",
              "      <td>4.8</td>\n",
              "      <td>15.3</td>\n",
              "    </tr>\n",
              "    <tr>\n",
              "      <th>3</th>\n",
              "      <td>8</td>\n",
              "      <td>Matthew Hoffman</td>\n",
              "      <td>04/01/15</td>\n",
              "      <td>shot</td>\n",
              "      <td>toy weapon</td>\n",
              "      <td>32.0</td>\n",
              "      <td>M</td>\n",
              "      <td>W</td>\n",
              "      <td>San Francisco</td>\n",
              "      <td>CA</td>\n",
              "      <td>...</td>\n",
              "      <td>Not fleeing</td>\n",
              "      <td>False</td>\n",
              "      <td>87.0</td>\n",
              "      <td>81294.0</td>\n",
              "      <td>13.2</td>\n",
              "      <td>48.5</td>\n",
              "      <td>6.1</td>\n",
              "      <td>0.5</td>\n",
              "      <td>33.3</td>\n",
              "      <td>15.1</td>\n",
              "    </tr>\n",
              "    <tr>\n",
              "      <th>4</th>\n",
              "      <td>9</td>\n",
              "      <td>Michael Rodriguez</td>\n",
              "      <td>04/01/15</td>\n",
              "      <td>shot</td>\n",
              "      <td>nail gun</td>\n",
              "      <td>39.0</td>\n",
              "      <td>M</td>\n",
              "      <td>H</td>\n",
              "      <td>Evans</td>\n",
              "      <td>CO</td>\n",
              "      <td>...</td>\n",
              "      <td>Not fleeing</td>\n",
              "      <td>False</td>\n",
              "      <td>76.3</td>\n",
              "      <td>47791.0</td>\n",
              "      <td>16.6</td>\n",
              "      <td>76.5</td>\n",
              "      <td>0.9</td>\n",
              "      <td>1.2</td>\n",
              "      <td>0.9</td>\n",
              "      <td>43.1</td>\n",
              "    </tr>\n",
              "  </tbody>\n",
              "</table>\n",
              "<p>5 rows × 22 columns</p>\n",
              "</div>\n",
              "      <button class=\"colab-df-convert\" onclick=\"convertToInteractive('df-294dac8e-6e8b-4e40-a540-84ea47aa1075')\"\n",
              "              title=\"Convert this dataframe to an interactive table.\"\n",
              "              style=\"display:none;\">\n",
              "        \n",
              "  <svg xmlns=\"http://www.w3.org/2000/svg\" height=\"24px\"viewBox=\"0 0 24 24\"\n",
              "       width=\"24px\">\n",
              "    <path d=\"M0 0h24v24H0V0z\" fill=\"none\"/>\n",
              "    <path d=\"M18.56 5.44l.94 2.06.94-2.06 2.06-.94-2.06-.94-.94-2.06-.94 2.06-2.06.94zm-11 1L8.5 8.5l.94-2.06 2.06-.94-2.06-.94L8.5 2.5l-.94 2.06-2.06.94zm10 10l.94 2.06.94-2.06 2.06-.94-2.06-.94-.94-2.06-.94 2.06-2.06.94z\"/><path d=\"M17.41 7.96l-1.37-1.37c-.4-.4-.92-.59-1.43-.59-.52 0-1.04.2-1.43.59L10.3 9.45l-7.72 7.72c-.78.78-.78 2.05 0 2.83L4 21.41c.39.39.9.59 1.41.59.51 0 1.02-.2 1.41-.59l7.78-7.78 2.81-2.81c.8-.78.8-2.07 0-2.86zM5.41 20L4 18.59l7.72-7.72 1.47 1.35L5.41 20z\"/>\n",
              "  </svg>\n",
              "      </button>\n",
              "      \n",
              "  <style>\n",
              "    .colab-df-container {\n",
              "      display:flex;\n",
              "      flex-wrap:wrap;\n",
              "      gap: 12px;\n",
              "    }\n",
              "\n",
              "    .colab-df-convert {\n",
              "      background-color: #E8F0FE;\n",
              "      border: none;\n",
              "      border-radius: 50%;\n",
              "      cursor: pointer;\n",
              "      display: none;\n",
              "      fill: #1967D2;\n",
              "      height: 32px;\n",
              "      padding: 0 0 0 0;\n",
              "      width: 32px;\n",
              "    }\n",
              "\n",
              "    .colab-df-convert:hover {\n",
              "      background-color: #E2EBFA;\n",
              "      box-shadow: 0px 1px 2px rgba(60, 64, 67, 0.3), 0px 1px 3px 1px rgba(60, 64, 67, 0.15);\n",
              "      fill: #174EA6;\n",
              "    }\n",
              "\n",
              "    [theme=dark] .colab-df-convert {\n",
              "      background-color: #3B4455;\n",
              "      fill: #D2E3FC;\n",
              "    }\n",
              "\n",
              "    [theme=dark] .colab-df-convert:hover {\n",
              "      background-color: #434B5C;\n",
              "      box-shadow: 0px 1px 3px 1px rgba(0, 0, 0, 0.15);\n",
              "      filter: drop-shadow(0px 1px 2px rgba(0, 0, 0, 0.3));\n",
              "      fill: #FFFFFF;\n",
              "    }\n",
              "  </style>\n",
              "\n",
              "      <script>\n",
              "        const buttonEl =\n",
              "          document.querySelector('#df-294dac8e-6e8b-4e40-a540-84ea47aa1075 button.colab-df-convert');\n",
              "        buttonEl.style.display =\n",
              "          google.colab.kernel.accessAllowed ? 'block' : 'none';\n",
              "\n",
              "        async function convertToInteractive(key) {\n",
              "          const element = document.querySelector('#df-294dac8e-6e8b-4e40-a540-84ea47aa1075');\n",
              "          const dataTable =\n",
              "            await google.colab.kernel.invokeFunction('convertToInteractive',\n",
              "                                                     [key], {});\n",
              "          if (!dataTable) return;\n",
              "\n",
              "          const docLinkHtml = 'Like what you see? Visit the ' +\n",
              "            '<a target=\"_blank\" href=https://colab.research.google.com/notebooks/data_table.ipynb>data table notebook</a>'\n",
              "            + ' to learn more about interactive tables.';\n",
              "          element.innerHTML = '';\n",
              "          dataTable['output_type'] = 'display_data';\n",
              "          await google.colab.output.renderOutput(dataTable, element);\n",
              "          const docLink = document.createElement('div');\n",
              "          docLink.innerHTML = docLinkHtml;\n",
              "          element.appendChild(docLink);\n",
              "        }\n",
              "      </script>\n",
              "    </div>\n",
              "  </div>\n",
              "  "
            ]
          },
          "metadata": {},
          "execution_count": 177
        }
      ],
      "source": [
        "train.head()"
      ]
    },
    {
      "cell_type": "markdown",
      "metadata": {
        "id": "ov9iPXq2u45l"
      },
      "source": [
        "Since some rows in the police data set do not have corresponding cities, they will have NaN values which needs to be cleaned."
      ]
    },
    {
      "cell_type": "code",
      "execution_count": 178,
      "metadata": {
        "id": "aN8JFCWcu45l"
      },
      "outputs": [],
      "source": [
        "train = clean_dataset(train)\n",
        "test = clean_dataset(test)"
      ]
    },
    {
      "cell_type": "code",
      "execution_count": 179,
      "metadata": {
        "id": "N3Gdi0xsu45l"
      },
      "outputs": [],
      "source": [
        "train.to_csv('processed/train.csv', index=False)\n",
        "test.to_csv('processed/test.csv', index=False)"
      ]
    },
    {
      "cell_type": "markdown",
      "metadata": {
        "id": "eJGkmQpVu45l"
      },
      "source": [
        "### Recoding Features"
      ]
    },
    {
      "cell_type": "markdown",
      "metadata": {
        "id": "kgXnstMzu45m"
      },
      "source": [
        "There are too many unique values for the column armed. Since we only study whether the victim is armed or not, we can convert all values other than 'unarmed' and 'undetermined' to 'armed'."
      ]
    },
    {
      "cell_type": "code",
      "execution_count": 180,
      "metadata": {
        "id": "oVc978hbu45m",
        "outputId": "7053a0f0-246c-4c9a-b5a2-23e27041619d",
        "colab": {
          "base_uri": "https://localhost:8080/"
        }
      },
      "outputs": [
        {
          "output_type": "execute_result",
          "data": {
            "text/plain": [
              "gun                                 931\n",
              "knife                               250\n",
              "unarmed                             134\n",
              "vehicle                             107\n",
              "toy weapon                           80\n",
              "undetermined                         76\n",
              "machete                              14\n",
              "sword                                 8\n",
              "unknown weapon                        6\n",
              "box cutter                            5\n",
              "ax                                    5\n",
              "metal pipe                            5\n",
              "Taser                                 5\n",
              "hammer                                5\n",
              "baseball bat                          4\n",
              "screwdriver                           4\n",
              "gun and knife                         4\n",
              "hatchet                               4\n",
              "scissors                              3\n",
              "guns and explosives                   3\n",
              "blunt object                          3\n",
              "rock                                  2\n",
              "meat cleaver                          2\n",
              "shovel                                2\n",
              "metal stick                           2\n",
              "metal pole                            2\n",
              "brick                                 2\n",
              "air conditioner                       1\n",
              "pick-axe                              1\n",
              "pole                                  1\n",
              "metal rake                            1\n",
              "spear                                 1\n",
              "pitchfork                             1\n",
              "piece of wood                         1\n",
              "oar                                   1\n",
              "garden tool                           1\n",
              "glass shard                           1\n",
              "motorcycle                            1\n",
              "hatchet and gun                       1\n",
              "contractor's level                    1\n",
              "chain saw                             1\n",
              "hand torch                            1\n",
              "straight edge razor                   1\n",
              "baseball bat and fireplace poker      1\n",
              "bean-bag gun                          1\n",
              "stapler                               1\n",
              "chain                                 1\n",
              "carjack                               1\n",
              "sharp object                          1\n",
              "metal hand tool                       1\n",
              "cordless drill                        1\n",
              "flagpole                              1\n",
              "lawn mower blade                      1\n",
              "metal object                          1\n",
              "nail gun                              1\n",
              "pole and knife                        1\n",
              "Name: armed, dtype: int64"
            ]
          },
          "metadata": {},
          "execution_count": 180
        }
      ],
      "source": [
        "train['armed'].value_counts()"
      ]
    },
    {
      "cell_type": "code",
      "execution_count": 181,
      "metadata": {
        "id": "skPXRMgZu45m"
      },
      "outputs": [],
      "source": [
        "#train['armed'].where(np.logical_or(train['armed'] == 'unarmed', train['armed'] == 'undetermined'), 'armed', inplace=True)\n",
        "#test['armed'].where(np.logical_or(test['armed'] == 'unarmed', test['armed'] == 'undetermined'), 'armed', inplace=True)\n",
        "#train['armed'].value_counts()\n",
        "# Dont think this is necessary"
      ]
    },
    {
      "cell_type": "markdown",
      "metadata": {
        "id": "LTM1P74mu45m"
      },
      "source": [
        "To make the features interpretable to the classifier, we create dummy columns for categorical varialbes. We then proceed to separate the independent and the dependent variables in the data set, while also eliminate columns that are irrelevant to the study. We also eliminate city and state information because they are already represented by the parameters in the city data sets."
      ]
    },
    {
      "cell_type": "code",
      "execution_count": 182,
      "metadata": {
        "id": "PTJBcJIFu45m"
      },
      "outputs": [],
      "source": [
        "X_train = pd.get_dummies(train.drop(columns=['id', 'name', 'race', 'date', 'city', 'state']))\n",
        "y_train = train['race']\n",
        "X_test = pd.get_dummies(test.drop(columns=['id', 'name', 'race', 'date', 'city', 'state']))\n",
        "y_test = test['race']"
      ]
    },
    {
      "cell_type": "code",
      "execution_count": 183,
      "metadata": {
        "id": "QDNJLg4Iu45m",
        "outputId": "63359802-05d3-4095-b7a9-0c151b68d1b1",
        "colab": {
          "base_uri": "https://localhost:8080/",
          "height": 317
        }
      },
      "outputs": [
        {
          "output_type": "execute_result",
          "data": {
            "text/plain": [
              "    age  signs_of_mental_illness  body_camera  percent_completed_hs  \\\n",
              "0  53.0                     True        False                  80.1   \n",
              "1  47.0                    False        False                  88.1   \n",
              "2  23.0                    False        False                  87.5   \n",
              "3  32.0                     True        False                  87.0   \n",
              "4  39.0                    False        False                  76.3   \n",
              "\n",
              "   Median Income  poverty_rate  share_white  share_black  \\\n",
              "0        37072.0          28.6         78.9          0.8   \n",
              "1        65765.0          14.9         70.9          2.6   \n",
              "2        45947.0          17.3         71.9         11.5   \n",
              "3        81294.0          13.2         48.5          6.1   \n",
              "4        47791.0          16.6         76.5          0.9   \n",
              "\n",
              "   share_native_american  share_asian  ...  armed_vehicle  gender_F  gender_M  \\\n",
              "0                    3.7          1.1  ...              0         0         1   \n",
              "1                    1.0          8.9  ...              0         0         1   \n",
              "2                    1.2          4.8  ...              0         0         1   \n",
              "3                    0.5         33.3  ...              0         0         1   \n",
              "4                    1.2          0.9  ...              0         0         1   \n",
              "\n",
              "   threat_level_attack  threat_level_other  threat_level_undetermined  \\\n",
              "0                    1                   0                          0   \n",
              "1                    1                   0                          0   \n",
              "2                    0                   1                          0   \n",
              "3                    1                   0                          0   \n",
              "4                    1                   0                          0   \n",
              "\n",
              "   flee_Car  flee_Foot  flee_Not fleeing  flee_Other  \n",
              "0         0          0                 1           0  \n",
              "1         0          0                 1           0  \n",
              "2         0          0                 1           0  \n",
              "3         0          0                 1           0  \n",
              "4         0          0                 1           0  \n",
              "\n",
              "[5 rows x 78 columns]"
            ],
            "text/html": [
              "\n",
              "  <div id=\"df-387effd4-3b6f-48de-846e-987fd1131215\">\n",
              "    <div class=\"colab-df-container\">\n",
              "      <div>\n",
              "<style scoped>\n",
              "    .dataframe tbody tr th:only-of-type {\n",
              "        vertical-align: middle;\n",
              "    }\n",
              "\n",
              "    .dataframe tbody tr th {\n",
              "        vertical-align: top;\n",
              "    }\n",
              "\n",
              "    .dataframe thead th {\n",
              "        text-align: right;\n",
              "    }\n",
              "</style>\n",
              "<table border=\"1\" class=\"dataframe\">\n",
              "  <thead>\n",
              "    <tr style=\"text-align: right;\">\n",
              "      <th></th>\n",
              "      <th>age</th>\n",
              "      <th>signs_of_mental_illness</th>\n",
              "      <th>body_camera</th>\n",
              "      <th>percent_completed_hs</th>\n",
              "      <th>Median Income</th>\n",
              "      <th>poverty_rate</th>\n",
              "      <th>share_white</th>\n",
              "      <th>share_black</th>\n",
              "      <th>share_native_american</th>\n",
              "      <th>share_asian</th>\n",
              "      <th>...</th>\n",
              "      <th>armed_vehicle</th>\n",
              "      <th>gender_F</th>\n",
              "      <th>gender_M</th>\n",
              "      <th>threat_level_attack</th>\n",
              "      <th>threat_level_other</th>\n",
              "      <th>threat_level_undetermined</th>\n",
              "      <th>flee_Car</th>\n",
              "      <th>flee_Foot</th>\n",
              "      <th>flee_Not fleeing</th>\n",
              "      <th>flee_Other</th>\n",
              "    </tr>\n",
              "  </thead>\n",
              "  <tbody>\n",
              "    <tr>\n",
              "      <th>0</th>\n",
              "      <td>53.0</td>\n",
              "      <td>True</td>\n",
              "      <td>False</td>\n",
              "      <td>80.1</td>\n",
              "      <td>37072.0</td>\n",
              "      <td>28.6</td>\n",
              "      <td>78.9</td>\n",
              "      <td>0.8</td>\n",
              "      <td>3.7</td>\n",
              "      <td>1.1</td>\n",
              "      <td>...</td>\n",
              "      <td>0</td>\n",
              "      <td>0</td>\n",
              "      <td>1</td>\n",
              "      <td>1</td>\n",
              "      <td>0</td>\n",
              "      <td>0</td>\n",
              "      <td>0</td>\n",
              "      <td>0</td>\n",
              "      <td>1</td>\n",
              "      <td>0</td>\n",
              "    </tr>\n",
              "    <tr>\n",
              "      <th>1</th>\n",
              "      <td>47.0</td>\n",
              "      <td>False</td>\n",
              "      <td>False</td>\n",
              "      <td>88.1</td>\n",
              "      <td>65765.0</td>\n",
              "      <td>14.9</td>\n",
              "      <td>70.9</td>\n",
              "      <td>2.6</td>\n",
              "      <td>1.0</td>\n",
              "      <td>8.9</td>\n",
              "      <td>...</td>\n",
              "      <td>0</td>\n",
              "      <td>0</td>\n",
              "      <td>1</td>\n",
              "      <td>1</td>\n",
              "      <td>0</td>\n",
              "      <td>0</td>\n",
              "      <td>0</td>\n",
              "      <td>0</td>\n",
              "      <td>1</td>\n",
              "      <td>0</td>\n",
              "    </tr>\n",
              "    <tr>\n",
              "      <th>2</th>\n",
              "      <td>23.0</td>\n",
              "      <td>False</td>\n",
              "      <td>False</td>\n",
              "      <td>87.5</td>\n",
              "      <td>45947.0</td>\n",
              "      <td>17.3</td>\n",
              "      <td>71.9</td>\n",
              "      <td>11.5</td>\n",
              "      <td>1.2</td>\n",
              "      <td>4.8</td>\n",
              "      <td>...</td>\n",
              "      <td>0</td>\n",
              "      <td>0</td>\n",
              "      <td>1</td>\n",
              "      <td>0</td>\n",
              "      <td>1</td>\n",
              "      <td>0</td>\n",
              "      <td>0</td>\n",
              "      <td>0</td>\n",
              "      <td>1</td>\n",
              "      <td>0</td>\n",
              "    </tr>\n",
              "    <tr>\n",
              "      <th>3</th>\n",
              "      <td>32.0</td>\n",
              "      <td>True</td>\n",
              "      <td>False</td>\n",
              "      <td>87.0</td>\n",
              "      <td>81294.0</td>\n",
              "      <td>13.2</td>\n",
              "      <td>48.5</td>\n",
              "      <td>6.1</td>\n",
              "      <td>0.5</td>\n",
              "      <td>33.3</td>\n",
              "      <td>...</td>\n",
              "      <td>0</td>\n",
              "      <td>0</td>\n",
              "      <td>1</td>\n",
              "      <td>1</td>\n",
              "      <td>0</td>\n",
              "      <td>0</td>\n",
              "      <td>0</td>\n",
              "      <td>0</td>\n",
              "      <td>1</td>\n",
              "      <td>0</td>\n",
              "    </tr>\n",
              "    <tr>\n",
              "      <th>4</th>\n",
              "      <td>39.0</td>\n",
              "      <td>False</td>\n",
              "      <td>False</td>\n",
              "      <td>76.3</td>\n",
              "      <td>47791.0</td>\n",
              "      <td>16.6</td>\n",
              "      <td>76.5</td>\n",
              "      <td>0.9</td>\n",
              "      <td>1.2</td>\n",
              "      <td>0.9</td>\n",
              "      <td>...</td>\n",
              "      <td>0</td>\n",
              "      <td>0</td>\n",
              "      <td>1</td>\n",
              "      <td>1</td>\n",
              "      <td>0</td>\n",
              "      <td>0</td>\n",
              "      <td>0</td>\n",
              "      <td>0</td>\n",
              "      <td>1</td>\n",
              "      <td>0</td>\n",
              "    </tr>\n",
              "  </tbody>\n",
              "</table>\n",
              "<p>5 rows × 78 columns</p>\n",
              "</div>\n",
              "      <button class=\"colab-df-convert\" onclick=\"convertToInteractive('df-387effd4-3b6f-48de-846e-987fd1131215')\"\n",
              "              title=\"Convert this dataframe to an interactive table.\"\n",
              "              style=\"display:none;\">\n",
              "        \n",
              "  <svg xmlns=\"http://www.w3.org/2000/svg\" height=\"24px\"viewBox=\"0 0 24 24\"\n",
              "       width=\"24px\">\n",
              "    <path d=\"M0 0h24v24H0V0z\" fill=\"none\"/>\n",
              "    <path d=\"M18.56 5.44l.94 2.06.94-2.06 2.06-.94-2.06-.94-.94-2.06-.94 2.06-2.06.94zm-11 1L8.5 8.5l.94-2.06 2.06-.94-2.06-.94L8.5 2.5l-.94 2.06-2.06.94zm10 10l.94 2.06.94-2.06 2.06-.94-2.06-.94-.94-2.06-.94 2.06-2.06.94z\"/><path d=\"M17.41 7.96l-1.37-1.37c-.4-.4-.92-.59-1.43-.59-.52 0-1.04.2-1.43.59L10.3 9.45l-7.72 7.72c-.78.78-.78 2.05 0 2.83L4 21.41c.39.39.9.59 1.41.59.51 0 1.02-.2 1.41-.59l7.78-7.78 2.81-2.81c.8-.78.8-2.07 0-2.86zM5.41 20L4 18.59l7.72-7.72 1.47 1.35L5.41 20z\"/>\n",
              "  </svg>\n",
              "      </button>\n",
              "      \n",
              "  <style>\n",
              "    .colab-df-container {\n",
              "      display:flex;\n",
              "      flex-wrap:wrap;\n",
              "      gap: 12px;\n",
              "    }\n",
              "\n",
              "    .colab-df-convert {\n",
              "      background-color: #E8F0FE;\n",
              "      border: none;\n",
              "      border-radius: 50%;\n",
              "      cursor: pointer;\n",
              "      display: none;\n",
              "      fill: #1967D2;\n",
              "      height: 32px;\n",
              "      padding: 0 0 0 0;\n",
              "      width: 32px;\n",
              "    }\n",
              "\n",
              "    .colab-df-convert:hover {\n",
              "      background-color: #E2EBFA;\n",
              "      box-shadow: 0px 1px 2px rgba(60, 64, 67, 0.3), 0px 1px 3px 1px rgba(60, 64, 67, 0.15);\n",
              "      fill: #174EA6;\n",
              "    }\n",
              "\n",
              "    [theme=dark] .colab-df-convert {\n",
              "      background-color: #3B4455;\n",
              "      fill: #D2E3FC;\n",
              "    }\n",
              "\n",
              "    [theme=dark] .colab-df-convert:hover {\n",
              "      background-color: #434B5C;\n",
              "      box-shadow: 0px 1px 3px 1px rgba(0, 0, 0, 0.15);\n",
              "      filter: drop-shadow(0px 1px 2px rgba(0, 0, 0, 0.3));\n",
              "      fill: #FFFFFF;\n",
              "    }\n",
              "  </style>\n",
              "\n",
              "      <script>\n",
              "        const buttonEl =\n",
              "          document.querySelector('#df-387effd4-3b6f-48de-846e-987fd1131215 button.colab-df-convert');\n",
              "        buttonEl.style.display =\n",
              "          google.colab.kernel.accessAllowed ? 'block' : 'none';\n",
              "\n",
              "        async function convertToInteractive(key) {\n",
              "          const element = document.querySelector('#df-387effd4-3b6f-48de-846e-987fd1131215');\n",
              "          const dataTable =\n",
              "            await google.colab.kernel.invokeFunction('convertToInteractive',\n",
              "                                                     [key], {});\n",
              "          if (!dataTable) return;\n",
              "\n",
              "          const docLinkHtml = 'Like what you see? Visit the ' +\n",
              "            '<a target=\"_blank\" href=https://colab.research.google.com/notebooks/data_table.ipynb>data table notebook</a>'\n",
              "            + ' to learn more about interactive tables.';\n",
              "          element.innerHTML = '';\n",
              "          dataTable['output_type'] = 'display_data';\n",
              "          await google.colab.output.renderOutput(dataTable, element);\n",
              "          const docLink = document.createElement('div');\n",
              "          docLink.innerHTML = docLinkHtml;\n",
              "          element.appendChild(docLink);\n",
              "        }\n",
              "      </script>\n",
              "    </div>\n",
              "  </div>\n",
              "  "
            ]
          },
          "metadata": {},
          "execution_count": 183
        }
      ],
      "source": [
        "X_train.head()"
      ]
    },
    {
      "cell_type": "code",
      "execution_count": 184,
      "metadata": {
        "id": "e5iVKikcu45n",
        "outputId": "b5631fb5-42b9-4367-c5b0-98f43d13b6cb",
        "colab": {
          "base_uri": "https://localhost:8080/"
        }
      },
      "outputs": [
        {
          "output_type": "execute_result",
          "data": {
            "text/plain": [
              "0    A\n",
              "1    W\n",
              "2    H\n",
              "3    W\n",
              "4    H\n",
              "Name: race, dtype: object"
            ]
          },
          "metadata": {},
          "execution_count": 184
        }
      ],
      "source": [
        "y_train.head()"
      ]
    },
    {
      "cell_type": "markdown",
      "metadata": {
        "id": "nIHTlWS_u45n"
      },
      "source": [
        "## Exploratory Data Analysis"
      ]
    },
    {
      "cell_type": "code",
      "source": [
        "X_test.head()"
      ],
      "metadata": {
        "id": "8s25WSdazt2_",
        "outputId": "6baac395-d537-4d3e-dd53-91217ae34d7d",
        "colab": {
          "base_uri": "https://localhost:8080/",
          "height": 317
        }
      },
      "execution_count": 185,
      "outputs": [
        {
          "output_type": "execute_result",
          "data": {
            "text/plain": [
              "    age  signs_of_mental_illness  body_camera  percent_completed_hs  \\\n",
              "0  54.0                    False        False                  88.4   \n",
              "1  50.0                     True         True                  82.0   \n",
              "2  28.0                    False        False                  88.4   \n",
              "3  59.0                     True         True                  90.9   \n",
              "4  24.0                    False         True                  89.0   \n",
              "\n",
              "   Median Income  poverty_rate  share_white  share_black  \\\n",
              "0        58227.0          11.4         71.0         22.2   \n",
              "1        50536.0          14.7         96.0          0.0   \n",
              "2        53637.0          16.8         50.0         35.0   \n",
              "3        61442.0           7.3         74.7         19.0   \n",
              "4        47527.0          24.6         38.4         54.0   \n",
              "\n",
              "   share_native_american  share_asian  ...  armed_vehicle  gender_F  gender_M  \\\n",
              "0                    0.3          1.7  ...              0         0         1   \n",
              "1                    3.2          0.0  ...              0         0         1   \n",
              "2                    0.5          5.0  ...              0         0         1   \n",
              "3                    0.2          3.2  ...              0         0         1   \n",
              "4                    0.2          3.1  ...              0         0         1   \n",
              "\n",
              "   threat_level_attack  threat_level_other  threat_level_undetermined  \\\n",
              "0                    1                   0                          0   \n",
              "1                    1                   0                          0   \n",
              "2                    0                   1                          0   \n",
              "3                    1                   0                          0   \n",
              "4                    0                   1                          0   \n",
              "\n",
              "   flee_Car  flee_Foot  flee_Not fleeing  flee_Other  \n",
              "0         0          0                 1           0  \n",
              "1         0          0                 1           0  \n",
              "2         1          0                 0           0  \n",
              "3         0          0                 1           0  \n",
              "4         1          0                 0           0  \n",
              "\n",
              "[5 rows x 45 columns]"
            ],
            "text/html": [
              "\n",
              "  <div id=\"df-f2fa8767-6b9c-4657-b829-a7038def6db6\">\n",
              "    <div class=\"colab-df-container\">\n",
              "      <div>\n",
              "<style scoped>\n",
              "    .dataframe tbody tr th:only-of-type {\n",
              "        vertical-align: middle;\n",
              "    }\n",
              "\n",
              "    .dataframe tbody tr th {\n",
              "        vertical-align: top;\n",
              "    }\n",
              "\n",
              "    .dataframe thead th {\n",
              "        text-align: right;\n",
              "    }\n",
              "</style>\n",
              "<table border=\"1\" class=\"dataframe\">\n",
              "  <thead>\n",
              "    <tr style=\"text-align: right;\">\n",
              "      <th></th>\n",
              "      <th>age</th>\n",
              "      <th>signs_of_mental_illness</th>\n",
              "      <th>body_camera</th>\n",
              "      <th>percent_completed_hs</th>\n",
              "      <th>Median Income</th>\n",
              "      <th>poverty_rate</th>\n",
              "      <th>share_white</th>\n",
              "      <th>share_black</th>\n",
              "      <th>share_native_american</th>\n",
              "      <th>share_asian</th>\n",
              "      <th>...</th>\n",
              "      <th>armed_vehicle</th>\n",
              "      <th>gender_F</th>\n",
              "      <th>gender_M</th>\n",
              "      <th>threat_level_attack</th>\n",
              "      <th>threat_level_other</th>\n",
              "      <th>threat_level_undetermined</th>\n",
              "      <th>flee_Car</th>\n",
              "      <th>flee_Foot</th>\n",
              "      <th>flee_Not fleeing</th>\n",
              "      <th>flee_Other</th>\n",
              "    </tr>\n",
              "  </thead>\n",
              "  <tbody>\n",
              "    <tr>\n",
              "      <th>0</th>\n",
              "      <td>54.0</td>\n",
              "      <td>False</td>\n",
              "      <td>False</td>\n",
              "      <td>88.4</td>\n",
              "      <td>58227.0</td>\n",
              "      <td>11.4</td>\n",
              "      <td>71.0</td>\n",
              "      <td>22.2</td>\n",
              "      <td>0.3</td>\n",
              "      <td>1.7</td>\n",
              "      <td>...</td>\n",
              "      <td>0</td>\n",
              "      <td>0</td>\n",
              "      <td>1</td>\n",
              "      <td>1</td>\n",
              "      <td>0</td>\n",
              "      <td>0</td>\n",
              "      <td>0</td>\n",
              "      <td>0</td>\n",
              "      <td>1</td>\n",
              "      <td>0</td>\n",
              "    </tr>\n",
              "    <tr>\n",
              "      <th>1</th>\n",
              "      <td>50.0</td>\n",
              "      <td>True</td>\n",
              "      <td>True</td>\n",
              "      <td>82.0</td>\n",
              "      <td>50536.0</td>\n",
              "      <td>14.7</td>\n",
              "      <td>96.0</td>\n",
              "      <td>0.0</td>\n",
              "      <td>3.2</td>\n",
              "      <td>0.0</td>\n",
              "      <td>...</td>\n",
              "      <td>0</td>\n",
              "      <td>0</td>\n",
              "      <td>1</td>\n",
              "      <td>1</td>\n",
              "      <td>0</td>\n",
              "      <td>0</td>\n",
              "      <td>0</td>\n",
              "      <td>0</td>\n",
              "      <td>1</td>\n",
              "      <td>0</td>\n",
              "    </tr>\n",
              "    <tr>\n",
              "      <th>2</th>\n",
              "      <td>28.0</td>\n",
              "      <td>False</td>\n",
              "      <td>False</td>\n",
              "      <td>88.4</td>\n",
              "      <td>53637.0</td>\n",
              "      <td>16.8</td>\n",
              "      <td>50.0</td>\n",
              "      <td>35.0</td>\n",
              "      <td>0.5</td>\n",
              "      <td>5.0</td>\n",
              "      <td>...</td>\n",
              "      <td>0</td>\n",
              "      <td>0</td>\n",
              "      <td>1</td>\n",
              "      <td>0</td>\n",
              "      <td>1</td>\n",
              "      <td>0</td>\n",
              "      <td>1</td>\n",
              "      <td>0</td>\n",
              "      <td>0</td>\n",
              "      <td>0</td>\n",
              "    </tr>\n",
              "    <tr>\n",
              "      <th>3</th>\n",
              "      <td>59.0</td>\n",
              "      <td>True</td>\n",
              "      <td>True</td>\n",
              "      <td>90.9</td>\n",
              "      <td>61442.0</td>\n",
              "      <td>7.3</td>\n",
              "      <td>74.7</td>\n",
              "      <td>19.0</td>\n",
              "      <td>0.2</td>\n",
              "      <td>3.2</td>\n",
              "      <td>...</td>\n",
              "      <td>0</td>\n",
              "      <td>0</td>\n",
              "      <td>1</td>\n",
              "      <td>1</td>\n",
              "      <td>0</td>\n",
              "      <td>0</td>\n",
              "      <td>0</td>\n",
              "      <td>0</td>\n",
              "      <td>1</td>\n",
              "      <td>0</td>\n",
              "    </tr>\n",
              "    <tr>\n",
              "      <th>4</th>\n",
              "      <td>24.0</td>\n",
              "      <td>False</td>\n",
              "      <td>True</td>\n",
              "      <td>89.0</td>\n",
              "      <td>47527.0</td>\n",
              "      <td>24.6</td>\n",
              "      <td>38.4</td>\n",
              "      <td>54.0</td>\n",
              "      <td>0.2</td>\n",
              "      <td>3.1</td>\n",
              "      <td>...</td>\n",
              "      <td>0</td>\n",
              "      <td>0</td>\n",
              "      <td>1</td>\n",
              "      <td>0</td>\n",
              "      <td>1</td>\n",
              "      <td>0</td>\n",
              "      <td>1</td>\n",
              "      <td>0</td>\n",
              "      <td>0</td>\n",
              "      <td>0</td>\n",
              "    </tr>\n",
              "  </tbody>\n",
              "</table>\n",
              "<p>5 rows × 45 columns</p>\n",
              "</div>\n",
              "      <button class=\"colab-df-convert\" onclick=\"convertToInteractive('df-f2fa8767-6b9c-4657-b829-a7038def6db6')\"\n",
              "              title=\"Convert this dataframe to an interactive table.\"\n",
              "              style=\"display:none;\">\n",
              "        \n",
              "  <svg xmlns=\"http://www.w3.org/2000/svg\" height=\"24px\"viewBox=\"0 0 24 24\"\n",
              "       width=\"24px\">\n",
              "    <path d=\"M0 0h24v24H0V0z\" fill=\"none\"/>\n",
              "    <path d=\"M18.56 5.44l.94 2.06.94-2.06 2.06-.94-2.06-.94-.94-2.06-.94 2.06-2.06.94zm-11 1L8.5 8.5l.94-2.06 2.06-.94-2.06-.94L8.5 2.5l-.94 2.06-2.06.94zm10 10l.94 2.06.94-2.06 2.06-.94-2.06-.94-.94-2.06-.94 2.06-2.06.94z\"/><path d=\"M17.41 7.96l-1.37-1.37c-.4-.4-.92-.59-1.43-.59-.52 0-1.04.2-1.43.59L10.3 9.45l-7.72 7.72c-.78.78-.78 2.05 0 2.83L4 21.41c.39.39.9.59 1.41.59.51 0 1.02-.2 1.41-.59l7.78-7.78 2.81-2.81c.8-.78.8-2.07 0-2.86zM5.41 20L4 18.59l7.72-7.72 1.47 1.35L5.41 20z\"/>\n",
              "  </svg>\n",
              "      </button>\n",
              "      \n",
              "  <style>\n",
              "    .colab-df-container {\n",
              "      display:flex;\n",
              "      flex-wrap:wrap;\n",
              "      gap: 12px;\n",
              "    }\n",
              "\n",
              "    .colab-df-convert {\n",
              "      background-color: #E8F0FE;\n",
              "      border: none;\n",
              "      border-radius: 50%;\n",
              "      cursor: pointer;\n",
              "      display: none;\n",
              "      fill: #1967D2;\n",
              "      height: 32px;\n",
              "      padding: 0 0 0 0;\n",
              "      width: 32px;\n",
              "    }\n",
              "\n",
              "    .colab-df-convert:hover {\n",
              "      background-color: #E2EBFA;\n",
              "      box-shadow: 0px 1px 2px rgba(60, 64, 67, 0.3), 0px 1px 3px 1px rgba(60, 64, 67, 0.15);\n",
              "      fill: #174EA6;\n",
              "    }\n",
              "\n",
              "    [theme=dark] .colab-df-convert {\n",
              "      background-color: #3B4455;\n",
              "      fill: #D2E3FC;\n",
              "    }\n",
              "\n",
              "    [theme=dark] .colab-df-convert:hover {\n",
              "      background-color: #434B5C;\n",
              "      box-shadow: 0px 1px 3px 1px rgba(0, 0, 0, 0.15);\n",
              "      filter: drop-shadow(0px 1px 2px rgba(0, 0, 0, 0.3));\n",
              "      fill: #FFFFFF;\n",
              "    }\n",
              "  </style>\n",
              "\n",
              "      <script>\n",
              "        const buttonEl =\n",
              "          document.querySelector('#df-f2fa8767-6b9c-4657-b829-a7038def6db6 button.colab-df-convert');\n",
              "        buttonEl.style.display =\n",
              "          google.colab.kernel.accessAllowed ? 'block' : 'none';\n",
              "\n",
              "        async function convertToInteractive(key) {\n",
              "          const element = document.querySelector('#df-f2fa8767-6b9c-4657-b829-a7038def6db6');\n",
              "          const dataTable =\n",
              "            await google.colab.kernel.invokeFunction('convertToInteractive',\n",
              "                                                     [key], {});\n",
              "          if (!dataTable) return;\n",
              "\n",
              "          const docLinkHtml = 'Like what you see? Visit the ' +\n",
              "            '<a target=\"_blank\" href=https://colab.research.google.com/notebooks/data_table.ipynb>data table notebook</a>'\n",
              "            + ' to learn more about interactive tables.';\n",
              "          element.innerHTML = '';\n",
              "          dataTable['output_type'] = 'display_data';\n",
              "          await google.colab.output.renderOutput(dataTable, element);\n",
              "          const docLink = document.createElement('div');\n",
              "          docLink.innerHTML = docLinkHtml;\n",
              "          element.appendChild(docLink);\n",
              "        }\n",
              "      </script>\n",
              "    </div>\n",
              "  </div>\n",
              "  "
            ]
          },
          "metadata": {},
          "execution_count": 185
        }
      ]
    },
    {
      "cell_type": "code",
      "source": [
        "X_train.tail()"
      ],
      "metadata": {
        "id": "0DfgB6md5KNl",
        "outputId": "f00f152b-2c1c-4dee-8db7-97a709ff72f9",
        "colab": {
          "base_uri": "https://localhost:8080/",
          "height": 317
        }
      },
      "execution_count": 186,
      "outputs": [
        {
          "output_type": "execute_result",
          "data": {
            "text/plain": [
              "       age  signs_of_mental_illness  body_camera  percent_completed_hs  \\\n",
              "2021  26.0                    False         True                  85.2   \n",
              "2022  27.0                    False        False                  79.6   \n",
              "2023  29.0                     True         True                  85.5   \n",
              "2026  32.0                    False        False                  92.9   \n",
              "2027  37.0                     True        False                  83.5   \n",
              "\n",
              "      Median Income  poverty_rate  share_white  share_black  \\\n",
              "2021        36792.0          27.0         33.0         60.2   \n",
              "2022        57095.0          19.8         56.8          8.2   \n",
              "2023        41330.0          24.4         75.3          2.4   \n",
              "2026        57417.0          13.2         91.2          0.6   \n",
              "2027        51375.0          11.7         80.5         12.6   \n",
              "\n",
              "      share_native_american  share_asian  ...  armed_vehicle  gender_F  \\\n",
              "2021                    0.3          2.9  ...              0         0   \n",
              "2022                    1.5          6.2  ...              0         0   \n",
              "2023                    1.7          1.6  ...              0         0   \n",
              "2026                    0.8          0.7  ...              0         0   \n",
              "2027                    0.4          1.1  ...              1         0   \n",
              "\n",
              "      gender_M  threat_level_attack  threat_level_other  \\\n",
              "2021         1                    1                   0   \n",
              "2022         1                    1                   0   \n",
              "2023         1                    1                   0   \n",
              "2026         1                    1                   0   \n",
              "2027         1                    1                   0   \n",
              "\n",
              "      threat_level_undetermined  flee_Car  flee_Foot  flee_Not fleeing  \\\n",
              "2021                          0         1          0                 0   \n",
              "2022                          0         0          0                 0   \n",
              "2023                          0         0          1                 0   \n",
              "2026                          0         1          0                 0   \n",
              "2027                          0         1          0                 0   \n",
              "\n",
              "      flee_Other  \n",
              "2021           0  \n",
              "2022           1  \n",
              "2023           0  \n",
              "2026           0  \n",
              "2027           0  \n",
              "\n",
              "[5 rows x 78 columns]"
            ],
            "text/html": [
              "\n",
              "  <div id=\"df-92b9a3dd-3d4a-4302-80e0-be9a1c6ff8d9\">\n",
              "    <div class=\"colab-df-container\">\n",
              "      <div>\n",
              "<style scoped>\n",
              "    .dataframe tbody tr th:only-of-type {\n",
              "        vertical-align: middle;\n",
              "    }\n",
              "\n",
              "    .dataframe tbody tr th {\n",
              "        vertical-align: top;\n",
              "    }\n",
              "\n",
              "    .dataframe thead th {\n",
              "        text-align: right;\n",
              "    }\n",
              "</style>\n",
              "<table border=\"1\" class=\"dataframe\">\n",
              "  <thead>\n",
              "    <tr style=\"text-align: right;\">\n",
              "      <th></th>\n",
              "      <th>age</th>\n",
              "      <th>signs_of_mental_illness</th>\n",
              "      <th>body_camera</th>\n",
              "      <th>percent_completed_hs</th>\n",
              "      <th>Median Income</th>\n",
              "      <th>poverty_rate</th>\n",
              "      <th>share_white</th>\n",
              "      <th>share_black</th>\n",
              "      <th>share_native_american</th>\n",
              "      <th>share_asian</th>\n",
              "      <th>...</th>\n",
              "      <th>armed_vehicle</th>\n",
              "      <th>gender_F</th>\n",
              "      <th>gender_M</th>\n",
              "      <th>threat_level_attack</th>\n",
              "      <th>threat_level_other</th>\n",
              "      <th>threat_level_undetermined</th>\n",
              "      <th>flee_Car</th>\n",
              "      <th>flee_Foot</th>\n",
              "      <th>flee_Not fleeing</th>\n",
              "      <th>flee_Other</th>\n",
              "    </tr>\n",
              "  </thead>\n",
              "  <tbody>\n",
              "    <tr>\n",
              "      <th>2021</th>\n",
              "      <td>26.0</td>\n",
              "      <td>False</td>\n",
              "      <td>True</td>\n",
              "      <td>85.2</td>\n",
              "      <td>36792.0</td>\n",
              "      <td>27.0</td>\n",
              "      <td>33.0</td>\n",
              "      <td>60.2</td>\n",
              "      <td>0.3</td>\n",
              "      <td>2.9</td>\n",
              "      <td>...</td>\n",
              "      <td>0</td>\n",
              "      <td>0</td>\n",
              "      <td>1</td>\n",
              "      <td>1</td>\n",
              "      <td>0</td>\n",
              "      <td>0</td>\n",
              "      <td>1</td>\n",
              "      <td>0</td>\n",
              "      <td>0</td>\n",
              "      <td>0</td>\n",
              "    </tr>\n",
              "    <tr>\n",
              "      <th>2022</th>\n",
              "      <td>27.0</td>\n",
              "      <td>False</td>\n",
              "      <td>False</td>\n",
              "      <td>79.6</td>\n",
              "      <td>57095.0</td>\n",
              "      <td>19.8</td>\n",
              "      <td>56.8</td>\n",
              "      <td>8.2</td>\n",
              "      <td>1.5</td>\n",
              "      <td>6.2</td>\n",
              "      <td>...</td>\n",
              "      <td>0</td>\n",
              "      <td>0</td>\n",
              "      <td>1</td>\n",
              "      <td>1</td>\n",
              "      <td>0</td>\n",
              "      <td>0</td>\n",
              "      <td>0</td>\n",
              "      <td>0</td>\n",
              "      <td>0</td>\n",
              "      <td>1</td>\n",
              "    </tr>\n",
              "    <tr>\n",
              "      <th>2023</th>\n",
              "      <td>29.0</td>\n",
              "      <td>True</td>\n",
              "      <td>True</td>\n",
              "      <td>85.5</td>\n",
              "      <td>41330.0</td>\n",
              "      <td>24.4</td>\n",
              "      <td>75.3</td>\n",
              "      <td>2.4</td>\n",
              "      <td>1.7</td>\n",
              "      <td>1.6</td>\n",
              "      <td>...</td>\n",
              "      <td>0</td>\n",
              "      <td>0</td>\n",
              "      <td>1</td>\n",
              "      <td>1</td>\n",
              "      <td>0</td>\n",
              "      <td>0</td>\n",
              "      <td>0</td>\n",
              "      <td>1</td>\n",
              "      <td>0</td>\n",
              "      <td>0</td>\n",
              "    </tr>\n",
              "    <tr>\n",
              "      <th>2026</th>\n",
              "      <td>32.0</td>\n",
              "      <td>False</td>\n",
              "      <td>False</td>\n",
              "      <td>92.9</td>\n",
              "      <td>57417.0</td>\n",
              "      <td>13.2</td>\n",
              "      <td>91.2</td>\n",
              "      <td>0.6</td>\n",
              "      <td>0.8</td>\n",
              "      <td>0.7</td>\n",
              "      <td>...</td>\n",
              "      <td>0</td>\n",
              "      <td>0</td>\n",
              "      <td>1</td>\n",
              "      <td>1</td>\n",
              "      <td>0</td>\n",
              "      <td>0</td>\n",
              "      <td>1</td>\n",
              "      <td>0</td>\n",
              "      <td>0</td>\n",
              "      <td>0</td>\n",
              "    </tr>\n",
              "    <tr>\n",
              "      <th>2027</th>\n",
              "      <td>37.0</td>\n",
              "      <td>True</td>\n",
              "      <td>False</td>\n",
              "      <td>83.5</td>\n",
              "      <td>51375.0</td>\n",
              "      <td>11.7</td>\n",
              "      <td>80.5</td>\n",
              "      <td>12.6</td>\n",
              "      <td>0.4</td>\n",
              "      <td>1.1</td>\n",
              "      <td>...</td>\n",
              "      <td>1</td>\n",
              "      <td>0</td>\n",
              "      <td>1</td>\n",
              "      <td>1</td>\n",
              "      <td>0</td>\n",
              "      <td>0</td>\n",
              "      <td>1</td>\n",
              "      <td>0</td>\n",
              "      <td>0</td>\n",
              "      <td>0</td>\n",
              "    </tr>\n",
              "  </tbody>\n",
              "</table>\n",
              "<p>5 rows × 78 columns</p>\n",
              "</div>\n",
              "      <button class=\"colab-df-convert\" onclick=\"convertToInteractive('df-92b9a3dd-3d4a-4302-80e0-be9a1c6ff8d9')\"\n",
              "              title=\"Convert this dataframe to an interactive table.\"\n",
              "              style=\"display:none;\">\n",
              "        \n",
              "  <svg xmlns=\"http://www.w3.org/2000/svg\" height=\"24px\"viewBox=\"0 0 24 24\"\n",
              "       width=\"24px\">\n",
              "    <path d=\"M0 0h24v24H0V0z\" fill=\"none\"/>\n",
              "    <path d=\"M18.56 5.44l.94 2.06.94-2.06 2.06-.94-2.06-.94-.94-2.06-.94 2.06-2.06.94zm-11 1L8.5 8.5l.94-2.06 2.06-.94-2.06-.94L8.5 2.5l-.94 2.06-2.06.94zm10 10l.94 2.06.94-2.06 2.06-.94-2.06-.94-.94-2.06-.94 2.06-2.06.94z\"/><path d=\"M17.41 7.96l-1.37-1.37c-.4-.4-.92-.59-1.43-.59-.52 0-1.04.2-1.43.59L10.3 9.45l-7.72 7.72c-.78.78-.78 2.05 0 2.83L4 21.41c.39.39.9.59 1.41.59.51 0 1.02-.2 1.41-.59l7.78-7.78 2.81-2.81c.8-.78.8-2.07 0-2.86zM5.41 20L4 18.59l7.72-7.72 1.47 1.35L5.41 20z\"/>\n",
              "  </svg>\n",
              "      </button>\n",
              "      \n",
              "  <style>\n",
              "    .colab-df-container {\n",
              "      display:flex;\n",
              "      flex-wrap:wrap;\n",
              "      gap: 12px;\n",
              "    }\n",
              "\n",
              "    .colab-df-convert {\n",
              "      background-color: #E8F0FE;\n",
              "      border: none;\n",
              "      border-radius: 50%;\n",
              "      cursor: pointer;\n",
              "      display: none;\n",
              "      fill: #1967D2;\n",
              "      height: 32px;\n",
              "      padding: 0 0 0 0;\n",
              "      width: 32px;\n",
              "    }\n",
              "\n",
              "    .colab-df-convert:hover {\n",
              "      background-color: #E2EBFA;\n",
              "      box-shadow: 0px 1px 2px rgba(60, 64, 67, 0.3), 0px 1px 3px 1px rgba(60, 64, 67, 0.15);\n",
              "      fill: #174EA6;\n",
              "    }\n",
              "\n",
              "    [theme=dark] .colab-df-convert {\n",
              "      background-color: #3B4455;\n",
              "      fill: #D2E3FC;\n",
              "    }\n",
              "\n",
              "    [theme=dark] .colab-df-convert:hover {\n",
              "      background-color: #434B5C;\n",
              "      box-shadow: 0px 1px 3px 1px rgba(0, 0, 0, 0.15);\n",
              "      filter: drop-shadow(0px 1px 2px rgba(0, 0, 0, 0.3));\n",
              "      fill: #FFFFFF;\n",
              "    }\n",
              "  </style>\n",
              "\n",
              "      <script>\n",
              "        const buttonEl =\n",
              "          document.querySelector('#df-92b9a3dd-3d4a-4302-80e0-be9a1c6ff8d9 button.colab-df-convert');\n",
              "        buttonEl.style.display =\n",
              "          google.colab.kernel.accessAllowed ? 'block' : 'none';\n",
              "\n",
              "        async function convertToInteractive(key) {\n",
              "          const element = document.querySelector('#df-92b9a3dd-3d4a-4302-80e0-be9a1c6ff8d9');\n",
              "          const dataTable =\n",
              "            await google.colab.kernel.invokeFunction('convertToInteractive',\n",
              "                                                     [key], {});\n",
              "          if (!dataTable) return;\n",
              "\n",
              "          const docLinkHtml = 'Like what you see? Visit the ' +\n",
              "            '<a target=\"_blank\" href=https://colab.research.google.com/notebooks/data_table.ipynb>data table notebook</a>'\n",
              "            + ' to learn more about interactive tables.';\n",
              "          element.innerHTML = '';\n",
              "          dataTable['output_type'] = 'display_data';\n",
              "          await google.colab.output.renderOutput(dataTable, element);\n",
              "          const docLink = document.createElement('div');\n",
              "          docLink.innerHTML = docLinkHtml;\n",
              "          element.appendChild(docLink);\n",
              "        }\n",
              "      </script>\n",
              "    </div>\n",
              "  </div>\n",
              "  "
            ]
          },
          "metadata": {},
          "execution_count": 186
        }
      ]
    },
    {
      "cell_type": "code",
      "source": [
        "y_train.head()"
      ],
      "metadata": {
        "id": "nQFwrygO5OhC",
        "outputId": "836a1794-de34-45b2-b61a-8c86ef2186c8",
        "colab": {
          "base_uri": "https://localhost:8080/"
        }
      },
      "execution_count": 187,
      "outputs": [
        {
          "output_type": "execute_result",
          "data": {
            "text/plain": [
              "0    A\n",
              "1    W\n",
              "2    H\n",
              "3    W\n",
              "4    H\n",
              "Name: race, dtype: object"
            ]
          },
          "metadata": {},
          "execution_count": 187
        }
      ]
    },
    {
      "cell_type": "code",
      "source": [
        "y_train.tail()"
      ],
      "metadata": {
        "id": "UgxImmPi5RRS",
        "outputId": "441c06df-b41d-410e-ee4e-ec41ae7c14f4",
        "colab": {
          "base_uri": "https://localhost:8080/"
        }
      },
      "execution_count": 188,
      "outputs": [
        {
          "output_type": "execute_result",
          "data": {
            "text/plain": [
              "2021    B\n",
              "2022    H\n",
              "2023    H\n",
              "2026    H\n",
              "2027    W\n",
              "Name: race, dtype: object"
            ]
          },
          "metadata": {},
          "execution_count": 188
        }
      ]
    },
    {
      "cell_type": "code",
      "source": [
        "train.interpolate()\n",
        "train.isnull().sum()"
      ],
      "metadata": {
        "id": "rYZk9kZV5XPH",
        "outputId": "2e2a3f56-77b3-4b4b-cb89-7ad8c8c06754",
        "colab": {
          "base_uri": "https://localhost:8080/"
        }
      },
      "execution_count": 189,
      "outputs": [
        {
          "output_type": "execute_result",
          "data": {
            "text/plain": [
              "id                         0\n",
              "name                       0\n",
              "date                       0\n",
              "manner_of_death            0\n",
              "armed                      0\n",
              "age                        0\n",
              "gender                     0\n",
              "race                       0\n",
              "city                       0\n",
              "state                      0\n",
              "signs_of_mental_illness    0\n",
              "threat_level               0\n",
              "flee                       0\n",
              "body_camera                0\n",
              "percent_completed_hs       0\n",
              "Median Income              0\n",
              "poverty_rate               0\n",
              "share_white                0\n",
              "share_black                0\n",
              "share_native_american      0\n",
              "share_asian                0\n",
              "share_hispanic             0\n",
              "dtype: int64"
            ]
          },
          "metadata": {},
          "execution_count": 189
        }
      ]
    },
    {
      "cell_type": "code",
      "source": [
        "train.shape"
      ],
      "metadata": {
        "id": "eD2TQ7w55gCY",
        "outputId": "fea901f1-9cfa-4823-8b24-d73dbd235343",
        "colab": {
          "base_uri": "https://localhost:8080/"
        }
      },
      "execution_count": 190,
      "outputs": [
        {
          "output_type": "execute_result",
          "data": {
            "text/plain": [
              "(1697, 22)"
            ]
          },
          "metadata": {},
          "execution_count": 190
        }
      ]
    },
    {
      "cell_type": "code",
      "source": [
        "train.info"
      ],
      "metadata": {
        "id": "i6QWelrV5lpn",
        "outputId": "c26db0a0-9914-4dce-9aa6-5e1a3cde4763",
        "colab": {
          "base_uri": "https://localhost:8080/"
        }
      },
      "execution_count": 191,
      "outputs": [
        {
          "output_type": "execute_result",
          "data": {
            "text/plain": [
              "<bound method DataFrame.info of         id                         name      date   manner_of_death  \\\n",
              "0        3                   Tim Elliot  02/01/15              shot   \n",
              "1        4             Lewis Lee Lembke  02/01/15              shot   \n",
              "2        5           John Paul Quintero  03/01/15  shot and Tasered   \n",
              "3        8              Matthew Hoffman  04/01/15              shot   \n",
              "4        9            Michael Rodriguez  04/01/15              shot   \n",
              "...    ...                          ...       ...               ...   \n",
              "2021  2254               Arties Manning  24/01/17              shot   \n",
              "2022  2255  Antonio Arturo Perez Garcia  24/01/17              shot   \n",
              "2023  2256         Jeremy Lopez-Robledo  24/01/17              shot   \n",
              "2026  2259                Ramon Milanez  24/01/17              shot   \n",
              "2027  2260             Micah R. Lambert  25/01/17              shot   \n",
              "\n",
              "           armed   age gender race           city state  ...         flee  \\\n",
              "0            gun  53.0      M    A        Shelton    WA  ...  Not fleeing   \n",
              "1            gun  47.0      M    W          Aloha    OR  ...  Not fleeing   \n",
              "2        unarmed  23.0      M    H        Wichita    KS  ...  Not fleeing   \n",
              "3     toy weapon  32.0      M    W  San Francisco    CA  ...  Not fleeing   \n",
              "4       nail gun  39.0      M    H          Evans    CO  ...  Not fleeing   \n",
              "...          ...   ...    ...  ...            ...   ...  ...          ...   \n",
              "2021         gun  26.0      M    B    New Orleans    LA  ...          Car   \n",
              "2022         gun  27.0      M    H    Bakersfield    CA  ...        Other   \n",
              "2023       knife  29.0      M    H     Las Cruces    NM  ...         Foot   \n",
              "2026         gun  32.0      M    H           Kuna    ID  ...          Car   \n",
              "2027     vehicle  37.0      M    W         Oxford    AL  ...          Car   \n",
              "\n",
              "     body_camera percent_completed_hs  Median Income  poverty_rate  \\\n",
              "0          False                 80.1        37072.0          28.6   \n",
              "1          False                 88.1        65765.0          14.9   \n",
              "2          False                 87.5        45947.0          17.3   \n",
              "3          False                 87.0        81294.0          13.2   \n",
              "4          False                 76.3        47791.0          16.6   \n",
              "...          ...                  ...            ...           ...   \n",
              "2021        True                 85.2        36792.0          27.0   \n",
              "2022       False                 79.6        57095.0          19.8   \n",
              "2023        True                 85.5        41330.0          24.4   \n",
              "2026       False                 92.9        57417.0          13.2   \n",
              "2027       False                 83.5        51375.0          11.7   \n",
              "\n",
              "      share_white  share_black  share_native_american  share_asian  \\\n",
              "0            78.9          0.8                    3.7          1.1   \n",
              "1            70.9          2.6                    1.0          8.9   \n",
              "2            71.9         11.5                    1.2          4.8   \n",
              "3            48.5          6.1                    0.5         33.3   \n",
              "4            76.5          0.9                    1.2          0.9   \n",
              "...           ...          ...                    ...          ...   \n",
              "2021         33.0         60.2                    0.3          2.9   \n",
              "2022         56.8          8.2                    1.5          6.2   \n",
              "2023         75.3          2.4                    1.7          1.6   \n",
              "2026         91.2          0.6                    0.8          0.7   \n",
              "2027         80.5         12.6                    0.4          1.1   \n",
              "\n",
              "      share_hispanic  \n",
              "0               19.2  \n",
              "1               21.1  \n",
              "2               15.3  \n",
              "3               15.1  \n",
              "4               43.1  \n",
              "...              ...  \n",
              "2021             5.2  \n",
              "2022            45.5  \n",
              "2023            56.8  \n",
              "2026             8.6  \n",
              "2027             6.6  \n",
              "\n",
              "[1697 rows x 22 columns]>"
            ]
          },
          "metadata": {},
          "execution_count": 191
        }
      ]
    },
    {
      "cell_type": "code",
      "source": [
        "train.describe()"
      ],
      "metadata": {
        "id": "kx1jYICn5pF3",
        "outputId": "cd49df63-e8d8-4608-b23b-596969de3bfe",
        "colab": {
          "base_uri": "https://localhost:8080/",
          "height": 382
        }
      },
      "execution_count": 192,
      "outputs": [
        {
          "output_type": "execute_result",
          "data": {
            "text/plain": [
              "                id          age  percent_completed_hs  Median Income  \\\n",
              "count  1697.000000  1697.000000           1697.000000    1697.000000   \n",
              "mean   1149.212139    35.873306             84.316807   49455.544603   \n",
              "std     632.922020    12.483521              8.365033   16450.198560   \n",
              "min       3.000000     6.000000             33.150000   17438.000000   \n",
              "25%     617.000000    26.000000             80.700000   39681.000000   \n",
              "50%    1151.000000    34.000000             85.600000   46912.000000   \n",
              "75%    1688.000000    44.000000             89.800000   54618.000000   \n",
              "max    2260.000000    83.000000            100.000000  198839.000000   \n",
              "\n",
              "       poverty_rate  share_white  share_black  share_native_american  \\\n",
              "count   1697.000000  1697.000000  1697.000000            1697.000000   \n",
              "mean      19.367568    67.292879    15.205275               1.432133   \n",
              "std        8.087651    19.467030    17.309810               4.954118   \n",
              "min        0.000000     0.900000     0.000000               0.000000   \n",
              "25%       14.300000    52.700000     2.500000               0.300000   \n",
              "50%       19.000000    69.700000     8.400000               0.600000   \n",
              "75%       23.400000    82.500000    22.600000               1.000000   \n",
              "max       76.400000   100.000000    98.000000              95.000000   \n",
              "\n",
              "       share_asian  share_hispanic  \n",
              "count  1697.000000     1697.000000  \n",
              "mean      4.359952       20.627339  \n",
              "std       6.374263       20.176668  \n",
              "min       0.000000        0.000000  \n",
              "25%       1.000000        5.133333  \n",
              "50%       2.400000       12.700000  \n",
              "75%       5.000000       32.700000  \n",
              "max      61.900000       97.800000  "
            ],
            "text/html": [
              "\n",
              "  <div id=\"df-cb4664e8-501c-4cd9-9659-ee8875814ebc\">\n",
              "    <div class=\"colab-df-container\">\n",
              "      <div>\n",
              "<style scoped>\n",
              "    .dataframe tbody tr th:only-of-type {\n",
              "        vertical-align: middle;\n",
              "    }\n",
              "\n",
              "    .dataframe tbody tr th {\n",
              "        vertical-align: top;\n",
              "    }\n",
              "\n",
              "    .dataframe thead th {\n",
              "        text-align: right;\n",
              "    }\n",
              "</style>\n",
              "<table border=\"1\" class=\"dataframe\">\n",
              "  <thead>\n",
              "    <tr style=\"text-align: right;\">\n",
              "      <th></th>\n",
              "      <th>id</th>\n",
              "      <th>age</th>\n",
              "      <th>percent_completed_hs</th>\n",
              "      <th>Median Income</th>\n",
              "      <th>poverty_rate</th>\n",
              "      <th>share_white</th>\n",
              "      <th>share_black</th>\n",
              "      <th>share_native_american</th>\n",
              "      <th>share_asian</th>\n",
              "      <th>share_hispanic</th>\n",
              "    </tr>\n",
              "  </thead>\n",
              "  <tbody>\n",
              "    <tr>\n",
              "      <th>count</th>\n",
              "      <td>1697.000000</td>\n",
              "      <td>1697.000000</td>\n",
              "      <td>1697.000000</td>\n",
              "      <td>1697.000000</td>\n",
              "      <td>1697.000000</td>\n",
              "      <td>1697.000000</td>\n",
              "      <td>1697.000000</td>\n",
              "      <td>1697.000000</td>\n",
              "      <td>1697.000000</td>\n",
              "      <td>1697.000000</td>\n",
              "    </tr>\n",
              "    <tr>\n",
              "      <th>mean</th>\n",
              "      <td>1149.212139</td>\n",
              "      <td>35.873306</td>\n",
              "      <td>84.316807</td>\n",
              "      <td>49455.544603</td>\n",
              "      <td>19.367568</td>\n",
              "      <td>67.292879</td>\n",
              "      <td>15.205275</td>\n",
              "      <td>1.432133</td>\n",
              "      <td>4.359952</td>\n",
              "      <td>20.627339</td>\n",
              "    </tr>\n",
              "    <tr>\n",
              "      <th>std</th>\n",
              "      <td>632.922020</td>\n",
              "      <td>12.483521</td>\n",
              "      <td>8.365033</td>\n",
              "      <td>16450.198560</td>\n",
              "      <td>8.087651</td>\n",
              "      <td>19.467030</td>\n",
              "      <td>17.309810</td>\n",
              "      <td>4.954118</td>\n",
              "      <td>6.374263</td>\n",
              "      <td>20.176668</td>\n",
              "    </tr>\n",
              "    <tr>\n",
              "      <th>min</th>\n",
              "      <td>3.000000</td>\n",
              "      <td>6.000000</td>\n",
              "      <td>33.150000</td>\n",
              "      <td>17438.000000</td>\n",
              "      <td>0.000000</td>\n",
              "      <td>0.900000</td>\n",
              "      <td>0.000000</td>\n",
              "      <td>0.000000</td>\n",
              "      <td>0.000000</td>\n",
              "      <td>0.000000</td>\n",
              "    </tr>\n",
              "    <tr>\n",
              "      <th>25%</th>\n",
              "      <td>617.000000</td>\n",
              "      <td>26.000000</td>\n",
              "      <td>80.700000</td>\n",
              "      <td>39681.000000</td>\n",
              "      <td>14.300000</td>\n",
              "      <td>52.700000</td>\n",
              "      <td>2.500000</td>\n",
              "      <td>0.300000</td>\n",
              "      <td>1.000000</td>\n",
              "      <td>5.133333</td>\n",
              "    </tr>\n",
              "    <tr>\n",
              "      <th>50%</th>\n",
              "      <td>1151.000000</td>\n",
              "      <td>34.000000</td>\n",
              "      <td>85.600000</td>\n",
              "      <td>46912.000000</td>\n",
              "      <td>19.000000</td>\n",
              "      <td>69.700000</td>\n",
              "      <td>8.400000</td>\n",
              "      <td>0.600000</td>\n",
              "      <td>2.400000</td>\n",
              "      <td>12.700000</td>\n",
              "    </tr>\n",
              "    <tr>\n",
              "      <th>75%</th>\n",
              "      <td>1688.000000</td>\n",
              "      <td>44.000000</td>\n",
              "      <td>89.800000</td>\n",
              "      <td>54618.000000</td>\n",
              "      <td>23.400000</td>\n",
              "      <td>82.500000</td>\n",
              "      <td>22.600000</td>\n",
              "      <td>1.000000</td>\n",
              "      <td>5.000000</td>\n",
              "      <td>32.700000</td>\n",
              "    </tr>\n",
              "    <tr>\n",
              "      <th>max</th>\n",
              "      <td>2260.000000</td>\n",
              "      <td>83.000000</td>\n",
              "      <td>100.000000</td>\n",
              "      <td>198839.000000</td>\n",
              "      <td>76.400000</td>\n",
              "      <td>100.000000</td>\n",
              "      <td>98.000000</td>\n",
              "      <td>95.000000</td>\n",
              "      <td>61.900000</td>\n",
              "      <td>97.800000</td>\n",
              "    </tr>\n",
              "  </tbody>\n",
              "</table>\n",
              "</div>\n",
              "      <button class=\"colab-df-convert\" onclick=\"convertToInteractive('df-cb4664e8-501c-4cd9-9659-ee8875814ebc')\"\n",
              "              title=\"Convert this dataframe to an interactive table.\"\n",
              "              style=\"display:none;\">\n",
              "        \n",
              "  <svg xmlns=\"http://www.w3.org/2000/svg\" height=\"24px\"viewBox=\"0 0 24 24\"\n",
              "       width=\"24px\">\n",
              "    <path d=\"M0 0h24v24H0V0z\" fill=\"none\"/>\n",
              "    <path d=\"M18.56 5.44l.94 2.06.94-2.06 2.06-.94-2.06-.94-.94-2.06-.94 2.06-2.06.94zm-11 1L8.5 8.5l.94-2.06 2.06-.94-2.06-.94L8.5 2.5l-.94 2.06-2.06.94zm10 10l.94 2.06.94-2.06 2.06-.94-2.06-.94-.94-2.06-.94 2.06-2.06.94z\"/><path d=\"M17.41 7.96l-1.37-1.37c-.4-.4-.92-.59-1.43-.59-.52 0-1.04.2-1.43.59L10.3 9.45l-7.72 7.72c-.78.78-.78 2.05 0 2.83L4 21.41c.39.39.9.59 1.41.59.51 0 1.02-.2 1.41-.59l7.78-7.78 2.81-2.81c.8-.78.8-2.07 0-2.86zM5.41 20L4 18.59l7.72-7.72 1.47 1.35L5.41 20z\"/>\n",
              "  </svg>\n",
              "      </button>\n",
              "      \n",
              "  <style>\n",
              "    .colab-df-container {\n",
              "      display:flex;\n",
              "      flex-wrap:wrap;\n",
              "      gap: 12px;\n",
              "    }\n",
              "\n",
              "    .colab-df-convert {\n",
              "      background-color: #E8F0FE;\n",
              "      border: none;\n",
              "      border-radius: 50%;\n",
              "      cursor: pointer;\n",
              "      display: none;\n",
              "      fill: #1967D2;\n",
              "      height: 32px;\n",
              "      padding: 0 0 0 0;\n",
              "      width: 32px;\n",
              "    }\n",
              "\n",
              "    .colab-df-convert:hover {\n",
              "      background-color: #E2EBFA;\n",
              "      box-shadow: 0px 1px 2px rgba(60, 64, 67, 0.3), 0px 1px 3px 1px rgba(60, 64, 67, 0.15);\n",
              "      fill: #174EA6;\n",
              "    }\n",
              "\n",
              "    [theme=dark] .colab-df-convert {\n",
              "      background-color: #3B4455;\n",
              "      fill: #D2E3FC;\n",
              "    }\n",
              "\n",
              "    [theme=dark] .colab-df-convert:hover {\n",
              "      background-color: #434B5C;\n",
              "      box-shadow: 0px 1px 3px 1px rgba(0, 0, 0, 0.15);\n",
              "      filter: drop-shadow(0px 1px 2px rgba(0, 0, 0, 0.3));\n",
              "      fill: #FFFFFF;\n",
              "    }\n",
              "  </style>\n",
              "\n",
              "      <script>\n",
              "        const buttonEl =\n",
              "          document.querySelector('#df-cb4664e8-501c-4cd9-9659-ee8875814ebc button.colab-df-convert');\n",
              "        buttonEl.style.display =\n",
              "          google.colab.kernel.accessAllowed ? 'block' : 'none';\n",
              "\n",
              "        async function convertToInteractive(key) {\n",
              "          const element = document.querySelector('#df-cb4664e8-501c-4cd9-9659-ee8875814ebc');\n",
              "          const dataTable =\n",
              "            await google.colab.kernel.invokeFunction('convertToInteractive',\n",
              "                                                     [key], {});\n",
              "          if (!dataTable) return;\n",
              "\n",
              "          const docLinkHtml = 'Like what you see? Visit the ' +\n",
              "            '<a target=\"_blank\" href=https://colab.research.google.com/notebooks/data_table.ipynb>data table notebook</a>'\n",
              "            + ' to learn more about interactive tables.';\n",
              "          element.innerHTML = '';\n",
              "          dataTable['output_type'] = 'display_data';\n",
              "          await google.colab.output.renderOutput(dataTable, element);\n",
              "          const docLink = document.createElement('div');\n",
              "          docLink.innerHTML = docLinkHtml;\n",
              "          element.appendChild(docLink);\n",
              "        }\n",
              "      </script>\n",
              "    </div>\n",
              "  </div>\n",
              "  "
            ]
          },
          "metadata": {},
          "execution_count": 192
        }
      ]
    },
    {
      "cell_type": "code",
      "source": [
        "train.nunique()"
      ],
      "metadata": {
        "id": "SCRxlEon5rg2",
        "outputId": "4c39ff49-ad1b-47af-f8db-62a7e2026115",
        "colab": {
          "base_uri": "https://localhost:8080/"
        }
      },
      "execution_count": 193,
      "outputs": [
        {
          "output_type": "execute_result",
          "data": {
            "text/plain": [
              "id                         1697\n",
              "name                       1693\n",
              "date                        672\n",
              "manner_of_death               2\n",
              "armed                        56\n",
              "age                          69\n",
              "gender                        2\n",
              "race                          6\n",
              "city                        941\n",
              "state                        51\n",
              "signs_of_mental_illness       2\n",
              "threat_level                  3\n",
              "flee                          4\n",
              "body_camera                   2\n",
              "percent_completed_hs        362\n",
              "Median Income               995\n",
              "poverty_rate                381\n",
              "share_white                 543\n",
              "share_black                 409\n",
              "share_native_american       114\n",
              "share_asian                 199\n",
              "share_hispanic              433\n",
              "dtype: int64"
            ]
          },
          "metadata": {},
          "execution_count": 193
        }
      ]
    },
    {
      "cell_type": "markdown",
      "source": [
        "Lets explore how the fatal police shootings vary based on the different geographic loactions. The train dataset has 51 unique values for state. These include Washington DC in addition to the 50 states within the United States."
      ],
      "metadata": {
        "id": "q62ZnQ7s61Uz"
      }
    },
    {
      "cell_type": "code",
      "source": [
        "train['state'].value_counts()"
      ],
      "metadata": {
        "id": "Fgt1yat05yqt",
        "outputId": "ca34e083-664f-4896-c1ba-2492df096f85",
        "colab": {
          "base_uri": "https://localhost:8080/"
        }
      },
      "execution_count": 194,
      "outputs": [
        {
          "output_type": "execute_result",
          "data": {
            "text/plain": [
              "CA    284\n",
              "TX    159\n",
              "FL    104\n",
              "AZ     85\n",
              "CO     53\n",
              "GA     49\n",
              "NC     48\n",
              "OH     47\n",
              "IL     46\n",
              "OK     45\n",
              "MO     40\n",
              "WA     38\n",
              "LA     38\n",
              "NM     38\n",
              "AL     35\n",
              "TN     34\n",
              "SC     34\n",
              "IN     33\n",
              "NV     29\n",
              "MD     29\n",
              "VA     29\n",
              "MN     28\n",
              "NY     28\n",
              "PA     27\n",
              "KY     27\n",
              "WI     27\n",
              "OR     22\n",
              "MI     20\n",
              "MA     19\n",
              "NJ     19\n",
              "KS     19\n",
              "UT     16\n",
              "AR     16\n",
              "MS     15\n",
              "WV     14\n",
              "NE     14\n",
              "ID     11\n",
              "IA     10\n",
              "DC      9\n",
              "AK      8\n",
              "MT      8\n",
              "WY      7\n",
              "SD      7\n",
              "HI      6\n",
              "DE      5\n",
              "CT      4\n",
              "ME      4\n",
              "NH      3\n",
              "VT      3\n",
              "ND      2\n",
              "RI      2\n",
              "Name: state, dtype: int64"
            ]
          },
          "metadata": {},
          "execution_count": 194
        }
      ]
    },
    {
      "cell_type": "code",
      "source": [
        "sns.displot(train['state'])"
      ],
      "metadata": {
        "id": "rm-f3YVdyzAQ",
        "outputId": "992bc859-4803-49cd-a647-f25062da7906",
        "colab": {
          "base_uri": "https://localhost:8080/",
          "height": 387
        }
      },
      "execution_count": 195,
      "outputs": [
        {
          "output_type": "execute_result",
          "data": {
            "text/plain": [
              "<seaborn.axisgrid.FacetGrid at 0x7f500cb27e90>"
            ]
          },
          "metadata": {},
          "execution_count": 195
        },
        {
          "output_type": "display_data",
          "data": {
            "text/plain": [
              "<Figure size 360x360 with 1 Axes>"
            ],
            "image/png": "[encoded data removed]"
          },
          "metadata": {}
        }
      ]
    },
    {
      "cell_type": "markdown",
      "source": [
        "We can see that CA has the highest the count of all state values present in the train dataset. "
      ],
      "metadata": {
        "id": "zwyXHp7Z6qL_"
      }
    },
    {
      "cell_type": "markdown",
      "source": [
        "Next, we look at the cities in the dataset, to determine which city may be considered the most dangerous. There are 941 cities. Los Angeles has the highest count of all cities in our dataset, 31. The top 5 and the bottom five cities with the respect to the counts are shown. It makes sense for cities like Los Angeles, Pheonix, Huston, Chicago, and Las Vegas to have higher counts of incident reports in the dataset."
      ],
      "metadata": {
        "id": "0AtprrSJ7ia7"
      }
    },
    {
      "cell_type": "code",
      "source": [
        "train['city'].value_counts()"
      ],
      "metadata": {
        "id": "oMbFi4HZ7eYO",
        "outputId": "559a0bf5-b20a-4450-a470-8ffd62fefa77",
        "colab": {
          "base_uri": "https://localhost:8080/"
        }
      },
      "execution_count": 196,
      "outputs": [
        {
          "output_type": "execute_result",
          "data": {
            "text/plain": [
              "Los Angeles    31\n",
              "Phoenix        22\n",
              "Houston        21\n",
              "Chicago        19\n",
              "Las Vegas      15\n",
              "               ..\n",
              "Chalmette       1\n",
              "Lead            1\n",
              "Dickson         1\n",
              "Slidell         1\n",
              "Kuna            1\n",
              "Name: city, Length: 941, dtype: int64"
            ]
          },
          "metadata": {},
          "execution_count": 196
        }
      ]
    },
    {
      "cell_type": "code",
      "source": [
        "sns.displot(train['city'])"
      ],
      "metadata": {
        "id": "eaZ0u-376pUx",
        "outputId": "6c744dcb-9231-49e9-eb13-cdbc38e64c72",
        "colab": {
          "base_uri": "https://localhost:8080/",
          "height": 387
        }
      },
      "execution_count": 197,
      "outputs": [
        {
          "output_type": "execute_result",
          "data": {
            "text/plain": [
              "<seaborn.axisgrid.FacetGrid at 0x7f500c985650>"
            ]
          },
          "metadata": {},
          "execution_count": 197
        },
        {
          "output_type": "display_data",
          "data": {
            "text/plain": [
              "<Figure size 360x360 with 1 Axes>"
            ],
            "image/png": "[encoded data removed]"
          },
          "metadata": {}
        }
      ]
    },
    {
      "cell_type": "markdown",
      "source": [
        "In the test data, a gun is the most common way of being armed. The counts of other weapons used is given below."
      ],
      "metadata": {
        "id": "JyM6wq8p85b3"
      }
    },
    {
      "cell_type": "code",
      "source": [
        "test['armed'].value_counts()"
      ],
      "metadata": {
        "id": "KsbPR4A79EyY",
        "outputId": "6b7a2b0d-f68a-4810-8b81-f026a7015cb5",
        "colab": {
          "base_uri": "https://localhost:8080/"
        }
      },
      "execution_count": 198,
      "outputs": [
        {
          "output_type": "execute_result",
          "data": {
            "text/plain": [
              "gun                        187\n",
              "knife                       42\n",
              "vehicle                     36\n",
              "unarmed                     16\n",
              "toy weapon                  14\n",
              "undetermined                11\n",
              "unknown weapon               4\n",
              "ax                           2\n",
              "hatchet and gun              1\n",
              "machete                      1\n",
              "pen                          1\n",
              "crossbow                     1\n",
              "rock                         1\n",
              "Taser                        1\n",
              "pipe                         1\n",
              "baseball bat and bottle      1\n",
              "sharp object                 1\n",
              "metal object                 1\n",
              "baseball bat                 1\n",
              "metal stick                  1\n",
              "beer bottle                  1\n",
              "gun and knife                1\n",
              "screwdriver                  1\n",
              "Name: armed, dtype: int64"
            ]
          },
          "metadata": {},
          "execution_count": 198
        }
      ]
    },
    {
      "cell_type": "markdown",
      "source": [
        "With the available data, we can also explore the age and race statistics in the dataset"
      ],
      "metadata": {
        "id": "ZwCCMq4f9eTi"
      }
    },
    {
      "cell_type": "code",
      "source": [
        "plt.pie(test['armed'].value_counts(), labels = test['armed'].value_counts().keys(), autopct='%.0f%%')"
      ],
      "metadata": {
        "id": "gd7RT7wX9c-v",
        "outputId": "e404933e-b0f9-43d4-bd55-364f8e325926",
        "colab": {
          "base_uri": "https://localhost:8080/",
          "height": 1000
        }
      },
      "execution_count": 200,
      "outputs": [
        {
          "output_type": "execute_result",
          "data": {
            "text/plain": [
              "([<matplotlib.patches.Wedge at 0x7f4ffdb417d0>,\n",
              "  <matplotlib.patches.Wedge at 0x7f4ffa8f0050>,\n",
              "  <matplotlib.patches.Wedge at 0x7f4ffa76df10>,\n",
              "  <matplotlib.patches.Wedge at 0x7f4ffda6d3d0>,\n",
              "  <matplotlib.patches.Wedge at 0x7f4ffa709cd0>,\n",
              "  <matplotlib.patches.Wedge at 0x7f4ffa8f7850>,\n",
              "  <matplotlib.patches.Wedge at 0x7f4ffa9b7850>,\n",
              "  <matplotlib.patches.Wedge at 0x7f4ffa9b7110>,\n",
              "  <matplotlib.patches.Wedge at 0x7f4ffa7094d0>,\n",
              "  <matplotlib.patches.Wedge at 0x7f4ffa7098d0>,\n",
              "  <matplotlib.patches.Wedge at 0x7f4ffa6e8250>,\n",
              "  <matplotlib.patches.Wedge at 0x7f4ffa708dd0>,\n",
              "  <matplotlib.patches.Wedge at 0x7f4ffa708b10>,\n",
              "  <matplotlib.patches.Wedge at 0x7f4ffa7602d0>,\n",
              "  <matplotlib.patches.Wedge at 0x7f4ffa760a90>,\n",
              "  <matplotlib.patches.Wedge at 0x7f4ffa757290>,\n",
              "  <matplotlib.patches.Wedge at 0x7f4ffa757a50>,\n",
              "  <matplotlib.patches.Wedge at 0x7f4ffa759250>,\n",
              "  <matplotlib.patches.Wedge at 0x7f4ffa759a10>,\n",
              "  <matplotlib.patches.Wedge at 0x7f4ffa746210>,\n",
              "  <matplotlib.patches.Wedge at 0x7f4ffa7469d0>,\n",
              "  <matplotlib.patches.Wedge at 0x7f4ffa714fd0>,\n",
              "  <matplotlib.patches.Wedge at 0x7f4ffa714e50>],\n",
              " [Text(-0.2462446522228425, 1.072083751976333, 'gun'),\n",
              "  Text(-0.721797878312933, -0.8300649509905527, 'knife'),\n",
              "  Text(0.03698116993989552, -1.0993781847343873, 'vehicle'),\n",
              "  Text(0.5591266620579769, -0.9473000452738853, 'unarmed'),\n",
              "  Text(0.8053294176229895, -0.749296022350991, 'toy weapon'),\n",
              "  Text(0.960454778697717, -0.5362150856482124, 'undetermined'),\n",
              "  Text(1.0275054835903152, -0.3927244341670538, 'unknown weapon'),\n",
              "  Text(1.0484244830356637, -0.3328755073167769, 'ax'),\n",
              "  Text(1.0575818411012523, -0.30252379968010096, 'hatchet and gun'),\n",
              "  Text(1.0631991429345733, -0.28214815693743095, 'machete'),\n",
              "  Text(1.0684239214002174, -0.2616683476842057, 'pen'),\n",
              "  Text(1.0732542475579179, -0.24109193287807812, 'crossbow'),\n",
              "  Text(1.0776883380955797, -0.2204265091425878, 'rock'),\n",
              "  Text(1.0817245559876643, -0.19967970596255138, 'Taser'),\n",
              "  Text(1.0853614110995615, -0.17885918286732974, 'pipe'),\n",
              "  Text(1.0885975607377358, -0.1579726266030028, 'baseball bat and bottle'),\n",
              "  Text(1.0914318101454359, -0.13702774829448777, 'sharp object'),\n",
              "  Text(1.0938631129437872, -0.11603228059866638, 'metal object'),\n",
              "  Text(1.0958905715181064, -0.09499397484955695, 'baseball bat'),\n",
              "  Text(1.0975134373492916, -0.07392059819659688, 'metal stick'),\n",
              "  Text(1.0987311112901694, -0.0528199307370766, 'beer bottle'),\n",
              "  Text(1.0995431437866943, -0.03169976264380187, 'gun and knife'),\n",
              "  Text(1.0999492350439193, -0.01056789128903644, 'screwdriver')],\n",
              " [Text(-0.13431526484882317, 0.5847729556234543, '57%'),\n",
              "  Text(-0.3937079336252361, -0.4527627005403014, '13%'),\n",
              "  Text(0.020171547239943004, -0.5996608280369385, '11%'),\n",
              "  Text(0.304978179304351, -0.5167091156039374, '5%'),\n",
              "  Text(0.4392705914307215, -0.4087069212823587, '4%'),\n",
              "  Text(0.5238844247442092, -0.2924809558081158, '3%'),\n",
              "  Text(0.5604575365038083, -0.2142133277274839, '1%'),\n",
              "  Text(0.5718678998376346, -0.18156845853642373, '1%'),\n",
              "  Text(0.5768628224188648, -0.1650129816436914, '0%'),\n",
              "  Text(0.5799268052370399, -0.15389899469314414, '0%'),\n",
              "  Text(0.5827766844001185, -0.14272818964593037, '0%'),\n",
              "  Text(0.5854114077588642, -0.13150469066076986, '0%'),\n",
              "  Text(0.5878300025975889, -0.1202326413505024, '0%'),\n",
              "  Text(0.5900315759932713, -0.10891620325230074, '0%'),\n",
              "  Text(0.5920153151452153, -0.09755955429127075, '0%'),\n",
              "  Text(0.5937804876751286, -0.0861668872380015, '0%'),\n",
              "  Text(0.5953264418975104, -0.07474240816062969, '0%'),\n",
              "  Text(0.5966526070602475, -0.06329033487199984, '0%'),\n",
              "  Text(0.5977584935553307, -0.051814895372485605, '0%'),\n",
              "  Text(0.5986436930996135, -0.04032032628905284, '0%'),\n",
              "  Text(0.5993078788855469, -0.028810871311132687, '0%'),\n",
              "  Text(0.5997508057018331, -0.01729077962389193, '0%'),\n",
              "  Text(0.5999723100239559, -0.005764304339474421, '0%')])"
            ]
          },
          "metadata": {},
          "execution_count": 200
        },
        {
          "output_type": "display_data",
          "data": {
            "text/plain": [
              "<Figure size 432x288 with 1 Axes>"
            ],
            "image/png": "[encoded data removed]"
          },
          "metadata": {}
        }
      ]
    },
    {
      "cell_type": "markdown",
      "source": [
        "With the available data, we can also explore the age and race statistics in the dataset"
      ],
      "metadata": {
        "id": "m0jKCLbMD4Ek"
      }
    },
    {
      "cell_type": "markdown",
      "metadata": {
        "id": "at_aKdYdu45n"
      },
      "source": [
        "We plot the columns to study the distribution of features."
      ]
    },
    {
      "cell_type": "code",
      "execution_count": 201,
      "metadata": {
        "id": "wreeieiPu45n",
        "outputId": "1859d904-1f81-44e6-d383-49c681114aed",
        "colab": {
          "base_uri": "https://localhost:8080/",
          "height": 229
        }
      },
      "outputs": [
        {
          "output_type": "display_data",
          "data": {
            "text/plain": [
              "<Figure size 2400x1600 with 9 Axes>"
            ],
            "image/png": "[encoded data removed]"
          },
          "metadata": {}
        }
      ],
      "source": [
        "columns = ['age', 'percent_completed_hs', 'Median Income', 'poverty_rate', 'share_white', 'share_black', 'share_native_american', 'share_asian', 'share_hispanic']\n",
        "fig = plt.figure(dpi=100, figsize=(24, 16), tight_layout=True)\n",
        "sns.set_theme()\n",
        "sns.set_context(\"paper\")\n",
        "for i, col in enumerate(columns):\n",
        "  ax = fig.add_subplot(10, 3, i + 1)\n",
        "  sns.histplot(X_train[col], kde=True)\n",
        "  ax.set_title(col)\n",
        "  ax.set_yticks([])\n",
        "  ax.set_ylabel(\"Frequency\")\n",
        "  ax.set_xlabel(None)\n",
        "  ax.tick_params(left=False, bottom=False)\n",
        "  for ax, spine in ax.spines.items():\n",
        "    spine.set_visible(False)"
      ]
    },
    {
      "cell_type": "markdown",
      "source": [
        ""
      ],
      "metadata": {
        "id": "jgwOCg_4FCN1"
      }
    },
    {
      "cell_type": "code",
      "source": [
        "train['race'].value_counts()"
      ],
      "metadata": {
        "id": "jH0fXIgqFDWv",
        "outputId": "b8dcddb3-4d6c-4dc2-da20-db8f2f0eb2a2",
        "colab": {
          "base_uri": "https://localhost:8080/"
        }
      },
      "execution_count": 204,
      "outputs": [
        {
          "output_type": "execute_result",
          "data": {
            "text/plain": [
              "W    852\n",
              "B    460\n",
              "H    311\n",
              "A     27\n",
              "O     25\n",
              "N     22\n",
              "Name: race, dtype: int64"
            ]
          },
          "metadata": {},
          "execution_count": 204
        }
      ]
    },
    {
      "cell_type": "code",
      "source": [
        "columns = train['race'].value_counts().keys()\n",
        "fig = plt.figure(dpi=100, figsize=(24, 16), tight_layout=True)\n",
        "sns.set_theme()\n",
        "sns.set_context(\"paper\")\n",
        "for i, col in enumerate(columns):\n",
        "  ax = fig.add_subplot(10, 3, i + 1)\n",
        "  sns.histplot(train.query('race == \"'+col+'\"')['age'], kde=True)\n",
        "  ax.set_title(col)\n",
        "  ax.set_yticks([])\n",
        "  ax.set_ylabel(\"Frequency\")\n",
        "  ax.set_xlabel(None)\n",
        "  ax.tick_params(left=False, bottom=False)\n",
        "  for ax, spine in ax.spines.items():\n",
        "    spine.set_visible(False)"
      ],
      "metadata": {
        "id": "3tn_k8DvFcv9",
        "outputId": "1f09f26e-4687-40a8-c09b-b1d38856e5bb",
        "colab": {
          "base_uri": "https://localhost:8080/",
          "height": 159
        }
      },
      "execution_count": 208,
      "outputs": [
        {
          "output_type": "display_data",
          "data": {
            "text/plain": [
              "<Figure size 2400x1600 with 6 Axes>"
            ],
            "image/png": "[encoded data removed]"
          },
          "metadata": {}
        }
      ]
    },
    {
      "cell_type": "code",
      "source": [
        "test['race'].value_counts()"
      ],
      "metadata": {
        "id": "MeKaOe-KHSnw",
        "outputId": "d848ca6b-b8b5-4237-9cb8-23749828bac6",
        "colab": {
          "base_uri": "https://localhost:8080/"
        }
      },
      "execution_count": 214,
      "outputs": [
        {
          "output_type": "execute_result",
          "data": {
            "text/plain": [
              "W    158\n",
              "B     96\n",
              "H     64\n",
              "A      6\n",
              "N      3\n",
              "Name: race, dtype: int64"
            ]
          },
          "metadata": {},
          "execution_count": 214
        }
      ]
    },
    {
      "cell_type": "code",
      "source": [
        "plt.pie(test['race'].value_counts(), labels = test['race'].value_counts().keys(), autopct='%.0f%%')"
      ],
      "metadata": {
        "id": "WE8VkAUsD8wM",
        "outputId": "448fd4e3-722b-4bd9-fa8f-1e2216ce51e1",
        "colab": {
          "base_uri": "https://localhost:8080/",
          "height": 508
        }
      },
      "execution_count": 212,
      "outputs": [
        {
          "output_type": "execute_result",
          "data": {
            "text/plain": [
              "([<matplotlib.patches.Wedge at 0x7f4ffb5c0bd0>,\n",
              "  <matplotlib.patches.Wedge at 0x7f4ffb9def50>,\n",
              "  <matplotlib.patches.Wedge at 0x7f4ffb9de290>,\n",
              "  <matplotlib.patches.Wedge at 0x7f4ffbfc6c50>,\n",
              "  <matplotlib.patches.Wedge at 0x7f4ffb9f6350>],\n",
              " [Text(0.05809720492548151, 1.0984647080265468, 'W'),\n",
              "  Text(-0.7531558827299363, -0.8017207845062336, 'B'),\n",
              "  Text(0.7759470135402259, -0.7796834179190967, 'H'),\n",
              "  Text(1.0926978896476223, -0.12653585246732674, 'A'),\n",
              "  Text(1.0995431436243845, -0.03169976827369762, 'N')],\n",
              " [Text(0.03168938450480809, 0.59916256801448, '48%'),\n",
              "  Text(-0.4108122996708743, -0.4373022460943092, '29%'),\n",
              "  Text(0.42324382556739587, -0.4252818643195072, '20%'),\n",
              "  Text(0.5960170307168847, -0.06901955589126911, '2%'),\n",
              "  Text(0.5997508056133006, -0.017290782694744156, '1%')])"
            ]
          },
          "metadata": {},
          "execution_count": 212
        },
        {
          "output_type": "display_data",
          "data": {
            "text/plain": [
              "<Figure size 432x288 with 1 Axes>"
            ],
            "image/png": "[encoded data removed]"
          },
          "metadata": {}
        }
      ]
    },
    {
      "cell_type": "markdown",
      "metadata": {
        "id": "6Mh7xZ96u45n"
      },
      "source": [
        "We visualise the correlation of columns with a heatmap."
      ]
    },
    {
      "cell_type": "code",
      "execution_count": 202,
      "metadata": {
        "id": "IS9L__Cou45n",
        "outputId": "77c3a93a-8453-46a4-cff0-b1b56e16885b",
        "colab": {
          "base_uri": "https://localhost:8080/",
          "height": 802
        }
      },
      "outputs": [
        {
          "output_type": "execute_result",
          "data": {
            "text/plain": [
              "<matplotlib.axes._subplots.AxesSubplot at 0x7f500a04bd90>"
            ]
          },
          "metadata": {},
          "execution_count": 202
        },
        {
          "output_type": "display_data",
          "data": {
            "text/plain": [
              "<Figure size 2400x1600 with 2 Axes>"
            ],
            "image/png": "[encoded data removed]"
          },
          "metadata": {}
        }
      ],
      "source": [
        "fig = plt.figure(dpi=100, figsize=(24, 16), tight_layout=True)\n",
        "corr = train.corr()\n",
        "sns.heatmap(corr, xticklabels=corr.columns, yticklabels=corr.columns, annot=True)"
      ]
    },
    {
      "cell_type": "markdown",
      "metadata": {
        "id": "MaHNjgqiu45n"
      },
      "source": [
        "## Prediting Race of Victims"
      ]
    },
    {
      "cell_type": "markdown",
      "metadata": {
        "id": "7HwxlGwku45o"
      },
      "source": [
        "We now use a mixture of the features to predict the race of victims in fatal incidents."
      ]
    },
    {
      "cell_type": "markdown",
      "metadata": {
        "id": "3Cu6AmXVu45o"
      },
      "source": [
        "### Logistic Regression"
      ]
    },
    {
      "cell_type": "code",
      "execution_count": null,
      "metadata": {
        "id": "2R6Vu6szu45o"
      },
      "outputs": [],
      "source": [
        "clf = LogisticRegression(max_iter=10000, multi_class='multinomial')\n",
        "clf.fit(X_train, y_train)\n",
        "with open('output/logreg.pkl','wb') as f:\n",
        "    pickle.dump(clf,f)\n",
        "print(f'Train accuracy = {clf.score(X_train, y_train)}.')\n",
        "print(f'Test accuracy = {clf.score(X_test, y_test)}.')"
      ]
    },
    {
      "cell_type": "markdown",
      "metadata": {
        "id": "EJGPqrbEu45o"
      },
      "source": [
        "Cross validation is implemented to reduce overfitting."
      ]
    },
    {
      "cell_type": "code",
      "execution_count": null,
      "metadata": {
        "id": "daW-GVTJu45o"
      },
      "outputs": [],
      "source": [
        "clf = LogisticRegressionCV(max_iter=10000, multi_class='multinomial', cv=5)\n",
        "clf.fit(X_train, y_train)\n",
        "with open('output/logregCV.pkl','wb') as f:\n",
        "    pickle.dump(clf,f)\n",
        "print(f'Train accuracy = {clf.score(X_train, y_train)}.')\n",
        "print(f'Test accuracy = {clf.score(X_test, y_test)}.')"
      ]
    },
    {
      "cell_type": "markdown",
      "metadata": {
        "id": "W54ntV6du45o"
      },
      "source": [
        "### Tree Classifier"
      ]
    },
    {
      "cell_type": "code",
      "execution_count": null,
      "metadata": {
        "id": "1TZ6nI3qu45o"
      },
      "outputs": [],
      "source": [
        "clf = DecisionTreeClassifier(max_depth=3)\n",
        "clf.fit(X_train, y_train)\n",
        "print(f'Train accuracy = {clf.score(X_train, y_train)}.')\n",
        "print(f'Test accuracy = {clf.score(X_test, y_test)}.')\n",
        "\n",
        "plt.figure(figsize=(8, 6), dpi=100)\n",
        "plot_tree(clf, filled=True)\n",
        "plt.title(\"Decision tree trained on all the incident features\")\n",
        "plt.show()\n",
        "plt.savefig('incident_tree.png')"
      ]
    },
    {
      "cell_type": "markdown",
      "metadata": {
        "id": "K33falafu45o"
      },
      "source": [
        "The large discrepancy between the accuracy of test and train data set respectively shows that the decision tree faces overfitting. We then turn to random forest to solve this problem by ensemble method."
      ]
    },
    {
      "cell_type": "code",
      "execution_count": null,
      "metadata": {
        "id": "FBczeoB1u45p"
      },
      "outputs": [],
      "source": [
        "clf = RandomForestClassifier(max_depth=10, class_weight='balanced_subsample')\n",
        "clf.fit(X_train, y_train)\n",
        "with open('output/randomforest.pkl','wb') as f:\n",
        "    pickle.dump(clf,f)\n",
        "print(f'Train accuracy = {clf.score(X_train, y_train)}.')\n",
        "print(f'Test accuracy = {clf.score(X_test, y_test)}.')"
      ]
    },
    {
      "cell_type": "markdown",
      "metadata": {
        "id": "vByQBV6Ku45p"
      },
      "source": [
        "## Predicting Count of Incidents"
      ]
    },
    {
      "cell_type": "markdown",
      "metadata": {
        "id": "wHOFm7CKu45p"
      },
      "source": [
        "In this section, we would like to use the count of incidents by city as a dependent variable in regression to investigate what factors contribute to a high count."
      ]
    },
    {
      "cell_type": "code",
      "execution_count": null,
      "metadata": {
        "id": "efIzGpSfu45p"
      },
      "outputs": [],
      "source": [
        "zero_count = city_total.loc[city_total['Counts'] == 0].shape[0]\n",
        "print(f'There are {zero_count} cities with no fatal incident.')\n",
        "print(f'They account for {zero_count/city_total.shape[0]*100}% of all the cities.')"
      ]
    },
    {
      "cell_type": "markdown",
      "metadata": {
        "id": "9M_JNyDsu45q"
      },
      "source": [
        "We remove cities without accidents from the data set so that a relationship between cities and counts can be better formulated. Otherwise, a dummy regressor which contantly outputs 0 would achieve a good MSE."
      ]
    },
    {
      "cell_type": "code",
      "execution_count": null,
      "metadata": {
        "id": "dHQNlEzYu45q"
      },
      "outputs": [],
      "source": [
        "# drop city without accidents\n",
        "city = city_total.loc[city_total['Counts'] != 0]\n",
        "# drop city names and clean non-numerical data\n",
        "city = city.drop(columns=['Geographic Area', 'City']).apply(pd.to_numeric, errors='coerce').dropna()\n",
        "# scale columns\n",
        "scaler = MinMaxScaler()\n",
        "X = pd.DataFrame(scaler.fit_transform(city.drop(columns='Counts')))\n",
        "y = city['Counts']\n",
        "# split data into train and test set\n",
        "X_train, X_test, y_train, y_test = train_test_split(X, y, test_size=0.33)"
      ]
    },
    {
      "cell_type": "code",
      "execution_count": null,
      "metadata": {
        "id": "Hg_cWs6Ku45q"
      },
      "outputs": [],
      "source": [
        "X_train.head()"
      ]
    },
    {
      "cell_type": "markdown",
      "metadata": {
        "id": "KQXVDbrOu45q"
      },
      "source": [
        "### Linear Regression"
      ]
    },
    {
      "cell_type": "markdown",
      "metadata": {
        "id": "4RLT93w8u45q"
      },
      "source": [
        "The low R2 score for linear regression suggests that a linear relationship cannot be established between city features and counts. However, on the scale of 1 to 35 (the highest count), the mean absolute error is acceptable."
      ]
    },
    {
      "cell_type": "code",
      "execution_count": null,
      "metadata": {
        "id": "F-LqbaPeu45q"
      },
      "outputs": [],
      "source": [
        "reg = LinearRegression()\n",
        "reg.fit(X_train, y_train)\n",
        "print(f'Train R2 = {reg.score(X_train, y_train)}.')\n",
        "print(f'Test R2 = {reg.score(X_test, y_test)}.')\n",
        "print(f'Test MAE = {mean_absolute_error(y_test, reg.predict(X_test))}.')\n",
        "print(f'Test MSE = {mean_squared_error(y_test, reg.predict(X_test))}.')"
      ]
    },
    {
      "cell_type": "markdown",
      "metadata": {
        "id": "g5Rm75guu45r"
      },
      "source": [
        "### Neural Network"
      ]
    },
    {
      "cell_type": "markdown",
      "metadata": {
        "id": "sf7AOI1pu45r"
      },
      "source": [
        "A neural network can model non-linear relationships between city features and counts."
      ]
    },
    {
      "cell_type": "code",
      "execution_count": null,
      "metadata": {
        "id": "6IMQvO_Eu45r"
      },
      "outputs": [],
      "source": [
        "model = Sequential()\n",
        "model.add(Dense(8, input_dim=8, kernel_initializer='normal', activation='relu'))\n",
        "model.add(Dense(2670, activation='relu'))\n",
        "model.add(Dense(1, activation='linear'))\n",
        "model.summary()"
      ]
    },
    {
      "cell_type": "code",
      "execution_count": null,
      "metadata": {
        "id": "PnDG8IqWu45r"
      },
      "outputs": [],
      "source": [
        "model.compile(loss='mse', optimizer=tf.keras.optimizers.Adam(learning_rate=1e-4), metrics=['mse','mae'])\n",
        "history = model.fit(X_train, y_train, epochs=100, batch_size=10, validation_split=0.2, verbose=0)"
      ]
    },
    {
      "cell_type": "code",
      "execution_count": null,
      "metadata": {
        "id": "mD7_AI5Xu45r"
      },
      "outputs": [],
      "source": [
        "plt.figure(figsize=(8, 6), dpi=100)\n",
        "plt.plot(history.history['loss'])\n",
        "plt.plot(history.history['val_loss'])\n",
        "plt.title('model loss')\n",
        "plt.ylabel('loss')\n",
        "plt.xlabel('epoch')\n",
        "plt.legend(['train', 'validation'])\n",
        "plt.show()"
      ]
    },
    {
      "cell_type": "code",
      "execution_count": null,
      "metadata": {
        "id": "HWcmU05Au45r"
      },
      "outputs": [],
      "source": [
        "y_pred = model.predict(X_test)\n",
        "print(f'Test MAE = {mean_absolute_error(y_test, y_pred)}.')\n",
        "print(f'Test MSE = {mean_squared_error(y_test, y_pred)}.')"
      ]
    },
    {
      "cell_type": "markdown",
      "metadata": {
        "id": "EY4WRS0Lu45s"
      },
      "source": [
        "Contrary to our belief, the neural network ended up performing similarly to the linear regression. "
      ]
    }
  ],
  "metadata": {
    "interpreter": {
      "hash": "e4486cc46800a3a36dbbddfd8b12a33d5293b2126d0bd638d95bed74d24a9d28"
    },
    "kernelspec": {
      "display_name": "Python 3.8.13 ('base')",
      "language": "python",
      "name": "python3"
    },
    "language_info": {
      "codemirror_mode": {
        "name": "ipython",
        "version": 3
      },
      "file_extension": ".py",
      "mimetype": "text/x-python",
      "name": "python",
      "nbconvert_exporter": "python",
      "pygments_lexer": "ipython3",
      "version": "3.8.13"
    },
    "orig_nbformat": 4,
    "colab": {
      "name": "analysis.ipynb",
      "provenance": []
    }
  },
  "nbformat": 4,
  "nbformat_minor": 0
}