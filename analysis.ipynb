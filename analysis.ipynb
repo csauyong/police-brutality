{
 "cells": [
  {
   "cell_type": "markdown",
   "metadata": {},
   "source": [
    "# Use of Fatal Force by the US Police"
   ]
  },
  {
   "cell_type": "markdown",
   "metadata": {},
   "source": [
    "In the United States, use of deadly force by police has been a high-profile and contentious issue. 1000 people are shot and killed by US cops each year. The ever-growing argument is that the US has a flawed Law Enforcement system that costs too many innocent civilians their lives. In this project, we will analyze one of America’s hottest political topics, which encompasses issues ranging from institutional racism to the role of Law Enforcement personnel\n",
    "in society.\n",
    "\n",
    "We will use 5 data sets in this study. Four of them describes demographics of cities in the US (city data sets) while the remaining one records the fatal incidents (police data set)."
   ]
  },
  {
   "cell_type": "code",
   "execution_count": 49,
   "metadata": {},
   "outputs": [],
   "source": [
    "import pandas as pd \n",
    "import matplotlib.pyplot as plt \n",
    "import numpy as np "
   ]
  },
  {
   "cell_type": "markdown",
   "metadata": {},
   "source": [
    "## Data Preprocessing"
   ]
  },
  {
   "cell_type": "code",
   "execution_count": 50,
   "metadata": {},
   "outputs": [],
   "source": [
    "education = pd.read_csv('data\\education.csv', encoding = \"ISO-8859-1\")\n",
    "income = pd.read_csv('data\\income.csv', encoding = \"ISO-8859-1\")\n",
    "poverty = pd.read_csv('data\\poverty.csv', encoding = \"ISO-8859-1\")\n",
    "race = pd.read_csv('data\\share_race_by_city.csv', encoding = \"ISO-8859-1\")\n",
    "test = pd.read_csv('data\\police_killings_test.csv', encoding = \"ISO-8859-1\")\n",
    "train = pd.read_csv('data\\police_killings_train.csv', encoding = \"ISO-8859-1\")"
   ]
  },
  {
   "cell_type": "markdown",
   "metadata": {},
   "source": [
    "We first inspect and clean null data."
   ]
  },
  {
   "cell_type": "code",
   "execution_count": 51,
   "metadata": {},
   "outputs": [
    {
     "data": {
      "text/plain": [
       "id                           0\n",
       "name                         0\n",
       "date                         0\n",
       "manner_of_death              0\n",
       "armed                        3\n",
       "age                         40\n",
       "gender                       0\n",
       "race                       104\n",
       "city                         0\n",
       "state                        0\n",
       "signs_of_mental_illness      0\n",
       "threat_level                 0\n",
       "flee                        38\n",
       "body_camera                  0\n",
       "dtype: int64"
      ]
     },
     "execution_count": 51,
     "metadata": {},
     "output_type": "execute_result"
    }
   ],
   "source": [
    "test.isnull().sum()"
   ]
  },
  {
   "cell_type": "markdown",
   "metadata": {},
   "source": [
    "Also look for invalid values."
   ]
  },
  {
   "cell_type": "code",
   "execution_count": 52,
   "metadata": {},
   "outputs": [],
   "source": [
    "# education has '-' as numbers"
   ]
  },
  {
   "cell_type": "markdown",
   "metadata": {},
   "source": [
    "There is a discrepancy between the encoding of names between the police data set and city data sets. For example, the former refer LA in California as Los Angeles while the latter uses Los Angeles city.\n",
    "\n",
    "We also observe that the police data set provide less information because it only has Chicago as a city, while the city data sets have Chicago city, Chicago Heights city and Chicago Ridge village. \n",
    "\n",
    "Assuming that cities bearing similar name should be geographically and demographically close to each other, we shall evenly distribute the number of fatal incidents between them."
   ]
  },
  {
   "cell_type": "code",
   "execution_count": 53,
   "metadata": {},
   "outputs": [
    {
     "data": {
      "text/html": [
       "<div>\n",
       "<style scoped>\n",
       "    .dataframe tbody tr th:only-of-type {\n",
       "        vertical-align: middle;\n",
       "    }\n",
       "\n",
       "    .dataframe tbody tr th {\n",
       "        vertical-align: top;\n",
       "    }\n",
       "\n",
       "    .dataframe thead th {\n",
       "        text-align: right;\n",
       "    }\n",
       "</style>\n",
       "<table border=\"1\" class=\"dataframe\">\n",
       "  <thead>\n",
       "    <tr style=\"text-align: right;\">\n",
       "      <th></th>\n",
       "      <th>City</th>\n",
       "      <th>Geographic Area</th>\n",
       "      <th>Counts</th>\n",
       "    </tr>\n",
       "  </thead>\n",
       "  <tbody>\n",
       "    <tr>\n",
       "      <th>0</th>\n",
       "      <td>Los Angeles</td>\n",
       "      <td>CA</td>\n",
       "      <td>31</td>\n",
       "    </tr>\n",
       "    <tr>\n",
       "      <th>1</th>\n",
       "      <td>Phoenix</td>\n",
       "      <td>AZ</td>\n",
       "      <td>24</td>\n",
       "    </tr>\n",
       "    <tr>\n",
       "      <th>2</th>\n",
       "      <td>Houston</td>\n",
       "      <td>TX</td>\n",
       "      <td>22</td>\n",
       "    </tr>\n",
       "    <tr>\n",
       "      <th>3</th>\n",
       "      <td>Chicago</td>\n",
       "      <td>IL</td>\n",
       "      <td>21</td>\n",
       "    </tr>\n",
       "    <tr>\n",
       "      <th>4</th>\n",
       "      <td>Las Vegas</td>\n",
       "      <td>NV</td>\n",
       "      <td>16</td>\n",
       "    </tr>\n",
       "  </tbody>\n",
       "</table>\n",
       "</div>"
      ],
      "text/plain": [
       "          City Geographic Area  Counts\n",
       "0  Los Angeles              CA      31\n",
       "1      Phoenix              AZ      24\n",
       "2      Houston              TX      22\n",
       "3      Chicago              IL      21\n",
       "4    Las Vegas              NV      16"
      ]
     },
     "execution_count": 53,
     "metadata": {},
     "output_type": "execute_result"
    }
   ],
   "source": [
    "# count the number of incidents grouping by city and state because city names may duplicate\n",
    "city_count = train.value_counts(['city', 'state']).rename_axis(['City', 'Geographic Area']).reset_index(name='Counts')\n",
    "city_count.head()"
   ]
  },
  {
   "cell_type": "code",
   "execution_count": 54,
   "metadata": {},
   "outputs": [
    {
     "data": {
      "text/html": [
       "<div>\n",
       "<style scoped>\n",
       "    .dataframe tbody tr th:only-of-type {\n",
       "        vertical-align: middle;\n",
       "    }\n",
       "\n",
       "    .dataframe tbody tr th {\n",
       "        vertical-align: top;\n",
       "    }\n",
       "\n",
       "    .dataframe thead th {\n",
       "        text-align: right;\n",
       "    }\n",
       "</style>\n",
       "<table border=\"1\" class=\"dataframe\">\n",
       "  <thead>\n",
       "    <tr style=\"text-align: right;\">\n",
       "      <th></th>\n",
       "      <th>Geographic Area</th>\n",
       "      <th>City</th>\n",
       "      <th>percent_completed_hs</th>\n",
       "      <th>Median Income</th>\n",
       "      <th>poverty_rate</th>\n",
       "      <th>share_white</th>\n",
       "      <th>share_black</th>\n",
       "      <th>share_native_american</th>\n",
       "      <th>share_asian</th>\n",
       "      <th>share_hispanic</th>\n",
       "    </tr>\n",
       "  </thead>\n",
       "  <tbody>\n",
       "    <tr>\n",
       "      <th>0</th>\n",
       "      <td>AL</td>\n",
       "      <td>Abanda CDP</td>\n",
       "      <td>21.2</td>\n",
       "      <td>11207</td>\n",
       "      <td>78.8</td>\n",
       "      <td>67.2</td>\n",
       "      <td>30.2</td>\n",
       "      <td>0</td>\n",
       "      <td>0</td>\n",
       "      <td>1.6</td>\n",
       "    </tr>\n",
       "    <tr>\n",
       "      <th>1</th>\n",
       "      <td>AL</td>\n",
       "      <td>Abbeville city</td>\n",
       "      <td>69.1</td>\n",
       "      <td>25615</td>\n",
       "      <td>29.1</td>\n",
       "      <td>54.4</td>\n",
       "      <td>41.4</td>\n",
       "      <td>0.1</td>\n",
       "      <td>1</td>\n",
       "      <td>3.1</td>\n",
       "    </tr>\n",
       "    <tr>\n",
       "      <th>2</th>\n",
       "      <td>AL</td>\n",
       "      <td>Adamsville city</td>\n",
       "      <td>78.9</td>\n",
       "      <td>42575</td>\n",
       "      <td>25.5</td>\n",
       "      <td>52.3</td>\n",
       "      <td>44.9</td>\n",
       "      <td>0.5</td>\n",
       "      <td>0.3</td>\n",
       "      <td>2.3</td>\n",
       "    </tr>\n",
       "    <tr>\n",
       "      <th>3</th>\n",
       "      <td>AL</td>\n",
       "      <td>Addison town</td>\n",
       "      <td>81.4</td>\n",
       "      <td>37083</td>\n",
       "      <td>30.7</td>\n",
       "      <td>99.1</td>\n",
       "      <td>0.1</td>\n",
       "      <td>0</td>\n",
       "      <td>0.1</td>\n",
       "      <td>0.4</td>\n",
       "    </tr>\n",
       "    <tr>\n",
       "      <th>4</th>\n",
       "      <td>AL</td>\n",
       "      <td>Akron town</td>\n",
       "      <td>68.6</td>\n",
       "      <td>21667</td>\n",
       "      <td>42</td>\n",
       "      <td>13.2</td>\n",
       "      <td>86.5</td>\n",
       "      <td>0</td>\n",
       "      <td>0</td>\n",
       "      <td>0.3</td>\n",
       "    </tr>\n",
       "  </tbody>\n",
       "</table>\n",
       "</div>"
      ],
      "text/plain": [
       "  Geographic Area             City percent_completed_hs Median Income  \\\n",
       "0              AL       Abanda CDP                 21.2         11207   \n",
       "1              AL   Abbeville city                 69.1         25615   \n",
       "2              AL  Adamsville city                 78.9         42575   \n",
       "3              AL     Addison town                 81.4         37083   \n",
       "4              AL       Akron town                 68.6         21667   \n",
       "\n",
       "  poverty_rate share_white share_black share_native_american share_asian  \\\n",
       "0         78.8        67.2        30.2                     0           0   \n",
       "1         29.1        54.4        41.4                   0.1           1   \n",
       "2         25.5        52.3        44.9                   0.5         0.3   \n",
       "3         30.7        99.1         0.1                     0         0.1   \n",
       "4           42        13.2        86.5                     0           0   \n",
       "\n",
       "  share_hispanic  \n",
       "0            1.6  \n",
       "1            3.1  \n",
       "2            2.3  \n",
       "3            0.4  \n",
       "4            0.3  "
      ]
     },
     "execution_count": 54,
     "metadata": {},
     "output_type": "execute_result"
    }
   ],
   "source": [
    "merged = education.merge(income, on=['Geographic Area', 'City']).merge(poverty, on=['Geographic Area', 'City']).merge(race, on=['Geographic Area', 'City'])\n",
    "merged.head()"
   ]
  },
  {
   "cell_type": "code",
   "execution_count": null,
   "metadata": {},
   "outputs": [],
   "source": [
    "def merge_count(record):\n",
    "    # find record(s) matching both name and state\n",
    "    match_city = merged['City'].str.startswith(record['City'])\n",
    "    match_state = merged['Geographic Area'] == record['Geographic Area']\n",
    "    match_both = np.logical_and(match_city, match_state)\n",
    "    # count the number of True\n",
    "    length = np.count_nonzero(match_both)\n",
    "    if length == 1:\n",
    "        # if unique\n",
    "        merged.loc[match_both, 'Counts'] = record['Counts']\n",
    "        return merged.loc[match_both]\n",
    "    elif length > 1:\n",
    "        # if multiple, take average\n",
    "        count = record['Counts']/length\n",
    "        merged.loc[match_both, 'Counts'] = count\n",
    "        return merged.loc[match_both]\n",
    "\n",
    "merged['Counts'] = 0\n",
    "city_count.apply(merge_count, axis=1)"
   ]
  },
  {
   "cell_type": "code",
   "execution_count": 77,
   "metadata": {},
   "outputs": [
    {
     "data": {
      "text/html": [
       "<div>\n",
       "<style scoped>\n",
       "    .dataframe tbody tr th:only-of-type {\n",
       "        vertical-align: middle;\n",
       "    }\n",
       "\n",
       "    .dataframe tbody tr th {\n",
       "        vertical-align: top;\n",
       "    }\n",
       "\n",
       "    .dataframe thead th {\n",
       "        text-align: right;\n",
       "    }\n",
       "</style>\n",
       "<table border=\"1\" class=\"dataframe\">\n",
       "  <thead>\n",
       "    <tr style=\"text-align: right;\">\n",
       "      <th></th>\n",
       "      <th>Geographic Area</th>\n",
       "      <th>City</th>\n",
       "      <th>percent_completed_hs</th>\n",
       "      <th>Median Income</th>\n",
       "      <th>poverty_rate</th>\n",
       "      <th>share_white</th>\n",
       "      <th>share_black</th>\n",
       "      <th>share_native_american</th>\n",
       "      <th>share_asian</th>\n",
       "      <th>share_hispanic</th>\n",
       "      <th>Counts</th>\n",
       "    </tr>\n",
       "  </thead>\n",
       "  <tbody>\n",
       "    <tr>\n",
       "      <th>2701</th>\n",
       "      <td>CA</td>\n",
       "      <td>Los Angeles city</td>\n",
       "      <td>75.5</td>\n",
       "      <td>50205</td>\n",
       "      <td>22.1</td>\n",
       "      <td>49.8</td>\n",
       "      <td>9.6</td>\n",
       "      <td>0.7</td>\n",
       "      <td>11.3</td>\n",
       "      <td>48.5</td>\n",
       "      <td>31.0</td>\n",
       "    </tr>\n",
       "    <tr>\n",
       "      <th>1198</th>\n",
       "      <td>AZ</td>\n",
       "      <td>Phoenix city</td>\n",
       "      <td>80.7</td>\n",
       "      <td>47326</td>\n",
       "      <td>23.1</td>\n",
       "      <td>65.9</td>\n",
       "      <td>6.5</td>\n",
       "      <td>2.2</td>\n",
       "      <td>3.2</td>\n",
       "      <td>40.8</td>\n",
       "      <td>24.0</td>\n",
       "    </tr>\n",
       "    <tr>\n",
       "      <th>25036</th>\n",
       "      <td>TX</td>\n",
       "      <td>Houston city</td>\n",
       "      <td>76.7</td>\n",
       "      <td>46187</td>\n",
       "      <td>22.5</td>\n",
       "      <td>50.5</td>\n",
       "      <td>23.7</td>\n",
       "      <td>0.7</td>\n",
       "      <td>6</td>\n",
       "      <td>43.8</td>\n",
       "      <td>22.0</td>\n",
       "    </tr>\n",
       "    <tr>\n",
       "      <th>15596</th>\n",
       "      <td>NV</td>\n",
       "      <td>Las Vegas city</td>\n",
       "      <td>83.3</td>\n",
       "      <td>50202</td>\n",
       "      <td>17.5</td>\n",
       "      <td>62.1</td>\n",
       "      <td>11.1</td>\n",
       "      <td>0.7</td>\n",
       "      <td>6.1</td>\n",
       "      <td>31.5</td>\n",
       "      <td>16.0</td>\n",
       "    </tr>\n",
       "    <tr>\n",
       "      <th>25744</th>\n",
       "      <td>TX</td>\n",
       "      <td>San Antonio city</td>\n",
       "      <td>81.4</td>\n",
       "      <td>46744</td>\n",
       "      <td>19.8</td>\n",
       "      <td>72.6</td>\n",
       "      <td>6.9</td>\n",
       "      <td>0.9</td>\n",
       "      <td>2.4</td>\n",
       "      <td>63.2</td>\n",
       "      <td>15.0</td>\n",
       "    </tr>\n",
       "  </tbody>\n",
       "</table>\n",
       "</div>"
      ],
      "text/plain": [
       "      Geographic Area              City percent_completed_hs Median Income  \\\n",
       "2701               CA  Los Angeles city                 75.5         50205   \n",
       "1198               AZ      Phoenix city                 80.7         47326   \n",
       "25036              TX      Houston city                 76.7         46187   \n",
       "15596              NV    Las Vegas city                 83.3         50202   \n",
       "25744              TX  San Antonio city                 81.4         46744   \n",
       "\n",
       "      poverty_rate share_white share_black share_native_american share_asian  \\\n",
       "2701          22.1        49.8         9.6                   0.7        11.3   \n",
       "1198          23.1        65.9         6.5                   2.2         3.2   \n",
       "25036         22.5        50.5        23.7                   0.7           6   \n",
       "15596         17.5        62.1        11.1                   0.7         6.1   \n",
       "25744         19.8        72.6         6.9                   0.9         2.4   \n",
       "\n",
       "      share_hispanic  Counts  \n",
       "2701            48.5    31.0  \n",
       "1198            40.8    24.0  \n",
       "25036           43.8    22.0  \n",
       "15596           31.5    16.0  \n",
       "25744           63.2    15.0  "
      ]
     },
     "execution_count": 77,
     "metadata": {},
     "output_type": "execute_result"
    }
   ],
   "source": [
    "merged.sort_values(by='Counts', ascending=False).head()"
   ]
  },
  {
   "cell_type": "markdown",
   "metadata": {},
   "source": [
    "## Exploratory Data Analysis"
   ]
  }
 ],
 "metadata": {
  "interpreter": {
   "hash": "e4486cc46800a3a36dbbddfd8b12a33d5293b2126d0bd638d95bed74d24a9d28"
  },
  "kernelspec": {
   "display_name": "Python 3.8.13 ('base')",
   "language": "python",
   "name": "python3"
  },
  "language_info": {
   "codemirror_mode": {
    "name": "ipython",
    "version": 3
   },
   "file_extension": ".py",
   "mimetype": "text/x-python",
   "name": "python",
   "nbconvert_exporter": "python",
   "pygments_lexer": "ipython3",
   "version": "3.8.13"
  },
  "orig_nbformat": 4
 },
 "nbformat": 4,
 "nbformat_minor": 2
}
