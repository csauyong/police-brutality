{
  "cells": [
    {
      "cell_type": "markdown",
      "metadata": {
        "id": "sNzeaFnku45Y"
      },
      "source": [
        "# Use of Fatal Force by the US Police"
      ]
    },
    {
      "cell_type": "markdown",
      "metadata": {
        "id": "tbWeRqf1u45d"
      },
      "source": [
        "In the United States, use of deadly force by police has been a high-profile and contentious issue. 1000 people are shot and killed by US cops each year. The ever-growing argument is that the US has a flawed Law Enforcement system that costs too many innocent civilians their lives. In this project, we will analyze one of America’s hottest political topics, which encompasses issues ranging from institutional racism to the role of Law Enforcement personnel in society.\n",
        "\n",
        "We will use 5 data sets in this study. Four of them describes demographics of cities in the US (city data sets) while the remaining one records the fatal incidents (police data set)."
      ]
    },
    {
      "cell_type": "code",
      "execution_count": null,
      "metadata": {
        "id": "qFLcOpyvu45e"
      },
      "outputs": [],
      "source": [
        "import pandas as pd \n",
        "import matplotlib.pyplot as plt \n",
        "import numpy as np\n",
        "import seaborn as sns\n",
        "import pickle\n",
        "\n",
        "from sklearn.tree import plot_tree, DecisionTreeClassifier\n",
        "from sklearn.linear_model import LinearRegression, LogisticRegression, LogisticRegressionCV\n",
        "from sklearn.ensemble import RandomForestClassifier\n",
        "from sklearn.model_selection import train_test_split\n",
        "from sklearn.preprocessing import MinMaxScaler\n",
        "from sklearn.metrics import mean_squared_error, mean_absolute_error\n",
        "from sklearn import preprocessing\n",
        "from sklearn.neighbors import KNeighborsClassifier\n",
        "from sklearn.svm import SVC \n",
        "\n",
        "import tensorflow as tf\n",
        "from tensorflow.python.keras.layers import Dense\n",
        "from tensorflow.python.keras.models import Sequential"
      ]
    },
    {
      "cell_type": "markdown",
      "metadata": {
        "id": "UVkAcI_Gu45f"
      },
      "source": [
        "## Data Preprocessing"
      ]
    },
    {
      "cell_type": "code",
      "execution_count": null,
      "metadata": {
        "id": "i7w2JHEeu45g"
      },
      "outputs": [],
      "source": [
        "education = pd.read_csv('data/education.csv', encoding = \"ISO-8859-1\")\n",
        "income = pd.read_csv('data/income.csv', encoding = \"ISO-8859-1\")\n",
        "poverty = pd.read_csv('data/poverty.csv', encoding = \"ISO-8859-1\")\n",
        "race = pd.read_csv('data/share_race_by_city.csv', encoding = \"ISO-8859-1\")\n",
        "test = pd.read_csv('data/police_killings_test.csv', encoding = \"ISO-8859-1\")\n",
        "train = pd.read_csv('data/police_killings_train.csv', encoding = \"ISO-8859-1\")"
      ]
    },
    {
      "cell_type": "markdown",
      "metadata": {
        "id": "nIHTlWS_u45n"
      },
      "source": [
        "## Exploratory Data Analysis"
      ]
    },
    {
      "cell_type": "markdown",
      "metadata": {
        "id": "VKnNHHkqu45g"
      },
      "source": [
        "We first inspect and clean null data."
      ]
    },
    {
      "cell_type": "code",
      "execution_count": null,
      "metadata": {
        "colab": {
          "base_uri": "https://localhost:8080/"
        },
        "id": "YT3f6xNeu45h",
        "outputId": "251648eb-5330-46b7-ac7a-59a071f150c8"
      },
      "outputs": [
        {
          "output_type": "execute_result",
          "data": {
            "text/plain": [
              "id                          0\n",
              "name                        0\n",
              "date                        0\n",
              "manner_of_death             0\n",
              "armed                       6\n",
              "age                        37\n",
              "gender                      0\n",
              "race                       91\n",
              "city                        0\n",
              "state                       0\n",
              "signs_of_mental_illness     0\n",
              "threat_level                0\n",
              "flee                       27\n",
              "body_camera                 0\n",
              "dtype: int64"
            ]
          },
          "metadata": {},
          "execution_count": 3
        }
      ],
      "source": [
        "train.isnull().sum()"
      ]
    },
    {
      "cell_type": "markdown",
      "source": [
        "There are some are null/nan values, we can look at the dataset to find reasonable values to fill these with."
      ],
      "metadata": {
        "id": "qFlSW68N1Rht"
      }
    },
    {
      "cell_type": "code",
      "source": [
        "train.shape"
      ],
      "metadata": {
        "colab": {
          "base_uri": "https://localhost:8080/"
        },
        "id": "CWNwxrQDVCRU",
        "outputId": "9de23565-c648-46d9-f2a3-d940ec5ef07d"
      },
      "execution_count": null,
      "outputs": [
        {
          "output_type": "execute_result",
          "data": {
            "text/plain": [
              "(2028, 14)"
            ]
          },
          "metadata": {},
          "execution_count": 4
        }
      ]
    },
    {
      "cell_type": "code",
      "source": [
        "train.info"
      ],
      "metadata": {
        "colab": {
          "base_uri": "https://localhost:8080/"
        },
        "id": "AZP_YzCnVKDi",
        "outputId": "68b84df4-c40f-4bec-934b-1e3a1034966a"
      },
      "execution_count": null,
      "outputs": [
        {
          "output_type": "execute_result",
          "data": {
            "text/plain": [
              "<bound method DataFrame.info of         id                   name      date   manner_of_death       armed  \\\n",
              "0        3             Tim Elliot  02/01/15              shot         gun   \n",
              "1        4       Lewis Lee Lembke  02/01/15              shot         gun   \n",
              "2        5     John Paul Quintero  03/01/15  shot and Tasered     unarmed   \n",
              "3        8        Matthew Hoffman  04/01/15              shot  toy weapon   \n",
              "4        9      Michael Rodriguez  04/01/15              shot    nail gun   \n",
              "...    ...                    ...       ...               ...         ...   \n",
              "2023  2256   Jeremy Lopez-Robledo  24/01/17              shot       knife   \n",
              "2024  2257    Jonathan David Sper  24/01/17              shot     unarmed   \n",
              "2025  2258  Jose Efrain Rodriguez  24/01/17  shot and Tasered         gun   \n",
              "2026  2259          Ramon Milanez  24/01/17              shot         gun   \n",
              "2027  2260       Micah R. Lambert  25/01/17              shot     vehicle   \n",
              "\n",
              "       age gender race             city state  signs_of_mental_illness  \\\n",
              "0     53.0      M    A          Shelton    WA                     True   \n",
              "1     47.0      M    W            Aloha    OR                    False   \n",
              "2     23.0      M    H          Wichita    KS                    False   \n",
              "3     32.0      M    W    San Francisco    CA                     True   \n",
              "4     39.0      M    H            Evans    CO                    False   \n",
              "...    ...    ...  ...              ...   ...                      ...   \n",
              "2023  29.0      M    H       Las Cruces    NM                     True   \n",
              "2024  30.0      M    W  Algoma Township    MI                     True   \n",
              "2025  18.0      M    H   Lancaster City    PA                    False   \n",
              "2026  32.0      M    H             Kuna    ID                    False   \n",
              "2027  37.0      M    W           Oxford    AL                     True   \n",
              "\n",
              "     threat_level         flee  body_camera  \n",
              "0          attack  Not fleeing        False  \n",
              "1          attack  Not fleeing        False  \n",
              "2           other  Not fleeing        False  \n",
              "3          attack  Not fleeing        False  \n",
              "4          attack  Not fleeing        False  \n",
              "...           ...          ...          ...  \n",
              "2023       attack         Foot         True  \n",
              "2024       attack  Not fleeing        False  \n",
              "2025       attack  Not fleeing        False  \n",
              "2026       attack          Car        False  \n",
              "2027       attack          Car        False  \n",
              "\n",
              "[2028 rows x 14 columns]>"
            ]
          },
          "metadata": {},
          "execution_count": 5
        }
      ]
    },
    {
      "cell_type": "code",
      "source": [
        "train.describe()"
      ],
      "metadata": {
        "colab": {
          "base_uri": "https://localhost:8080/",
          "height": 300
        },
        "id": "OyfvehRuVe2l",
        "outputId": "293943c0-e3cc-4779-c48b-1cd2990b6d8a"
      },
      "execution_count": null,
      "outputs": [
        {
          "output_type": "execute_result",
          "data": {
            "text/plain": [
              "                id          age\n",
              "count  2028.000000  1991.000000\n",
              "mean   1170.653846    36.580613\n",
              "std     635.377106    12.886299\n",
              "min       3.000000     6.000000\n",
              "25%     633.750000    27.000000\n",
              "50%    1170.500000    34.000000\n",
              "75%    1719.250000    45.000000\n",
              "max    2260.000000    86.000000"
            ],
            "text/html": [
              "\n",
              "  <div id=\"df-5727140a-b1e7-4133-b72a-ecd9eff4314d\">\n",
              "    <div class=\"colab-df-container\">\n",
              "      <div>\n",
              "<style scoped>\n",
              "    .dataframe tbody tr th:only-of-type {\n",
              "        vertical-align: middle;\n",
              "    }\n",
              "\n",
              "    .dataframe tbody tr th {\n",
              "        vertical-align: top;\n",
              "    }\n",
              "\n",
              "    .dataframe thead th {\n",
              "        text-align: right;\n",
              "    }\n",
              "</style>\n",
              "<table border=\"1\" class=\"dataframe\">\n",
              "  <thead>\n",
              "    <tr style=\"text-align: right;\">\n",
              "      <th></th>\n",
              "      <th>id</th>\n",
              "      <th>age</th>\n",
              "    </tr>\n",
              "  </thead>\n",
              "  <tbody>\n",
              "    <tr>\n",
              "      <th>count</th>\n",
              "      <td>2028.000000</td>\n",
              "      <td>1991.000000</td>\n",
              "    </tr>\n",
              "    <tr>\n",
              "      <th>mean</th>\n",
              "      <td>1170.653846</td>\n",
              "      <td>36.580613</td>\n",
              "    </tr>\n",
              "    <tr>\n",
              "      <th>std</th>\n",
              "      <td>635.377106</td>\n",
              "      <td>12.886299</td>\n",
              "    </tr>\n",
              "    <tr>\n",
              "      <th>min</th>\n",
              "      <td>3.000000</td>\n",
              "      <td>6.000000</td>\n",
              "    </tr>\n",
              "    <tr>\n",
              "      <th>25%</th>\n",
              "      <td>633.750000</td>\n",
              "      <td>27.000000</td>\n",
              "    </tr>\n",
              "    <tr>\n",
              "      <th>50%</th>\n",
              "      <td>1170.500000</td>\n",
              "      <td>34.000000</td>\n",
              "    </tr>\n",
              "    <tr>\n",
              "      <th>75%</th>\n",
              "      <td>1719.250000</td>\n",
              "      <td>45.000000</td>\n",
              "    </tr>\n",
              "    <tr>\n",
              "      <th>max</th>\n",
              "      <td>2260.000000</td>\n",
              "      <td>86.000000</td>\n",
              "    </tr>\n",
              "  </tbody>\n",
              "</table>\n",
              "</div>\n",
              "      <button class=\"colab-df-convert\" onclick=\"convertToInteractive('df-5727140a-b1e7-4133-b72a-ecd9eff4314d')\"\n",
              "              title=\"Convert this dataframe to an interactive table.\"\n",
              "              style=\"display:none;\">\n",
              "        \n",
              "  <svg xmlns=\"http://www.w3.org/2000/svg\" height=\"24px\"viewBox=\"0 0 24 24\"\n",
              "       width=\"24px\">\n",
              "    <path d=\"M0 0h24v24H0V0z\" fill=\"none\"/>\n",
              "    <path d=\"M18.56 5.44l.94 2.06.94-2.06 2.06-.94-2.06-.94-.94-2.06-.94 2.06-2.06.94zm-11 1L8.5 8.5l.94-2.06 2.06-.94-2.06-.94L8.5 2.5l-.94 2.06-2.06.94zm10 10l.94 2.06.94-2.06 2.06-.94-2.06-.94-.94-2.06-.94 2.06-2.06.94z\"/><path d=\"M17.41 7.96l-1.37-1.37c-.4-.4-.92-.59-1.43-.59-.52 0-1.04.2-1.43.59L10.3 9.45l-7.72 7.72c-.78.78-.78 2.05 0 2.83L4 21.41c.39.39.9.59 1.41.59.51 0 1.02-.2 1.41-.59l7.78-7.78 2.81-2.81c.8-.78.8-2.07 0-2.86zM5.41 20L4 18.59l7.72-7.72 1.47 1.35L5.41 20z\"/>\n",
              "  </svg>\n",
              "      </button>\n",
              "      \n",
              "  <style>\n",
              "    .colab-df-container {\n",
              "      display:flex;\n",
              "      flex-wrap:wrap;\n",
              "      gap: 12px;\n",
              "    }\n",
              "\n",
              "    .colab-df-convert {\n",
              "      background-color: #E8F0FE;\n",
              "      border: none;\n",
              "      border-radius: 50%;\n",
              "      cursor: pointer;\n",
              "      display: none;\n",
              "      fill: #1967D2;\n",
              "      height: 32px;\n",
              "      padding: 0 0 0 0;\n",
              "      width: 32px;\n",
              "    }\n",
              "\n",
              "    .colab-df-convert:hover {\n",
              "      background-color: #E2EBFA;\n",
              "      box-shadow: 0px 1px 2px rgba(60, 64, 67, 0.3), 0px 1px 3px 1px rgba(60, 64, 67, 0.15);\n",
              "      fill: #174EA6;\n",
              "    }\n",
              "\n",
              "    [theme=dark] .colab-df-convert {\n",
              "      background-color: #3B4455;\n",
              "      fill: #D2E3FC;\n",
              "    }\n",
              "\n",
              "    [theme=dark] .colab-df-convert:hover {\n",
              "      background-color: #434B5C;\n",
              "      box-shadow: 0px 1px 3px 1px rgba(0, 0, 0, 0.15);\n",
              "      filter: drop-shadow(0px 1px 2px rgba(0, 0, 0, 0.3));\n",
              "      fill: #FFFFFF;\n",
              "    }\n",
              "  </style>\n",
              "\n",
              "      <script>\n",
              "        const buttonEl =\n",
              "          document.querySelector('#df-5727140a-b1e7-4133-b72a-ecd9eff4314d button.colab-df-convert');\n",
              "        buttonEl.style.display =\n",
              "          google.colab.kernel.accessAllowed ? 'block' : 'none';\n",
              "\n",
              "        async function convertToInteractive(key) {\n",
              "          const element = document.querySelector('#df-5727140a-b1e7-4133-b72a-ecd9eff4314d');\n",
              "          const dataTable =\n",
              "            await google.colab.kernel.invokeFunction('convertToInteractive',\n",
              "                                                     [key], {});\n",
              "          if (!dataTable) return;\n",
              "\n",
              "          const docLinkHtml = 'Like what you see? Visit the ' +\n",
              "            '<a target=\"_blank\" href=https://colab.research.google.com/notebooks/data_table.ipynb>data table notebook</a>'\n",
              "            + ' to learn more about interactive tables.';\n",
              "          element.innerHTML = '';\n",
              "          dataTable['output_type'] = 'display_data';\n",
              "          await google.colab.output.renderOutput(dataTable, element);\n",
              "          const docLink = document.createElement('div');\n",
              "          docLink.innerHTML = docLinkHtml;\n",
              "          element.appendChild(docLink);\n",
              "        }\n",
              "      </script>\n",
              "    </div>\n",
              "  </div>\n",
              "  "
            ]
          },
          "metadata": {},
          "execution_count": 6
        }
      ]
    },
    {
      "cell_type": "code",
      "source": [
        "train.nunique()"
      ],
      "metadata": {
        "colab": {
          "base_uri": "https://localhost:8080/"
        },
        "id": "BOEhKVha2mfX",
        "outputId": "e8279a2a-d42e-4b75-ace9-64cf799aa6fa"
      },
      "execution_count": null,
      "outputs": [
        {
          "output_type": "execute_result",
          "data": {
            "text/plain": [
              "id                         2028\n",
              "name                       2013\n",
              "date                        705\n",
              "manner_of_death               2\n",
              "armed                        65\n",
              "age                          71\n",
              "gender                        2\n",
              "race                          6\n",
              "city                       1194\n",
              "state                        51\n",
              "signs_of_mental_illness       2\n",
              "threat_level                  3\n",
              "flee                          4\n",
              "body_camera                   2\n",
              "dtype: int64"
            ]
          },
          "metadata": {},
          "execution_count": 7
        }
      ]
    },
    {
      "cell_type": "code",
      "source": [
        "train['armed'].value_counts()"
      ],
      "metadata": {
        "colab": {
          "base_uri": "https://localhost:8080/"
        },
        "id": "LaSflZFAwu21",
        "outputId": "4b8a49f5-b727-4231-d11a-2c74243383cb"
      },
      "execution_count": null,
      "outputs": [
        {
          "output_type": "execute_result",
          "data": {
            "text/plain": [
              "gun                                 1114\n",
              "knife                                304\n",
              "unarmed                              148\n",
              "vehicle                              125\n",
              "undetermined                          91\n",
              "                                    ... \n",
              "bean-bag gun                           1\n",
              "baseball bat and fireplace poker       1\n",
              "straight edge razor                    1\n",
              "hand torch                             1\n",
              "pole and knife                         1\n",
              "Name: armed, Length: 65, dtype: int64"
            ]
          },
          "metadata": {},
          "execution_count": 8
        }
      ]
    },
    {
      "cell_type": "markdown",
      "source": [
        "The missing values for the armed column can reasonably be replaced with 'undetermined'"
      ],
      "metadata": {
        "id": "Ktq2ZNxT2AB5"
      }
    },
    {
      "cell_type": "code",
      "source": [
        "train['age'].value_counts()"
      ],
      "metadata": {
        "colab": {
          "base_uri": "https://localhost:8080/"
        },
        "id": "awPYwbtxwupH",
        "outputId": "23865a11-54e1-43e9-d224-1f7a457ade42"
      },
      "execution_count": null,
      "outputs": [
        {
          "output_type": "execute_result",
          "data": {
            "text/plain": [
              "31.0    79\n",
              "25.0    77\n",
              "36.0    77\n",
              "29.0    74\n",
              "30.0    62\n",
              "        ..\n",
              "80.0     1\n",
              "14.0     1\n",
              "82.0     1\n",
              "13.0     1\n",
              "73.0     1\n",
              "Name: age, Length: 71, dtype: int64"
            ]
          },
          "metadata": {},
          "execution_count": 9
        }
      ]
    },
    {
      "cell_type": "markdown",
      "source": [
        "For age, the missing values can be imputed with the median value. Tis is reasonable becasue unlike the mean, median is a measure of central tendancy that is not greatly influenced by the outliers."
      ],
      "metadata": {
        "id": "e4J29JZf28SQ"
      }
    },
    {
      "cell_type": "code",
      "source": [
        "train['flee'].value_counts()"
      ],
      "metadata": {
        "colab": {
          "base_uri": "https://localhost:8080/"
        },
        "id": "NGC5fquPwucx",
        "outputId": "6693b128-f387-4276-ff6f-4f91bae014f6"
      },
      "execution_count": null,
      "outputs": [
        {
          "output_type": "execute_result",
          "data": {
            "text/plain": [
              "Not fleeing    1387\n",
              "Car             300\n",
              "Foot            239\n",
              "Other            75\n",
              "Name: flee, dtype: int64"
            ]
          },
          "metadata": {},
          "execution_count": 10
        }
      ]
    },
    {
      "cell_type": "markdown",
      "source": [
        "The missing values for the armed column can reasonably be replaced with 'undetermined'"
      ],
      "metadata": {
        "id": "CdLugQR231Cj"
      }
    },
    {
      "cell_type": "code",
      "source": [
        "train['race'].value_counts()"
      ],
      "metadata": {
        "colab": {
          "base_uri": "https://localhost:8080/"
        },
        "id": "o9TcZJ3FwuR2",
        "outputId": "222f0f5e-9c2e-4cd8-b10a-9f5b5d77cd93"
      },
      "execution_count": null,
      "outputs": [
        {
          "output_type": "execute_result",
          "data": {
            "text/plain": [
              "W    996\n",
              "B    507\n",
              "H    348\n",
              "A     31\n",
              "O     28\n",
              "N     27\n",
              "Name: race, dtype: int64"
            ]
          },
          "metadata": {},
          "execution_count": 11
        }
      ]
    },
    {
      "cell_type": "code",
      "source": [
        "race"
      ],
      "metadata": {
        "colab": {
          "base_uri": "https://localhost:8080/",
          "height": 424
        },
        "id": "SsmfxVNbye6v",
        "outputId": "afa50049-9ae6-471a-c0c4-c9817d0ed5e9"
      },
      "execution_count": null,
      "outputs": [
        {
          "output_type": "execute_result",
          "data": {
            "text/plain": [
              "      Geographic Area                    City share_white share_black  \\\n",
              "0                  AL              Abanda CDP        67.2        30.2   \n",
              "1                  AL          Abbeville city        54.4        41.4   \n",
              "2                  AL         Adamsville city        52.3        44.9   \n",
              "3                  AL            Addison town        99.1         0.1   \n",
              "4                  AL              Akron town        13.2        86.5   \n",
              "...               ...                     ...         ...         ...   \n",
              "29263              WY  Woods Landing-Jelm CDP        95.9           0   \n",
              "29264              WY            Worland city        89.9         0.3   \n",
              "29265              WY             Wright town        94.5         0.1   \n",
              "29266              WY              Yoder town        97.4           0   \n",
              "29267              WY           Y-O Ranch CDP        92.8         1.5   \n",
              "\n",
              "      share_native_american share_asian share_hispanic  \n",
              "0                         0           0            1.6  \n",
              "1                       0.1           1            3.1  \n",
              "2                       0.5         0.3            2.3  \n",
              "3                         0         0.1            0.4  \n",
              "4                         0           0            0.3  \n",
              "...                     ...         ...            ...  \n",
              "29263                     0         2.1              0  \n",
              "29264                   1.3         0.6           16.6  \n",
              "29265                   1.4         0.2            6.2  \n",
              "29266                     0           0              4  \n",
              "29267                   2.6           0           11.8  \n",
              "\n",
              "[29268 rows x 7 columns]"
            ],
            "text/html": [
              "\n",
              "  <div id=\"df-ec3a1c11-6980-4756-9329-796e4ec6a014\">\n",
              "    <div class=\"colab-df-container\">\n",
              "      <div>\n",
              "<style scoped>\n",
              "    .dataframe tbody tr th:only-of-type {\n",
              "        vertical-align: middle;\n",
              "    }\n",
              "\n",
              "    .dataframe tbody tr th {\n",
              "        vertical-align: top;\n",
              "    }\n",
              "\n",
              "    .dataframe thead th {\n",
              "        text-align: right;\n",
              "    }\n",
              "</style>\n",
              "<table border=\"1\" class=\"dataframe\">\n",
              "  <thead>\n",
              "    <tr style=\"text-align: right;\">\n",
              "      <th></th>\n",
              "      <th>Geographic Area</th>\n",
              "      <th>City</th>\n",
              "      <th>share_white</th>\n",
              "      <th>share_black</th>\n",
              "      <th>share_native_american</th>\n",
              "      <th>share_asian</th>\n",
              "      <th>share_hispanic</th>\n",
              "    </tr>\n",
              "  </thead>\n",
              "  <tbody>\n",
              "    <tr>\n",
              "      <th>0</th>\n",
              "      <td>AL</td>\n",
              "      <td>Abanda CDP</td>\n",
              "      <td>67.2</td>\n",
              "      <td>30.2</td>\n",
              "      <td>0</td>\n",
              "      <td>0</td>\n",
              "      <td>1.6</td>\n",
              "    </tr>\n",
              "    <tr>\n",
              "      <th>1</th>\n",
              "      <td>AL</td>\n",
              "      <td>Abbeville city</td>\n",
              "      <td>54.4</td>\n",
              "      <td>41.4</td>\n",
              "      <td>0.1</td>\n",
              "      <td>1</td>\n",
              "      <td>3.1</td>\n",
              "    </tr>\n",
              "    <tr>\n",
              "      <th>2</th>\n",
              "      <td>AL</td>\n",
              "      <td>Adamsville city</td>\n",
              "      <td>52.3</td>\n",
              "      <td>44.9</td>\n",
              "      <td>0.5</td>\n",
              "      <td>0.3</td>\n",
              "      <td>2.3</td>\n",
              "    </tr>\n",
              "    <tr>\n",
              "      <th>3</th>\n",
              "      <td>AL</td>\n",
              "      <td>Addison town</td>\n",
              "      <td>99.1</td>\n",
              "      <td>0.1</td>\n",
              "      <td>0</td>\n",
              "      <td>0.1</td>\n",
              "      <td>0.4</td>\n",
              "    </tr>\n",
              "    <tr>\n",
              "      <th>4</th>\n",
              "      <td>AL</td>\n",
              "      <td>Akron town</td>\n",
              "      <td>13.2</td>\n",
              "      <td>86.5</td>\n",
              "      <td>0</td>\n",
              "      <td>0</td>\n",
              "      <td>0.3</td>\n",
              "    </tr>\n",
              "    <tr>\n",
              "      <th>...</th>\n",
              "      <td>...</td>\n",
              "      <td>...</td>\n",
              "      <td>...</td>\n",
              "      <td>...</td>\n",
              "      <td>...</td>\n",
              "      <td>...</td>\n",
              "      <td>...</td>\n",
              "    </tr>\n",
              "    <tr>\n",
              "      <th>29263</th>\n",
              "      <td>WY</td>\n",
              "      <td>Woods Landing-Jelm CDP</td>\n",
              "      <td>95.9</td>\n",
              "      <td>0</td>\n",
              "      <td>0</td>\n",
              "      <td>2.1</td>\n",
              "      <td>0</td>\n",
              "    </tr>\n",
              "    <tr>\n",
              "      <th>29264</th>\n",
              "      <td>WY</td>\n",
              "      <td>Worland city</td>\n",
              "      <td>89.9</td>\n",
              "      <td>0.3</td>\n",
              "      <td>1.3</td>\n",
              "      <td>0.6</td>\n",
              "      <td>16.6</td>\n",
              "    </tr>\n",
              "    <tr>\n",
              "      <th>29265</th>\n",
              "      <td>WY</td>\n",
              "      <td>Wright town</td>\n",
              "      <td>94.5</td>\n",
              "      <td>0.1</td>\n",
              "      <td>1.4</td>\n",
              "      <td>0.2</td>\n",
              "      <td>6.2</td>\n",
              "    </tr>\n",
              "    <tr>\n",
              "      <th>29266</th>\n",
              "      <td>WY</td>\n",
              "      <td>Yoder town</td>\n",
              "      <td>97.4</td>\n",
              "      <td>0</td>\n",
              "      <td>0</td>\n",
              "      <td>0</td>\n",
              "      <td>4</td>\n",
              "    </tr>\n",
              "    <tr>\n",
              "      <th>29267</th>\n",
              "      <td>WY</td>\n",
              "      <td>Y-O Ranch CDP</td>\n",
              "      <td>92.8</td>\n",
              "      <td>1.5</td>\n",
              "      <td>2.6</td>\n",
              "      <td>0</td>\n",
              "      <td>11.8</td>\n",
              "    </tr>\n",
              "  </tbody>\n",
              "</table>\n",
              "<p>29268 rows × 7 columns</p>\n",
              "</div>\n",
              "      <button class=\"colab-df-convert\" onclick=\"convertToInteractive('df-ec3a1c11-6980-4756-9329-796e4ec6a014')\"\n",
              "              title=\"Convert this dataframe to an interactive table.\"\n",
              "              style=\"display:none;\">\n",
              "        \n",
              "  <svg xmlns=\"http://www.w3.org/2000/svg\" height=\"24px\"viewBox=\"0 0 24 24\"\n",
              "       width=\"24px\">\n",
              "    <path d=\"M0 0h24v24H0V0z\" fill=\"none\"/>\n",
              "    <path d=\"M18.56 5.44l.94 2.06.94-2.06 2.06-.94-2.06-.94-.94-2.06-.94 2.06-2.06.94zm-11 1L8.5 8.5l.94-2.06 2.06-.94-2.06-.94L8.5 2.5l-.94 2.06-2.06.94zm10 10l.94 2.06.94-2.06 2.06-.94-2.06-.94-.94-2.06-.94 2.06-2.06.94z\"/><path d=\"M17.41 7.96l-1.37-1.37c-.4-.4-.92-.59-1.43-.59-.52 0-1.04.2-1.43.59L10.3 9.45l-7.72 7.72c-.78.78-.78 2.05 0 2.83L4 21.41c.39.39.9.59 1.41.59.51 0 1.02-.2 1.41-.59l7.78-7.78 2.81-2.81c.8-.78.8-2.07 0-2.86zM5.41 20L4 18.59l7.72-7.72 1.47 1.35L5.41 20z\"/>\n",
              "  </svg>\n",
              "      </button>\n",
              "      \n",
              "  <style>\n",
              "    .colab-df-container {\n",
              "      display:flex;\n",
              "      flex-wrap:wrap;\n",
              "      gap: 12px;\n",
              "    }\n",
              "\n",
              "    .colab-df-convert {\n",
              "      background-color: #E8F0FE;\n",
              "      border: none;\n",
              "      border-radius: 50%;\n",
              "      cursor: pointer;\n",
              "      display: none;\n",
              "      fill: #1967D2;\n",
              "      height: 32px;\n",
              "      padding: 0 0 0 0;\n",
              "      width: 32px;\n",
              "    }\n",
              "\n",
              "    .colab-df-convert:hover {\n",
              "      background-color: #E2EBFA;\n",
              "      box-shadow: 0px 1px 2px rgba(60, 64, 67, 0.3), 0px 1px 3px 1px rgba(60, 64, 67, 0.15);\n",
              "      fill: #174EA6;\n",
              "    }\n",
              "\n",
              "    [theme=dark] .colab-df-convert {\n",
              "      background-color: #3B4455;\n",
              "      fill: #D2E3FC;\n",
              "    }\n",
              "\n",
              "    [theme=dark] .colab-df-convert:hover {\n",
              "      background-color: #434B5C;\n",
              "      box-shadow: 0px 1px 3px 1px rgba(0, 0, 0, 0.15);\n",
              "      filter: drop-shadow(0px 1px 2px rgba(0, 0, 0, 0.3));\n",
              "      fill: #FFFFFF;\n",
              "    }\n",
              "  </style>\n",
              "\n",
              "      <script>\n",
              "        const buttonEl =\n",
              "          document.querySelector('#df-ec3a1c11-6980-4756-9329-796e4ec6a014 button.colab-df-convert');\n",
              "        buttonEl.style.display =\n",
              "          google.colab.kernel.accessAllowed ? 'block' : 'none';\n",
              "\n",
              "        async function convertToInteractive(key) {\n",
              "          const element = document.querySelector('#df-ec3a1c11-6980-4756-9329-796e4ec6a014');\n",
              "          const dataTable =\n",
              "            await google.colab.kernel.invokeFunction('convertToInteractive',\n",
              "                                                     [key], {});\n",
              "          if (!dataTable) return;\n",
              "\n",
              "          const docLinkHtml = 'Like what you see? Visit the ' +\n",
              "            '<a target=\"_blank\" href=https://colab.research.google.com/notebooks/data_table.ipynb>data table notebook</a>'\n",
              "            + ' to learn more about interactive tables.';\n",
              "          element.innerHTML = '';\n",
              "          dataTable['output_type'] = 'display_data';\n",
              "          await google.colab.output.renderOutput(dataTable, element);\n",
              "          const docLink = document.createElement('div');\n",
              "          docLink.innerHTML = docLinkHtml;\n",
              "          element.appendChild(docLink);\n",
              "        }\n",
              "      </script>\n",
              "    </div>\n",
              "  </div>\n",
              "  "
            ]
          },
          "metadata": {},
          "execution_count": 12
        }
      ]
    },
    {
      "cell_type": "markdown",
      "source": [
        "For race, we see that there are 6 unique values other than the null/nan values. These are indicated by:\n",
        "*   W  -  White\n",
        "*   B  -  Black or African American\n",
        "*   H  -  Hispanic or Latino\n",
        "*   A  -  Asian or Other Pacific Islander\n",
        "*   O  -  Other\n",
        "*   N  -  American Indian or Alaska Native\n",
        "\n",
        "These are mostly consistent with the OMB standards, except OMB considers Hispanic or Latino to be an Ethnicity. As we are looking to work with multiple datasets, including the race dataset, we can confirm that the 5 major race categories we are concerned with are indeed indicated as described above. Hence, we can reasonably fill the missing race values with 'O', as it is the best fit among those given. "
      ],
      "metadata": {
        "id": "2aZajQg64u7g"
      }
    },
    {
      "cell_type": "code",
      "source": [
        "train.shape"
      ],
      "metadata": {
        "colab": {
          "base_uri": "https://localhost:8080/"
        },
        "id": "pcLReP-wu10L",
        "outputId": "d5d9a81a-f4f9-4094-99e7-c2f21512b88b"
      },
      "execution_count": null,
      "outputs": [
        {
          "output_type": "execute_result",
          "data": {
            "text/plain": [
              "(2028, 14)"
            ]
          },
          "metadata": {},
          "execution_count": 13
        }
      ]
    },
    {
      "cell_type": "code",
      "source": [
        "test.shape"
      ],
      "metadata": {
        "colab": {
          "base_uri": "https://localhost:8080/"
        },
        "id": "6P5TaXiYzOIh",
        "outputId": "6dc43099-a1b2-4d47-f92e-4d43d3ecaafa"
      },
      "execution_count": null,
      "outputs": [
        {
          "output_type": "execute_result",
          "data": {
            "text/plain": [
              "(507, 14)"
            ]
          },
          "metadata": {},
          "execution_count": 14
        }
      ]
    },
    {
      "cell_type": "code",
      "execution_count": null,
      "metadata": {
        "id": "_-pYAeFlu45h"
      },
      "outputs": [],
      "source": [
        "def clean_dataset(df):\n",
        "    assert isinstance(df, pd.DataFrame)\n",
        "    # fill in missing values using fillna()\n",
        "    df['armed'] = df['armed'].fillna('undetermined')\n",
        "    df['age'] = df['age'].fillna(df['age'].median())\n",
        "    df['race'] = df['race'].fillna('O')\n",
        "    df['flee'] = df['flee'].fillna('Other')\n",
        "    # should not end up needing to remove any indecies, missing values have been filled in\n",
        "    indices_to_keep = ~df.isin([np.nan, np.inf, -np.inf]).any(1)\n",
        "    return df[indices_to_keep]"
      ]
    },
    {
      "cell_type": "code",
      "execution_count": null,
      "metadata": {
        "id": "-ye7rz1Iu45i"
      },
      "outputs": [],
      "source": [
        "# clean test and train datasets\n",
        "train = clean_dataset(train)\n",
        "test = clean_dataset(test)"
      ]
    },
    {
      "cell_type": "markdown",
      "metadata": {
        "id": "PZCdmOv3u45i"
      },
      "source": [
        "### Merging Counts to City Data Sets\n",
        "\n",
        "By merging the count of fatal incident grouped by city to the city data sets, we can perform linear regression using demographics as independent variables and count as a depedent variable.\n",
        "\n",
        "There is a discrepancy between the encoding of names between the police data set and city data sets. For example, the former refer LA in California as Los Angeles while the latter uses Los Angeles city.\n",
        "\n",
        "We also observe that the police data set provide less information because it only has Chicago as a city, while the city data sets have Chicago city, Chicago Heights city and Chicago Ridge village. Assuming that cities bearing similar name should be geographically and demographically close to each other, we shall evenly distribute the number of fatal incidents between them."
      ]
    },
    {
      "cell_type": "code",
      "execution_count": null,
      "metadata": {
        "colab": {
          "base_uri": "https://localhost:8080/",
          "height": 424
        },
        "id": "GLTofeoAu45j",
        "outputId": "6a44afc7-10ba-4e0d-fb4a-022f181f83cc"
      },
      "outputs": [
        {
          "output_type": "execute_result",
          "data": {
            "text/plain": [
              "             City Geographic Area  Counts\n",
              "0     Los Angeles              CA      39\n",
              "1         Phoenix              AZ      31\n",
              "2         Houston              TX      26\n",
              "3         Chicago              IL      25\n",
              "4       Las Vegas              NV      21\n",
              "...           ...             ...     ...\n",
              "1529         Knox              IN       1\n",
              "1530     Kirkland              WA       1\n",
              "1531        Kiowa              OK       1\n",
              "1532      Kinston              NC       1\n",
              "1533    Abbeville              AL       1\n",
              "\n",
              "[1534 rows x 3 columns]"
            ],
            "text/html": [
              "\n",
              "  <div id=\"df-7607f09d-c0fc-40d5-b0a8-1256b828cd12\">\n",
              "    <div class=\"colab-df-container\">\n",
              "      <div>\n",
              "<style scoped>\n",
              "    .dataframe tbody tr th:only-of-type {\n",
              "        vertical-align: middle;\n",
              "    }\n",
              "\n",
              "    .dataframe tbody tr th {\n",
              "        vertical-align: top;\n",
              "    }\n",
              "\n",
              "    .dataframe thead th {\n",
              "        text-align: right;\n",
              "    }\n",
              "</style>\n",
              "<table border=\"1\" class=\"dataframe\">\n",
              "  <thead>\n",
              "    <tr style=\"text-align: right;\">\n",
              "      <th></th>\n",
              "      <th>City</th>\n",
              "      <th>Geographic Area</th>\n",
              "      <th>Counts</th>\n",
              "    </tr>\n",
              "  </thead>\n",
              "  <tbody>\n",
              "    <tr>\n",
              "      <th>0</th>\n",
              "      <td>Los Angeles</td>\n",
              "      <td>CA</td>\n",
              "      <td>39</td>\n",
              "    </tr>\n",
              "    <tr>\n",
              "      <th>1</th>\n",
              "      <td>Phoenix</td>\n",
              "      <td>AZ</td>\n",
              "      <td>31</td>\n",
              "    </tr>\n",
              "    <tr>\n",
              "      <th>2</th>\n",
              "      <td>Houston</td>\n",
              "      <td>TX</td>\n",
              "      <td>26</td>\n",
              "    </tr>\n",
              "    <tr>\n",
              "      <th>3</th>\n",
              "      <td>Chicago</td>\n",
              "      <td>IL</td>\n",
              "      <td>25</td>\n",
              "    </tr>\n",
              "    <tr>\n",
              "      <th>4</th>\n",
              "      <td>Las Vegas</td>\n",
              "      <td>NV</td>\n",
              "      <td>21</td>\n",
              "    </tr>\n",
              "    <tr>\n",
              "      <th>...</th>\n",
              "      <td>...</td>\n",
              "      <td>...</td>\n",
              "      <td>...</td>\n",
              "    </tr>\n",
              "    <tr>\n",
              "      <th>1529</th>\n",
              "      <td>Knox</td>\n",
              "      <td>IN</td>\n",
              "      <td>1</td>\n",
              "    </tr>\n",
              "    <tr>\n",
              "      <th>1530</th>\n",
              "      <td>Kirkland</td>\n",
              "      <td>WA</td>\n",
              "      <td>1</td>\n",
              "    </tr>\n",
              "    <tr>\n",
              "      <th>1531</th>\n",
              "      <td>Kiowa</td>\n",
              "      <td>OK</td>\n",
              "      <td>1</td>\n",
              "    </tr>\n",
              "    <tr>\n",
              "      <th>1532</th>\n",
              "      <td>Kinston</td>\n",
              "      <td>NC</td>\n",
              "      <td>1</td>\n",
              "    </tr>\n",
              "    <tr>\n",
              "      <th>1533</th>\n",
              "      <td>Abbeville</td>\n",
              "      <td>AL</td>\n",
              "      <td>1</td>\n",
              "    </tr>\n",
              "  </tbody>\n",
              "</table>\n",
              "<p>1534 rows × 3 columns</p>\n",
              "</div>\n",
              "      <button class=\"colab-df-convert\" onclick=\"convertToInteractive('df-7607f09d-c0fc-40d5-b0a8-1256b828cd12')\"\n",
              "              title=\"Convert this dataframe to an interactive table.\"\n",
              "              style=\"display:none;\">\n",
              "        \n",
              "  <svg xmlns=\"http://www.w3.org/2000/svg\" height=\"24px\"viewBox=\"0 0 24 24\"\n",
              "       width=\"24px\">\n",
              "    <path d=\"M0 0h24v24H0V0z\" fill=\"none\"/>\n",
              "    <path d=\"M18.56 5.44l.94 2.06.94-2.06 2.06-.94-2.06-.94-.94-2.06-.94 2.06-2.06.94zm-11 1L8.5 8.5l.94-2.06 2.06-.94-2.06-.94L8.5 2.5l-.94 2.06-2.06.94zm10 10l.94 2.06.94-2.06 2.06-.94-2.06-.94-.94-2.06-.94 2.06-2.06.94z\"/><path d=\"M17.41 7.96l-1.37-1.37c-.4-.4-.92-.59-1.43-.59-.52 0-1.04.2-1.43.59L10.3 9.45l-7.72 7.72c-.78.78-.78 2.05 0 2.83L4 21.41c.39.39.9.59 1.41.59.51 0 1.02-.2 1.41-.59l7.78-7.78 2.81-2.81c.8-.78.8-2.07 0-2.86zM5.41 20L4 18.59l7.72-7.72 1.47 1.35L5.41 20z\"/>\n",
              "  </svg>\n",
              "      </button>\n",
              "      \n",
              "  <style>\n",
              "    .colab-df-container {\n",
              "      display:flex;\n",
              "      flex-wrap:wrap;\n",
              "      gap: 12px;\n",
              "    }\n",
              "\n",
              "    .colab-df-convert {\n",
              "      background-color: #E8F0FE;\n",
              "      border: none;\n",
              "      border-radius: 50%;\n",
              "      cursor: pointer;\n",
              "      display: none;\n",
              "      fill: #1967D2;\n",
              "      height: 32px;\n",
              "      padding: 0 0 0 0;\n",
              "      width: 32px;\n",
              "    }\n",
              "\n",
              "    .colab-df-convert:hover {\n",
              "      background-color: #E2EBFA;\n",
              "      box-shadow: 0px 1px 2px rgba(60, 64, 67, 0.3), 0px 1px 3px 1px rgba(60, 64, 67, 0.15);\n",
              "      fill: #174EA6;\n",
              "    }\n",
              "\n",
              "    [theme=dark] .colab-df-convert {\n",
              "      background-color: #3B4455;\n",
              "      fill: #D2E3FC;\n",
              "    }\n",
              "\n",
              "    [theme=dark] .colab-df-convert:hover {\n",
              "      background-color: #434B5C;\n",
              "      box-shadow: 0px 1px 3px 1px rgba(0, 0, 0, 0.15);\n",
              "      filter: drop-shadow(0px 1px 2px rgba(0, 0, 0, 0.3));\n",
              "      fill: #FFFFFF;\n",
              "    }\n",
              "  </style>\n",
              "\n",
              "      <script>\n",
              "        const buttonEl =\n",
              "          document.querySelector('#df-7607f09d-c0fc-40d5-b0a8-1256b828cd12 button.colab-df-convert');\n",
              "        buttonEl.style.display =\n",
              "          google.colab.kernel.accessAllowed ? 'block' : 'none';\n",
              "\n",
              "        async function convertToInteractive(key) {\n",
              "          const element = document.querySelector('#df-7607f09d-c0fc-40d5-b0a8-1256b828cd12');\n",
              "          const dataTable =\n",
              "            await google.colab.kernel.invokeFunction('convertToInteractive',\n",
              "                                                     [key], {});\n",
              "          if (!dataTable) return;\n",
              "\n",
              "          const docLinkHtml = 'Like what you see? Visit the ' +\n",
              "            '<a target=\"_blank\" href=https://colab.research.google.com/notebooks/data_table.ipynb>data table notebook</a>'\n",
              "            + ' to learn more about interactive tables.';\n",
              "          element.innerHTML = '';\n",
              "          dataTable['output_type'] = 'display_data';\n",
              "          await google.colab.output.renderOutput(dataTable, element);\n",
              "          const docLink = document.createElement('div');\n",
              "          docLink.innerHTML = docLinkHtml;\n",
              "          element.appendChild(docLink);\n",
              "        }\n",
              "      </script>\n",
              "    </div>\n",
              "  </div>\n",
              "  "
            ]
          },
          "metadata": {},
          "execution_count": 17
        }
      ],
      "source": [
        "# count the number of incidents grouping by city and state because city names may duplicate\n",
        "df = pd.concat([train, test], ignore_index=True)\n",
        "city_count = df.value_counts(['city', 'state']).rename_axis(['City', 'Geographic Area']).reset_index(name='Counts')\n",
        "city_count"
      ]
    },
    {
      "cell_type": "code",
      "execution_count": null,
      "metadata": {
        "colab": {
          "base_uri": "https://localhost:8080/",
          "height": 502
        },
        "id": "RBJ1iCZeu45j",
        "outputId": "009ff806-b326-4c78-cb7e-defd38251c9b"
      },
      "outputs": [
        {
          "output_type": "execute_result",
          "data": {
            "text/plain": [
              "      Geographic Area                    City percent_completed_hs  \\\n",
              "0                  AL              Abanda CDP                 21.2   \n",
              "1                  AL          Abbeville city                 69.1   \n",
              "2                  AL         Adamsville city                 78.9   \n",
              "3                  AL            Addison town                 81.4   \n",
              "4                  AL              Akron town                 68.6   \n",
              "...               ...                     ...                  ...   \n",
              "29110              WY  Woods Landing-Jelm CDP                  100   \n",
              "29111              WY            Worland city                 85.6   \n",
              "29112              WY             Wright town                 89.2   \n",
              "29113              WY              Yoder town                 79.4   \n",
              "29114              WY           Y-O Ranch CDP                  100   \n",
              "\n",
              "      Median Income poverty_rate share_white share_black  \\\n",
              "0             11207         78.8        67.2        30.2   \n",
              "1             25615         29.1        54.4        41.4   \n",
              "2             42575         25.5        52.3        44.9   \n",
              "3             37083         30.7        99.1         0.1   \n",
              "4             21667           42        13.2        86.5   \n",
              "...             ...          ...         ...         ...   \n",
              "29110           NaN         18.6        95.9           0   \n",
              "29111         41523         15.3        89.9         0.3   \n",
              "29112         77114          5.9        94.5         0.1   \n",
              "29113         37500          5.4        97.4           0   \n",
              "29114           NaN            0        92.8         1.5   \n",
              "\n",
              "      share_native_american share_asian share_hispanic  \n",
              "0                         0           0            1.6  \n",
              "1                       0.1           1            3.1  \n",
              "2                       0.5         0.3            2.3  \n",
              "3                         0         0.1            0.4  \n",
              "4                         0           0            0.3  \n",
              "...                     ...         ...            ...  \n",
              "29110                     0         2.1              0  \n",
              "29111                   1.3         0.6           16.6  \n",
              "29112                   1.4         0.2            6.2  \n",
              "29113                     0           0              4  \n",
              "29114                   2.6           0           11.8  \n",
              "\n",
              "[29115 rows x 10 columns]"
            ],
            "text/html": [
              "\n",
              "  <div id=\"df-61642c23-299f-4857-9e08-82f577bb5673\">\n",
              "    <div class=\"colab-df-container\">\n",
              "      <div>\n",
              "<style scoped>\n",
              "    .dataframe tbody tr th:only-of-type {\n",
              "        vertical-align: middle;\n",
              "    }\n",
              "\n",
              "    .dataframe tbody tr th {\n",
              "        vertical-align: top;\n",
              "    }\n",
              "\n",
              "    .dataframe thead th {\n",
              "        text-align: right;\n",
              "    }\n",
              "</style>\n",
              "<table border=\"1\" class=\"dataframe\">\n",
              "  <thead>\n",
              "    <tr style=\"text-align: right;\">\n",
              "      <th></th>\n",
              "      <th>Geographic Area</th>\n",
              "      <th>City</th>\n",
              "      <th>percent_completed_hs</th>\n",
              "      <th>Median Income</th>\n",
              "      <th>poverty_rate</th>\n",
              "      <th>share_white</th>\n",
              "      <th>share_black</th>\n",
              "      <th>share_native_american</th>\n",
              "      <th>share_asian</th>\n",
              "      <th>share_hispanic</th>\n",
              "    </tr>\n",
              "  </thead>\n",
              "  <tbody>\n",
              "    <tr>\n",
              "      <th>0</th>\n",
              "      <td>AL</td>\n",
              "      <td>Abanda CDP</td>\n",
              "      <td>21.2</td>\n",
              "      <td>11207</td>\n",
              "      <td>78.8</td>\n",
              "      <td>67.2</td>\n",
              "      <td>30.2</td>\n",
              "      <td>0</td>\n",
              "      <td>0</td>\n",
              "      <td>1.6</td>\n",
              "    </tr>\n",
              "    <tr>\n",
              "      <th>1</th>\n",
              "      <td>AL</td>\n",
              "      <td>Abbeville city</td>\n",
              "      <td>69.1</td>\n",
              "      <td>25615</td>\n",
              "      <td>29.1</td>\n",
              "      <td>54.4</td>\n",
              "      <td>41.4</td>\n",
              "      <td>0.1</td>\n",
              "      <td>1</td>\n",
              "      <td>3.1</td>\n",
              "    </tr>\n",
              "    <tr>\n",
              "      <th>2</th>\n",
              "      <td>AL</td>\n",
              "      <td>Adamsville city</td>\n",
              "      <td>78.9</td>\n",
              "      <td>42575</td>\n",
              "      <td>25.5</td>\n",
              "      <td>52.3</td>\n",
              "      <td>44.9</td>\n",
              "      <td>0.5</td>\n",
              "      <td>0.3</td>\n",
              "      <td>2.3</td>\n",
              "    </tr>\n",
              "    <tr>\n",
              "      <th>3</th>\n",
              "      <td>AL</td>\n",
              "      <td>Addison town</td>\n",
              "      <td>81.4</td>\n",
              "      <td>37083</td>\n",
              "      <td>30.7</td>\n",
              "      <td>99.1</td>\n",
              "      <td>0.1</td>\n",
              "      <td>0</td>\n",
              "      <td>0.1</td>\n",
              "      <td>0.4</td>\n",
              "    </tr>\n",
              "    <tr>\n",
              "      <th>4</th>\n",
              "      <td>AL</td>\n",
              "      <td>Akron town</td>\n",
              "      <td>68.6</td>\n",
              "      <td>21667</td>\n",
              "      <td>42</td>\n",
              "      <td>13.2</td>\n",
              "      <td>86.5</td>\n",
              "      <td>0</td>\n",
              "      <td>0</td>\n",
              "      <td>0.3</td>\n",
              "    </tr>\n",
              "    <tr>\n",
              "      <th>...</th>\n",
              "      <td>...</td>\n",
              "      <td>...</td>\n",
              "      <td>...</td>\n",
              "      <td>...</td>\n",
              "      <td>...</td>\n",
              "      <td>...</td>\n",
              "      <td>...</td>\n",
              "      <td>...</td>\n",
              "      <td>...</td>\n",
              "      <td>...</td>\n",
              "    </tr>\n",
              "    <tr>\n",
              "      <th>29110</th>\n",
              "      <td>WY</td>\n",
              "      <td>Woods Landing-Jelm CDP</td>\n",
              "      <td>100</td>\n",
              "      <td>NaN</td>\n",
              "      <td>18.6</td>\n",
              "      <td>95.9</td>\n",
              "      <td>0</td>\n",
              "      <td>0</td>\n",
              "      <td>2.1</td>\n",
              "      <td>0</td>\n",
              "    </tr>\n",
              "    <tr>\n",
              "      <th>29111</th>\n",
              "      <td>WY</td>\n",
              "      <td>Worland city</td>\n",
              "      <td>85.6</td>\n",
              "      <td>41523</td>\n",
              "      <td>15.3</td>\n",
              "      <td>89.9</td>\n",
              "      <td>0.3</td>\n",
              "      <td>1.3</td>\n",
              "      <td>0.6</td>\n",
              "      <td>16.6</td>\n",
              "    </tr>\n",
              "    <tr>\n",
              "      <th>29112</th>\n",
              "      <td>WY</td>\n",
              "      <td>Wright town</td>\n",
              "      <td>89.2</td>\n",
              "      <td>77114</td>\n",
              "      <td>5.9</td>\n",
              "      <td>94.5</td>\n",
              "      <td>0.1</td>\n",
              "      <td>1.4</td>\n",
              "      <td>0.2</td>\n",
              "      <td>6.2</td>\n",
              "    </tr>\n",
              "    <tr>\n",
              "      <th>29113</th>\n",
              "      <td>WY</td>\n",
              "      <td>Yoder town</td>\n",
              "      <td>79.4</td>\n",
              "      <td>37500</td>\n",
              "      <td>5.4</td>\n",
              "      <td>97.4</td>\n",
              "      <td>0</td>\n",
              "      <td>0</td>\n",
              "      <td>0</td>\n",
              "      <td>4</td>\n",
              "    </tr>\n",
              "    <tr>\n",
              "      <th>29114</th>\n",
              "      <td>WY</td>\n",
              "      <td>Y-O Ranch CDP</td>\n",
              "      <td>100</td>\n",
              "      <td>NaN</td>\n",
              "      <td>0</td>\n",
              "      <td>92.8</td>\n",
              "      <td>1.5</td>\n",
              "      <td>2.6</td>\n",
              "      <td>0</td>\n",
              "      <td>11.8</td>\n",
              "    </tr>\n",
              "  </tbody>\n",
              "</table>\n",
              "<p>29115 rows × 10 columns</p>\n",
              "</div>\n",
              "      <button class=\"colab-df-convert\" onclick=\"convertToInteractive('df-61642c23-299f-4857-9e08-82f577bb5673')\"\n",
              "              title=\"Convert this dataframe to an interactive table.\"\n",
              "              style=\"display:none;\">\n",
              "        \n",
              "  <svg xmlns=\"http://www.w3.org/2000/svg\" height=\"24px\"viewBox=\"0 0 24 24\"\n",
              "       width=\"24px\">\n",
              "    <path d=\"M0 0h24v24H0V0z\" fill=\"none\"/>\n",
              "    <path d=\"M18.56 5.44l.94 2.06.94-2.06 2.06-.94-2.06-.94-.94-2.06-.94 2.06-2.06.94zm-11 1L8.5 8.5l.94-2.06 2.06-.94-2.06-.94L8.5 2.5l-.94 2.06-2.06.94zm10 10l.94 2.06.94-2.06 2.06-.94-2.06-.94-.94-2.06-.94 2.06-2.06.94z\"/><path d=\"M17.41 7.96l-1.37-1.37c-.4-.4-.92-.59-1.43-.59-.52 0-1.04.2-1.43.59L10.3 9.45l-7.72 7.72c-.78.78-.78 2.05 0 2.83L4 21.41c.39.39.9.59 1.41.59.51 0 1.02-.2 1.41-.59l7.78-7.78 2.81-2.81c.8-.78.8-2.07 0-2.86zM5.41 20L4 18.59l7.72-7.72 1.47 1.35L5.41 20z\"/>\n",
              "  </svg>\n",
              "      </button>\n",
              "      \n",
              "  <style>\n",
              "    .colab-df-container {\n",
              "      display:flex;\n",
              "      flex-wrap:wrap;\n",
              "      gap: 12px;\n",
              "    }\n",
              "\n",
              "    .colab-df-convert {\n",
              "      background-color: #E8F0FE;\n",
              "      border: none;\n",
              "      border-radius: 50%;\n",
              "      cursor: pointer;\n",
              "      display: none;\n",
              "      fill: #1967D2;\n",
              "      height: 32px;\n",
              "      padding: 0 0 0 0;\n",
              "      width: 32px;\n",
              "    }\n",
              "\n",
              "    .colab-df-convert:hover {\n",
              "      background-color: #E2EBFA;\n",
              "      box-shadow: 0px 1px 2px rgba(60, 64, 67, 0.3), 0px 1px 3px 1px rgba(60, 64, 67, 0.15);\n",
              "      fill: #174EA6;\n",
              "    }\n",
              "\n",
              "    [theme=dark] .colab-df-convert {\n",
              "      background-color: #3B4455;\n",
              "      fill: #D2E3FC;\n",
              "    }\n",
              "\n",
              "    [theme=dark] .colab-df-convert:hover {\n",
              "      background-color: #434B5C;\n",
              "      box-shadow: 0px 1px 3px 1px rgba(0, 0, 0, 0.15);\n",
              "      filter: drop-shadow(0px 1px 2px rgba(0, 0, 0, 0.3));\n",
              "      fill: #FFFFFF;\n",
              "    }\n",
              "  </style>\n",
              "\n",
              "      <script>\n",
              "        const buttonEl =\n",
              "          document.querySelector('#df-61642c23-299f-4857-9e08-82f577bb5673 button.colab-df-convert');\n",
              "        buttonEl.style.display =\n",
              "          google.colab.kernel.accessAllowed ? 'block' : 'none';\n",
              "\n",
              "        async function convertToInteractive(key) {\n",
              "          const element = document.querySelector('#df-61642c23-299f-4857-9e08-82f577bb5673');\n",
              "          const dataTable =\n",
              "            await google.colab.kernel.invokeFunction('convertToInteractive',\n",
              "                                                     [key], {});\n",
              "          if (!dataTable) return;\n",
              "\n",
              "          const docLinkHtml = 'Like what you see? Visit the ' +\n",
              "            '<a target=\"_blank\" href=https://colab.research.google.com/notebooks/data_table.ipynb>data table notebook</a>'\n",
              "            + ' to learn more about interactive tables.';\n",
              "          element.innerHTML = '';\n",
              "          dataTable['output_type'] = 'display_data';\n",
              "          await google.colab.output.renderOutput(dataTable, element);\n",
              "          const docLink = document.createElement('div');\n",
              "          docLink.innerHTML = docLinkHtml;\n",
              "          element.appendChild(docLink);\n",
              "        }\n",
              "      </script>\n",
              "    </div>\n",
              "  </div>\n",
              "  "
            ]
          },
          "metadata": {},
          "execution_count": 18
        }
      ],
      "source": [
        "# merge education/poverty/race based on city\n",
        "city = education.merge(income, on=['Geographic Area', 'City']).merge(poverty, on=['Geographic Area', 'City']).merge(race, on=['Geographic Area', 'City'])\n",
        "city"
      ]
    },
    {
      "cell_type": "code",
      "execution_count": null,
      "metadata": {
        "id": "RMM7az7ou45k",
        "colab": {
          "base_uri": "https://localhost:8080/",
          "height": 424
        },
        "outputId": "2fedc6fb-6811-422e-c346-87f930e7fdc7"
      },
      "outputs": [
        {
          "output_type": "execute_result",
          "data": {
            "text/plain": [
              "             City Geographic Area  Counts\n",
              "0     Los Angeles              CA      39\n",
              "1         Phoenix              AZ      31\n",
              "2         Houston              TX      26\n",
              "3         Chicago              IL      25\n",
              "4       Las Vegas              NV      21\n",
              "...           ...             ...     ...\n",
              "1529         Knox              IN       1\n",
              "1530     Kirkland              WA       1\n",
              "1531        Kiowa              OK       1\n",
              "1532      Kinston              NC       1\n",
              "1533    Abbeville              AL       1\n",
              "\n",
              "[1534 rows x 3 columns]"
            ],
            "text/html": [
              "\n",
              "  <div id=\"df-4f77efcf-c355-46e2-b783-34ad1628d429\">\n",
              "    <div class=\"colab-df-container\">\n",
              "      <div>\n",
              "<style scoped>\n",
              "    .dataframe tbody tr th:only-of-type {\n",
              "        vertical-align: middle;\n",
              "    }\n",
              "\n",
              "    .dataframe tbody tr th {\n",
              "        vertical-align: top;\n",
              "    }\n",
              "\n",
              "    .dataframe thead th {\n",
              "        text-align: right;\n",
              "    }\n",
              "</style>\n",
              "<table border=\"1\" class=\"dataframe\">\n",
              "  <thead>\n",
              "    <tr style=\"text-align: right;\">\n",
              "      <th></th>\n",
              "      <th>City</th>\n",
              "      <th>Geographic Area</th>\n",
              "      <th>Counts</th>\n",
              "    </tr>\n",
              "  </thead>\n",
              "  <tbody>\n",
              "    <tr>\n",
              "      <th>0</th>\n",
              "      <td>Los Angeles</td>\n",
              "      <td>CA</td>\n",
              "      <td>39</td>\n",
              "    </tr>\n",
              "    <tr>\n",
              "      <th>1</th>\n",
              "      <td>Phoenix</td>\n",
              "      <td>AZ</td>\n",
              "      <td>31</td>\n",
              "    </tr>\n",
              "    <tr>\n",
              "      <th>2</th>\n",
              "      <td>Houston</td>\n",
              "      <td>TX</td>\n",
              "      <td>26</td>\n",
              "    </tr>\n",
              "    <tr>\n",
              "      <th>3</th>\n",
              "      <td>Chicago</td>\n",
              "      <td>IL</td>\n",
              "      <td>25</td>\n",
              "    </tr>\n",
              "    <tr>\n",
              "      <th>4</th>\n",
              "      <td>Las Vegas</td>\n",
              "      <td>NV</td>\n",
              "      <td>21</td>\n",
              "    </tr>\n",
              "    <tr>\n",
              "      <th>...</th>\n",
              "      <td>...</td>\n",
              "      <td>...</td>\n",
              "      <td>...</td>\n",
              "    </tr>\n",
              "    <tr>\n",
              "      <th>1529</th>\n",
              "      <td>Knox</td>\n",
              "      <td>IN</td>\n",
              "      <td>1</td>\n",
              "    </tr>\n",
              "    <tr>\n",
              "      <th>1530</th>\n",
              "      <td>Kirkland</td>\n",
              "      <td>WA</td>\n",
              "      <td>1</td>\n",
              "    </tr>\n",
              "    <tr>\n",
              "      <th>1531</th>\n",
              "      <td>Kiowa</td>\n",
              "      <td>OK</td>\n",
              "      <td>1</td>\n",
              "    </tr>\n",
              "    <tr>\n",
              "      <th>1532</th>\n",
              "      <td>Kinston</td>\n",
              "      <td>NC</td>\n",
              "      <td>1</td>\n",
              "    </tr>\n",
              "    <tr>\n",
              "      <th>1533</th>\n",
              "      <td>Abbeville</td>\n",
              "      <td>AL</td>\n",
              "      <td>1</td>\n",
              "    </tr>\n",
              "  </tbody>\n",
              "</table>\n",
              "<p>1534 rows × 3 columns</p>\n",
              "</div>\n",
              "      <button class=\"colab-df-convert\" onclick=\"convertToInteractive('df-4f77efcf-c355-46e2-b783-34ad1628d429')\"\n",
              "              title=\"Convert this dataframe to an interactive table.\"\n",
              "              style=\"display:none;\">\n",
              "        \n",
              "  <svg xmlns=\"http://www.w3.org/2000/svg\" height=\"24px\"viewBox=\"0 0 24 24\"\n",
              "       width=\"24px\">\n",
              "    <path d=\"M0 0h24v24H0V0z\" fill=\"none\"/>\n",
              "    <path d=\"M18.56 5.44l.94 2.06.94-2.06 2.06-.94-2.06-.94-.94-2.06-.94 2.06-2.06.94zm-11 1L8.5 8.5l.94-2.06 2.06-.94-2.06-.94L8.5 2.5l-.94 2.06-2.06.94zm10 10l.94 2.06.94-2.06 2.06-.94-2.06-.94-.94-2.06-.94 2.06-2.06.94z\"/><path d=\"M17.41 7.96l-1.37-1.37c-.4-.4-.92-.59-1.43-.59-.52 0-1.04.2-1.43.59L10.3 9.45l-7.72 7.72c-.78.78-.78 2.05 0 2.83L4 21.41c.39.39.9.59 1.41.59.51 0 1.02-.2 1.41-.59l7.78-7.78 2.81-2.81c.8-.78.8-2.07 0-2.86zM5.41 20L4 18.59l7.72-7.72 1.47 1.35L5.41 20z\"/>\n",
              "  </svg>\n",
              "      </button>\n",
              "      \n",
              "  <style>\n",
              "    .colab-df-container {\n",
              "      display:flex;\n",
              "      flex-wrap:wrap;\n",
              "      gap: 12px;\n",
              "    }\n",
              "\n",
              "    .colab-df-convert {\n",
              "      background-color: #E8F0FE;\n",
              "      border: none;\n",
              "      border-radius: 50%;\n",
              "      cursor: pointer;\n",
              "      display: none;\n",
              "      fill: #1967D2;\n",
              "      height: 32px;\n",
              "      padding: 0 0 0 0;\n",
              "      width: 32px;\n",
              "    }\n",
              "\n",
              "    .colab-df-convert:hover {\n",
              "      background-color: #E2EBFA;\n",
              "      box-shadow: 0px 1px 2px rgba(60, 64, 67, 0.3), 0px 1px 3px 1px rgba(60, 64, 67, 0.15);\n",
              "      fill: #174EA6;\n",
              "    }\n",
              "\n",
              "    [theme=dark] .colab-df-convert {\n",
              "      background-color: #3B4455;\n",
              "      fill: #D2E3FC;\n",
              "    }\n",
              "\n",
              "    [theme=dark] .colab-df-convert:hover {\n",
              "      background-color: #434B5C;\n",
              "      box-shadow: 0px 1px 3px 1px rgba(0, 0, 0, 0.15);\n",
              "      filter: drop-shadow(0px 1px 2px rgba(0, 0, 0, 0.3));\n",
              "      fill: #FFFFFF;\n",
              "    }\n",
              "  </style>\n",
              "\n",
              "      <script>\n",
              "        const buttonEl =\n",
              "          document.querySelector('#df-4f77efcf-c355-46e2-b783-34ad1628d429 button.colab-df-convert');\n",
              "        buttonEl.style.display =\n",
              "          google.colab.kernel.accessAllowed ? 'block' : 'none';\n",
              "\n",
              "        async function convertToInteractive(key) {\n",
              "          const element = document.querySelector('#df-4f77efcf-c355-46e2-b783-34ad1628d429');\n",
              "          const dataTable =\n",
              "            await google.colab.kernel.invokeFunction('convertToInteractive',\n",
              "                                                     [key], {});\n",
              "          if (!dataTable) return;\n",
              "\n",
              "          const docLinkHtml = 'Like what you see? Visit the ' +\n",
              "            '<a target=\"_blank\" href=https://colab.research.google.com/notebooks/data_table.ipynb>data table notebook</a>'\n",
              "            + ' to learn more about interactive tables.';\n",
              "          element.innerHTML = '';\n",
              "          dataTable['output_type'] = 'display_data';\n",
              "          await google.colab.output.renderOutput(dataTable, element);\n",
              "          const docLink = document.createElement('div');\n",
              "          docLink.innerHTML = docLinkHtml;\n",
              "          element.appendChild(docLink);\n",
              "        }\n",
              "      </script>\n",
              "    </div>\n",
              "  </div>\n",
              "  "
            ]
          },
          "metadata": {},
          "execution_count": 19
        }
      ],
      "source": [
        "def merge_count(record):\n",
        "    # find record(s) matching both name and state\n",
        "    match_city = city_total['City'].str.startswith(record['City'])\n",
        "    match_state = city_total['Geographic Area'] == record['Geographic Area']\n",
        "    match_both = np.logical_and(match_city, match_state)\n",
        "    # count the number of True\n",
        "    length = np.count_nonzero(match_both)\n",
        "    if length == 1:     # if unique\n",
        "        city_total.loc[match_both, 'Counts'] = record['Counts']\n",
        "    elif length > 1:    # if multiple, take average\n",
        "        count = record['Counts']/length\n",
        "        city_total.loc[match_both, 'Counts'] = count\n",
        "\n",
        "city_total = city.copy()    # changes to city_total will not affect city\n",
        "city_total['Counts'] = 0\n",
        "city_count.apply(merge_count, axis=1)\n",
        "city_count"
      ]
    },
    {
      "cell_type": "code",
      "execution_count": null,
      "metadata": {
        "id": "76iHBgSyu45k",
        "colab": {
          "base_uri": "https://localhost:8080/",
          "height": 641
        },
        "outputId": "bcc093ed-1f27-4cd4-ae6c-cd4ff221f0a4"
      },
      "outputs": [
        {
          "output_type": "execute_result",
          "data": {
            "text/plain": [
              "      Geographic Area                   City percent_completed_hs  \\\n",
              "2701               CA       Los Angeles city                 75.5   \n",
              "1198               AZ           Phoenix city                 80.7   \n",
              "25036              TX           Houston city                 76.7   \n",
              "15596              NV         Las Vegas city                 83.3   \n",
              "25744              TX       San Antonio city                 81.4   \n",
              "...               ...                    ...                  ...   \n",
              "10067              KY      Munfordville city                 70.6   \n",
              "10066              KY         Muldraugh city                   79   \n",
              "10065              KY  Mount Washington city                 90.6   \n",
              "10064              KY      Mount Vernon city                   72   \n",
              "29114              WY          Y-O Ranch CDP                  100   \n",
              "\n",
              "      Median Income poverty_rate share_white share_black  \\\n",
              "2701          50205         22.1        49.8         9.6   \n",
              "1198          47326         23.1        65.9         6.5   \n",
              "25036         46187         22.5        50.5        23.7   \n",
              "15596         50202         17.5        62.1        11.1   \n",
              "25744         46744         19.8        72.6         6.9   \n",
              "...             ...          ...         ...         ...   \n",
              "10067         21800         40.9        85.2        11.8   \n",
              "10066         23889         38.6        85.5           7   \n",
              "10065         62030         10.8        97.1         0.6   \n",
              "10064         20651         37.8        98.4         0.3   \n",
              "29114           NaN            0        92.8         1.5   \n",
              "\n",
              "      share_native_american share_asian share_hispanic  Counts  \n",
              "2701                    0.7        11.3           48.5    39.0  \n",
              "1198                    2.2         3.2           40.8    31.0  \n",
              "25036                   0.7           6           43.8    26.0  \n",
              "15596                   0.7         6.1           31.5    21.0  \n",
              "25744                   0.9         2.4           63.2    20.0  \n",
              "...                     ...         ...            ...     ...  \n",
              "10067                   0.1         0.6            1.4     0.0  \n",
              "10066                   0.5         0.5            2.9     0.0  \n",
              "10065                   0.1         0.4            1.6     0.0  \n",
              "10064                   0.2           0            0.6     0.0  \n",
              "29114                   2.6           0           11.8     0.0  \n",
              "\n",
              "[29115 rows x 11 columns]"
            ],
            "text/html": [
              "\n",
              "  <div id=\"df-4c41f2ea-3bef-47b9-9aa7-e2f939f2cd34\">\n",
              "    <div class=\"colab-df-container\">\n",
              "      <div>\n",
              "<style scoped>\n",
              "    .dataframe tbody tr th:only-of-type {\n",
              "        vertical-align: middle;\n",
              "    }\n",
              "\n",
              "    .dataframe tbody tr th {\n",
              "        vertical-align: top;\n",
              "    }\n",
              "\n",
              "    .dataframe thead th {\n",
              "        text-align: right;\n",
              "    }\n",
              "</style>\n",
              "<table border=\"1\" class=\"dataframe\">\n",
              "  <thead>\n",
              "    <tr style=\"text-align: right;\">\n",
              "      <th></th>\n",
              "      <th>Geographic Area</th>\n",
              "      <th>City</th>\n",
              "      <th>percent_completed_hs</th>\n",
              "      <th>Median Income</th>\n",
              "      <th>poverty_rate</th>\n",
              "      <th>share_white</th>\n",
              "      <th>share_black</th>\n",
              "      <th>share_native_american</th>\n",
              "      <th>share_asian</th>\n",
              "      <th>share_hispanic</th>\n",
              "      <th>Counts</th>\n",
              "    </tr>\n",
              "  </thead>\n",
              "  <tbody>\n",
              "    <tr>\n",
              "      <th>2701</th>\n",
              "      <td>CA</td>\n",
              "      <td>Los Angeles city</td>\n",
              "      <td>75.5</td>\n",
              "      <td>50205</td>\n",
              "      <td>22.1</td>\n",
              "      <td>49.8</td>\n",
              "      <td>9.6</td>\n",
              "      <td>0.7</td>\n",
              "      <td>11.3</td>\n",
              "      <td>48.5</td>\n",
              "      <td>39.0</td>\n",
              "    </tr>\n",
              "    <tr>\n",
              "      <th>1198</th>\n",
              "      <td>AZ</td>\n",
              "      <td>Phoenix city</td>\n",
              "      <td>80.7</td>\n",
              "      <td>47326</td>\n",
              "      <td>23.1</td>\n",
              "      <td>65.9</td>\n",
              "      <td>6.5</td>\n",
              "      <td>2.2</td>\n",
              "      <td>3.2</td>\n",
              "      <td>40.8</td>\n",
              "      <td>31.0</td>\n",
              "    </tr>\n",
              "    <tr>\n",
              "      <th>25036</th>\n",
              "      <td>TX</td>\n",
              "      <td>Houston city</td>\n",
              "      <td>76.7</td>\n",
              "      <td>46187</td>\n",
              "      <td>22.5</td>\n",
              "      <td>50.5</td>\n",
              "      <td>23.7</td>\n",
              "      <td>0.7</td>\n",
              "      <td>6</td>\n",
              "      <td>43.8</td>\n",
              "      <td>26.0</td>\n",
              "    </tr>\n",
              "    <tr>\n",
              "      <th>15596</th>\n",
              "      <td>NV</td>\n",
              "      <td>Las Vegas city</td>\n",
              "      <td>83.3</td>\n",
              "      <td>50202</td>\n",
              "      <td>17.5</td>\n",
              "      <td>62.1</td>\n",
              "      <td>11.1</td>\n",
              "      <td>0.7</td>\n",
              "      <td>6.1</td>\n",
              "      <td>31.5</td>\n",
              "      <td>21.0</td>\n",
              "    </tr>\n",
              "    <tr>\n",
              "      <th>25744</th>\n",
              "      <td>TX</td>\n",
              "      <td>San Antonio city</td>\n",
              "      <td>81.4</td>\n",
              "      <td>46744</td>\n",
              "      <td>19.8</td>\n",
              "      <td>72.6</td>\n",
              "      <td>6.9</td>\n",
              "      <td>0.9</td>\n",
              "      <td>2.4</td>\n",
              "      <td>63.2</td>\n",
              "      <td>20.0</td>\n",
              "    </tr>\n",
              "    <tr>\n",
              "      <th>...</th>\n",
              "      <td>...</td>\n",
              "      <td>...</td>\n",
              "      <td>...</td>\n",
              "      <td>...</td>\n",
              "      <td>...</td>\n",
              "      <td>...</td>\n",
              "      <td>...</td>\n",
              "      <td>...</td>\n",
              "      <td>...</td>\n",
              "      <td>...</td>\n",
              "      <td>...</td>\n",
              "    </tr>\n",
              "    <tr>\n",
              "      <th>10067</th>\n",
              "      <td>KY</td>\n",
              "      <td>Munfordville city</td>\n",
              "      <td>70.6</td>\n",
              "      <td>21800</td>\n",
              "      <td>40.9</td>\n",
              "      <td>85.2</td>\n",
              "      <td>11.8</td>\n",
              "      <td>0.1</td>\n",
              "      <td>0.6</td>\n",
              "      <td>1.4</td>\n",
              "      <td>0.0</td>\n",
              "    </tr>\n",
              "    <tr>\n",
              "      <th>10066</th>\n",
              "      <td>KY</td>\n",
              "      <td>Muldraugh city</td>\n",
              "      <td>79</td>\n",
              "      <td>23889</td>\n",
              "      <td>38.6</td>\n",
              "      <td>85.5</td>\n",
              "      <td>7</td>\n",
              "      <td>0.5</td>\n",
              "      <td>0.5</td>\n",
              "      <td>2.9</td>\n",
              "      <td>0.0</td>\n",
              "    </tr>\n",
              "    <tr>\n",
              "      <th>10065</th>\n",
              "      <td>KY</td>\n",
              "      <td>Mount Washington city</td>\n",
              "      <td>90.6</td>\n",
              "      <td>62030</td>\n",
              "      <td>10.8</td>\n",
              "      <td>97.1</td>\n",
              "      <td>0.6</td>\n",
              "      <td>0.1</td>\n",
              "      <td>0.4</td>\n",
              "      <td>1.6</td>\n",
              "      <td>0.0</td>\n",
              "    </tr>\n",
              "    <tr>\n",
              "      <th>10064</th>\n",
              "      <td>KY</td>\n",
              "      <td>Mount Vernon city</td>\n",
              "      <td>72</td>\n",
              "      <td>20651</td>\n",
              "      <td>37.8</td>\n",
              "      <td>98.4</td>\n",
              "      <td>0.3</td>\n",
              "      <td>0.2</td>\n",
              "      <td>0</td>\n",
              "      <td>0.6</td>\n",
              "      <td>0.0</td>\n",
              "    </tr>\n",
              "    <tr>\n",
              "      <th>29114</th>\n",
              "      <td>WY</td>\n",
              "      <td>Y-O Ranch CDP</td>\n",
              "      <td>100</td>\n",
              "      <td>NaN</td>\n",
              "      <td>0</td>\n",
              "      <td>92.8</td>\n",
              "      <td>1.5</td>\n",
              "      <td>2.6</td>\n",
              "      <td>0</td>\n",
              "      <td>11.8</td>\n",
              "      <td>0.0</td>\n",
              "    </tr>\n",
              "  </tbody>\n",
              "</table>\n",
              "<p>29115 rows × 11 columns</p>\n",
              "</div>\n",
              "      <button class=\"colab-df-convert\" onclick=\"convertToInteractive('df-4c41f2ea-3bef-47b9-9aa7-e2f939f2cd34')\"\n",
              "              title=\"Convert this dataframe to an interactive table.\"\n",
              "              style=\"display:none;\">\n",
              "        \n",
              "  <svg xmlns=\"http://www.w3.org/2000/svg\" height=\"24px\"viewBox=\"0 0 24 24\"\n",
              "       width=\"24px\">\n",
              "    <path d=\"M0 0h24v24H0V0z\" fill=\"none\"/>\n",
              "    <path d=\"M18.56 5.44l.94 2.06.94-2.06 2.06-.94-2.06-.94-.94-2.06-.94 2.06-2.06.94zm-11 1L8.5 8.5l.94-2.06 2.06-.94-2.06-.94L8.5 2.5l-.94 2.06-2.06.94zm10 10l.94 2.06.94-2.06 2.06-.94-2.06-.94-.94-2.06-.94 2.06-2.06.94z\"/><path d=\"M17.41 7.96l-1.37-1.37c-.4-.4-.92-.59-1.43-.59-.52 0-1.04.2-1.43.59L10.3 9.45l-7.72 7.72c-.78.78-.78 2.05 0 2.83L4 21.41c.39.39.9.59 1.41.59.51 0 1.02-.2 1.41-.59l7.78-7.78 2.81-2.81c.8-.78.8-2.07 0-2.86zM5.41 20L4 18.59l7.72-7.72 1.47 1.35L5.41 20z\"/>\n",
              "  </svg>\n",
              "      </button>\n",
              "      \n",
              "  <style>\n",
              "    .colab-df-container {\n",
              "      display:flex;\n",
              "      flex-wrap:wrap;\n",
              "      gap: 12px;\n",
              "    }\n",
              "\n",
              "    .colab-df-convert {\n",
              "      background-color: #E8F0FE;\n",
              "      border: none;\n",
              "      border-radius: 50%;\n",
              "      cursor: pointer;\n",
              "      display: none;\n",
              "      fill: #1967D2;\n",
              "      height: 32px;\n",
              "      padding: 0 0 0 0;\n",
              "      width: 32px;\n",
              "    }\n",
              "\n",
              "    .colab-df-convert:hover {\n",
              "      background-color: #E2EBFA;\n",
              "      box-shadow: 0px 1px 2px rgba(60, 64, 67, 0.3), 0px 1px 3px 1px rgba(60, 64, 67, 0.15);\n",
              "      fill: #174EA6;\n",
              "    }\n",
              "\n",
              "    [theme=dark] .colab-df-convert {\n",
              "      background-color: #3B4455;\n",
              "      fill: #D2E3FC;\n",
              "    }\n",
              "\n",
              "    [theme=dark] .colab-df-convert:hover {\n",
              "      background-color: #434B5C;\n",
              "      box-shadow: 0px 1px 3px 1px rgba(0, 0, 0, 0.15);\n",
              "      filter: drop-shadow(0px 1px 2px rgba(0, 0, 0, 0.3));\n",
              "      fill: #FFFFFF;\n",
              "    }\n",
              "  </style>\n",
              "\n",
              "      <script>\n",
              "        const buttonEl =\n",
              "          document.querySelector('#df-4c41f2ea-3bef-47b9-9aa7-e2f939f2cd34 button.colab-df-convert');\n",
              "        buttonEl.style.display =\n",
              "          google.colab.kernel.accessAllowed ? 'block' : 'none';\n",
              "\n",
              "        async function convertToInteractive(key) {\n",
              "          const element = document.querySelector('#df-4c41f2ea-3bef-47b9-9aa7-e2f939f2cd34');\n",
              "          const dataTable =\n",
              "            await google.colab.kernel.invokeFunction('convertToInteractive',\n",
              "                                                     [key], {});\n",
              "          if (!dataTable) return;\n",
              "\n",
              "          const docLinkHtml = 'Like what you see? Visit the ' +\n",
              "            '<a target=\"_blank\" href=https://colab.research.google.com/notebooks/data_table.ipynb>data table notebook</a>'\n",
              "            + ' to learn more about interactive tables.';\n",
              "          element.innerHTML = '';\n",
              "          dataTable['output_type'] = 'display_data';\n",
              "          await google.colab.output.renderOutput(dataTable, element);\n",
              "          const docLink = document.createElement('div');\n",
              "          docLink.innerHTML = docLinkHtml;\n",
              "          element.appendChild(docLink);\n",
              "        }\n",
              "      </script>\n",
              "    </div>\n",
              "  </div>\n",
              "  "
            ]
          },
          "metadata": {},
          "execution_count": 20
        }
      ],
      "source": [
        "# sorted list of city totals based on insidents in th city\n",
        "city_total.sort_values(by='Counts', ascending=False)"
      ]
    },
    {
      "cell_type": "markdown",
      "metadata": {
        "id": "-u_Elwjnu45k"
      },
      "source": [
        "### Merging City Data Sets to the Police Data Set\n",
        "\n",
        "By merging the city demographics to the police data set, we can append background information to each of the incident. In this study, we will use various city demographics as independent variables to predict the race of victim."
      ]
    },
    {
      "cell_type": "code",
      "execution_count": null,
      "metadata": {
        "id": "R2kQsij3u45k"
      },
      "outputs": [],
      "source": [
        "fields = ['percent_completed_hs', 'Median Income', 'poverty_rate', 'share_white', 'share_black', 'share_native_american', 'share_asian', 'share_hispanic']\n",
        "\n",
        "def merge_city(record):\n",
        "    # find record(s) matching both city and state\n",
        "    match_city = city['City'].str.startswith(record['city'])\n",
        "    match_state = city['Geographic Area'] == record['state']\n",
        "    match_both = np.logical_and(match_city, match_state)\n",
        "    match = city.loc[match_both]\n",
        "    # assign the mean of city demographics to the police data set\n",
        "    for field in fields:\n",
        "        record.loc[field] = pd.to_numeric(match[field], errors='coerce').mean()\n",
        "    return record[fields]\n",
        "\n",
        "train[fields] = train.apply(merge_city, axis=1)\n",
        "test[fields] = test.apply(merge_city, axis=1)"
      ]
    },
    {
      "cell_type": "code",
      "execution_count": null,
      "metadata": {
        "colab": {
          "base_uri": "https://localhost:8080/",
          "height": 731
        },
        "id": "LUKBB4uJu45l",
        "outputId": "f2969d52-729f-4e88-ad87-e1d160ec60e9"
      },
      "outputs": [
        {
          "output_type": "execute_result",
          "data": {
            "text/plain": [
              "        id                   name      date   manner_of_death       armed  \\\n",
              "0        3             Tim Elliot  02/01/15              shot         gun   \n",
              "1        4       Lewis Lee Lembke  02/01/15              shot         gun   \n",
              "2        5     John Paul Quintero  03/01/15  shot and Tasered     unarmed   \n",
              "3        8        Matthew Hoffman  04/01/15              shot  toy weapon   \n",
              "4        9      Michael Rodriguez  04/01/15              shot    nail gun   \n",
              "...    ...                    ...       ...               ...         ...   \n",
              "2023  2256   Jeremy Lopez-Robledo  24/01/17              shot       knife   \n",
              "2024  2257    Jonathan David Sper  24/01/17              shot     unarmed   \n",
              "2025  2258  Jose Efrain Rodriguez  24/01/17  shot and Tasered         gun   \n",
              "2026  2259          Ramon Milanez  24/01/17              shot         gun   \n",
              "2027  2260       Micah R. Lambert  25/01/17              shot     vehicle   \n",
              "\n",
              "       age gender race             city state  ...         flee body_camera  \\\n",
              "0     53.0      M    A          Shelton    WA  ...  Not fleeing       False   \n",
              "1     47.0      M    W            Aloha    OR  ...  Not fleeing       False   \n",
              "2     23.0      M    H          Wichita    KS  ...  Not fleeing       False   \n",
              "3     32.0      M    W    San Francisco    CA  ...  Not fleeing       False   \n",
              "4     39.0      M    H            Evans    CO  ...  Not fleeing       False   \n",
              "...    ...    ...  ...              ...   ...  ...          ...         ...   \n",
              "2023  29.0      M    H       Las Cruces    NM  ...         Foot        True   \n",
              "2024  30.0      M    W  Algoma Township    MI  ...  Not fleeing       False   \n",
              "2025  18.0      M    H   Lancaster City    PA  ...  Not fleeing       False   \n",
              "2026  32.0      M    H             Kuna    ID  ...          Car       False   \n",
              "2027  37.0      M    W           Oxford    AL  ...          Car       False   \n",
              "\n",
              "     percent_completed_hs  Median Income  poverty_rate  share_white  \\\n",
              "0                    80.1        37072.0          28.6         78.9   \n",
              "1                    88.1        65765.0          14.9         70.9   \n",
              "2                    87.5        45947.0          17.3         71.9   \n",
              "3                    87.0        81294.0          13.2         48.5   \n",
              "4                    76.3        47791.0          16.6         76.5   \n",
              "...                   ...            ...           ...          ...   \n",
              "2023                 85.5        41330.0          24.4         75.3   \n",
              "2024                  NaN            NaN           NaN          NaN   \n",
              "2025                  NaN            NaN           NaN          NaN   \n",
              "2026                 92.9        57417.0          13.2         91.2   \n",
              "2027                 83.5        51375.0          11.7         80.5   \n",
              "\n",
              "      share_black  share_native_american  share_asian  share_hispanic  \n",
              "0             0.8                    3.7          1.1            19.2  \n",
              "1             2.6                    1.0          8.9            21.1  \n",
              "2            11.5                    1.2          4.8            15.3  \n",
              "3             6.1                    0.5         33.3            15.1  \n",
              "4             0.9                    1.2          0.9            43.1  \n",
              "...           ...                    ...          ...             ...  \n",
              "2023          2.4                    1.7          1.6            56.8  \n",
              "2024          NaN                    NaN          NaN             NaN  \n",
              "2025          NaN                    NaN          NaN             NaN  \n",
              "2026          0.6                    0.8          0.7             8.6  \n",
              "2027         12.6                    0.4          1.1             6.6  \n",
              "\n",
              "[2028 rows x 22 columns]"
            ],
            "text/html": [
              "\n",
              "  <div id=\"df-5e43b6ea-cad7-49d5-8c3c-d118d1611d5a\">\n",
              "    <div class=\"colab-df-container\">\n",
              "      <div>\n",
              "<style scoped>\n",
              "    .dataframe tbody tr th:only-of-type {\n",
              "        vertical-align: middle;\n",
              "    }\n",
              "\n",
              "    .dataframe tbody tr th {\n",
              "        vertical-align: top;\n",
              "    }\n",
              "\n",
              "    .dataframe thead th {\n",
              "        text-align: right;\n",
              "    }\n",
              "</style>\n",
              "<table border=\"1\" class=\"dataframe\">\n",
              "  <thead>\n",
              "    <tr style=\"text-align: right;\">\n",
              "      <th></th>\n",
              "      <th>id</th>\n",
              "      <th>name</th>\n",
              "      <th>date</th>\n",
              "      <th>manner_of_death</th>\n",
              "      <th>armed</th>\n",
              "      <th>age</th>\n",
              "      <th>gender</th>\n",
              "      <th>race</th>\n",
              "      <th>city</th>\n",
              "      <th>state</th>\n",
              "      <th>...</th>\n",
              "      <th>flee</th>\n",
              "      <th>body_camera</th>\n",
              "      <th>percent_completed_hs</th>\n",
              "      <th>Median Income</th>\n",
              "      <th>poverty_rate</th>\n",
              "      <th>share_white</th>\n",
              "      <th>share_black</th>\n",
              "      <th>share_native_american</th>\n",
              "      <th>share_asian</th>\n",
              "      <th>share_hispanic</th>\n",
              "    </tr>\n",
              "  </thead>\n",
              "  <tbody>\n",
              "    <tr>\n",
              "      <th>0</th>\n",
              "      <td>3</td>\n",
              "      <td>Tim Elliot</td>\n",
              "      <td>02/01/15</td>\n",
              "      <td>shot</td>\n",
              "      <td>gun</td>\n",
              "      <td>53.0</td>\n",
              "      <td>M</td>\n",
              "      <td>A</td>\n",
              "      <td>Shelton</td>\n",
              "      <td>WA</td>\n",
              "      <td>...</td>\n",
              "      <td>Not fleeing</td>\n",
              "      <td>False</td>\n",
              "      <td>80.1</td>\n",
              "      <td>37072.0</td>\n",
              "      <td>28.6</td>\n",
              "      <td>78.9</td>\n",
              "      <td>0.8</td>\n",
              "      <td>3.7</td>\n",
              "      <td>1.1</td>\n",
              "      <td>19.2</td>\n",
              "    </tr>\n",
              "    <tr>\n",
              "      <th>1</th>\n",
              "      <td>4</td>\n",
              "      <td>Lewis Lee Lembke</td>\n",
              "      <td>02/01/15</td>\n",
              "      <td>shot</td>\n",
              "      <td>gun</td>\n",
              "      <td>47.0</td>\n",
              "      <td>M</td>\n",
              "      <td>W</td>\n",
              "      <td>Aloha</td>\n",
              "      <td>OR</td>\n",
              "      <td>...</td>\n",
              "      <td>Not fleeing</td>\n",
              "      <td>False</td>\n",
              "      <td>88.1</td>\n",
              "      <td>65765.0</td>\n",
              "      <td>14.9</td>\n",
              "      <td>70.9</td>\n",
              "      <td>2.6</td>\n",
              "      <td>1.0</td>\n",
              "      <td>8.9</td>\n",
              "      <td>21.1</td>\n",
              "    </tr>\n",
              "    <tr>\n",
              "      <th>2</th>\n",
              "      <td>5</td>\n",
              "      <td>John Paul Quintero</td>\n",
              "      <td>03/01/15</td>\n",
              "      <td>shot and Tasered</td>\n",
              "      <td>unarmed</td>\n",
              "      <td>23.0</td>\n",
              "      <td>M</td>\n",
              "      <td>H</td>\n",
              "      <td>Wichita</td>\n",
              "      <td>KS</td>\n",
              "      <td>...</td>\n",
              "      <td>Not fleeing</td>\n",
              "      <td>False</td>\n",
              "      <td>87.5</td>\n",
              "      <td>45947.0</td>\n",
              "      <td>17.3</td>\n",
              "      <td>71.9</td>\n",
              "      <td>11.5</td>\n",
              "      <td>1.2</td>\n",
              "      <td>4.8</td>\n",
              "      <td>15.3</td>\n",
              "    </tr>\n",
              "    <tr>\n",
              "      <th>3</th>\n",
              "      <td>8</td>\n",
              "      <td>Matthew Hoffman</td>\n",
              "      <td>04/01/15</td>\n",
              "      <td>shot</td>\n",
              "      <td>toy weapon</td>\n",
              "      <td>32.0</td>\n",
              "      <td>M</td>\n",
              "      <td>W</td>\n",
              "      <td>San Francisco</td>\n",
              "      <td>CA</td>\n",
              "      <td>...</td>\n",
              "      <td>Not fleeing</td>\n",
              "      <td>False</td>\n",
              "      <td>87.0</td>\n",
              "      <td>81294.0</td>\n",
              "      <td>13.2</td>\n",
              "      <td>48.5</td>\n",
              "      <td>6.1</td>\n",
              "      <td>0.5</td>\n",
              "      <td>33.3</td>\n",
              "      <td>15.1</td>\n",
              "    </tr>\n",
              "    <tr>\n",
              "      <th>4</th>\n",
              "      <td>9</td>\n",
              "      <td>Michael Rodriguez</td>\n",
              "      <td>04/01/15</td>\n",
              "      <td>shot</td>\n",
              "      <td>nail gun</td>\n",
              "      <td>39.0</td>\n",
              "      <td>M</td>\n",
              "      <td>H</td>\n",
              "      <td>Evans</td>\n",
              "      <td>CO</td>\n",
              "      <td>...</td>\n",
              "      <td>Not fleeing</td>\n",
              "      <td>False</td>\n",
              "      <td>76.3</td>\n",
              "      <td>47791.0</td>\n",
              "      <td>16.6</td>\n",
              "      <td>76.5</td>\n",
              "      <td>0.9</td>\n",
              "      <td>1.2</td>\n",
              "      <td>0.9</td>\n",
              "      <td>43.1</td>\n",
              "    </tr>\n",
              "    <tr>\n",
              "      <th>...</th>\n",
              "      <td>...</td>\n",
              "      <td>...</td>\n",
              "      <td>...</td>\n",
              "      <td>...</td>\n",
              "      <td>...</td>\n",
              "      <td>...</td>\n",
              "      <td>...</td>\n",
              "      <td>...</td>\n",
              "      <td>...</td>\n",
              "      <td>...</td>\n",
              "      <td>...</td>\n",
              "      <td>...</td>\n",
              "      <td>...</td>\n",
              "      <td>...</td>\n",
              "      <td>...</td>\n",
              "      <td>...</td>\n",
              "      <td>...</td>\n",
              "      <td>...</td>\n",
              "      <td>...</td>\n",
              "      <td>...</td>\n",
              "      <td>...</td>\n",
              "    </tr>\n",
              "    <tr>\n",
              "      <th>2023</th>\n",
              "      <td>2256</td>\n",
              "      <td>Jeremy Lopez-Robledo</td>\n",
              "      <td>24/01/17</td>\n",
              "      <td>shot</td>\n",
              "      <td>knife</td>\n",
              "      <td>29.0</td>\n",
              "      <td>M</td>\n",
              "      <td>H</td>\n",
              "      <td>Las Cruces</td>\n",
              "      <td>NM</td>\n",
              "      <td>...</td>\n",
              "      <td>Foot</td>\n",
              "      <td>True</td>\n",
              "      <td>85.5</td>\n",
              "      <td>41330.0</td>\n",
              "      <td>24.4</td>\n",
              "      <td>75.3</td>\n",
              "      <td>2.4</td>\n",
              "      <td>1.7</td>\n",
              "      <td>1.6</td>\n",
              "      <td>56.8</td>\n",
              "    </tr>\n",
              "    <tr>\n",
              "      <th>2024</th>\n",
              "      <td>2257</td>\n",
              "      <td>Jonathan David Sper</td>\n",
              "      <td>24/01/17</td>\n",
              "      <td>shot</td>\n",
              "      <td>unarmed</td>\n",
              "      <td>30.0</td>\n",
              "      <td>M</td>\n",
              "      <td>W</td>\n",
              "      <td>Algoma Township</td>\n",
              "      <td>MI</td>\n",
              "      <td>...</td>\n",
              "      <td>Not fleeing</td>\n",
              "      <td>False</td>\n",
              "      <td>NaN</td>\n",
              "      <td>NaN</td>\n",
              "      <td>NaN</td>\n",
              "      <td>NaN</td>\n",
              "      <td>NaN</td>\n",
              "      <td>NaN</td>\n",
              "      <td>NaN</td>\n",
              "      <td>NaN</td>\n",
              "    </tr>\n",
              "    <tr>\n",
              "      <th>2025</th>\n",
              "      <td>2258</td>\n",
              "      <td>Jose Efrain Rodriguez</td>\n",
              "      <td>24/01/17</td>\n",
              "      <td>shot and Tasered</td>\n",
              "      <td>gun</td>\n",
              "      <td>18.0</td>\n",
              "      <td>M</td>\n",
              "      <td>H</td>\n",
              "      <td>Lancaster City</td>\n",
              "      <td>PA</td>\n",
              "      <td>...</td>\n",
              "      <td>Not fleeing</td>\n",
              "      <td>False</td>\n",
              "      <td>NaN</td>\n",
              "      <td>NaN</td>\n",
              "      <td>NaN</td>\n",
              "      <td>NaN</td>\n",
              "      <td>NaN</td>\n",
              "      <td>NaN</td>\n",
              "      <td>NaN</td>\n",
              "      <td>NaN</td>\n",
              "    </tr>\n",
              "    <tr>\n",
              "      <th>2026</th>\n",
              "      <td>2259</td>\n",
              "      <td>Ramon Milanez</td>\n",
              "      <td>24/01/17</td>\n",
              "      <td>shot</td>\n",
              "      <td>gun</td>\n",
              "      <td>32.0</td>\n",
              "      <td>M</td>\n",
              "      <td>H</td>\n",
              "      <td>Kuna</td>\n",
              "      <td>ID</td>\n",
              "      <td>...</td>\n",
              "      <td>Car</td>\n",
              "      <td>False</td>\n",
              "      <td>92.9</td>\n",
              "      <td>57417.0</td>\n",
              "      <td>13.2</td>\n",
              "      <td>91.2</td>\n",
              "      <td>0.6</td>\n",
              "      <td>0.8</td>\n",
              "      <td>0.7</td>\n",
              "      <td>8.6</td>\n",
              "    </tr>\n",
              "    <tr>\n",
              "      <th>2027</th>\n",
              "      <td>2260</td>\n",
              "      <td>Micah R. Lambert</td>\n",
              "      <td>25/01/17</td>\n",
              "      <td>shot</td>\n",
              "      <td>vehicle</td>\n",
              "      <td>37.0</td>\n",
              "      <td>M</td>\n",
              "      <td>W</td>\n",
              "      <td>Oxford</td>\n",
              "      <td>AL</td>\n",
              "      <td>...</td>\n",
              "      <td>Car</td>\n",
              "      <td>False</td>\n",
              "      <td>83.5</td>\n",
              "      <td>51375.0</td>\n",
              "      <td>11.7</td>\n",
              "      <td>80.5</td>\n",
              "      <td>12.6</td>\n",
              "      <td>0.4</td>\n",
              "      <td>1.1</td>\n",
              "      <td>6.6</td>\n",
              "    </tr>\n",
              "  </tbody>\n",
              "</table>\n",
              "<p>2028 rows × 22 columns</p>\n",
              "</div>\n",
              "      <button class=\"colab-df-convert\" onclick=\"convertToInteractive('df-5e43b6ea-cad7-49d5-8c3c-d118d1611d5a')\"\n",
              "              title=\"Convert this dataframe to an interactive table.\"\n",
              "              style=\"display:none;\">\n",
              "        \n",
              "  <svg xmlns=\"http://www.w3.org/2000/svg\" height=\"24px\"viewBox=\"0 0 24 24\"\n",
              "       width=\"24px\">\n",
              "    <path d=\"M0 0h24v24H0V0z\" fill=\"none\"/>\n",
              "    <path d=\"M18.56 5.44l.94 2.06.94-2.06 2.06-.94-2.06-.94-.94-2.06-.94 2.06-2.06.94zm-11 1L8.5 8.5l.94-2.06 2.06-.94-2.06-.94L8.5 2.5l-.94 2.06-2.06.94zm10 10l.94 2.06.94-2.06 2.06-.94-2.06-.94-.94-2.06-.94 2.06-2.06.94z\"/><path d=\"M17.41 7.96l-1.37-1.37c-.4-.4-.92-.59-1.43-.59-.52 0-1.04.2-1.43.59L10.3 9.45l-7.72 7.72c-.78.78-.78 2.05 0 2.83L4 21.41c.39.39.9.59 1.41.59.51 0 1.02-.2 1.41-.59l7.78-7.78 2.81-2.81c.8-.78.8-2.07 0-2.86zM5.41 20L4 18.59l7.72-7.72 1.47 1.35L5.41 20z\"/>\n",
              "  </svg>\n",
              "      </button>\n",
              "      \n",
              "  <style>\n",
              "    .colab-df-container {\n",
              "      display:flex;\n",
              "      flex-wrap:wrap;\n",
              "      gap: 12px;\n",
              "    }\n",
              "\n",
              "    .colab-df-convert {\n",
              "      background-color: #E8F0FE;\n",
              "      border: none;\n",
              "      border-radius: 50%;\n",
              "      cursor: pointer;\n",
              "      display: none;\n",
              "      fill: #1967D2;\n",
              "      height: 32px;\n",
              "      padding: 0 0 0 0;\n",
              "      width: 32px;\n",
              "    }\n",
              "\n",
              "    .colab-df-convert:hover {\n",
              "      background-color: #E2EBFA;\n",
              "      box-shadow: 0px 1px 2px rgba(60, 64, 67, 0.3), 0px 1px 3px 1px rgba(60, 64, 67, 0.15);\n",
              "      fill: #174EA6;\n",
              "    }\n",
              "\n",
              "    [theme=dark] .colab-df-convert {\n",
              "      background-color: #3B4455;\n",
              "      fill: #D2E3FC;\n",
              "    }\n",
              "\n",
              "    [theme=dark] .colab-df-convert:hover {\n",
              "      background-color: #434B5C;\n",
              "      box-shadow: 0px 1px 3px 1px rgba(0, 0, 0, 0.15);\n",
              "      filter: drop-shadow(0px 1px 2px rgba(0, 0, 0, 0.3));\n",
              "      fill: #FFFFFF;\n",
              "    }\n",
              "  </style>\n",
              "\n",
              "      <script>\n",
              "        const buttonEl =\n",
              "          document.querySelector('#df-5e43b6ea-cad7-49d5-8c3c-d118d1611d5a button.colab-df-convert');\n",
              "        buttonEl.style.display =\n",
              "          google.colab.kernel.accessAllowed ? 'block' : 'none';\n",
              "\n",
              "        async function convertToInteractive(key) {\n",
              "          const element = document.querySelector('#df-5e43b6ea-cad7-49d5-8c3c-d118d1611d5a');\n",
              "          const dataTable =\n",
              "            await google.colab.kernel.invokeFunction('convertToInteractive',\n",
              "                                                     [key], {});\n",
              "          if (!dataTable) return;\n",
              "\n",
              "          const docLinkHtml = 'Like what you see? Visit the ' +\n",
              "            '<a target=\"_blank\" href=https://colab.research.google.com/notebooks/data_table.ipynb>data table notebook</a>'\n",
              "            + ' to learn more about interactive tables.';\n",
              "          element.innerHTML = '';\n",
              "          dataTable['output_type'] = 'display_data';\n",
              "          await google.colab.output.renderOutput(dataTable, element);\n",
              "          const docLink = document.createElement('div');\n",
              "          docLink.innerHTML = docLinkHtml;\n",
              "          element.appendChild(docLink);\n",
              "        }\n",
              "      </script>\n",
              "    </div>\n",
              "  </div>\n",
              "  "
            ]
          },
          "metadata": {},
          "execution_count": 22
        }
      ],
      "source": [
        "train"
      ]
    },
    {
      "cell_type": "markdown",
      "metadata": {
        "id": "ov9iPXq2u45l"
      },
      "source": [
        "Since some rows in the police data set do not have corresponding cities, they will have NaN values which needs to be cleaned."
      ]
    },
    {
      "cell_type": "code",
      "source": [
        "train.isnull().sum()"
      ],
      "metadata": {
        "colab": {
          "base_uri": "https://localhost:8080/"
        },
        "id": "VFO6icf4_p69",
        "outputId": "51d79c3f-6c76-4ffb-cdae-18c966327fb4"
      },
      "execution_count": null,
      "outputs": [
        {
          "output_type": "execute_result",
          "data": {
            "text/plain": [
              "id                           0\n",
              "name                         0\n",
              "date                         0\n",
              "manner_of_death              0\n",
              "armed                        0\n",
              "age                          0\n",
              "gender                       0\n",
              "race                         0\n",
              "city                         0\n",
              "state                        0\n",
              "signs_of_mental_illness      0\n",
              "threat_level                 0\n",
              "flee                         0\n",
              "body_camera                  0\n",
              "percent_completed_hs       207\n",
              "Median Income              212\n",
              "poverty_rate               207\n",
              "share_white                207\n",
              "share_black                207\n",
              "share_native_american      207\n",
              "share_asian                207\n",
              "share_hispanic             207\n",
              "dtype: int64"
            ]
          },
          "metadata": {},
          "execution_count": 23
        }
      ]
    },
    {
      "cell_type": "code",
      "source": [
        "train.nunique()"
      ],
      "metadata": {
        "colab": {
          "base_uri": "https://localhost:8080/"
        },
        "id": "BaToZZle_45m",
        "outputId": "0620e017-6324-47ff-bb85-881dc9523ccb"
      },
      "execution_count": null,
      "outputs": [
        {
          "output_type": "execute_result",
          "data": {
            "text/plain": [
              "id                         2028\n",
              "name                       2013\n",
              "date                        705\n",
              "manner_of_death               2\n",
              "armed                        65\n",
              "age                          71\n",
              "gender                        2\n",
              "race                          6\n",
              "city                       1194\n",
              "state                        51\n",
              "signs_of_mental_illness       2\n",
              "threat_level                  3\n",
              "flee                          4\n",
              "body_camera                   2\n",
              "percent_completed_hs        371\n",
              "Median Income              1064\n",
              "poverty_rate                392\n",
              "share_white                 561\n",
              "share_black                 416\n",
              "share_native_american       122\n",
              "share_asian                 202\n",
              "share_hispanic              443\n",
              "dtype: int64"
            ]
          },
          "metadata": {},
          "execution_count": 24
        }
      ]
    },
    {
      "cell_type": "code",
      "source": [
        "train.shape"
      ],
      "metadata": {
        "colab": {
          "base_uri": "https://localhost:8080/"
        },
        "id": "GdJTSt2E_-jl",
        "outputId": "9bcdbfb7-71eb-4f5e-97a8-2567acc23c60"
      },
      "execution_count": null,
      "outputs": [
        {
          "output_type": "execute_result",
          "data": {
            "text/plain": [
              "(2028, 22)"
            ]
          },
          "metadata": {},
          "execution_count": 25
        }
      ]
    },
    {
      "cell_type": "markdown",
      "source": [
        "The missing values are present for the poverty rate, education, income, and race columns. Among all the given colums, the Geographic area or the State can best help us determine appropriate imputation values. For this data, linear interpolation works best, as higher order functions yield negative values. All the missing values can be filled using this method."
      ],
      "metadata": {
        "id": "7gbW2mRyGX5f"
      }
    },
    {
      "cell_type": "code",
      "source": [
        "train.nunique()"
      ],
      "metadata": {
        "colab": {
          "base_uri": "https://localhost:8080/"
        },
        "id": "t7cZA-Q2rrQ7",
        "outputId": "2423f1f6-0c97-4753-f9e4-5f0a2191d72a"
      },
      "execution_count": null,
      "outputs": [
        {
          "output_type": "execute_result",
          "data": {
            "text/plain": [
              "id                         2028\n",
              "name                       2013\n",
              "date                        705\n",
              "manner_of_death               2\n",
              "armed                        65\n",
              "age                          71\n",
              "gender                        2\n",
              "race                          6\n",
              "city                       1194\n",
              "state                        51\n",
              "signs_of_mental_illness       2\n",
              "threat_level                  3\n",
              "flee                          4\n",
              "body_camera                   2\n",
              "percent_completed_hs        371\n",
              "Median Income              1064\n",
              "poverty_rate                392\n",
              "share_white                 561\n",
              "share_black                 416\n",
              "share_native_american       122\n",
              "share_asian                 202\n",
              "share_hispanic              443\n",
              "dtype: int64"
            ]
          },
          "metadata": {},
          "execution_count": 26
        }
      ]
    },
    {
      "cell_type": "code",
      "source": [
        "def clean_merged(df):\n",
        "    assert isinstance(df, pd.DataFrame)\n",
        "    # fill in missing values using interpolate()\n",
        "    df1 = pd.DataFrame()\n",
        "    for st in df['state'].unique():\n",
        "      df1 = pd.concat([df[df['state'] == st].interpolate(method = 'linear'), df1])\n",
        "    for var in ['age', 'percent_completed_hs', 'Median Income', 'poverty_rate', 'share_white', 'share_black', 'share_native_american', 'share_asian', 'share_hispanic']:\n",
        "      q1, q3 = df1[var].quantile([0.25, 0.75])\n",
        "      low, high = q1 - 1.5 * (q3 - q1), q3 + 1.5 * (q3 - q1)\n",
        "      df1[var] = df1[var].clip(low, high)\n",
        "    \n",
        "    for var in ['age', 'percent_completed_hs', 'poverty_rate', 'share_white', 'share_black', 'share_native_american', 'share_asian', 'share_hispanic']:\n",
        "      low, high = 0, 100\n",
        "      df1[var] = df1[var].clip(low, high)\n",
        "      \n",
        "    # should not end up needing to remove any indecies, missing values have been filled in\n",
        "    indices_to_keep = ~df1.isin([np.nan, np.inf, -np.inf]).any(1)\n",
        "    return df1[indices_to_keep]"
      ],
      "metadata": {
        "id": "XKsrMf_4D_ie"
      },
      "execution_count": null,
      "outputs": []
    },
    {
      "cell_type": "code",
      "execution_count": null,
      "metadata": {
        "id": "aN8JFCWcu45l"
      },
      "outputs": [],
      "source": [
        "train = clean_merged(train)\n",
        "test = clean_merged(test)"
      ]
    },
    {
      "cell_type": "code",
      "source": [
        "train.isnull().sum()"
      ],
      "metadata": {
        "colab": {
          "base_uri": "https://localhost:8080/"
        },
        "id": "UvJE_jdTQLrU",
        "outputId": "740558a0-0265-4e0f-9927-8ee12ca0372c"
      },
      "execution_count": null,
      "outputs": [
        {
          "output_type": "execute_result",
          "data": {
            "text/plain": [
              "id                         0\n",
              "name                       0\n",
              "date                       0\n",
              "manner_of_death            0\n",
              "armed                      0\n",
              "age                        0\n",
              "gender                     0\n",
              "race                       0\n",
              "city                       0\n",
              "state                      0\n",
              "signs_of_mental_illness    0\n",
              "threat_level               0\n",
              "flee                       0\n",
              "body_camera                0\n",
              "percent_completed_hs       0\n",
              "Median Income              0\n",
              "poverty_rate               0\n",
              "share_white                0\n",
              "share_black                0\n",
              "share_native_american      0\n",
              "share_asian                0\n",
              "share_hispanic             0\n",
              "dtype: int64"
            ]
          },
          "metadata": {},
          "execution_count": 29
        }
      ]
    },
    {
      "cell_type": "code",
      "execution_count": null,
      "metadata": {
        "id": "N3Gdi0xsu45l"
      },
      "outputs": [],
      "source": [
        "train.to_csv('processed/train.csv', index=False)\n",
        "test.to_csv('processed/test.csv', index=False)"
      ]
    },
    {
      "cell_type": "markdown",
      "source": [
        "Lets explore how the fatal police shootings vary based on the different geographic loactions. The merged dataset has 51 unique Geogrphic Areas. These include Washington DC in addition to the 50 states within the United States."
      ],
      "metadata": {
        "id": "bRn8zP0TWDY4"
      }
    },
    {
      "cell_type": "code",
      "source": [
        "fig, ax = plt.subplots(figsize =  (15, 4))\n",
        "sns.histplot(train['state'], ax = ax).set(title = 'Counts of fatal police shootings by state')"
      ],
      "metadata": {
        "colab": {
          "base_uri": "https://localhost:8080/",
          "height": 312
        },
        "id": "yBjPb4rJWCoh",
        "outputId": "8a2edd65-afe1-4b22-8d97-d111b7951e5a"
      },
      "execution_count": null,
      "outputs": [
        {
          "output_type": "execute_result",
          "data": {
            "text/plain": [
              "[Text(0.5, 1.0, 'Counts of fatal police shootings by state')]"
            ]
          },
          "metadata": {},
          "execution_count": 31
        },
        {
          "output_type": "display_data",
          "data": {
            "text/plain": [
              "<Figure size 1080x288 with 1 Axes>"
            ],
            "image/png": "[encoded data removed]"
          },
          "metadata": {
            "needs_background": "light"
          }
        }
      ]
    },
    {
      "cell_type": "code",
      "source": [
        "train['state'].value_counts().head(1)"
      ],
      "metadata": {
        "colab": {
          "base_uri": "https://localhost:8080/"
        },
        "id": "0eVUZzSKbLcb",
        "outputId": "5714c9db-6466-48c2-bf2b-b03f60fa0884"
      },
      "execution_count": null,
      "outputs": [
        {
          "output_type": "execute_result",
          "data": {
            "text/plain": [
              "CA    340\n",
              "Name: state, dtype: int64"
            ]
          },
          "metadata": {},
          "execution_count": 32
        }
      ]
    },
    {
      "cell_type": "markdown",
      "source": [
        "CA has the most fata police shootings, with a total of 340 counts in our train dataset"
      ],
      "metadata": {
        "id": "Q6QSZ2obbXmb"
      }
    },
    {
      "cell_type": "code",
      "source": [
        "mx = 0\n",
        "city = \"\"\n",
        "for st in train['state'].unique():\n",
        "  curr = train[train['state'] == st]['city'].value_counts().max()\n",
        "  if curr > mx:\n",
        "    mx = curr\n",
        "    city = train[train['state'] == st]['city'].value_counts().head(1)\n",
        "city"
      ],
      "metadata": {
        "colab": {
          "base_uri": "https://localhost:8080/"
        },
        "id": "EwWNCTa0cijo",
        "outputId": "b19d9def-eef5-434e-c2bc-7312f028b7c5"
      },
      "execution_count": null,
      "outputs": [
        {
          "output_type": "execute_result",
          "data": {
            "text/plain": [
              "Los Angeles    31\n",
              "Name: city, dtype: int64"
            ]
          },
          "metadata": {},
          "execution_count": 33
        }
      ]
    },
    {
      "cell_type": "markdown",
      "source": [
        "Next, we look at the cities in the dataset, to determine which city may be considered the most dangerous. Looking through cities in each state (due to possible duplicate city names over mulitple states), we find that Los Angeles has the highest count of all cities in our dataset, 284."
      ],
      "metadata": {
        "id": "gFWDV24GbsM8"
      }
    },
    {
      "cell_type": "code",
      "source": [
        "train['armed'].value_counts().head(1)"
      ],
      "metadata": {
        "colab": {
          "base_uri": "https://localhost:8080/"
        },
        "id": "6aODKyLHbii7",
        "outputId": "96468746-cf1b-4bf9-b903-e86d635ae02f"
      },
      "execution_count": null,
      "outputs": [
        {
          "output_type": "execute_result",
          "data": {
            "text/plain": [
              "gun    1109\n",
              "Name: armed, dtype: int64"
            ]
          },
          "metadata": {},
          "execution_count": 34
        }
      ]
    },
    {
      "cell_type": "markdown",
      "source": [
        "In the train data, a gun is the most common way of being armed. The counts of some other weapons used is given below."
      ],
      "metadata": {
        "id": "NoVg6j9FkN-K"
      }
    },
    {
      "cell_type": "code",
      "source": [
        "train['armed'].value_counts()"
      ],
      "metadata": {
        "colab": {
          "base_uri": "https://localhost:8080/"
        },
        "id": "O521c-A_kUPn",
        "outputId": "d1dcd03c-845a-40f4-967e-bdd034657a59"
      },
      "execution_count": null,
      "outputs": [
        {
          "output_type": "execute_result",
          "data": {
            "text/plain": [
              "gun               1109\n",
              "knife              304\n",
              "unarmed            148\n",
              "vehicle            123\n",
              "undetermined        97\n",
              "                  ... \n",
              "sharp object         1\n",
              "glass shard          1\n",
              "metal object         1\n",
              "cordless drill       1\n",
              "piece of wood        1\n",
              "Name: armed, Length: 65, dtype: int64"
            ]
          },
          "metadata": {},
          "execution_count": 35
        }
      ]
    },
    {
      "cell_type": "markdown",
      "source": [
        "With the available data, we can also explore the age and race statistics in the dataset"
      ],
      "metadata": {
        "id": "IjVbTn2kkg4Z"
      }
    },
    {
      "cell_type": "code",
      "source": [
        "sns.distplot(train['age']).set(title = 'Distribution of incident counts based on age')"
      ],
      "metadata": {
        "colab": {
          "base_uri": "https://localhost:8080/",
          "height": 367
        },
        "id": "MqXsOT99kiAf",
        "outputId": "d8d20533-030f-4e49-d85c-87fc2e90232f"
      },
      "execution_count": null,
      "outputs": [
        {
          "output_type": "stream",
          "name": "stderr",
          "text": [
            "/usr/local/lib/python3.7/dist-packages/seaborn/distributions.py:2619: FutureWarning: `distplot` is a deprecated function and will be removed in a future version. Please adapt your code to use either `displot` (a figure-level function with similar flexibility) or `histplot` (an axes-level function for histograms).\n",
            "  warnings.warn(msg, FutureWarning)\n"
          ]
        },
        {
          "output_type": "execute_result",
          "data": {
            "text/plain": [
              "[Text(0.5, 1.0, 'Distribution of incident counts based on age')]"
            ]
          },
          "metadata": {},
          "execution_count": 36
        },
        {
          "output_type": "display_data",
          "data": {
            "text/plain": [
              "<Figure size 432x288 with 1 Axes>"
            ],
            "image/png": "[encoded data removed]"
          },
          "metadata": {
            "needs_background": "light"
          }
        }
      ]
    },
    {
      "cell_type": "code",
      "source": [
        "sns.boxplot(train['age']).set(title = 'Distribution of incident counts based on age')"
      ],
      "metadata": {
        "colab": {
          "base_uri": "https://localhost:8080/",
          "height": 367
        },
        "id": "dQPCdWUcqbrR",
        "outputId": "9d9611d8-1caf-4257-e57f-4267bd69cfff"
      },
      "execution_count": null,
      "outputs": [
        {
          "output_type": "stream",
          "name": "stderr",
          "text": [
            "/usr/local/lib/python3.7/dist-packages/seaborn/_decorators.py:43: FutureWarning: Pass the following variable as a keyword arg: x. From version 0.12, the only valid positional argument will be `data`, and passing other arguments without an explicit keyword will result in an error or misinterpretation.\n",
            "  FutureWarning\n"
          ]
        },
        {
          "output_type": "execute_result",
          "data": {
            "text/plain": [
              "[Text(0.5, 1.0, 'Distribution of incident counts based on age')]"
            ]
          },
          "metadata": {},
          "execution_count": 37
        },
        {
          "output_type": "display_data",
          "data": {
            "text/plain": [
              "<Figure size 432x288 with 1 Axes>"
            ],
            "image/png": "[encoded data removed]"
          },
          "metadata": {
            "needs_background": "light"
          }
        }
      ]
    },
    {
      "cell_type": "markdown",
      "source": [
        "We see that the age distribution of the victims is unimodal, with most victims being somewhere between 25 to 45. The number of victims increase with age up until age 20. After a brief dip, the victim density peaks for victims around the age of 30. There is a steady decline in the number of victims for victims older than age 40. Let'see how the distrubution compares to the age distributions of different races."
      ],
      "metadata": {
        "id": "EJwVmDkYlC6I"
      }
    },
    {
      "cell_type": "code",
      "source": [
        "train['race'].value_counts()"
      ],
      "metadata": {
        "colab": {
          "base_uri": "https://localhost:8080/"
        },
        "id": "e8ih9Ny0nGbv",
        "outputId": "f2c70eaf-4d80-46d8-c101-5a898954914b"
      },
      "execution_count": null,
      "outputs": [
        {
          "output_type": "execute_result",
          "data": {
            "text/plain": [
              "W    991\n",
              "B    506\n",
              "H    348\n",
              "O    118\n",
              "A     31\n",
              "N     26\n",
              "Name: race, dtype: int64"
            ]
          },
          "metadata": {},
          "execution_count": 38
        }
      ]
    },
    {
      "cell_type": "code",
      "source": [
        "sns.distplot(train[train['race'] == 'W']['age']).set(title = 'Distribution of incident counts based on age for White victims')"
      ],
      "metadata": {
        "colab": {
          "base_uri": "https://localhost:8080/",
          "height": 367
        },
        "id": "VHgZr2QKlJ6Q",
        "outputId": "43a85848-96b3-4950-9bf6-edfc5f71d290"
      },
      "execution_count": null,
      "outputs": [
        {
          "output_type": "stream",
          "name": "stderr",
          "text": [
            "/usr/local/lib/python3.7/dist-packages/seaborn/distributions.py:2619: FutureWarning: `distplot` is a deprecated function and will be removed in a future version. Please adapt your code to use either `displot` (a figure-level function with similar flexibility) or `histplot` (an axes-level function for histograms).\n",
            "  warnings.warn(msg, FutureWarning)\n"
          ]
        },
        {
          "output_type": "execute_result",
          "data": {
            "text/plain": [
              "[Text(0.5, 1.0, 'Distribution of incident counts based on age for White victims')]"
            ]
          },
          "metadata": {},
          "execution_count": 39
        },
        {
          "output_type": "display_data",
          "data": {
            "text/plain": [
              "<Figure size 432x288 with 1 Axes>"
            ],
            "image/png": "[encoded data removed]"
          },
          "metadata": {
            "needs_background": "light"
          }
        }
      ]
    },
    {
      "cell_type": "markdown",
      "source": [
        "The distribution of white victims is similar to the overall distrbution of victims based solely on age. The number of victims increases with increas in age from around age 20 to around age 30, where the desity peaks. Following another small peak around age 50, the density steadily decreases."
      ],
      "metadata": {
        "id": "w_GscgbPCPe2"
      }
    },
    {
      "cell_type": "code",
      "source": [
        "sns.distplot(train[train['race'] == 'B']['age']).set(title = 'Distribution of incident counts based on age for Black or African American victims')"
      ],
      "metadata": {
        "colab": {
          "base_uri": "https://localhost:8080/",
          "height": 367
        },
        "id": "9bUUPcMUljVE",
        "outputId": "7dca791f-41ec-448b-950a-8c789d96a604"
      },
      "execution_count": null,
      "outputs": [
        {
          "output_type": "stream",
          "name": "stderr",
          "text": [
            "/usr/local/lib/python3.7/dist-packages/seaborn/distributions.py:2619: FutureWarning: `distplot` is a deprecated function and will be removed in a future version. Please adapt your code to use either `displot` (a figure-level function with similar flexibility) or `histplot` (an axes-level function for histograms).\n",
            "  warnings.warn(msg, FutureWarning)\n"
          ]
        },
        {
          "output_type": "execute_result",
          "data": {
            "text/plain": [
              "[Text(0.5, 1.0, 'Distribution of incident counts based on age for Black or African American victims')]"
            ]
          },
          "metadata": {},
          "execution_count": 40
        },
        {
          "output_type": "display_data",
          "data": {
            "text/plain": [
              "<Figure size 432x288 with 1 Axes>"
            ],
            "image/png": "[encoded data removed]"
          },
          "metadata": {
            "needs_background": "light"
          }
        }
      ]
    },
    {
      "cell_type": "markdown",
      "source": [
        "This distribution is similar to the overall age distribution, except the desity of the victims for this distribution peaks at around age 20. There is a decreases in the victim density following age 30 for this distribution, like the overall age distribution of the victims."
      ],
      "metadata": {
        "id": "FhiIPKApErZ4"
      }
    },
    {
      "cell_type": "code",
      "source": [
        "sns.distplot(train[train['race'] == 'H']['age']).set(title = 'Distribution of incident counts based on age for Hispanic or Latino victims')"
      ],
      "metadata": {
        "colab": {
          "base_uri": "https://localhost:8080/",
          "height": 367
        },
        "id": "k4GuXmZBlmha",
        "outputId": "75886b87-8fa9-4a12-97ae-2e0e2cb70f6a"
      },
      "execution_count": null,
      "outputs": [
        {
          "output_type": "stream",
          "name": "stderr",
          "text": [
            "/usr/local/lib/python3.7/dist-packages/seaborn/distributions.py:2619: FutureWarning: `distplot` is a deprecated function and will be removed in a future version. Please adapt your code to use either `displot` (a figure-level function with similar flexibility) or `histplot` (an axes-level function for histograms).\n",
            "  warnings.warn(msg, FutureWarning)\n"
          ]
        },
        {
          "output_type": "execute_result",
          "data": {
            "text/plain": [
              "[Text(0.5, 1.0, 'Distribution of incident counts based on age for Hispanic or Latino victims')]"
            ]
          },
          "metadata": {},
          "execution_count": 41
        },
        {
          "output_type": "display_data",
          "data": {
            "text/plain": [
              "<Figure size 432x288 with 1 Axes>"
            ],
            "image/png": "[encoded data removed]"
          },
          "metadata": {
            "needs_background": "light"
          }
        }
      ]
    },
    {
      "cell_type": "markdown",
      "source": [
        "This distribution is similar to the overall age distribution, except the desity of the victims for this distribution peaks between age 20 and 30. There is a decreases in the victim density following age 30 for this distribution, like the overall age distribution of the victims."
      ],
      "metadata": {
        "id": "WmS9yu1LFlHy"
      }
    },
    {
      "cell_type": "code",
      "source": [
        "sns.distplot(train[train['race'] == 'A']['age']).set(title = 'Distribution of incident counts based on age for Asian or Other Pacific Islander victims')"
      ],
      "metadata": {
        "colab": {
          "base_uri": "https://localhost:8080/",
          "height": 367
        },
        "id": "BQeIiZXUmXfm",
        "outputId": "6ea409ac-a47b-4348-ab24-d72a92ab4798"
      },
      "execution_count": null,
      "outputs": [
        {
          "output_type": "stream",
          "name": "stderr",
          "text": [
            "/usr/local/lib/python3.7/dist-packages/seaborn/distributions.py:2619: FutureWarning: `distplot` is a deprecated function and will be removed in a future version. Please adapt your code to use either `displot` (a figure-level function with similar flexibility) or `histplot` (an axes-level function for histograms).\n",
            "  warnings.warn(msg, FutureWarning)\n"
          ]
        },
        {
          "output_type": "execute_result",
          "data": {
            "text/plain": [
              "[Text(0.5, 1.0, 'Distribution of incident counts based on age for Asian or Other Pacific Islander victims')]"
            ]
          },
          "metadata": {},
          "execution_count": 42
        },
        {
          "output_type": "display_data",
          "data": {
            "text/plain": [
              "<Figure size 432x288 with 1 Axes>"
            ],
            "image/png": "[encoded data removed]"
          },
          "metadata": {
            "needs_background": "light"
          }
        }
      ]
    },
    {
      "cell_type": "markdown",
      "source": [
        "With only 31 victims, this distribution seems a bit different compared to the overall distribution. However, this is mainly due to the low number of victims. This distribution also has a peak at around age 30."
      ],
      "metadata": {
        "id": "1x1qlYSVF5Kp"
      }
    },
    {
      "cell_type": "code",
      "source": [
        "sns.distplot(train[train['race'] == 'N']['age']).set(title = 'Distribution of incident counts based on age for American Indian or Alaska Native victims')"
      ],
      "metadata": {
        "colab": {
          "base_uri": "https://localhost:8080/",
          "height": 367
        },
        "id": "Q2gUGXdgmaDG",
        "outputId": "ae1a9575-4a36-4a8e-9c57-54bdcf8b432b"
      },
      "execution_count": null,
      "outputs": [
        {
          "output_type": "stream",
          "name": "stderr",
          "text": [
            "/usr/local/lib/python3.7/dist-packages/seaborn/distributions.py:2619: FutureWarning: `distplot` is a deprecated function and will be removed in a future version. Please adapt your code to use either `displot` (a figure-level function with similar flexibility) or `histplot` (an axes-level function for histograms).\n",
            "  warnings.warn(msg, FutureWarning)\n"
          ]
        },
        {
          "output_type": "execute_result",
          "data": {
            "text/plain": [
              "[Text(0.5, 1.0, 'Distribution of incident counts based on age for American Indian or Alaska Native victims')]"
            ]
          },
          "metadata": {},
          "execution_count": 43
        },
        {
          "output_type": "display_data",
          "data": {
            "text/plain": [
              "<Figure size 432x288 with 1 Axes>"
            ],
            "image/png": "[encoded data removed]"
          },
          "metadata": {
            "needs_background": "light"
          }
        }
      ]
    },
    {
      "cell_type": "markdown",
      "source": [
        "With only 26 victims, this distribution seems a bit different compared to the overall distribution. However, this is mainly due to the low number of victims. This distribution also experiences a peak following age 20 and age 30."
      ],
      "metadata": {
        "id": "G3KGAJbPGfIi"
      }
    },
    {
      "cell_type": "code",
      "source": [
        "sns.distplot(train[train['race'] == 'O']['age']).set(title = 'Distribution of incident counts based on age for victims of other races')"
      ],
      "metadata": {
        "colab": {
          "base_uri": "https://localhost:8080/",
          "height": 367
        },
        "id": "3Hn5lY7SmbVH",
        "outputId": "595e18dc-944e-41d7-95c6-ba5ba931d928"
      },
      "execution_count": null,
      "outputs": [
        {
          "output_type": "stream",
          "name": "stderr",
          "text": [
            "/usr/local/lib/python3.7/dist-packages/seaborn/distributions.py:2619: FutureWarning: `distplot` is a deprecated function and will be removed in a future version. Please adapt your code to use either `displot` (a figure-level function with similar flexibility) or `histplot` (an axes-level function for histograms).\n",
            "  warnings.warn(msg, FutureWarning)\n"
          ]
        },
        {
          "output_type": "execute_result",
          "data": {
            "text/plain": [
              "[Text(0.5, 1.0, 'Distribution of incident counts based on age for victims of other races')]"
            ]
          },
          "metadata": {},
          "execution_count": 44
        },
        {
          "output_type": "display_data",
          "data": {
            "text/plain": [
              "<Figure size 432x288 with 1 Axes>"
            ],
            "image/png": "[encoded data removed]"
          },
          "metadata": {
            "needs_background": "light"
          }
        }
      ]
    },
    {
      "cell_type": "markdown",
      "source": [
        "This distribution of victims is similar to the overall distrbution of victims based solely on age. The number of victims increases with increas in age from around age 20 to past age 30, where the desity peaks. Following another small peak around age 50, the density steadily decreases."
      ],
      "metadata": {
        "id": "1dqI1_hjG1Bm"
      }
    },
    {
      "cell_type": "code",
      "source": [
        "sns.boxplot(x='race', y=\"age\", data = train).set(title = 'Distribution of incident counts based on age, seperated by race')"
      ],
      "metadata": {
        "colab": {
          "base_uri": "https://localhost:8080/",
          "height": 312
        },
        "id": "kHciDk-eptFg",
        "outputId": "9b087000-0bb2-4e7c-e913-2a4a62869e71"
      },
      "execution_count": null,
      "outputs": [
        {
          "output_type": "execute_result",
          "data": {
            "text/plain": [
              "[Text(0.5, 1.0, 'Distribution of incident counts based on age, seperated by race')]"
            ]
          },
          "metadata": {},
          "execution_count": 45
        },
        {
          "output_type": "display_data",
          "data": {
            "text/plain": [
              "<Figure size 432x288 with 1 Axes>"
            ],
            "image/png": "[encoded data removed]"
          },
          "metadata": {
            "needs_background": "light"
          }
        }
      ]
    },
    {
      "cell_type": "markdown",
      "source": [
        "Total number of people killed per race:"
      ],
      "metadata": {
        "id": "Us23w8L4-smR"
      }
    },
    {
      "cell_type": "code",
      "source": [
        "train['race'].value_counts()"
      ],
      "metadata": {
        "colab": {
          "base_uri": "https://localhost:8080/"
        },
        "id": "nRUzTvdT-kap",
        "outputId": "a4369731-856f-4b9a-ed79-6a7879aebd03"
      },
      "execution_count": null,
      "outputs": [
        {
          "output_type": "execute_result",
          "data": {
            "text/plain": [
              "W    991\n",
              "B    506\n",
              "H    348\n",
              "O    118\n",
              "A     31\n",
              "N     26\n",
              "Name: race, dtype: int64"
            ]
          },
          "metadata": {},
          "execution_count": 46
        }
      ]
    },
    {
      "cell_type": "markdown",
      "source": [
        "We see that the race of the many the victims is white (49.1%), and the age distribution of the victims of this race is similar to the age distribution of all races combined, except this distribution has a small peak in victim density following age 40. The larger number of victims with greater age seems to be the reason for the higher mean age of victims in this distribution. Victims of the black race account for 25.0% of the victims in this dataset. The age distribution for this race is also similar, but it has a smaller range. This distribution experiences a peak for victims in their early 20s. The victims of Other races are next, accounting for 17.2% of the victims. This distribution is similar to the distribution of white victims, except this distribution does not have younger victims (less than age 20). The remaining races have little impact on the overall age distribution due to their low counts. Hispanic victims account for about 5.8%, Asians 1.5%, and Native American 1.3%. However, they seems to follow similar distributions with the mean victim age being in early 30s. Native Americans seem to have the smallest range, which can be explained by the lower number of victims of this race and the unimodal age distribution of victims."
      ],
      "metadata": {
        "id": "zftOcFhHlJhF"
      }
    },
    {
      "cell_type": "code",
      "source": [
        "plt.pie(train['race'].value_counts(), labels=test['race'].value_counts().keys(), autopct='%1.1f%%')\n",
        "plt.title('Incident counts by race, as a proportion of victims of all races')\n",
        "plt.show()"
      ],
      "metadata": {
        "colab": {
          "base_uri": "https://localhost:8080/",
          "height": 264
        },
        "id": "0dZEdJxq_l6_",
        "outputId": "4b11c8ab-b2f4-45f0-b00f-2fc97b2fae7e"
      },
      "execution_count": null,
      "outputs": [
        {
          "output_type": "display_data",
          "data": {
            "text/plain": [
              "<Figure size 432x288 with 1 Axes>"
            ],
            "image/png": "[encoded data removed]"
          },
          "metadata": {}
        }
      ]
    },
    {
      "cell_type": "markdown",
      "source": [
        "As a proportion of respective races, the number of people killed per race seems to be reasonable. The proportion of victims of a certain race seem to mimic the proportion of individuals of the respective race within the US. For example, the larger number of White victims can eb explained by the larger proportion of the citizens being White. Similary, lower number of Native American victims can be explained by the smaller proportion of Native American citizens."
      ],
      "metadata": {
        "id": "J5tp9y0GMH4S"
      }
    },
    {
      "cell_type": "markdown",
      "metadata": {
        "id": "at_aKdYdu45n"
      },
      "source": [
        "We plot the columns to study the distribution of features."
      ]
    },
    {
      "cell_type": "code",
      "execution_count": null,
      "metadata": {
        "colab": {
          "base_uri": "https://localhost:8080/",
          "height": 291
        },
        "id": "wreeieiPu45n",
        "outputId": "15e0a885-a492-4563-a8d2-1bd80f44abc5"
      },
      "outputs": [
        {
          "output_type": "display_data",
          "data": {
            "text/plain": [
              "<Figure size 2400x1600 with 9 Axes>"
            ],
            "image/png": "[encoded data removed]"
          },
          "metadata": {
            "needs_background": "light"
          }
        }
      ],
      "source": [
        "columns = ['age', 'percent_completed_hs', 'Median Income', 'poverty_rate', 'share_white', 'share_black', 'share_native_american', 'share_asian', 'share_hispanic']\n",
        "fig = plt.figure(dpi=100, figsize=(24, 16), tight_layout=True)\n",
        "sns.set_theme()\n",
        "sns.set_context(\"paper\")\n",
        "for i, col in enumerate(columns):\n",
        "  ax = fig.add_subplot(10, 3, i + 1)\n",
        "  sns.histplot(X_train[col], kde=True)\n",
        "  ax.set_title(col)\n",
        "  ax.set_yticks([])\n",
        "  ax.set_ylabel(\"Frequency\")\n",
        "  ax.set_xlabel(None)\n",
        "  ax.tick_params(left=False, bottom=False)\n",
        "  for ax, spine in ax.spines.items():\n",
        "    spine.set_visible(False)"
      ]
    },
    {
      "cell_type": "markdown",
      "metadata": {
        "id": "6Mh7xZ96u45n"
      },
      "source": [
        "We visualise the correlation of columns with a heatmap."
      ]
    },
    {
      "cell_type": "code",
      "execution_count": null,
      "metadata": {
        "colab": {
          "base_uri": "https://localhost:8080/",
          "height": 1000
        },
        "id": "IS9L__Cou45n",
        "outputId": "4075a622-d3e3-47ec-8fe1-6c7680f11da2"
      },
      "outputs": [
        {
          "output_type": "execute_result",
          "data": {
            "text/plain": [
              "<matplotlib.axes._subplots.AxesSubplot at 0x7f27656211d0>"
            ]
          },
          "metadata": {},
          "execution_count": 54
        },
        {
          "output_type": "display_data",
          "data": {
            "text/plain": [
              "<Figure size 2400x1600 with 2 Axes>"
            ],
            "image/png": "[encoded data removed]"
          },
          "metadata": {}
        }
      ],
      "source": [
        "fig = plt.figure(dpi=100, figsize=(24, 16), tight_layout=True)\n",
        "corr = train.corr()\n",
        "sns.heatmap(corr, xticklabels=corr.columns, yticklabels=corr.columns, annot=True)"
      ]
    },
    {
      "cell_type": "markdown",
      "metadata": {
        "id": "eJGkmQpVu45l"
      },
      "source": [
        "### Recoding Features"
      ]
    },
    {
      "cell_type": "markdown",
      "metadata": {
        "id": "LTM1P74mu45m"
      },
      "source": [
        "To make the features interpretable to the classifier, we create dummy columns for categorical variables. We then proceed to separate the independent and the dependent variables in the data set, while also eliminate columns that are irrelevant to the study. We also eliminate city and state information because they are already represented by other parameters in the data set."
      ]
    },
    {
      "cell_type": "markdown",
      "metadata": {
        "id": "kgXnstMzu45m"
      },
      "source": [
        "There are too many unique values for the column armed. Since we only study whether the victim is armed or not, we can convert all values other than 'unarmed' and 'undetermined' to 'armed'."
      ]
    },
    {
      "cell_type": "code",
      "source": [
        "train['armed'].value_counts()"
      ],
      "metadata": {
        "colab": {
          "base_uri": "https://localhost:8080/"
        },
        "id": "ktFdkKI4mrjd",
        "outputId": "c49802cd-bbb7-4b41-8a78-61120069cda5"
      },
      "execution_count": null,
      "outputs": [
        {
          "output_type": "execute_result",
          "data": {
            "text/plain": [
              "gun               1109\n",
              "knife              304\n",
              "unarmed            148\n",
              "vehicle            123\n",
              "undetermined        97\n",
              "                  ... \n",
              "sharp object         1\n",
              "glass shard          1\n",
              "metal object         1\n",
              "cordless drill       1\n",
              "piece of wood        1\n",
              "Name: armed, Length: 65, dtype: int64"
            ]
          },
          "metadata": {},
          "execution_count": 48
        }
      ]
    },
    {
      "cell_type": "code",
      "source": [
        "train['armed'].where(np.logical_or(train['armed'] == 'unarmed', train['armed'] == 'undetermined'), 'armed', inplace=True)\n",
        "test['armed'].where(np.logical_or(test['armed'] == 'unarmed', test['armed'] == 'undetermined'), 'armed', inplace=True)\n",
        "train['armed'].value_counts()"
      ],
      "metadata": {
        "colab": {
          "base_uri": "https://localhost:8080/"
        },
        "id": "Cb91uO_zmvoh",
        "outputId": "35002da1-e580-45f5-881b-4f13f86873cf"
      },
      "execution_count": null,
      "outputs": [
        {
          "output_type": "execute_result",
          "data": {
            "text/plain": [
              "armed           1775\n",
              "unarmed          148\n",
              "undetermined      97\n",
              "Name: armed, dtype: int64"
            ]
          },
          "metadata": {},
          "execution_count": 49
        }
      ]
    },
    {
      "cell_type": "code",
      "execution_count": null,
      "metadata": {
        "id": "PTJBcJIFu45m"
      },
      "outputs": [],
      "source": [
        "X_train = pd.get_dummies(train.drop(columns=['id', 'name', 'race', 'date', 'city', 'state']))\n",
        "y_train = train['race']\n",
        "X_test = pd.get_dummies(test.drop(columns=['id', 'name', 'race', 'date', 'city', 'state']))\n",
        "y_test = test['race']"
      ]
    },
    {
      "cell_type": "code",
      "execution_count": null,
      "metadata": {
        "colab": {
          "base_uri": "https://localhost:8080/",
          "height": 505
        },
        "id": "QDNJLg4Iu45m",
        "outputId": "eddaea6f-49e2-495f-c865-3198047e414d"
      },
      "outputs": [
        {
          "output_type": "execute_result",
          "data": {
            "text/plain": [
              "       age  signs_of_mental_illness  body_camera  percent_completed_hs  \\\n",
              "1226  24.0                    False        False             78.400000   \n",
              "1431  72.0                    False        False             89.400000   \n",
              "968   56.0                    False         True             89.000000   \n",
              "1217  72.0                     True         True             89.000000   \n",
              "1684  29.0                    False         True             85.000000   \n",
              "...    ...                      ...          ...                   ...   \n",
              "1809  59.0                    False        False             86.866667   \n",
              "1876  38.0                    False        False             87.600000   \n",
              "1914  44.0                    False        False             88.100000   \n",
              "1916  37.0                    False        False             96.500000   \n",
              "1993  33.0                    False         True             91.850000   \n",
              "\n",
              "      Median Income  poverty_rate  share_white  share_black  \\\n",
              "1226   41789.000000     20.600000    66.500000    13.400000   \n",
              "1431   69054.000000      6.800000    95.700000     1.200000   \n",
              "968    44671.000000     24.800000    88.900000     3.900000   \n",
              "1217   44671.000000     24.800000    88.900000     3.900000   \n",
              "1684   45974.000000     26.100000    82.600000     6.900000   \n",
              "...             ...           ...          ...          ...   \n",
              "1809   54758.333333     17.166667    61.766667    11.233333   \n",
              "1876   52042.000000     18.000000    64.900000    11.200000   \n",
              "1914   49578.000000     17.600000    74.600000     4.100000   \n",
              "1916   77178.750000      7.900000    92.400000     0.900000   \n",
              "1993   44908.000000     17.550000    88.800000     1.700000   \n",
              "\n",
              "      share_native_american  share_asian  ...  armed_undetermined  gender_F  \\\n",
              "1226               0.600000     1.500000  ...                   0         0   \n",
              "1431               0.100000     1.000000  ...                   0         0   \n",
              "968                0.300000     3.600000  ...                   0         0   \n",
              "1217               0.300000     3.600000  ...                   0         0   \n",
              "1684               0.300000     6.200000  ...                   0         0   \n",
              "...                     ...          ...  ...                 ...       ...   \n",
              "1809               1.533333    10.533333  ...                   0         0   \n",
              "1876               1.800000     8.200000  ...                   0         0   \n",
              "1914               1.400000     7.800000  ...                   0         0   \n",
              "1916               0.800000     2.000000  ...                   0         0   \n",
              "1993               1.600000     2.150000  ...                   0         0   \n",
              "\n",
              "      gender_M  threat_level_attack  threat_level_other  \\\n",
              "1226         1                    1                   0   \n",
              "1431         1                    1                   0   \n",
              "968          1                    1                   0   \n",
              "1217         1                    0                   1   \n",
              "1684         1                    0                   0   \n",
              "...        ...                  ...                 ...   \n",
              "1809         1                    0                   0   \n",
              "1876         1                    1                   0   \n",
              "1914         1                    0                   1   \n",
              "1916         1                    0                   1   \n",
              "1993         1                    0                   1   \n",
              "\n",
              "      threat_level_undetermined  flee_Car  flee_Foot  flee_Not fleeing  \\\n",
              "1226                          0         0          1                 0   \n",
              "1431                          0         1          0                 0   \n",
              "968                           0         0          0                 1   \n",
              "1217                          0         0          0                 1   \n",
              "1684                          1         0          1                 0   \n",
              "...                         ...       ...        ...               ...   \n",
              "1809                          1         0          0                 0   \n",
              "1876                          0         0          0                 1   \n",
              "1914                          0         0          0                 1   \n",
              "1916                          0         0          0                 1   \n",
              "1993                          0         0          1                 0   \n",
              "\n",
              "      flee_Other  \n",
              "1226           0  \n",
              "1431           0  \n",
              "968            0  \n",
              "1217           0  \n",
              "1684           0  \n",
              "...          ...  \n",
              "1809           1  \n",
              "1876           0  \n",
              "1914           0  \n",
              "1916           0  \n",
              "1993           0  \n",
              "\n",
              "[2020 rows x 25 columns]"
            ],
            "text/html": [
              "\n",
              "  <div id=\"df-7167d5d4-1aa0-48a0-92ee-1a49fad3244c\">\n",
              "    <div class=\"colab-df-container\">\n",
              "      <div>\n",
              "<style scoped>\n",
              "    .dataframe tbody tr th:only-of-type {\n",
              "        vertical-align: middle;\n",
              "    }\n",
              "\n",
              "    .dataframe tbody tr th {\n",
              "        vertical-align: top;\n",
              "    }\n",
              "\n",
              "    .dataframe thead th {\n",
              "        text-align: right;\n",
              "    }\n",
              "</style>\n",
              "<table border=\"1\" class=\"dataframe\">\n",
              "  <thead>\n",
              "    <tr style=\"text-align: right;\">\n",
              "      <th></th>\n",
              "      <th>age</th>\n",
              "      <th>signs_of_mental_illness</th>\n",
              "      <th>body_camera</th>\n",
              "      <th>percent_completed_hs</th>\n",
              "      <th>Median Income</th>\n",
              "      <th>poverty_rate</th>\n",
              "      <th>share_white</th>\n",
              "      <th>share_black</th>\n",
              "      <th>share_native_american</th>\n",
              "      <th>share_asian</th>\n",
              "      <th>...</th>\n",
              "      <th>armed_undetermined</th>\n",
              "      <th>gender_F</th>\n",
              "      <th>gender_M</th>\n",
              "      <th>threat_level_attack</th>\n",
              "      <th>threat_level_other</th>\n",
              "      <th>threat_level_undetermined</th>\n",
              "      <th>flee_Car</th>\n",
              "      <th>flee_Foot</th>\n",
              "      <th>flee_Not fleeing</th>\n",
              "      <th>flee_Other</th>\n",
              "    </tr>\n",
              "  </thead>\n",
              "  <tbody>\n",
              "    <tr>\n",
              "      <th>1226</th>\n",
              "      <td>24.0</td>\n",
              "      <td>False</td>\n",
              "      <td>False</td>\n",
              "      <td>78.400000</td>\n",
              "      <td>41789.000000</td>\n",
              "      <td>20.600000</td>\n",
              "      <td>66.500000</td>\n",
              "      <td>13.400000</td>\n",
              "      <td>0.600000</td>\n",
              "      <td>1.500000</td>\n",
              "      <td>...</td>\n",
              "      <td>0</td>\n",
              "      <td>0</td>\n",
              "      <td>1</td>\n",
              "      <td>1</td>\n",
              "      <td>0</td>\n",
              "      <td>0</td>\n",
              "      <td>0</td>\n",
              "      <td>1</td>\n",
              "      <td>0</td>\n",
              "      <td>0</td>\n",
              "    </tr>\n",
              "    <tr>\n",
              "      <th>1431</th>\n",
              "      <td>72.0</td>\n",
              "      <td>False</td>\n",
              "      <td>False</td>\n",
              "      <td>89.400000</td>\n",
              "      <td>69054.000000</td>\n",
              "      <td>6.800000</td>\n",
              "      <td>95.700000</td>\n",
              "      <td>1.200000</td>\n",
              "      <td>0.100000</td>\n",
              "      <td>1.000000</td>\n",
              "      <td>...</td>\n",
              "      <td>0</td>\n",
              "      <td>0</td>\n",
              "      <td>1</td>\n",
              "      <td>1</td>\n",
              "      <td>0</td>\n",
              "      <td>0</td>\n",
              "      <td>1</td>\n",
              "      <td>0</td>\n",
              "      <td>0</td>\n",
              "      <td>0</td>\n",
              "    </tr>\n",
              "    <tr>\n",
              "      <th>968</th>\n",
              "      <td>56.0</td>\n",
              "      <td>False</td>\n",
              "      <td>True</td>\n",
              "      <td>89.000000</td>\n",
              "      <td>44671.000000</td>\n",
              "      <td>24.800000</td>\n",
              "      <td>88.900000</td>\n",
              "      <td>3.900000</td>\n",
              "      <td>0.300000</td>\n",
              "      <td>3.600000</td>\n",
              "      <td>...</td>\n",
              "      <td>0</td>\n",
              "      <td>0</td>\n",
              "      <td>1</td>\n",
              "      <td>1</td>\n",
              "      <td>0</td>\n",
              "      <td>0</td>\n",
              "      <td>0</td>\n",
              "      <td>0</td>\n",
              "      <td>1</td>\n",
              "      <td>0</td>\n",
              "    </tr>\n",
              "    <tr>\n",
              "      <th>1217</th>\n",
              "      <td>72.0</td>\n",
              "      <td>True</td>\n",
              "      <td>True</td>\n",
              "      <td>89.000000</td>\n",
              "      <td>44671.000000</td>\n",
              "      <td>24.800000</td>\n",
              "      <td>88.900000</td>\n",
              "      <td>3.900000</td>\n",
              "      <td>0.300000</td>\n",
              "      <td>3.600000</td>\n",
              "      <td>...</td>\n",
              "      <td>0</td>\n",
              "      <td>0</td>\n",
              "      <td>1</td>\n",
              "      <td>0</td>\n",
              "      <td>1</td>\n",
              "      <td>0</td>\n",
              "      <td>0</td>\n",
              "      <td>0</td>\n",
              "      <td>1</td>\n",
              "      <td>0</td>\n",
              "    </tr>\n",
              "    <tr>\n",
              "      <th>1684</th>\n",
              "      <td>29.0</td>\n",
              "      <td>False</td>\n",
              "      <td>True</td>\n",
              "      <td>85.000000</td>\n",
              "      <td>45974.000000</td>\n",
              "      <td>26.100000</td>\n",
              "      <td>82.600000</td>\n",
              "      <td>6.900000</td>\n",
              "      <td>0.300000</td>\n",
              "      <td>6.200000</td>\n",
              "      <td>...</td>\n",
              "      <td>0</td>\n",
              "      <td>0</td>\n",
              "      <td>1</td>\n",
              "      <td>0</td>\n",
              "      <td>0</td>\n",
              "      <td>1</td>\n",
              "      <td>0</td>\n",
              "      <td>1</td>\n",
              "      <td>0</td>\n",
              "      <td>0</td>\n",
              "    </tr>\n",
              "    <tr>\n",
              "      <th>...</th>\n",
              "      <td>...</td>\n",
              "      <td>...</td>\n",
              "      <td>...</td>\n",
              "      <td>...</td>\n",
              "      <td>...</td>\n",
              "      <td>...</td>\n",
              "      <td>...</td>\n",
              "      <td>...</td>\n",
              "      <td>...</td>\n",
              "      <td>...</td>\n",
              "      <td>...</td>\n",
              "      <td>...</td>\n",
              "      <td>...</td>\n",
              "      <td>...</td>\n",
              "      <td>...</td>\n",
              "      <td>...</td>\n",
              "      <td>...</td>\n",
              "      <td>...</td>\n",
              "      <td>...</td>\n",
              "      <td>...</td>\n",
              "      <td>...</td>\n",
              "    </tr>\n",
              "    <tr>\n",
              "      <th>1809</th>\n",
              "      <td>59.0</td>\n",
              "      <td>False</td>\n",
              "      <td>False</td>\n",
              "      <td>86.866667</td>\n",
              "      <td>54758.333333</td>\n",
              "      <td>17.166667</td>\n",
              "      <td>61.766667</td>\n",
              "      <td>11.233333</td>\n",
              "      <td>1.533333</td>\n",
              "      <td>10.533333</td>\n",
              "      <td>...</td>\n",
              "      <td>0</td>\n",
              "      <td>0</td>\n",
              "      <td>1</td>\n",
              "      <td>0</td>\n",
              "      <td>0</td>\n",
              "      <td>1</td>\n",
              "      <td>0</td>\n",
              "      <td>0</td>\n",
              "      <td>0</td>\n",
              "      <td>1</td>\n",
              "    </tr>\n",
              "    <tr>\n",
              "      <th>1876</th>\n",
              "      <td>38.0</td>\n",
              "      <td>False</td>\n",
              "      <td>False</td>\n",
              "      <td>87.600000</td>\n",
              "      <td>52042.000000</td>\n",
              "      <td>18.000000</td>\n",
              "      <td>64.900000</td>\n",
              "      <td>11.200000</td>\n",
              "      <td>1.800000</td>\n",
              "      <td>8.200000</td>\n",
              "      <td>...</td>\n",
              "      <td>0</td>\n",
              "      <td>0</td>\n",
              "      <td>1</td>\n",
              "      <td>1</td>\n",
              "      <td>0</td>\n",
              "      <td>0</td>\n",
              "      <td>0</td>\n",
              "      <td>0</td>\n",
              "      <td>1</td>\n",
              "      <td>0</td>\n",
              "    </tr>\n",
              "    <tr>\n",
              "      <th>1914</th>\n",
              "      <td>44.0</td>\n",
              "      <td>False</td>\n",
              "      <td>False</td>\n",
              "      <td>88.100000</td>\n",
              "      <td>49578.000000</td>\n",
              "      <td>17.600000</td>\n",
              "      <td>74.600000</td>\n",
              "      <td>4.100000</td>\n",
              "      <td>1.400000</td>\n",
              "      <td>7.800000</td>\n",
              "      <td>...</td>\n",
              "      <td>0</td>\n",
              "      <td>0</td>\n",
              "      <td>1</td>\n",
              "      <td>0</td>\n",
              "      <td>1</td>\n",
              "      <td>0</td>\n",
              "      <td>0</td>\n",
              "      <td>0</td>\n",
              "      <td>1</td>\n",
              "      <td>0</td>\n",
              "    </tr>\n",
              "    <tr>\n",
              "      <th>1916</th>\n",
              "      <td>37.0</td>\n",
              "      <td>False</td>\n",
              "      <td>False</td>\n",
              "      <td>96.500000</td>\n",
              "      <td>77178.750000</td>\n",
              "      <td>7.900000</td>\n",
              "      <td>92.400000</td>\n",
              "      <td>0.900000</td>\n",
              "      <td>0.800000</td>\n",
              "      <td>2.000000</td>\n",
              "      <td>...</td>\n",
              "      <td>0</td>\n",
              "      <td>0</td>\n",
              "      <td>1</td>\n",
              "      <td>0</td>\n",
              "      <td>1</td>\n",
              "      <td>0</td>\n",
              "      <td>0</td>\n",
              "      <td>0</td>\n",
              "      <td>1</td>\n",
              "      <td>0</td>\n",
              "    </tr>\n",
              "    <tr>\n",
              "      <th>1993</th>\n",
              "      <td>33.0</td>\n",
              "      <td>False</td>\n",
              "      <td>True</td>\n",
              "      <td>91.850000</td>\n",
              "      <td>44908.000000</td>\n",
              "      <td>17.550000</td>\n",
              "      <td>88.800000</td>\n",
              "      <td>1.700000</td>\n",
              "      <td>1.600000</td>\n",
              "      <td>2.150000</td>\n",
              "      <td>...</td>\n",
              "      <td>0</td>\n",
              "      <td>0</td>\n",
              "      <td>1</td>\n",
              "      <td>0</td>\n",
              "      <td>1</td>\n",
              "      <td>0</td>\n",
              "      <td>0</td>\n",
              "      <td>1</td>\n",
              "      <td>0</td>\n",
              "      <td>0</td>\n",
              "    </tr>\n",
              "  </tbody>\n",
              "</table>\n",
              "<p>2020 rows × 25 columns</p>\n",
              "</div>\n",
              "      <button class=\"colab-df-convert\" onclick=\"convertToInteractive('df-7167d5d4-1aa0-48a0-92ee-1a49fad3244c')\"\n",
              "              title=\"Convert this dataframe to an interactive table.\"\n",
              "              style=\"display:none;\">\n",
              "        \n",
              "  <svg xmlns=\"http://www.w3.org/2000/svg\" height=\"24px\"viewBox=\"0 0 24 24\"\n",
              "       width=\"24px\">\n",
              "    <path d=\"M0 0h24v24H0V0z\" fill=\"none\"/>\n",
              "    <path d=\"M18.56 5.44l.94 2.06.94-2.06 2.06-.94-2.06-.94-.94-2.06-.94 2.06-2.06.94zm-11 1L8.5 8.5l.94-2.06 2.06-.94-2.06-.94L8.5 2.5l-.94 2.06-2.06.94zm10 10l.94 2.06.94-2.06 2.06-.94-2.06-.94-.94-2.06-.94 2.06-2.06.94z\"/><path d=\"M17.41 7.96l-1.37-1.37c-.4-.4-.92-.59-1.43-.59-.52 0-1.04.2-1.43.59L10.3 9.45l-7.72 7.72c-.78.78-.78 2.05 0 2.83L4 21.41c.39.39.9.59 1.41.59.51 0 1.02-.2 1.41-.59l7.78-7.78 2.81-2.81c.8-.78.8-2.07 0-2.86zM5.41 20L4 18.59l7.72-7.72 1.47 1.35L5.41 20z\"/>\n",
              "  </svg>\n",
              "      </button>\n",
              "      \n",
              "  <style>\n",
              "    .colab-df-container {\n",
              "      display:flex;\n",
              "      flex-wrap:wrap;\n",
              "      gap: 12px;\n",
              "    }\n",
              "\n",
              "    .colab-df-convert {\n",
              "      background-color: #E8F0FE;\n",
              "      border: none;\n",
              "      border-radius: 50%;\n",
              "      cursor: pointer;\n",
              "      display: none;\n",
              "      fill: #1967D2;\n",
              "      height: 32px;\n",
              "      padding: 0 0 0 0;\n",
              "      width: 32px;\n",
              "    }\n",
              "\n",
              "    .colab-df-convert:hover {\n",
              "      background-color: #E2EBFA;\n",
              "      box-shadow: 0px 1px 2px rgba(60, 64, 67, 0.3), 0px 1px 3px 1px rgba(60, 64, 67, 0.15);\n",
              "      fill: #174EA6;\n",
              "    }\n",
              "\n",
              "    [theme=dark] .colab-df-convert {\n",
              "      background-color: #3B4455;\n",
              "      fill: #D2E3FC;\n",
              "    }\n",
              "\n",
              "    [theme=dark] .colab-df-convert:hover {\n",
              "      background-color: #434B5C;\n",
              "      box-shadow: 0px 1px 3px 1px rgba(0, 0, 0, 0.15);\n",
              "      filter: drop-shadow(0px 1px 2px rgba(0, 0, 0, 0.3));\n",
              "      fill: #FFFFFF;\n",
              "    }\n",
              "  </style>\n",
              "\n",
              "      <script>\n",
              "        const buttonEl =\n",
              "          document.querySelector('#df-7167d5d4-1aa0-48a0-92ee-1a49fad3244c button.colab-df-convert');\n",
              "        buttonEl.style.display =\n",
              "          google.colab.kernel.accessAllowed ? 'block' : 'none';\n",
              "\n",
              "        async function convertToInteractive(key) {\n",
              "          const element = document.querySelector('#df-7167d5d4-1aa0-48a0-92ee-1a49fad3244c');\n",
              "          const dataTable =\n",
              "            await google.colab.kernel.invokeFunction('convertToInteractive',\n",
              "                                                     [key], {});\n",
              "          if (!dataTable) return;\n",
              "\n",
              "          const docLinkHtml = 'Like what you see? Visit the ' +\n",
              "            '<a target=\"_blank\" href=https://colab.research.google.com/notebooks/data_table.ipynb>data table notebook</a>'\n",
              "            + ' to learn more about interactive tables.';\n",
              "          element.innerHTML = '';\n",
              "          dataTable['output_type'] = 'display_data';\n",
              "          await google.colab.output.renderOutput(dataTable, element);\n",
              "          const docLink = document.createElement('div');\n",
              "          docLink.innerHTML = docLinkHtml;\n",
              "          element.appendChild(docLink);\n",
              "        }\n",
              "      </script>\n",
              "    </div>\n",
              "  </div>\n",
              "  "
            ]
          },
          "metadata": {},
          "execution_count": 51
        }
      ],
      "source": [
        "X_train"
      ]
    },
    {
      "cell_type": "code",
      "execution_count": null,
      "metadata": {
        "colab": {
          "base_uri": "https://localhost:8080/"
        },
        "id": "e5iVKikcu45n",
        "outputId": "de3ea525-0182-41a3-9e95-0bddbbad3c46"
      },
      "outputs": [
        {
          "output_type": "execute_result",
          "data": {
            "text/plain": [
              "1226    B\n",
              "1431    H\n",
              "968     W\n",
              "1217    W\n",
              "1684    N\n",
              "       ..\n",
              "1809    O\n",
              "1876    B\n",
              "1914    N\n",
              "1916    W\n",
              "1993    W\n",
              "Name: race, Length: 2020, dtype: object"
            ]
          },
          "metadata": {},
          "execution_count": 52
        }
      ],
      "source": [
        "y_train"
      ]
    },
    {
      "cell_type": "markdown",
      "metadata": {
        "id": "MaHNjgqiu45n"
      },
      "source": [
        "## Prediting Race of Victims"
      ]
    },
    {
      "cell_type": "markdown",
      "metadata": {
        "id": "7HwxlGwku45o"
      },
      "source": [
        "We now use a mixture of the features to predict the race of victims in fatal incidents."
      ]
    },
    {
      "cell_type": "markdown",
      "metadata": {
        "id": "3Cu6AmXVu45o"
      },
      "source": [
        "### Logistic Regression"
      ]
    },
    {
      "cell_type": "code",
      "execution_count": null,
      "metadata": {
        "id": "2R6Vu6szu45o"
      },
      "outputs": [],
      "source": [
        "clf = LogisticRegression(max_iter=10000, multi_class='multinomial')\n",
        "clf.fit(X_train, y_train)\n",
        "with open('output/logreg.pkl','wb') as f:\n",
        "    pickle.dump(clf,f)"
      ]
    },
    {
      "cell_type": "code",
      "source": [
        "print(f'Train accuracy = {clf.score(X_train, y_train)}.')\n",
        "print(f'Test accuracy = {clf.score(X_test, y_test)}.')"
      ],
      "metadata": {
        "colab": {
          "base_uri": "https://localhost:8080/"
        },
        "id": "4JV1EI0BnBYX",
        "outputId": "03b691d0-ae02-46bd-c997-69011c5ddd94"
      },
      "execution_count": null,
      "outputs": [
        {
          "output_type": "stream",
          "name": "stdout",
          "text": [
            "Train accuracy = 0.6168316831683168.\n",
            "Test accuracy = 0.508.\n"
          ]
        }
      ]
    },
    {
      "cell_type": "markdown",
      "metadata": {
        "id": "EJGPqrbEu45o"
      },
      "source": [
        "Cross validation is implemented to reduce overfitting."
      ]
    },
    {
      "cell_type": "code",
      "execution_count": null,
      "metadata": {
        "id": "daW-GVTJu45o",
        "colab": {
          "base_uri": "https://localhost:8080/"
        },
        "outputId": "e2f2297d-d8b0-4ab5-cf6a-bed65d8b0d01"
      },
      "outputs": [
        {
          "output_type": "stream",
          "name": "stdout",
          "text": [
            "Train accuracy = 0.6138613861386139.\n",
            "Test accuracy = 0.504.\n"
          ]
        }
      ],
      "source": [
        "clf = LogisticRegressionCV(max_iter=10000, multi_class='multinomial', cv=5)\n",
        "clf.fit(X_train, y_train)\n",
        "with open('output/logregCV.pkl','wb') as f:\n",
        "    pickle.dump(clf,f)\n",
        "print(f'Train accuracy = {clf.score(X_train, y_train)}.')\n",
        "print(f'Test accuracy = {clf.score(X_test, y_test)}.')"
      ]
    },
    {
      "cell_type": "markdown",
      "source": [
        "We can see that the training accuracy of the model is about 0.6139, and the test accuracy of the model is about 0.504. This is better than a baseline random model with a mean accuracy of about 0.1667."
      ],
      "metadata": {
        "id": "XnbfkHXOwvx0"
      }
    },
    {
      "cell_type": "markdown",
      "metadata": {
        "id": "W54ntV6du45o"
      },
      "source": [
        "### Tree Classifier"
      ]
    },
    {
      "cell_type": "code",
      "execution_count": null,
      "metadata": {
        "id": "1TZ6nI3qu45o",
        "colab": {
          "base_uri": "https://localhost:8080/",
          "height": 560
        },
        "outputId": "a51adab4-2de3-4564-cd8a-f4ba7a7146a9"
      },
      "outputs": [
        {
          "output_type": "stream",
          "name": "stdout",
          "text": [
            "Train accuracy = 0.6202970297029703.\n",
            "Test accuracy = 0.482.\n"
          ]
        },
        {
          "output_type": "display_data",
          "data": {
            "text/plain": [
              "<Figure size 800x600 with 1 Axes>"
            ],
            "image/png": "[encoded data removed]"
          },
          "metadata": {}
        },
        {
          "output_type": "display_data",
          "data": {
            "text/plain": [
              "<Figure size 432x288 with 0 Axes>"
            ]
          },
          "metadata": {}
        }
      ],
      "source": [
        "clf = DecisionTreeClassifier(max_depth=3)\n",
        "clf.fit(X_train, y_train)\n",
        "print(f'Train accuracy = {clf.score(X_train, y_train)}.')\n",
        "print(f'Test accuracy = {clf.score(X_test, y_test)}.')\n",
        "\n",
        "plt.figure(figsize=(8, 6), dpi=100)\n",
        "plot_tree(clf, filled=True)\n",
        "plt.title(\"Decision tree trained on all the incident features\")\n",
        "plt.show()\n",
        "plt.savefig('incident_tree.png')"
      ]
    },
    {
      "cell_type": "markdown",
      "metadata": {
        "id": "K33falafu45o"
      },
      "source": [
        "The large discrepancy between the accuracy of test and train data set respectively shows that the decision tree faces overfitting. We then turn to random forest to solve this problem by ensemble method."
      ]
    },
    {
      "cell_type": "code",
      "execution_count": null,
      "metadata": {
        "id": "FBczeoB1u45p",
        "colab": {
          "base_uri": "https://localhost:8080/"
        },
        "outputId": "d8df959f-bda1-4d86-a539-8a3b02fcd7ff"
      },
      "outputs": [
        {
          "output_type": "stream",
          "name": "stdout",
          "text": [
            "Train accuracy = 0.8707920792079208.\n",
            "Test accuracy = 0.486.\n"
          ]
        }
      ],
      "source": [
        "clf = RandomForestClassifier(max_depth=10, class_weight='balanced_subsample')\n",
        "clf.fit(X_train, y_train)\n",
        "with open('output/randomforest.pkl','wb') as f:\n",
        "    pickle.dump(clf,f)\n",
        "print(f'Train accuracy = {clf.score(X_train, y_train)}.')\n",
        "print(f'Test accuracy = {clf.score(X_test, y_test)}.')"
      ]
    },
    {
      "cell_type": "markdown",
      "source": [
        "We can see that the training accuracy of the model is about 0.8708, and the test accuracy of the model is about 0.486. This is better than a baseline random model with a mean accuracy of about 0.1667."
      ],
      "metadata": {
        "id": "fKQmKvOnyHj7"
      }
    },
    {
      "cell_type": "markdown",
      "source": [
        "### KNN Classifier"
      ],
      "metadata": {
        "id": "uYyS4lT7FXnF"
      }
    },
    {
      "cell_type": "code",
      "source": [
        "neighbors = np.arange(1, 15)\n",
        "train_accuracy = np.empty(len(neighbors))\n",
        "test_accuracy = np.empty(len(neighbors))\n",
        "\n",
        "for i, k in enumerate(neighbors):\n",
        "    knn = KNeighborsClassifier(n_neighbors=k)\n",
        "    knn.fit(X_train, y_train)\n",
        "     \n",
        "    # Compute training and test data accuracy\n",
        "    train_accuracy[i] = knn.score(X_train, y_train)\n",
        "    test_accuracy[i] = knn.score(X_test, y_test)\n",
        " \n",
        "# Generate plot\n",
        "plt.plot(neighbors, test_accuracy, label = 'Testing dataset Accuracy')\n",
        "plt.plot(neighbors, train_accuracy, label = 'Training dataset Accuracy')\n",
        " \n",
        "plt.legend()\n",
        "plt.xlabel('n_neighbors')\n",
        "plt.ylabel('Accuracy')\n",
        "plt.show()"
      ],
      "metadata": {
        "colab": {
          "base_uri": "https://localhost:8080/",
          "height": 281
        },
        "id": "-MnlDxeb41jo",
        "outputId": "3cd6178c-d8e7-4b0c-bc8d-33ed087dbf03"
      },
      "execution_count": null,
      "outputs": [
        {
          "output_type": "display_data",
          "data": {
            "text/plain": [
              "<Figure size 432x288 with 1 Axes>"
            ],
            "image/png": "[encoded data removed]"
          },
          "metadata": {}
        }
      ]
    },
    {
      "cell_type": "code",
      "source": [
        "with open('output/knn.pkl','wb') as f:\n",
        "    pickle.dump(knn,f)\n",
        "\n",
        "print(f'Train accuracy = {knn.score(X_train, y_train)}.')\n",
        "print(f'Test accuracy = {knn.score(X_test, y_test)}.')"
      ],
      "metadata": {
        "colab": {
          "base_uri": "https://localhost:8080/"
        },
        "id": "NgaYdjDE3eid",
        "outputId": "8175fca2-264b-404d-c9c2-ee5875c0ddfc"
      },
      "execution_count": null,
      "outputs": [
        {
          "output_type": "stream",
          "name": "stdout",
          "text": [
            "Train accuracy = 0.5544554455445545.\n",
            "Test accuracy = 0.408.\n"
          ]
        }
      ]
    },
    {
      "cell_type": "markdown",
      "source": [
        "We can see that the training accuracy of the model is about 0.5544, and the test accuracy of the model is about 0.408. This is better than a baseline random model with a mean accuracy of about 0.1667. We did not expect this to perform poorly compared tot he others, as knn is a good non linear classifier model which uses neighboring data values to predict the result."
      ],
      "metadata": {
        "id": "j4tsOP_T59fX"
      }
    },
    {
      "cell_type": "markdown",
      "metadata": {
        "id": "vByQBV6Ku45p"
      },
      "source": [
        "## Predicting Count of Incidents"
      ]
    },
    {
      "cell_type": "markdown",
      "metadata": {
        "id": "wHOFm7CKu45p"
      },
      "source": [
        "In this section, we would like to use the count of incidents by city as a dependent variable in regression to investigate what factors contribute to a high count."
      ]
    },
    {
      "cell_type": "code",
      "execution_count": null,
      "metadata": {
        "id": "efIzGpSfu45p",
        "colab": {
          "base_uri": "https://localhost:8080/"
        },
        "outputId": "5fa98d04-0884-4263-eb31-35466e42022a"
      },
      "outputs": [
        {
          "output_type": "stream",
          "name": "stdout",
          "text": [
            "There are 27675 cities with no fatal incident.\n",
            "They account for 95.05409582689336% of all the cities.\n"
          ]
        }
      ],
      "source": [
        "zero_count = city_total.loc[city_total['Counts'] == 0].shape[0]\n",
        "print(f'There are {zero_count} cities with no fatal incident.')\n",
        "print(f'They account for {zero_count/city_total.shape[0]*100}% of all the cities.')"
      ]
    },
    {
      "cell_type": "markdown",
      "metadata": {
        "id": "9M_JNyDsu45q"
      },
      "source": [
        "We remove cities without accidents from the data set so that a relationship between cities and counts can be better formulated. Otherwise, a dummy regressor which contantly outputs 0 would achieve a good MSE."
      ]
    },
    {
      "cell_type": "code",
      "execution_count": null,
      "metadata": {
        "id": "dHQNlEzYu45q"
      },
      "outputs": [],
      "source": [
        "# drop city without accidents\n",
        "city = city_total.loc[city_total['Counts'] != 0]\n",
        "# drop city names and clean non-numerical data\n",
        "city = city.drop(columns=['Geographic Area', 'City']).apply(pd.to_numeric, errors='coerce').dropna()\n",
        "# scale columns\n",
        "scaler = MinMaxScaler()\n",
        "X = pd.DataFrame(scaler.fit_transform(city.drop(columns='Counts')))\n",
        "y = city['Counts']\n",
        "# split data into train and test set\n",
        "X_train, X_test, y_train, y_test = train_test_split(X, y, test_size=0.33)"
      ]
    },
    {
      "cell_type": "code",
      "execution_count": null,
      "metadata": {
        "id": "Hg_cWs6Ku45q",
        "colab": {
          "base_uri": "https://localhost:8080/",
          "height": 424
        },
        "outputId": "f2c314bf-5760-423f-f660-c9aea6fd4d36"
      },
      "outputs": [
        {
          "output_type": "execute_result",
          "data": {
            "text/plain": [
              "             0         1         2         3         4         5         6  \\\n",
              "389   0.702381  0.095789  0.311359  0.494980  0.445918  0.003012  0.008969   \n",
              "741   0.867347  0.125889  0.192698  0.914659  0.005102  0.038153  0.005979   \n",
              "394   0.001701  0.076894  0.445233  0.429719  0.192857  0.010040  0.002990   \n",
              "1382  0.840136  0.161903  0.130832  0.946787  0.023469  0.005020  0.008969   \n",
              "837   0.906463  0.206285  0.159229  0.873494  0.005102  0.028112  0.016442   \n",
              "...        ...       ...       ...       ...       ...       ...       ...   \n",
              "471   0.680272  0.183102  0.151116  0.706827  0.188776  0.004016  0.014948   \n",
              "693   0.926871  0.453293  0.070994  0.553213  0.258163  0.004016  0.170404   \n",
              "810   0.670068  0.125524  0.204868  0.841365  0.010204  0.016064  0.013453   \n",
              "1256  0.522109  0.108253  0.276876  0.358434  0.415306  0.007028  0.088191   \n",
              "961   0.767007  0.116622  0.268763  0.620482  0.321429  0.002008  0.031390   \n",
              "\n",
              "             7  \n",
              "389   0.087269  \n",
              "741   0.034908  \n",
              "394   0.776181  \n",
              "1382  0.016427  \n",
              "837   0.131417  \n",
              "...        ...  \n",
              "471   0.130390  \n",
              "693   0.081109  \n",
              "810   0.116016  \n",
              "1256  0.303901  \n",
              "961   0.021561  \n",
              "\n",
              "[954 rows x 8 columns]"
            ],
            "text/html": [
              "\n",
              "  <div id=\"df-9d8ea6c2-7190-4a05-b3ae-f5a9e4eec407\">\n",
              "    <div class=\"colab-df-container\">\n",
              "      <div>\n",
              "<style scoped>\n",
              "    .dataframe tbody tr th:only-of-type {\n",
              "        vertical-align: middle;\n",
              "    }\n",
              "\n",
              "    .dataframe tbody tr th {\n",
              "        vertical-align: top;\n",
              "    }\n",
              "\n",
              "    .dataframe thead th {\n",
              "        text-align: right;\n",
              "    }\n",
              "</style>\n",
              "<table border=\"1\" class=\"dataframe\">\n",
              "  <thead>\n",
              "    <tr style=\"text-align: right;\">\n",
              "      <th></th>\n",
              "      <th>0</th>\n",
              "      <th>1</th>\n",
              "      <th>2</th>\n",
              "      <th>3</th>\n",
              "      <th>4</th>\n",
              "      <th>5</th>\n",
              "      <th>6</th>\n",
              "      <th>7</th>\n",
              "    </tr>\n",
              "  </thead>\n",
              "  <tbody>\n",
              "    <tr>\n",
              "      <th>389</th>\n",
              "      <td>0.702381</td>\n",
              "      <td>0.095789</td>\n",
              "      <td>0.311359</td>\n",
              "      <td>0.494980</td>\n",
              "      <td>0.445918</td>\n",
              "      <td>0.003012</td>\n",
              "      <td>0.008969</td>\n",
              "      <td>0.087269</td>\n",
              "    </tr>\n",
              "    <tr>\n",
              "      <th>741</th>\n",
              "      <td>0.867347</td>\n",
              "      <td>0.125889</td>\n",
              "      <td>0.192698</td>\n",
              "      <td>0.914659</td>\n",
              "      <td>0.005102</td>\n",
              "      <td>0.038153</td>\n",
              "      <td>0.005979</td>\n",
              "      <td>0.034908</td>\n",
              "    </tr>\n",
              "    <tr>\n",
              "      <th>394</th>\n",
              "      <td>0.001701</td>\n",
              "      <td>0.076894</td>\n",
              "      <td>0.445233</td>\n",
              "      <td>0.429719</td>\n",
              "      <td>0.192857</td>\n",
              "      <td>0.010040</td>\n",
              "      <td>0.002990</td>\n",
              "      <td>0.776181</td>\n",
              "    </tr>\n",
              "    <tr>\n",
              "      <th>1382</th>\n",
              "      <td>0.840136</td>\n",
              "      <td>0.161903</td>\n",
              "      <td>0.130832</td>\n",
              "      <td>0.946787</td>\n",
              "      <td>0.023469</td>\n",
              "      <td>0.005020</td>\n",
              "      <td>0.008969</td>\n",
              "      <td>0.016427</td>\n",
              "    </tr>\n",
              "    <tr>\n",
              "      <th>837</th>\n",
              "      <td>0.906463</td>\n",
              "      <td>0.206285</td>\n",
              "      <td>0.159229</td>\n",
              "      <td>0.873494</td>\n",
              "      <td>0.005102</td>\n",
              "      <td>0.028112</td>\n",
              "      <td>0.016442</td>\n",
              "      <td>0.131417</td>\n",
              "    </tr>\n",
              "    <tr>\n",
              "      <th>...</th>\n",
              "      <td>...</td>\n",
              "      <td>...</td>\n",
              "      <td>...</td>\n",
              "      <td>...</td>\n",
              "      <td>...</td>\n",
              "      <td>...</td>\n",
              "      <td>...</td>\n",
              "      <td>...</td>\n",
              "    </tr>\n",
              "    <tr>\n",
              "      <th>471</th>\n",
              "      <td>0.680272</td>\n",
              "      <td>0.183102</td>\n",
              "      <td>0.151116</td>\n",
              "      <td>0.706827</td>\n",
              "      <td>0.188776</td>\n",
              "      <td>0.004016</td>\n",
              "      <td>0.014948</td>\n",
              "      <td>0.130390</td>\n",
              "    </tr>\n",
              "    <tr>\n",
              "      <th>693</th>\n",
              "      <td>0.926871</td>\n",
              "      <td>0.453293</td>\n",
              "      <td>0.070994</td>\n",
              "      <td>0.553213</td>\n",
              "      <td>0.258163</td>\n",
              "      <td>0.004016</td>\n",
              "      <td>0.170404</td>\n",
              "      <td>0.081109</td>\n",
              "    </tr>\n",
              "    <tr>\n",
              "      <th>810</th>\n",
              "      <td>0.670068</td>\n",
              "      <td>0.125524</td>\n",
              "      <td>0.204868</td>\n",
              "      <td>0.841365</td>\n",
              "      <td>0.010204</td>\n",
              "      <td>0.016064</td>\n",
              "      <td>0.013453</td>\n",
              "      <td>0.116016</td>\n",
              "    </tr>\n",
              "    <tr>\n",
              "      <th>1256</th>\n",
              "      <td>0.522109</td>\n",
              "      <td>0.108253</td>\n",
              "      <td>0.276876</td>\n",
              "      <td>0.358434</td>\n",
              "      <td>0.415306</td>\n",
              "      <td>0.007028</td>\n",
              "      <td>0.088191</td>\n",
              "      <td>0.303901</td>\n",
              "    </tr>\n",
              "    <tr>\n",
              "      <th>961</th>\n",
              "      <td>0.767007</td>\n",
              "      <td>0.116622</td>\n",
              "      <td>0.268763</td>\n",
              "      <td>0.620482</td>\n",
              "      <td>0.321429</td>\n",
              "      <td>0.002008</td>\n",
              "      <td>0.031390</td>\n",
              "      <td>0.021561</td>\n",
              "    </tr>\n",
              "  </tbody>\n",
              "</table>\n",
              "<p>954 rows × 8 columns</p>\n",
              "</div>\n",
              "      <button class=\"colab-df-convert\" onclick=\"convertToInteractive('df-9d8ea6c2-7190-4a05-b3ae-f5a9e4eec407')\"\n",
              "              title=\"Convert this dataframe to an interactive table.\"\n",
              "              style=\"display:none;\">\n",
              "        \n",
              "  <svg xmlns=\"http://www.w3.org/2000/svg\" height=\"24px\"viewBox=\"0 0 24 24\"\n",
              "       width=\"24px\">\n",
              "    <path d=\"M0 0h24v24H0V0z\" fill=\"none\"/>\n",
              "    <path d=\"M18.56 5.44l.94 2.06.94-2.06 2.06-.94-2.06-.94-.94-2.06-.94 2.06-2.06.94zm-11 1L8.5 8.5l.94-2.06 2.06-.94-2.06-.94L8.5 2.5l-.94 2.06-2.06.94zm10 10l.94 2.06.94-2.06 2.06-.94-2.06-.94-.94-2.06-.94 2.06-2.06.94z\"/><path d=\"M17.41 7.96l-1.37-1.37c-.4-.4-.92-.59-1.43-.59-.52 0-1.04.2-1.43.59L10.3 9.45l-7.72 7.72c-.78.78-.78 2.05 0 2.83L4 21.41c.39.39.9.59 1.41.59.51 0 1.02-.2 1.41-.59l7.78-7.78 2.81-2.81c.8-.78.8-2.07 0-2.86zM5.41 20L4 18.59l7.72-7.72 1.47 1.35L5.41 20z\"/>\n",
              "  </svg>\n",
              "      </button>\n",
              "      \n",
              "  <style>\n",
              "    .colab-df-container {\n",
              "      display:flex;\n",
              "      flex-wrap:wrap;\n",
              "      gap: 12px;\n",
              "    }\n",
              "\n",
              "    .colab-df-convert {\n",
              "      background-color: #E8F0FE;\n",
              "      border: none;\n",
              "      border-radius: 50%;\n",
              "      cursor: pointer;\n",
              "      display: none;\n",
              "      fill: #1967D2;\n",
              "      height: 32px;\n",
              "      padding: 0 0 0 0;\n",
              "      width: 32px;\n",
              "    }\n",
              "\n",
              "    .colab-df-convert:hover {\n",
              "      background-color: #E2EBFA;\n",
              "      box-shadow: 0px 1px 2px rgba(60, 64, 67, 0.3), 0px 1px 3px 1px rgba(60, 64, 67, 0.15);\n",
              "      fill: #174EA6;\n",
              "    }\n",
              "\n",
              "    [theme=dark] .colab-df-convert {\n",
              "      background-color: #3B4455;\n",
              "      fill: #D2E3FC;\n",
              "    }\n",
              "\n",
              "    [theme=dark] .colab-df-convert:hover {\n",
              "      background-color: #434B5C;\n",
              "      box-shadow: 0px 1px 3px 1px rgba(0, 0, 0, 0.15);\n",
              "      filter: drop-shadow(0px 1px 2px rgba(0, 0, 0, 0.3));\n",
              "      fill: #FFFFFF;\n",
              "    }\n",
              "  </style>\n",
              "\n",
              "      <script>\n",
              "        const buttonEl =\n",
              "          document.querySelector('#df-9d8ea6c2-7190-4a05-b3ae-f5a9e4eec407 button.colab-df-convert');\n",
              "        buttonEl.style.display =\n",
              "          google.colab.kernel.accessAllowed ? 'block' : 'none';\n",
              "\n",
              "        async function convertToInteractive(key) {\n",
              "          const element = document.querySelector('#df-9d8ea6c2-7190-4a05-b3ae-f5a9e4eec407');\n",
              "          const dataTable =\n",
              "            await google.colab.kernel.invokeFunction('convertToInteractive',\n",
              "                                                     [key], {});\n",
              "          if (!dataTable) return;\n",
              "\n",
              "          const docLinkHtml = 'Like what you see? Visit the ' +\n",
              "            '<a target=\"_blank\" href=https://colab.research.google.com/notebooks/data_table.ipynb>data table notebook</a>'\n",
              "            + ' to learn more about interactive tables.';\n",
              "          element.innerHTML = '';\n",
              "          dataTable['output_type'] = 'display_data';\n",
              "          await google.colab.output.renderOutput(dataTable, element);\n",
              "          const docLink = document.createElement('div');\n",
              "          docLink.innerHTML = docLinkHtml;\n",
              "          element.appendChild(docLink);\n",
              "        }\n",
              "      </script>\n",
              "    </div>\n",
              "  </div>\n",
              "  "
            ]
          },
          "metadata": {},
          "execution_count": 75
        }
      ],
      "source": [
        "X_train"
      ]
    },
    {
      "cell_type": "markdown",
      "metadata": {
        "id": "KQXVDbrOu45q"
      },
      "source": [
        "### Linear Regression"
      ]
    },
    {
      "cell_type": "markdown",
      "metadata": {
        "id": "4RLT93w8u45q"
      },
      "source": [
        "The low R2 score for linear regression suggests that a linear relationship cannot be established between city features and counts. However, on the scale of 1 to 35 (the highest count), the mean absolute error is acceptable."
      ]
    },
    {
      "cell_type": "code",
      "execution_count": null,
      "metadata": {
        "id": "F-LqbaPeu45q",
        "colab": {
          "base_uri": "https://localhost:8080/"
        },
        "outputId": "8d8a4dd4-0495-4ed8-843f-97df23971bcc"
      },
      "outputs": [
        {
          "output_type": "stream",
          "name": "stdout",
          "text": [
            "Train R2 = 0.05316277146809778.\n",
            "Test R2 = 0.04879420015724578.\n",
            "Test MAE = 0.9705357348350244.\n",
            "Test MSE = 5.553461755443683.\n"
          ]
        }
      ],
      "source": [
        "reg = LinearRegression()\n",
        "reg.fit(X_train, y_train)\n",
        "print(f'Train R2 = {reg.score(X_train, y_train)}.')\n",
        "print(f'Test R2 = {reg.score(X_test, y_test)}.')\n",
        "print(f'Test MAE = {mean_absolute_error(y_test, reg.predict(X_test))}.')\n",
        "print(f'Test MSE = {mean_squared_error(y_test, reg.predict(X_test))}.')"
      ]
    },
    {
      "cell_type": "markdown",
      "metadata": {
        "id": "g5Rm75guu45r"
      },
      "source": [
        "### Neural Network"
      ]
    },
    {
      "cell_type": "markdown",
      "metadata": {
        "id": "sf7AOI1pu45r"
      },
      "source": [
        "A neural network can model non-linear relationships between city features and counts."
      ]
    },
    {
      "cell_type": "code",
      "execution_count": null,
      "metadata": {
        "id": "6IMQvO_Eu45r",
        "colab": {
          "base_uri": "https://localhost:8080/"
        },
        "outputId": "3560a8fc-e4a0-414f-e9ee-c49096c7c708"
      },
      "outputs": [
        {
          "output_type": "stream",
          "name": "stdout",
          "text": [
            "Model: \"sequential\"\n",
            "_________________________________________________________________\n",
            "Layer (type)                 Output Shape              Param #   \n",
            "=================================================================\n",
            "dense (Dense)                (None, 8)                 72        \n",
            "_________________________________________________________________\n",
            "dense_1 (Dense)              (None, 2670)              24030     \n",
            "_________________________________________________________________\n",
            "dense_2 (Dense)              (None, 1)                 2671      \n",
            "=================================================================\n",
            "Total params: 26,773\n",
            "Trainable params: 26,773\n",
            "Non-trainable params: 0\n",
            "_________________________________________________________________\n"
          ]
        }
      ],
      "source": [
        "model = Sequential()\n",
        "model.add(Dense(8, input_dim=8, kernel_initializer='normal', activation='relu'))\n",
        "model.add(Dense(2670, activation='relu'))\n",
        "model.add(Dense(1, activation='linear'))\n",
        "model.summary()"
      ]
    },
    {
      "cell_type": "code",
      "source": [
        "model.compile(loss='mse', optimizer= 'adam', metrics=['mse','mae'])\n",
        "history = model.fit(X_train, y_train, epochs=100, batch_size=10, validation_split=0.2, verbose=0)"
      ],
      "metadata": {
        "id": "XR4n-bXErPG3"
      },
      "execution_count": null,
      "outputs": []
    },
    {
      "cell_type": "code",
      "execution_count": null,
      "metadata": {
        "id": "mD7_AI5Xu45r",
        "colab": {
          "base_uri": "https://localhost:8080/",
          "height": 551
        },
        "outputId": "63447c8b-0adc-4d81-b9d7-4d054314b28b"
      },
      "outputs": [
        {
          "output_type": "display_data",
          "data": {
            "text/plain": [
              "<Figure size 800x600 with 1 Axes>"
            ],
            "image/png": "[encoded data removed]"
          },
          "metadata": {}
        }
      ],
      "source": [
        "plt.figure(figsize=(8, 6), dpi=100)\n",
        "plt.plot(history.history['loss'])\n",
        "plt.plot(history.history['val_loss'])\n",
        "plt.title('model loss')\n",
        "plt.ylabel('loss')\n",
        "plt.xlabel('epoch')\n",
        "plt.legend(['train', 'validation'])\n",
        "plt.show()"
      ]
    },
    {
      "cell_type": "code",
      "execution_count": null,
      "metadata": {
        "id": "HWcmU05Au45r",
        "colab": {
          "base_uri": "https://localhost:8080/"
        },
        "outputId": "6f456351-47d7-4bd9-9e83-ab1737cf2221"
      },
      "outputs": [
        {
          "output_type": "stream",
          "name": "stdout",
          "text": [
            "Test MAE = 1.002440188024061.\n",
            "Test MSE = 5.157984823211378.\n"
          ]
        }
      ],
      "source": [
        "y_pred = model.predict(X_test)\n",
        "print(f'Test MAE = {mean_absolute_error(y_test, y_pred)}.')\n",
        "print(f'Test MSE = {mean_squared_error(y_test, y_pred)}.')"
      ]
    },
    {
      "cell_type": "markdown",
      "source": [
        "### SVM Classifier"
      ],
      "metadata": {
        "id": "w9-cFuWTFgwY"
      }
    },
    {
      "cell_type": "code",
      "source": [
        "clf = SVC(kernel='linear')\n",
        " \n",
        "# fitting x samples and y classes\n",
        "clf.fit(X_train, preprocessing.LabelEncoder().fit_transform(y_train))\n",
        "print(f'Train R2 = {clf.score(X_train, preprocessing.LabelEncoder().fit_transform(y_train))}.')\n",
        "print(f'Test R2 = {clf.score(X_test, preprocessing.LabelEncoder().fit_transform(y_test))}.')\n",
        "print(f'Test MAE = {mean_absolute_error(preprocessing.LabelEncoder().fit_transform(y_test), clf.predict(X_test))}.')\n",
        "print(f'Test MSE = {mean_squared_error(preprocessing.LabelEncoder().fit_transform(y_test), clf.predict(X_test))}.')"
      ],
      "metadata": {
        "colab": {
          "base_uri": "https://localhost:8080/"
        },
        "id": "GVjoojEf7Q9Q",
        "outputId": "af3dba4a-de4a-45d1-86e9-ff8ea5e1fc8f"
      },
      "execution_count": null,
      "outputs": [
        {
          "output_type": "stream",
          "name": "stdout",
          "text": [
            "Train R2 = 0.6781970649895178.\n",
            "Test R2 = 0.648936170212766.\n",
            "Test MAE = 1.4851063829787234.\n",
            "Test MSE = 9.434042553191489.\n"
          ]
        }
      ]
    },
    {
      "cell_type": "markdown",
      "metadata": {
        "id": "EY4WRS0Lu45s"
      },
      "source": [
        "As we anticipated, the neural network ended up performing similarly to the linear regression. This may be due to possible linear relations between city features and counts. The neural network based model has learnt the relationships between input features and outputs well enough to outperform the linear model. SVM was not as successful in the classification task. This may be because of the dataset being a imbalanced, and the target classes overlapping."
      ]
    }
  ],
  "metadata": {
    "colab": {
      "name": "analysis.ipynb",
      "provenance": [],
      "collapsed_sections": [
        "W54ntV6du45o",
        "KQXVDbrOu45q",
        "g5Rm75guu45r"
      ]
    },
    "interpreter": {
      "hash": "e4486cc46800a3a36dbbddfd8b12a33d5293b2126d0bd638d95bed74d24a9d28"
    },
    "kernelspec": {
      "display_name": "Python 3.8.13 ('base')",
      "language": "python",
      "name": "python3"
    },
    "language_info": {
      "codemirror_mode": {
        "name": "ipython",
        "version": 3
      },
      "file_extension": ".py",
      "mimetype": "text/x-python",
      "name": "python",
      "nbconvert_exporter": "python",
      "pygments_lexer": "ipython3",
      "version": "3.8.13"
    }
  },
  "nbformat": 4,
  "nbformat_minor": 0
}